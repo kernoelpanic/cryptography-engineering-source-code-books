{
 "cells": [
  {
   "cell_type": "markdown",
   "id": "126fdf3f-237e-4dbb-bee9-183d03661c6f",
   "metadata": {
    "editable": true,
    "slideshow": {
     "slide_type": ""
    },
    "tags": []
   },
   "source": [
    "# **C**ryptography **E**ngineering **S**ource **C**ode **B**ooks\n",
    "\n",
    "## Number theory \n",
    "\n",
    "* Number theory basics ([notebook](./Number_Theory_I.ipynb), [slides](./Number_Theory_I.slides.html))\n",
    "    + Modulo arithmetic ([notebook](./Number_Theory_I.ipynb#mod), [slides](./Number_Theory_I.slides.html#mod))\n",
    "    + Euler's  totient function ([notebook](./Number_Theory_I.ipynb#phi_n), [slides](./Number_Theory_I.slides.html#phi_n))\n",
    "    + Definition group ([notebook](./Number_Theory_I.ipynb#group), [slides](./Number_Theory_I.slides.html#group))\n",
    "    + Definition finite field ([notebook](./Number_Theory_I.ipynb#gf), [slides](./Number_Theory_I.slides.html#gf))\n",
    "\n",
    "## Asymmetric Cryptography\n",
    "\n",
    "* The Diffi-Hellman Key Exchange ([notebook](./DH.ipynb), [slides](./DH.slides.html))\n",
    "* The RSA cryptosystem ([notebook](./RSA.ipynb), [slides](./RSA.slides.html))\n",
    "    + textbook RSA security issues ([notebook](./RSA.ipynb#raw), [slides](./RSA.slides.html#raw))\n",
    "* Elliptic Curve Cryptography (ECC) ([notebook](./ECC.ipynb), [slides](./ECC.slides.html))\n",
    "    + Introduction to ECC\n",
    "    + Operations on ECC ([notebook](./ECC.ipynb#ops), [slides](./ECC.slides.html#ops))\n",
    "    + ECDSA ([notebook](./ECC.ipynb#ecdsa), [slides](./ECC.slides.html#ecdsa))\n",
    "      - ECDSA nonce reuse attack ([notebook](./ECC.ipynb#nonce), [slides](./ECC.slides.html#nonce))\n",
    "    + Important ECC standards ([notebook](./ECC.ipynb#std), [slides](./ECC.slides.html#std))\n",
    "\n",
    "## Applications\n",
    "\n",
    "* Signal protocol ([notebook](./Signal.ipynb), [slides](./Signal.slides.html))\n",
    "* Shamir Secret Sharing ([notebook](./SSS.ipynb), [slides](./SSS.slides.html))"
   ]
  },
  {
   "cell_type": "code",
   "execution_count": null,
   "id": "6e09fbd8-5d44-4795-9e39-db62d4ba974d",
   "metadata": {},
   "outputs": [],
   "source": []
  }
 ],
 "metadata": {
  "kernelspec": {
   "display_name": "Python 3 (ipykernel)",
   "language": "python",
   "name": "python3"
  },
  "language_info": {
   "codemirror_mode": {
    "name": "ipython",
    "version": 3
   },
   "file_extension": ".py",
   "mimetype": "text/x-python",
   "name": "python",
   "nbconvert_exporter": "python",
   "pygments_lexer": "ipython3",
   "version": "3.10.12"
  }
 },
 "nbformat": 4,
 "nbformat_minor": 5
}
