{
 "cells": [
  {
   "cell_type": "markdown",
   "id": "126fdf3f-237e-4dbb-bee9-183d03661c6f",
   "metadata": {
    "editable": true,
    "slideshow": {
     "slide_type": ""
    },
    "tags": []
   },
   "source": [
    "# **C**ryptography **E**ngineering **S**ource **C**ode **B**ook\n",
    "\n",
    "## Asymmetric Cryptography\n",
    "\n",
    "* Number theory basics ([notebook](./Number_Theory_I.ipynb), [slides](./Number_Theory_I.slides.html))\n",
    "    + Modulo arithmetic ([notebook](./Number_Theory_I.ipynb#mod), [slides](./Number_Theory_I.slides.html#mod))\n",
    "    + Euler's  totient function ([notebook](./Number_Theory_I.ipynb#phi_n), [slides](./Number_Theory_I.slides.html#phi_n))\n",
    "    + Definition group ([notebook](./Number_Theory_I.ipynb#group), [slides](./Number_Theory_I.slides.html#group))\n",
    "    + Definition finite field ([notebook](./Number_Theory_I.ipynb#gf), [slides](./Number_Theory_I.slides.html#gf))\n",
    "* The RSA cryptosystem as an example of asymmetric cryptography ([notebook](./RSA.ipynb), [slides](./RSA.slides.html))\n",
    "    + textbook RSA security issues ([notebook](./RSA.ipynb#raw), [slides](./RSA.slides.html#raw))\n",
    "* Elliptic Curve Cryptography (ECC) ([notebook](./ECC.ipynb), [slides](./ECC.slides.html))\n",
    "    + Introduction to ECC\n",
    "    + Operations on ECC ([notebook](./ECC.ipynb#ops), [slides](./ECC.slides.html#ops))\n",
    "    + ECDSA ([notebook](./ECC.ipynb#ecdsa), [slides](./ECC.slides.html#ecdsa))\n",
    "      - ECDSA nonce reuse attack ([notebook](./ECC.ipynb#nonce), [slides](./ECC.slides.html#nonce))\n",
    "    + Important ECC standards ([notebook](./ECC.ipynb#std), [slides](./ECC.slides.html#std))"
   ]
  }
 ],
 "metadata": {
  "kernelspec": {
   "display_name": "Python 3 (ipykernel)",
   "language": "python",
   "name": "python3"
  },
  "language_info": {
   "codemirror_mode": {
    "name": "ipython",
    "version": 3
   },
   "file_extension": ".py",
   "mimetype": "text/x-python",
   "name": "python",
   "nbconvert_exporter": "python",
   "pygments_lexer": "ipython3",
   "version": "3.10.6"
  }
 },
 "nbformat": 4,
 "nbformat_minor": 5
}
