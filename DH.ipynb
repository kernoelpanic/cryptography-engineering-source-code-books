{
 "cells": [
  {
   "cell_type": "markdown",
   "id": "7da38d7f-d67c-452c-9872-4309215126bd",
   "metadata": {
    "editable": true,
    "slideshow": {
     "slide_type": "slide"
    },
    "tags": []
   },
   "source": [
    "# Diffi-Hellman Key Exchange\n",
    "______"
   ]
  },
  {
   "cell_type": "markdown",
   "id": "cc419037-60e1-46e9-bf5e-86f8c732b0f7",
   "metadata": {
    "editable": true,
    "slideshow": {
     "slide_type": "subslide"
    },
    "tags": []
   },
   "source": [
    "**References:**\n",
    "* [[GCAC](https://toc.cryptobook.us/)] A Graduate Course in Applied Cryptography, Dan Boneh and Victor Shoup\n",
    "* [[CINTA](https://shoup.net/ntb/)] A Computational Introduction to Number Theory and Algebra, Victor Shoup\n",
    "* [[HAC](https://cacr.uwaterloo.ca/hac/)] Handbook of Applied Cryptography, Alfred J. Menezes, Paul C. van Oorschot and Scott A. Vanstone\n",
    "* [[ITMC](https://www.cs.umd.edu/~jkatz/imc.html)] Introduction to Modern Cryptography, Jonathan Katz and Yehuda Lindell (3rd Edition)\n",
    "* [Elementary number theory in sage](http://doc.sagemath.org/html/en/constructions/number_theory.html)"
   ]
  },
  {
   "cell_type": "markdown",
   "id": "20fd42fe-ca1e-49f1-b5c3-6b024407863a",
   "metadata": {
    "editable": true,
    "slideshow": {
     "slide_type": "subslide"
    },
    "tags": []
   },
   "source": [
    "**Dependencies:**\n",
    "\n",
    "This notebook uses [sage math](https://www.sagemath.org/) as kernel"
   ]
  },
  {
   "cell_type": "code",
   "execution_count": 1,
   "id": "857ec9e5-9ab2-4bdc-99a1-98d41740c008",
   "metadata": {
    "editable": true,
    "jupyter": {
     "source_hidden": true
    },
    "slideshow": {
     "slide_type": ""
    },
    "tags": []
   },
   "outputs": [
    {
     "name": "stdout",
     "output_type": "stream",
     "text": [
      "\n",
      " SageMath version 9.5, Release Date: 2022-01-30                     \n",
      " Using Python 3.10.12. Type \"help()\" for help.                      \n",
      "\n"
     ]
    }
   ],
   "source": [
    "import sage.misc.banner # sage math version info \n",
    "rchars = \"┘─│┐┌└\"\n",
    "smallbanner = sage.misc.banner.banner_text(full=True)\n",
    "for c in rchars:\n",
    "    smallbanner = smallbanner.replace(c,\"\") # remove ascii art box\n",
    "print(smallbanner)\n",
    "#banner() # full banner with box"
   ]
  },
  {
   "cell_type": "code",
   "execution_count": 2,
   "id": "e5d423e6-e724-46cc-b5a9-b8e19ea204b7",
   "metadata": {
    "editable": true,
    "slideshow": {
     "slide_type": "subslide"
    },
    "tags": []
   },
   "outputs": [],
   "source": [
    "import secrets\n",
    "def gen_rand_int(lower_bound, upper_bound):\n",
    "    \"\"\" Generate random integer between lower_bound and upper_bound \"\"\" \n",
    "    if lower_bound > upper_bound:\n",
    "        raise ValueError(\"Lower bound must not exceed upper bound!\")\n",
    "    range_size = upper_bound - lower_bound + 1\n",
    "    random_offset = secrets.randbelow(int(range_size))\n",
    "    return int(lower_bound + random_offset)"
   ]
  },
  {
   "cell_type": "markdown",
   "id": "5db8ec8e-9726-4827-93ad-e7a42f95f170",
   "metadata": {
    "editable": true,
    "slideshow": {
     "slide_type": "slide"
    },
    "tags": []
   },
   "source": [
    "## DH - Diffie Hellman\n",
    "\n",
    "* **D**iffie-**H**ellman (DH) - Martin Hellman, Whitfield Diffie\n",
    "* Algorithm first published 1976 [\"New Directions in Cryptography\"](https://toreini.github.io/reading/security/6%20-%20New%20directions%20in%20cryptography.pdf) ($\\approx$ 24 K citations)\n",
    "    + authors received Turing Award 2015 \n",
    "    + earliest publicly known work of public-key cryptography\n",
    "    + since 1969 the British signals intelligence GCHQ knew about public-key cryptography (first RSA then DH like) \n",
    "<!-- * key (modulus) length of $ 2048 $ bits are considred secure for FFDH [[ref](https://www.keylength.com/)] --> \n",
    "<!-- <p style=\"float: right; width: 40%; text-align:left\"> -->\n",
    "<p style=\"text-align:center\">\n",
    "<img src=\"./img/DH.jpg\" alt=\"Diffie and Hellman\" width=\"200\">\n",
    "</p>\n",
    "<p style=\"text-align:center;font-size:10px\">\n",
    "<a href=\"https://fsi-live.s3.us-west-1.amazonaws.com/s3fs-public/styles/870xauto/public/ralph_merkle_martin_hellman_whitfield_diffie_1977_cropped_tighter.jpg?itok=577_d0uI\">(image source)</a>\n",
    "</p>"
   ]
  },
  {
   "cell_type": "markdown",
   "id": "b61aa5e6-32a7-4000-9400-8a8db51621d3",
   "metadata": {
    "editable": true,
    "slideshow": {
     "slide_type": "subslide"
    },
    "tags": []
   },
   "source": [
    "### New Directions in Cryptography \n",
    "* [Paper](https://www.cs.jhu.edu/~rubin/courses/sp03/papers/diffie.hellman.pdf) published 1976\n",
    "> \"We stand today on the brink of a revolution in cryptography. The development of cheap digital hardware has freed it from the design\n",
    "limitations of mechanical computing and brought the cost of high grade cryptographic devices down to where they can be used in such\n",
    "commercial applications as remote cash dispensers and computer terminals.\n",
    "In turn, such applications create a need for new types of cryptographic systems which minimize the necessity of secure key distribution channels and supply the equivalent of a written signature. \n",
    "At the same time, theoretical developments in information theory and computer science show promise of providing provably secure cryptosystems, changing this ancient art into a science.\""
   ]
  },
  {
   "cell_type": "markdown",
   "id": "c9ac8766-7ae7-4fb0-adcc-99df4ff496c1",
   "metadata": {
    "editable": true,
    "slideshow": {
     "slide_type": "slide"
    },
    "tags": []
   },
   "source": [
    "## Discrete Logarithm Problem (DLP)\n",
    "* Underlying mathematical problem required to be \"hard\" for DH to work"
   ]
  },
  {
   "cell_type": "markdown",
   "id": "e68b756c-af5d-441f-8615-37b61d29ac1b",
   "metadata": {
    "editable": true,
    "slideshow": {
     "slide_type": "fragment"
    },
    "tags": []
   },
   "source": [
    "* Assuming a *cyclic* group $\\mathbb{G}$ of order $ q $ with generator $ g $\n",
    "  + such that $ \\{g^0, g^1, \\dots, g^{q-1} \\}$ represents all elements in the group"
   ]
  },
  {
   "cell_type": "markdown",
   "id": "4cdff58c-04a1-4353-b035-beea0571ee10",
   "metadata": {
    "editable": true,
    "slideshow": {
     "slide_type": "fragment"
    },
    "tags": []
   },
   "source": [
    "* Then the *discrete logarithm* is the unique $ x \\in \\mathbb{Z}_q $ such that $ g^x = h $\n",
    "   + $ x = \\log_g h $\n",
    "   + $ x $ is the *discrete logarithm* (*index*) of $ h $ to the base $ g $ modulo $ q $\n",
    "   + note that we are in a group therefore everything computed modulo the order"
   ]
  },
  {
   "cell_type": "markdown",
   "id": "8890f3ad-7bce-4543-9ff6-c0f3d762f3a4",
   "metadata": {
    "editable": true,
    "slideshow": {
     "slide_type": "fragment"
    },
    "tags": []
   },
   "source": [
    "* Logarithms in such a cyclic group are called *discrete* since they can only result in integer values as opposed to standard logarithms over the real numbers "
   ]
  },
  {
   "cell_type": "markdown",
   "id": "50041e57-b7c5-4916-98d8-89cfefed7e38",
   "metadata": {
    "editable": true,
    "slideshow": {
     "slide_type": "skip"
    },
    "tags": []
   },
   "source": [
    "Standard rules from logarithms apply: \n",
    "* $ \\log_g 1 = 0 $, because $ g^0 = 1 $, where $ 1 $ is the identity element\n",
    "* $ \\log_g h^r = r \\cdot \\log_g h \\pmod q $\n",
    "* $ \\log_g ( h_1 h_2 ) = \\log_g h_1 + \\log_g h_2 \\pmod q $"
   ]
  },
  {
   "cell_type": "markdown",
   "id": "44024cce-968d-4fcb-b4b4-e5cc87895f41",
   "metadata": {
    "editable": true,
    "slideshow": {
     "slide_type": "slide"
    },
    "tags": []
   },
   "source": [
    "## The Diffi-Hellman problems\n",
    "These problems have later been defined to formally analyze the security of DH and are related to the DLP but not known to be equivalent:\n",
    "* **Computational** Diffi-Hellman problem (CDH)\n",
    "* **Decisional** Diffi-Hellman problem (DDH)"
   ]
  },
  {
   "cell_type": "markdown",
   "id": "6be17247-aca8-440b-b18b-9b0472889629",
   "metadata": {
    "editable": true,
    "slideshow": {
     "slide_type": "slide"
    },
    "tags": []
   },
   "source": [
    "### Computational Diffi-Hellman problem (CDH)\n",
    "* Fix a cyclic group $\\mathbb{G}$ and a generator $ g\\in \\mathbb{G}$\n",
    "* Take two elements $h_1, h_2 \\in \\mathbb{G}$, where $ h_1 = g^{x_1} $ and $h_2 = g^{x_2} $\n",
    "* The CDH problem is to **compute** $ g^{x_1 \\cdot x_2} $, only given $h_1$ and $ h_2 $   \n"
   ]
  },
  {
   "cell_type": "markdown",
   "id": "2faf4914-4feb-414e-adf9-d44329b42da6",
   "metadata": {
    "editable": true,
    "slideshow": {
     "slide_type": "slide"
    },
    "tags": []
   },
   "source": [
    "### Decisional Diffi-Hellman problem (DDH)"
   ]
  },
  {
   "cell_type": "markdown",
   "id": "c66063ee-33dd-4815-bd8c-0a2a71b3cfe5",
   "metadata": {
    "editable": true,
    "slideshow": {
     "slide_type": ""
    },
    "tags": []
   },
   "source": [
    "* Fix a cyclic group $\\mathbb{G}$ and a generator $ g\\in \\mathbb{G}$\n",
    "* Take two elements $h_1, h_2 \\in \\mathbb{G}$, where $ h_1 = g^{x} $ and $h_2 = g^{y} $\n",
    "* The DDH problem is to **distinguish** between $ h = g^{xy} $ and some random element $ h'= g^{z}$, only given $ h_1,h_2$ and $ h $ or $ h'$ "
   ]
  },
  {
   "cell_type": "markdown",
   "id": "c27ff1e7-d50b-494d-b332-345fde36770f",
   "metadata": {
    "editable": true,
    "slideshow": {
     "slide_type": "skip"
    },
    "tags": []
   },
   "source": [
    "More formally:\n",
    "$$ \n",
    "| \\Pr[\\mathcal{A}(\\mathbb{G},q,g,g^x,g^y,g^z) = 1] - \n",
    "  \\Pr[\\mathcal{A}(\\mathbb{G},q,g,g^x,g^y,g^{xy}] | \\leq \\text{negl(n)}\n",
    "$$, where the order $ q $ is $ ||q||=n $ bits and $ g $ is a generator of $ \\mathbb{G}$, and $x,y,z \\in \\mathbb{Z}_q$ are chosen uniformly at random. \n",
    "* Note that, if $ z $ is uniform in $\\mathbb{Z}_q$, then $ g^z$ is also uniformly distributed in $\\mathbb{G}$"
   ]
  },
  {
   "cell_type": "markdown",
   "id": "d22a5c18-0ecd-47c4-9411-e0bae370be74",
   "metadata": {
    "editable": true,
    "slideshow": {
     "slide_type": "slide"
    },
    "tags": []
   },
   "source": [
    "### Hardness of DH problems \n",
    "* If DLP is easy, so is CDH\n",
    "* If CDH is easy, so is DDH\n",
    "  + the converse is not true, if DDH is easy, CDH might still be hard\n",
    "* It is not clear (in general) if DLP implies hardness of CDH"
   ]
  },
  {
   "cell_type": "markdown",
   "id": "d280b1ba-05af-48a8-8d39-ca9547ca3f84",
   "metadata": {
    "editable": true,
    "slideshow": {
     "slide_type": "slide"
    },
    "tags": []
   },
   "source": [
    "## Usage of Prime-Order Groups for DH\n",
    "The usage of cyclic groups of *prime order* (i.e., the number of elements in the cyclic group is $ q \\in \\texttt{Primes}$) is preferred for Diffi-Hellman as the discrete-logarithm problem (DLP) is hardest in such groups"
   ]
  },
  {
   "cell_type": "markdown",
   "id": "ea51f4cd-137f-478a-8be4-4a976be6ab9b",
   "metadata": {
    "editable": true,
    "slideshow": {
     "slide_type": "fragment"
    },
    "tags": []
   },
   "source": [
    "There are two main reasons for preferring cyclic groups of prime order:\n",
    "1. The problem of finding the discrete-logarithms in a group of order $ q $ becomes easier if $ q $ has small prime factos due to the *Pholing-Hellman algorithm*. This can be ruled out if $ q $ itself is prime. \n",
    "    + Also the DDH problem becomes easier if $ q \\not \\in \\text{Primes}$ and has (small) prime factors (e.g., $ q = p_1 \\cdot p_2 \\cdot p_3 \\dots $)\n",
    "2. Finding generators in groups of prime order is easy, as every element of such a group (except the identity) is also a generator"
   ]
  },
  {
   "cell_type": "markdown",
   "id": "51d38ef7-cd8d-4a75-97f2-498ebf9f9d32",
   "metadata": {
    "editable": true,
    "jp-MarkdownHeadingCollapsed": true,
    "slideshow": {
     "slide_type": "skip"
    },
    "tags": []
   },
   "source": [
    "### DDH solvability in groups of non-prime order"
   ]
  },
  {
   "cell_type": "markdown",
   "id": "a64f3384-cae5-4940-b1db-3f453d143b39",
   "metadata": {
    "editable": true,
    "slideshow": {
     "slide_type": "skip"
    },
    "tags": []
   },
   "source": [
    "If the order of the group $ q $ is a product of (ideally small) primes, e.g., $ q = p_1 \\cdot p_2 $, in certain cases *decisions* can be made with the help of the **Legendre Symbol** indicating if the tested element $ a $ is a quadratic residue modulo $ p_1 $ and $ p_2 $. If so $ a $ is also a quadratic residure modulo $ q = p_1 p_2 $. Therefore, the *Legendre Symbol* for all tested elements $g^x, g^y, g^{z}$ and across all prime factors ($p_1$ and $p_2$ in our case), should be the same, if not $ g^{z} $ is likely a random element."
   ]
  },
  {
   "cell_type": "markdown",
   "id": "28d949f9-5cd6-4ed2-ba40-17c8820e43fd",
   "metadata": {
    "editable": true,
    "jp-MarkdownHeadingCollapsed": true,
    "slideshow": {
     "slide_type": "skip"
    },
    "tags": []
   },
   "source": [
    "### Legendre Symbol"
   ]
  },
  {
   "cell_type": "markdown",
   "id": "ff01a688-14a8-4668-bd63-22d9c89f9119",
   "metadata": {
    "editable": true,
    "slideshow": {
     "slide_type": "skip"
    },
    "tags": []
   },
   "source": [
    "* The *Legendre Symbol* is a function which can be used to determine whether an integer ($a$) is a quadratic residue modulo a prime number ($p$). It is defined as: \n",
    "$$\n",
    "    \\left(\\frac{a}{p}\\right) =\n",
    "\\begin{cases} \n",
    "\\phantom{-}1 & \\text{if } a \\text{ is a quadratic residue modulo } p \\text{ and } a \\not\\equiv 0 \\pmod{p}, \\\\\n",
    "-1 & \\text{if } a \\text{ is not a quadratic residue modulo } p, \\\\\n",
    "\\phantom{-}0 & \\text{if } a \\equiv 0 \\pmod{p}.\n",
    "\\end{cases}\n",
    "$$\n",
    "* An integer $a$ is a *quadaratic residue* modulo $p$ if there exists some integer $ x $ such that $ x^2 \\equiv a \\pmod{p}$."
   ]
  },
  {
   "cell_type": "markdown",
   "id": "373cf38e-9c4d-4203-93a1-e0bd49cd7cdc",
   "metadata": {
    "editable": true,
    "slideshow": {
     "slide_type": "skip"
    },
    "tags": []
   },
   "source": [
    "#### Computing the Legendre Symbol using Eulers Criterion"
   ]
  },
  {
   "cell_type": "markdown",
   "id": "b152170d-5096-488c-b6cb-f383b00eef9c",
   "metadata": {
    "editable": true,
    "jp-MarkdownHeadingCollapsed": true,
    "slideshow": {
     "slide_type": "skip"
    },
    "tags": []
   },
   "source": [
    "For $ p \\in \\text{Primes} $ (and $p > 2$) and $ a \\not \\equiv 0 \\pmod{p}$, the Legendre symbol can be computed as follows:\n",
    "$$\n",
    "\\left(\\frac{a}{p}\\right) \\equiv a^{\\frac{p-1}{2}} \\pmod{p}.\n",
    "$$"
   ]
  },
  {
   "cell_type": "markdown",
   "id": "ccbf2a65-4762-4dbe-ae71-8d10d6a9032d",
   "metadata": {
    "editable": true,
    "slideshow": {
     "slide_type": "skip"
    },
    "tags": []
   },
   "source": [
    "#### Example of computing the Legendre Symbol"
   ]
  },
  {
   "cell_type": "markdown",
   "id": "2da1c663-65cd-4e9e-a2ec-7f9e4a34d1b4",
   "metadata": {
    "editable": true,
    "slideshow": {
     "slide_type": "skip"
    },
    "tags": []
   },
   "source": [
    "**Example:** $ p = 7 $ and $ a \\in \\{ 2,3,0 \\} $\n",
    " \n",
    "* $ a = 2 $: $2$ is a quadratic residue modulo $7$ because $ 3^2 \\equiv 2 \\pmod{7} $, so $\\left(\\frac{2}{7}\\right) = 1$\n",
    "* $ a = 3 $: $3$ is not a quadratic residue modulo $7$, so $\\left(\\frac{3}{7}\\right) = -1$\n",
    "* $ a = 0 $: $\\left(\\frac{0}{7}\\right) = 0$\n"
   ]
  },
  {
   "cell_type": "code",
   "execution_count": 3,
   "id": "c6fa1927-32ac-4028-b803-0bcf42d5d882",
   "metadata": {
    "editable": true,
    "slideshow": {
     "slide_type": "skip"
    },
    "tags": []
   },
   "outputs": [],
   "source": [
    "def legendre_eulers_criterion(a,p):\n",
    "    assert p > 2 and p in Primes(),\"p not a Prime greater 2\"\n",
    "    if a == 0 % p:\n",
    "        return 0 # a is the identity\n",
    "    legendre = pow(a,(p-1)//2,p) # using python build in modular exponentiation function\n",
    "    # legendre == a**( ((p-1)//2) ) % p # using slow exponentiation\n",
    "    if legendre == -1 % p:\n",
    "        return -1 \n",
    "    return legendre"
   ]
  },
  {
   "cell_type": "code",
   "execution_count": 4,
   "id": "d180c171-186a-45be-b13f-ad9836c438c0",
   "metadata": {
    "editable": true,
    "slideshow": {
     "slide_type": "skip"
    },
    "tags": []
   },
   "outputs": [],
   "source": [
    "p = 7; a = 2"
   ]
  },
  {
   "cell_type": "code",
   "execution_count": 5,
   "id": "603084ce-1ece-4310-8428-fb9171f7eb7c",
   "metadata": {
    "editable": true,
    "slideshow": {
     "slide_type": "skip"
    },
    "tags": []
   },
   "outputs": [
    {
     "data": {
      "text/plain": [
       "1"
      ]
     },
     "execution_count": 5,
     "metadata": {},
     "output_type": "execute_result"
    }
   ],
   "source": [
    "assert legendre_eulers_criterion(a,p) == legendre_symbol(a,p) \n",
    "legendre_eulers_criterion(a,p)"
   ]
  },
  {
   "cell_type": "code",
   "execution_count": 6,
   "id": "da31451a-ca01-4609-9167-23eb165b8854",
   "metadata": {
    "editable": true,
    "slideshow": {
     "slide_type": "skip"
    },
    "tags": []
   },
   "outputs": [],
   "source": [
    "a = 3"
   ]
  },
  {
   "cell_type": "code",
   "execution_count": 7,
   "id": "876b2a0a-c637-4dd0-96a9-917744d27273",
   "metadata": {
    "editable": true,
    "slideshow": {
     "slide_type": "skip"
    },
    "tags": []
   },
   "outputs": [
    {
     "data": {
      "text/plain": [
       "-1"
      ]
     },
     "execution_count": 7,
     "metadata": {},
     "output_type": "execute_result"
    }
   ],
   "source": [
    "assert legendre_eulers_criterion(a,p) == legendre_symbol(a,p) \n",
    "legendre_eulers_criterion(3,7) # 6 = -1 % 7"
   ]
  },
  {
   "cell_type": "code",
   "execution_count": 8,
   "id": "06a8f694-bfff-44e9-a953-7a1c773eed88",
   "metadata": {
    "editable": true,
    "slideshow": {
     "slide_type": "skip"
    },
    "tags": []
   },
   "outputs": [],
   "source": [
    "a = 0"
   ]
  },
  {
   "cell_type": "code",
   "execution_count": 9,
   "id": "7ee1da7c-d3e8-4c46-8544-da269a5ae002",
   "metadata": {
    "editable": true,
    "slideshow": {
     "slide_type": "skip"
    },
    "tags": []
   },
   "outputs": [
    {
     "data": {
      "text/plain": [
       "0"
      ]
     },
     "execution_count": 9,
     "metadata": {},
     "output_type": "execute_result"
    }
   ],
   "source": [
    "assert legendre_eulers_criterion(a,p) == legendre_symbol(a,p) \n",
    "legendre_eulers_criterion(0,7)"
   ]
  },
  {
   "cell_type": "markdown",
   "id": "e6594055-b749-4588-b8dc-d0a57d885dda",
   "metadata": {
    "editable": true,
    "slideshow": {
     "slide_type": "slide"
    },
    "tags": []
   },
   "source": [
    "### A Subgroup-generation algorithm for $\\mathbb{Z}^*_p$"
   ]
  },
  {
   "cell_type": "markdown",
   "id": "a1c53e2c-ec15-47de-9480-1b6a342cd5dc",
   "metadata": {
    "editable": true,
    "slideshow": {
     "slide_type": ""
    },
    "tags": []
   },
   "source": [
    "* As $ p \\in \\text{Primes} $ all elements in $\\mathbb{Z}^*_p$ have a multiplicative inverse, since for all $ x \\in \\mathbb{Z}^*_p$ it holds that $\\gcd(x,p) = 1 $ per definition of a prime"
   ]
  },
  {
   "cell_type": "markdown",
   "id": "846f4045-fabb-496a-8e43-64b12f040112",
   "metadata": {
    "editable": true,
    "slideshow": {
     "slide_type": "fragment"
    },
    "tags": []
   },
   "source": [
    "+ The order $q = |\\mathbb{Z}^*_p|$ is $ p-1 $ since $ 0 $ had to be removed from $\\mathbb{Z}^*_p$, as it is the only element in $Z_p$ which does not have a multiplicative inverse"
   ]
  },
  {
   "cell_type": "markdown",
   "id": "3fe706c0-84e0-41e0-863c-8472d675ed3e",
   "metadata": {
    "editable": true,
    "slideshow": {
     "slide_type": "fragment"
    },
    "tags": []
   },
   "source": [
    "* As the order $ q $ of $ \\mathbb{Z}^*_p$ is $ p - 1 $ the multiplicative group is **not** of prime-order, therefore DDH is not necessarily as hard as possible in such a group "
   ]
  },
  {
   "cell_type": "markdown",
   "id": "e605c832-0136-4805-b63f-8ada71f1c89b",
   "metadata": {
    "editable": true,
    "slideshow": {
     "slide_type": "fragment"
    },
    "tags": []
   },
   "source": [
    "* Therefore, we want to generate a cyclic prime-order subgroup of $\\mathbb{Z}^*_p$ where DDH is believed to be hard"
   ]
  },
  {
   "cell_type": "markdown",
   "id": "02619cb6-3718-4e5e-ac3d-375aac7faa47",
   "metadata": {
    "editable": true,
    "slideshow": {
     "slide_type": "fragment"
    },
    "tags": []
   },
   "source": [
    "* We want a subgroup of prime order $ q $ s.t. $ p = rq + 1 $, where $ p,q \\in \\texttt{Primes}$, i.e., \n",
    "  + $ r = (p-1)/q $\n",
    "  + $ q = (p-1)/r $"
   ]
  },
  {
   "cell_type": "markdown",
   "id": "10df4507-78d3-4ba3-9d30-93be6e7b2c0b",
   "metadata": {
    "editable": true,
    "slideshow": {
     "slide_type": "slide"
    },
    "tags": []
   },
   "source": [
    "### Subgroup-generation"
   ]
  },
  {
   "cell_type": "markdown",
   "id": "8347f4eb-4630-493c-955b-6d504603423f",
   "metadata": {
    "editable": true,
    "slideshow": {
     "slide_type": ""
    },
    "tags": []
   },
   "source": [
    "<a id='gf'></a>\n",
    "<div style=\"background:LightYellow \">\n",
    "    \n",
    "**ALGORITHM: Subgroup-generation** according to Algorithm 9.67 in [[ITMC](https://www.cs.umd.edu/~jkatz/imc.html)]:\n",
    "\n",
    "**Input:** Security parameter $ 1^n $ and $\\ell $ specifying the bit length of the primes to use\n",
    "\n",
    "**Output:** Cyclic group $\\mathbb{G}$ with prime order $q$ and generator $g$\n",
    "\n",
    "* **chose** $\\ell$ bit prime $ p $ and $n$ bit prime $ q $ s.t. $ q | (p-1) $\n",
    "* **until** $ g\\neq 1 $ **do**\n",
    "  + **choose** uniform $ h \\in \\mathbb{Z}^*_p $\n",
    "  + **set** $ g := h^{(p-1)/q} \\pmod p $\n",
    "* **return** $p,q,g$ \n",
    "</div> "
   ]
  },
  {
   "cell_type": "code",
   "execution_count": 10,
   "id": "4a269e28-6565-495c-8891-5902da100295",
   "metadata": {
    "editable": true,
    "slideshow": {
     "slide_type": "subslide"
    },
    "tags": []
   },
   "outputs": [],
   "source": [
    "def generate_subgroup(p,q):\n",
    "    assert p in Primes() and q in Primes(),\"q is not a prime order\"\n",
    "    assert (p-1) % q == 0,\"q does not divide (p-1)\"\n",
    "    g = 1\n",
    "    while g == 1: # try until g is not the identity\n",
    "        h = gen_rand_int(lower_bound=1,upper_bound=p-1) # uniform h in Z*p\n",
    "        g = pow(h,(p-1)//q,p)\n",
    "    assert pow(g,q,p) == 1,f\"For h = {h}, g = {g} is not a generator of a subgroup with order {q}\"\n",
    "    return p,q,g"
   ]
  },
  {
   "cell_type": "code",
   "execution_count": 11,
   "id": "973048a8-57a6-4a9e-b1b9-5c4888aa0189",
   "metadata": {
    "editable": true,
    "jupyter": {
     "source_hidden": true
    },
    "slideshow": {
     "slide_type": "skip"
    },
    "tags": []
   },
   "outputs": [],
   "source": [
    "# helper functions to print a small (sub-)group\n",
    "def print_group(p,g):\n",
    "    for i in range(0,p):\n",
    "        print(f\"{i:02d}: g^{i:2d}  mod {p:2d} = {int(pow(g,i,p)):3d}\")\n",
    "def print_subgroup(p,q,g):\n",
    "    for i in range(0,q):\n",
    "        print(f\"{i:02d}: g^{i:2d}  mod {p:2d} = {int(pow(g,i,p)):3d}\")"
   ]
  },
  {
   "cell_type": "markdown",
   "id": "015cdc77-495b-431c-92f6-87b3c3bd2a8e",
   "metadata": {
    "editable": true,
    "slideshow": {
     "slide_type": "slide"
    },
    "tags": []
   },
   "source": [
    "#### Example from group to prime order subgroup"
   ]
  },
  {
   "cell_type": "markdown",
   "id": "6b748305-6675-46dd-8fce-049c18a34a60",
   "metadata": {
    "editable": true,
    "slideshow": {
     "slide_type": ""
    },
    "tags": []
   },
   "source": [
    "##### Define additive group $\\mathbb{Z}_p$ in sage math:"
   ]
  },
  {
   "cell_type": "code",
   "execution_count": 12,
   "id": "14dc3f92-5c94-4887-a3a0-a45a1fa86a95",
   "metadata": {
    "editable": true,
    "slideshow": {
     "slide_type": ""
    },
    "tags": []
   },
   "outputs": [],
   "source": [
    "p = 11; assert p in Primes() # define some prime"
   ]
  },
  {
   "cell_type": "code",
   "execution_count": 13,
   "id": "aeff724f-b4c8-4095-90c5-337b7a7f19e2",
   "metadata": {
    "editable": true,
    "slideshow": {
     "slide_type": "fragment"
    },
    "tags": []
   },
   "outputs": [
    {
     "data": {
      "text/plain": [
       "[0, 1, 2, 3, 4, 5, 6, 7, 8, 9, 10]"
      ]
     },
     "execution_count": 13,
     "metadata": {},
     "output_type": "execute_result"
    }
   ],
   "source": [
    "Zp = IntegerModRing(p) # define integers mod p \n",
    "Zp.list() # list all integers mod p forming a group under addition "
   ]
  },
  {
   "cell_type": "code",
   "execution_count": 14,
   "id": "f6062aa5-d231-4f58-8e33-1b7abbc740be",
   "metadata": {
    "editable": true,
    "slideshow": {
     "slide_type": ""
    },
    "tags": []
   },
   "outputs": [
    {
     "data": {
      "text/plain": [
       "11"
      ]
     },
     "execution_count": 14,
     "metadata": {},
     "output_type": "execute_result"
    }
   ],
   "source": [
    "Zp.order() # order of the additive group"
   ]
  },
  {
   "cell_type": "code",
   "execution_count": 15,
   "id": "0d5e3142-e77e-4e80-a2c8-a1a479fa0f7f",
   "metadata": {
    "editable": true,
    "slideshow": {
     "slide_type": ""
    },
    "tags": []
   },
   "outputs": [
    {
     "data": {
      "text/plain": [
       "11"
      ]
     },
     "execution_count": 15,
     "metadata": {},
     "output_type": "execute_result"
    }
   ],
   "source": [
    "Zp(2).order() # order of the element in the additive group"
   ]
  },
  {
   "cell_type": "markdown",
   "id": "d14d1258-f0ad-40a9-bf84-86ae58f73d04",
   "metadata": {
    "editable": true,
    "slideshow": {
     "slide_type": "slide"
    },
    "tags": []
   },
   "source": [
    "##### Interpret integers mod p as multiplicative group mod $p$:"
   ]
  },
  {
   "cell_type": "code",
   "execution_count": 16,
   "id": "da041695-565a-4b2f-be38-97291ff99b75",
   "metadata": {
    "editable": true,
    "slideshow": {
     "slide_type": "fragment"
    },
    "tags": []
   },
   "outputs": [
    {
     "name": "stdout",
     "output_type": "stream",
     "text": [
      "g in Z*p = 2\n"
     ]
    }
   ],
   "source": [
    "gZp = Zp.multiplicative_generator(); print(f\"g in Z*p = {gZp}\")"
   ]
  },
  {
   "cell_type": "code",
   "execution_count": 17,
   "id": "e5f5a430-d465-4ea7-8515-efa9fa93fe89",
   "metadata": {
    "editable": true,
    "slideshow": {
     "slide_type": "fragment"
    },
    "tags": []
   },
   "outputs": [
    {
     "name": "stdout",
     "output_type": "stream",
     "text": [
      "order of g in Z*p = 10\n"
     ]
    }
   ],
   "source": [
    "assert Zp(gZp).multiplicative_order() == p-1\n",
    "print(f\"order of g in Z*p = {Zp(gZp).multiplicative_order()}\")"
   ]
  },
  {
   "cell_type": "markdown",
   "id": "1ee85434-93a3-48e7-a169-7640421ff382",
   "metadata": {
    "editable": true,
    "slideshow": {
     "slide_type": ""
    },
    "tags": []
   },
   "source": [
    "##### Define multiplicative group $\\mathbb{Z}^*_p$ from $\\mathbb{Z}_p$ explicitly:"
   ]
  },
  {
   "cell_type": "code",
   "execution_count": 18,
   "id": "06fda1f3-84f3-408e-8c6f-1104acbedf17",
   "metadata": {
    "editable": true,
    "slideshow": {
     "slide_type": ""
    },
    "tags": []
   },
   "outputs": [
    {
     "name": "stdout",
     "output_type": "stream",
     "text": [
      "identity  e = 1\n",
      "generator g = 2\n",
      "g.order()   = 10\n",
      "G.list()    = (1, f, f^2, f^3, f^4, f^5, f^6, f^7, f^8, f^9)\n"
     ]
    }
   ],
   "source": [
    "G = Zp.unit_group() # define multiplicative group mod p from Zp\n",
    "print(f\"identity  e = {G.identity()}\"); g = G.gen() \n",
    "print(f\"generator g = {G.gens_values()[0]}\")\n",
    "print(f\"g.order()   = {g.order()}\")\n",
    "print(f\"G.list()    = {G.list()}\")"
   ]
  },
  {
   "cell_type": "code",
   "execution_count": 19,
   "id": "0abaa8e0-2a8e-4ef2-9c7e-e675d9071bde",
   "metadata": {
    "editable": true,
    "slideshow": {
     "slide_type": "skip"
    },
    "tags": []
   },
   "outputs": [
    {
     "data": {
      "text/plain": [
       "f"
      ]
     },
     "execution_count": 19,
     "metadata": {},
     "output_type": "execute_result"
    }
   ],
   "source": [
    "g = G.gen(); g # get a generator variable"
   ]
  },
  {
   "cell_type": "code",
   "execution_count": 20,
   "id": "333975a9-0c8b-4e20-b4a0-0fa2c1411ef3",
   "metadata": {
    "editable": true,
    "jupyter": {
     "source_hidden": true
    },
    "slideshow": {
     "slide_type": "skip"
    },
    "tags": []
   },
   "outputs": [
    {
     "data": {
      "text/plain": [
       "2"
      ]
     },
     "execution_count": 20,
     "metadata": {},
     "output_type": "execute_result"
    }
   ],
   "source": [
    "g = G.gens_values()[0]; g # get a list of generator values and pick first"
   ]
  },
  {
   "cell_type": "code",
   "execution_count": 21,
   "id": "a6b0c9b9-ff67-4ac6-8e1d-319ffbd20dad",
   "metadata": {
    "editable": true,
    "jupyter": {
     "source_hidden": true
    },
    "slideshow": {
     "slide_type": "skip"
    },
    "tags": []
   },
   "outputs": [
    {
     "data": {
      "text/plain": [
       "11"
      ]
     },
     "execution_count": 21,
     "metadata": {},
     "output_type": "execute_result"
    }
   ],
   "source": [
    "assert pow(g,(p-1),p) == 1 # test if g is indeed a generator in Z*p\n",
    "g.order()"
   ]
  },
  {
   "cell_type": "code",
   "execution_count": 22,
   "id": "39ba0e39-f66f-445a-9e05-28f0e2a0edfb",
   "metadata": {
    "editable": true,
    "slideshow": {
     "slide_type": "subslide"
    },
    "tags": []
   },
   "outputs": [
    {
     "name": "stdout",
     "output_type": "stream",
     "text": [
      "00: g^ 0  mod 11 =   1\n",
      "01: g^ 1  mod 11 =   2\n",
      "02: g^ 2  mod 11 =   4\n",
      "03: g^ 3  mod 11 =   8\n",
      "04: g^ 4  mod 11 =   5\n",
      "05: g^ 5  mod 11 =  10\n",
      "06: g^ 6  mod 11 =   9\n",
      "07: g^ 7  mod 11 =   7\n",
      "08: g^ 8  mod 11 =   3\n",
      "09: g^ 9  mod 11 =   6\n",
      "10: g^10  mod 11 =   1\n"
     ]
    }
   ],
   "source": [
    "p = 11; g = 2; print_group(p,g)"
   ]
  },
  {
   "cell_type": "markdown",
   "id": "6288b36c-8014-4c06-a594-a87bf7c4fa21",
   "metadata": {
    "editable": true,
    "slideshow": {
     "slide_type": "slide"
    },
    "tags": []
   },
   "source": [
    "##### Generate a sub-group of $\\mathbb{Z}^*_p$:"
   ]
  },
  {
   "cell_type": "markdown",
   "id": "a624612f-d1ba-4a10-a289-b60e67971e43",
   "metadata": {
    "editable": true,
    "slideshow": {
     "slide_type": ""
    },
    "tags": []
   },
   "source": [
    "First pick a prime factor of $p-1$ as the desired prime order $ q $ of the sub-group"
   ]
  },
  {
   "cell_type": "code",
   "execution_count": 23,
   "id": "5ad1e1a5-b79c-42b0-a455-a907a073da50",
   "metadata": {
    "editable": true,
    "slideshow": {
     "slide_type": "fragment"
    },
    "tags": []
   },
   "outputs": [
    {
     "data": {
      "text/plain": [
       "2 * 5"
      ]
     },
     "execution_count": 23,
     "metadata": {},
     "output_type": "execute_result"
    }
   ],
   "source": [
    "factor(p-1) # possible prime orders for sub-groups"
   ]
  },
  {
   "cell_type": "code",
   "execution_count": 24,
   "id": "ce819784-fccc-42b8-aa91-66d985b7b1ad",
   "metadata": {
    "editable": true,
    "slideshow": {
     "slide_type": "fragment"
    },
    "tags": []
   },
   "outputs": [
    {
     "data": {
      "text/plain": [
       "(11, 5, 3)"
      ]
     },
     "execution_count": 24,
     "metadata": {},
     "output_type": "execute_result"
    }
   ],
   "source": [
    "generate_subgroup(p,q=5) # with prime order 5"
   ]
  },
  {
   "cell_type": "code",
   "execution_count": 25,
   "id": "f42705f3-4c04-4d1a-90d6-d4c03d2402a7",
   "metadata": {
    "editable": true,
    "slideshow": {
     "slide_type": "fragment"
    },
    "tags": []
   },
   "outputs": [
    {
     "name": "stdout",
     "output_type": "stream",
     "text": [
      "00: g^ 0  mod 11 =   1\n",
      "01: g^ 1  mod 11 =   3\n",
      "02: g^ 2  mod 11 =   9\n",
      "03: g^ 3  mod 11 =   5\n",
      "04: g^ 4  mod 11 =   4\n"
     ]
    }
   ],
   "source": [
    "p = 11; q = 5; g = 3; print_subgroup(p,q,g)"
   ]
  },
  {
   "cell_type": "code",
   "execution_count": 26,
   "id": "b6f9fd3a-3693-4ccb-8791-045a4378c129",
   "metadata": {
    "editable": true,
    "slideshow": {
     "slide_type": "fragment"
    },
    "tags": []
   },
   "outputs": [
    {
     "data": {
      "text/plain": [
       "5"
      ]
     },
     "execution_count": 26,
     "metadata": {},
     "output_type": "execute_result"
    }
   ],
   "source": [
    "Zp(3).multiplicative_order()"
   ]
  },
  {
   "cell_type": "code",
   "execution_count": 27,
   "id": "31f2bda9-2bbb-4cc7-81b0-1b8290b4b697",
   "metadata": {
    "editable": true,
    "slideshow": {
     "slide_type": "subslide"
    },
    "tags": []
   },
   "outputs": [
    {
     "data": {
      "text/plain": [
       "(11, 2, 10)"
      ]
     },
     "execution_count": 27,
     "metadata": {},
     "output_type": "execute_result"
    }
   ],
   "source": [
    "generate_subgroup(p,q=2)"
   ]
  },
  {
   "cell_type": "code",
   "execution_count": 28,
   "id": "0253cde5-f360-45b0-b3d7-dc22fd4f1410",
   "metadata": {
    "editable": true,
    "slideshow": {
     "slide_type": "fragment"
    },
    "tags": []
   },
   "outputs": [
    {
     "name": "stdout",
     "output_type": "stream",
     "text": [
      "00: g^ 0  mod 11 =   1\n",
      "01: g^ 1  mod 11 =  10\n"
     ]
    }
   ],
   "source": [
    "p = 11\n",
    "q = 2\n",
    "g = 10\n",
    "print_subgroup(p,q,g)"
   ]
  },
  {
   "cell_type": "code",
   "execution_count": 29,
   "id": "01b2cfde-faa5-49b7-a26e-d845484b2f10",
   "metadata": {
    "editable": true,
    "slideshow": {
     "slide_type": "fragment"
    },
    "tags": []
   },
   "outputs": [
    {
     "data": {
      "text/plain": [
       "2"
      ]
     },
     "execution_count": 29,
     "metadata": {},
     "output_type": "execute_result"
    }
   ],
   "source": [
    "Zp(10).multiplicative_order()"
   ]
  },
  {
   "cell_type": "markdown",
   "id": "a207c814-74dc-47a1-946e-858cfc21e550",
   "metadata": {
    "editable": true,
    "slideshow": {
     "slide_type": "slide"
    },
    "tags": []
   },
   "source": [
    "## Diffie-Hellman Key eXchange (DHKX or DH)\n",
    "The underlying Diffie-Hellman algorithm can be used over different algebraic structures: \n",
    "* **FFDH:** The variant without elliptic curves is called *algebraic* DH or *finite field* DH\n",
    "* **ECDH:** When used over *elliptic curves* it is referred to as *elliptic curve* DH"
   ]
  },
  {
   "cell_type": "markdown",
   "id": "b74134f0-7f0a-471e-b35f-defdb8be635d",
   "metadata": {
    "editable": true,
    "slideshow": {
     "slide_type": "slide"
    },
    "tags": []
   },
   "source": [
    "## FFDH - Finite Field Diffie-Hellman Key Exchange "
   ]
  },
  {
   "cell_type": "markdown",
   "id": "be403363-9ec0-4742-876e-4b93f98ae217",
   "metadata": {
    "editable": true,
    "slideshow": {
     "slide_type": ""
    },
    "tags": []
   },
   "source": [
    "Key exchange between *Alice* and *Bob*:\n",
    "\n",
    "* prime $ p \\in $ Primes (in practise >= 2048 bits in size)\n",
    "* generator $ g < p $ where $ g $ is a generator of the cyclic (sub-)group $\\mathbb{Z}_q$ in which DDH is hard  \n",
    "* secret keys $ a, b \\in \\mathbb{Z}_q $, where only Alice knows $ a $ and only Bob knows $ b$\n",
    "* Alice computes $ A = g^a \\pmod p $ and sends it to -> Bob\n",
    "* Bob computes $ B = g^b \\pmod p $ and sedns it to -> Alice\n",
    "* Alice computes $ AB = B^a = {(g^{b})}^{a} = g^{ba} \\pmod p $\n",
    "* Bob computes $ AB = A^b = {(g^{a})}^{b} = g^{ab} \\pmod p $"
   ]
  },
  {
   "cell_type": "markdown",
   "id": "a4cbb326-a739-4f64-9895-9a46f1a54bed",
   "metadata": {
    "editable": true,
    "slideshow": {
     "slide_type": "slide"
    },
    "tags": []
   },
   "source": [
    "### FFDH Toy Example "
   ]
  },
  {
   "cell_type": "code",
   "execution_count": 30,
   "id": "145d9a63-1a7a-4c6a-94f6-c86b971218db",
   "metadata": {
    "editable": true,
    "slideshow": {
     "slide_type": ""
    },
    "tags": []
   },
   "outputs": [],
   "source": [
    "def FFDH(p,g,x):\n",
    "    return pow(g,x,p)"
   ]
  },
  {
   "cell_type": "code",
   "execution_count": 31,
   "id": "eb3132ed-6e63-49db-b86a-1fe3bd24a380",
   "metadata": {
    "editable": true,
    "slideshow": {
     "slide_type": "fragment"
    },
    "tags": []
   },
   "outputs": [
    {
     "name": "stdout",
     "output_type": "stream",
     "text": [
      "Alice computes  A = g^a (mod p) = 8\n",
      "Bob   computes  B = g^b (mod p) = 19\n",
      "Alice computes AB = B^a (mod p) = 2\n",
      "Bob   computes AB = A^b (mod p) = 2\n"
     ]
    }
   ],
   "source": [
    "# Values from https://en.wikipedia.org/wiki/Diffie%E2%80%93Hellman_key_exchange\n",
    "p = 23; g = 5; a = 6; b = 15\n",
    "A = FFDH(p,g,x=a); B = FFDH(p,g,x=b)\n",
    "AB_alice = FFDH(p,B,x=a); AB_bob = FFDH(p,A,x=b)\n",
    "print(f\"Alice computes  A = g^a (mod p) = {A}\")\n",
    "print(f\"Bob   computes  B = g^b (mod p) = {B}\")\n",
    "print(f\"Alice computes AB = B^a (mod p) = {AB_alice}\")\n",
    "print(f\"Bob   computes AB = A^b (mod p) = {AB_bob}\")\n",
    "assert AB_alice == AB_bob"
   ]
  },
  {
   "cell_type": "markdown",
   "id": "6387d518-e5b9-4d58-a3e5-481e365154e3",
   "metadata": {
    "editable": true,
    "slideshow": {
     "slide_type": "slide"
    },
    "tags": []
   },
   "source": [
    "### NIST/RFC FFDH parameters "
   ]
  },
  {
   "cell_type": "markdown",
   "id": "83118045-8e6f-493f-98af-6fe5b439c5e8",
   "metadata": {
    "editable": true,
    "slideshow": {
     "slide_type": ""
    },
    "tags": []
   },
   "source": [
    "* [NIST SP 800-56A Rev. 3](https://csrc.nist.gov/pubs/sp/800/56/a/r3/final) standardizes groups and DH parameters specified in [RFC 7919](https://datatracker.ietf.org/doc/rfc7919/)\n",
    "  + `ffdhe2048`, `ffdhe3072`, `ffdhe4096`, `ffdhe6144`, `ffdhe8192`"
   ]
  },
  {
   "cell_type": "markdown",
   "id": "848a077e-200d-4ade-aeaa-c654240c4671",
   "metadata": {
    "editable": true,
    "slideshow": {
     "slide_type": "slide"
    },
    "tags": []
   },
   "source": [
    "#### `ffdhe2048` \n",
    "Defines $ p,q \\in \\text{Primes} $, where $ q $ defines a prime order sub-group with generator $ g $ in which DDH is hard.\n",
    "* Eulers number $ e = 2.71828... $ is used to ensure randomness (as deliberate manipulation is harder) and it provides a deterministic yet non-repeating numerical starting point\n",
    "* Moreover $ p $ is a *safe-prime* ($p = 2q + 1$ where $q \\in \\text{Primes}$) due to security and performance reasons (only two possible sub-group orders $ 2 $ and $ q $ to check)  \n",
    "\n",
    "$ p = 2^{2048} - 2^{1984} + (\\lfloor 2^{1918} \\cdot e\\rfloor) + 560316 ) \\cdot 2^{64} - 1 $\n",
    "\n",
    "$ q = (p-1)/2 \\;$  (i.e., $ r = 2 $)\n",
    "\n",
    "$ g = 2 $ "
   ]
  },
  {
   "cell_type": "markdown",
   "id": "5d3b1138-02d9-4afd-9e6d-c75c3fa1ef03",
   "metadata": {
    "editable": true,
    "slideshow": {
     "slide_type": "subslide"
    },
    "tags": []
   },
   "source": [
    "##### Compute prime p for `ffdhe2048`:"
   ]
  },
  {
   "cell_type": "code",
   "execution_count": 32,
   "id": "d514f175-c835-4be9-b949-d7116ac52fc1",
   "metadata": {
    "editable": true,
    "jupyter": {
     "source_hidden": true
    },
    "slideshow": {
     "slide_type": "skip"
    },
    "tags": []
   },
   "outputs": [
    {
     "name": "stdout",
     "output_type": "stream",
     "text": [
      "Number 2**1918 to large for std. floating point arithmetic in python!\n"
     ]
    }
   ],
   "source": [
    "import math\n",
    "try: \n",
    "    p = 2**2048 - 2**1984 + (math.floor(2**1918 * math.e) + 560316 ) * 2**64 - 1\n",
    "    print(p.hex())\n",
    "except OverflowError:\n",
    "    print(\"Number 2**1918 to large for std. floating point arithmetic in python!\")"
   ]
  },
  {
   "cell_type": "code",
   "execution_count": 33,
   "id": "822b80cc-dcf7-49ce-88a1-ccb1c1649165",
   "metadata": {
    "collapsed": true,
    "editable": true,
    "jupyter": {
     "outputs_hidden": true,
     "source_hidden": true
    },
    "scrolled": true,
    "slideshow": {
     "slide_type": "skip"
    },
    "tags": []
   },
   "outputs": [
    {
     "name": "stdout",
     "output_type": "stream",
     "text": [
      "p = 0xffffffffffffffffadf85458a2bb4a9aafdc5620273d3cf1d8b9c583ce2d3695a9e13641146433fbcc939dce249b3ef97d2fe363630c75d8f681b202aec4617ad3df1ed5d5fd65612433f51f5f066ed0856365553ded1af3b557135e7f57c935984f0c70e0e68b77e2a689daf3efe8721df158a136ade73530acca4f483a797abc0ab182b324fb61d108a94bb2c8e3fbb96adab760d7f4681d4f42a3de394df4ae56ede76372bb190b07a7c8ee0a6d709e02fce1cdf7e2ecc03404cd28342f619172fe9ce98583ff8e4f1232eef28183c3fe3b1b4c6fad733bb5fcbc2ec22005c58ef1837d1683b2c6f34a26c1b2effa886b423861285c97ffffffffffffffff\n",
      "q = 0x7fffffffffffffffd6fc2a2c515da54d57ee2b10139e9e78ec5ce2c1e7169b4ad4f09b208a3219fde649cee7124d9f7cbe97f1b1b1863aec7b40d901576230bd69ef8f6aeafeb2b09219fa8faf83376842b1b2aa9ef68d79daab89af3fabe49acc278638707345bbf15344ed79f7f4390ef8ac509b56f39a98566527a41d3cbd5e0558c159927db0e88454a5d96471fddcb56d5bb06bfa340ea7a151ef1ca6fa572b76f3b1b95d8c8583d3e4770536b84f017e70e6fbf176601a0266941a17b0c8b97f4e74c2c1ffc7278919777940c1e1ff1d8da637d6b99ddafe5e17611002e2c778c1be8b41d96379a51360d977fd4435a11c30942e4bffffffffffffffff\n",
      "g = 0x2\n"
     ]
    }
   ],
   "source": [
    "import sympy # calculate prime p using sympy \n",
    "eulers_number = sympy.exp(1)\n",
    "p = 2**2048 - 2**1984 + (sympy.floor(2**1918 * eulers_number) + 560316 ) * 2**64 - 1\n",
    "q = (p-1)/2\n",
    "g = 2\n",
    "print(f\"p = {hex(p)}\")\n",
    "print(f\"q = {hex(q)}\")\n",
    "print(f\"g = {hex(g)}\")"
   ]
  },
  {
   "cell_type": "code",
   "execution_count": 34,
   "id": "d9a44e16-aeb6-4355-b8b9-29431c0ec2ff",
   "metadata": {
    "editable": true,
    "slideshow": {
     "slide_type": ""
    },
    "tags": []
   },
   "outputs": [
    {
     "name": "stdout",
     "output_type": "stream",
     "text": [
      "p = 0xffffffffffffffffadf85458a2bb4a9aafdc5620273d3cf1d8b9c583ce2d3695a9e13641146433fbcc939dce249b3ef97d2fe363630c75d8f681b202aec4617ad3df1ed5d5fd65612433f51f5f066ed0856365553ded1af3b557135e7f57c935984f0c70e0e68b77e2a689daf3efe8721df158a136ade73530acca4f483a797abc0ab182b324fb61d108a94bb2c8e3fbb96adab760d7f4681d4f42a3de394df4ae56ede76372bb190b07a7c8ee0a6d709e02fce1cdf7e2ecc03404cd28342f619172fe9ce98583ff8e4f1232eef28183c3fe3b1b4c6fad733bb5fcbc2ec22005c58ef1837d1683b2c6f34a26c1b2effa886b423861285c97ffffffffffffffff\n",
      "q = 0x7fffffffffffffffd6fc2a2c515da54d57ee2b10139e9e78ec5ce2c1e7169b4ad4f09b208a3219fde649cee7124d9f7cbe97f1b1b1863aec7b40d901576230bd69ef8f6aeafeb2b09219fa8faf83376842b1b2aa9ef68d79daab89af3fabe49acc278638707345bbf15344ed79f7f4390ef8ac509b56f39a98566527a41d3cbd5e0558c159927db0e88454a5d96471fddcb56d5bb06bfa340ea7a151ef1ca6fa572b76f3b1b95d8c8583d3e4770536b84f017e70e6fbf176601a0266941a17b0c8b97f4e74c2c1ffc7278919777940c1e1ff1d8da637d6b99ddafe5e17611002e2c778c1be8b41d96379a51360d977fd4435a11c30942e4bffffffffffffffff\n",
      "g = 0x2\n"
     ]
    }
   ],
   "source": [
    "# calculate prime using sage math\n",
    "# sage has a built in floor function and eulers number e \n",
    "p = 2^2048 - 2^1984 + (floor(2^1918 * e) + 560316 ) * 2^64 - 1\n",
    "q = (p-1)/2\n",
    "g = 2\n",
    "print(f\"p = {hex(p)}\")\n",
    "print(f\"q = {hex(q)}\")\n",
    "print(f\"g = {hex(g)}\")"
   ]
  },
  {
   "cell_type": "code",
   "execution_count": 38,
   "id": "f037a74c-5af4-4df1-b45a-247b819008ce",
   "metadata": {
    "editable": true,
    "slideshow": {
     "slide_type": "subslide"
    },
    "tags": []
   },
   "outputs": [
    {
     "name": "stdout",
     "output_type": "stream",
     "text": [
      "CPU times: user 32.9 s, sys: 136 ms, total: 33.1 s\n",
      "Wall time: 32.7 s\n"
     ]
    }
   ],
   "source": [
    "%time assert p in Primes() and q in Primes()"
   ]
  },
  {
   "cell_type": "markdown",
   "id": "f00b6149-ef02-4c5d-845c-da7d1ab4b995",
   "metadata": {
    "editable": true,
    "slideshow": {
     "slide_type": "slide"
    },
    "tags": []
   },
   "source": [
    "### FFDH Toy Example with NIST/RFC values"
   ]
  },
  {
   "cell_type": "code",
   "execution_count": 35,
   "id": "975dfcff-a03a-4285-8988-bed29efd2cda",
   "metadata": {
    "editable": true,
    "slideshow": {
     "slide_type": ""
    },
    "tags": []
   },
   "outputs": [
    {
     "name": "stdout",
     "output_type": "stream",
     "text": [
      "Alice computes  A = g^a (mod p) = 0xda6aa04f81fb50e026130a11a123ac744bfef134d9bea293118257fa47de9a570762a1a188b9dce7189b19900b9c8930a88cc5b1c773ccffd798de1b53a79f1712aba718d0cc5da5710f6ac87669265798b6b1f5d58a2d48adf045e86e6bd07ff52364f25b53df5a6ba1936c05406b9ab11d7e96a5a86b4bb1bedfda38ed14b3f3a3a74dddbc499185831aea60e157588668ee293cdb56ae9db53a231c259903285e05c990f4976aea177c089d72d0cc46980a2562ae74134e7ddb3ef49117b357a740d1ae11a92fa7fd6c3f72df757b5e4621483d9ee65ebc19b4029330a90343af995ca49f6cdd7b424885e8c7c48b2c3c1a6161e135214af6bf8a188206c4\n",
      "Bob   computes  B = g^b (mod p) = 0xf635181d2f9f5aef365776374d33d0bdc167a69b4b41853b0123e4f33d4b3a44ee114a132f2fc02e289c2e41e46f419d2bfcaa860e1c3bc38db3dec7163dc84cd0bf54af373a262dd40d2d1411e0068d1b26e7b787fcb5d27f8dbda3c4c20c23a673c4e930fa7dc366d017c63bbb131d6ed33c2102696b3fddb0ad98aaccf7e9ed9a7ff16efec702e476320dc4b52f20b6d11d9582e0029d4a4d04d408db186fbf31edb64a0421bf34f3e4314e29797feb48a7812b9bc18007ad299f257962552703908e721a9211440b0d1124e382e78422fa8f8d25bc27a5d3b73535a2e1610c6b6e242044706b10c7390db27a7ba0cc39bdb16d9990f88518e908c0b99d90\n",
      "Alice computes AB = B^a (mod p) = 0xaabff6fbaab060c56d3a3eff218a4dad842ae7954ad00e90bdd937fcdaa170f5d4c0a8f7670190c9b91f4a91adf3d50a1dc4350166d10acde2128f73a3a36aa6986ab7a05331f298acef9b7a6f1af4da4f070242b80a188a6f5e876b8dbec36fe4e4e8486a8cbf7ad4c407415b7ee1c3472466d67f6c0c8f997ba5724a5ca0873984c8c2a04afb8e6596a70456ab46d7a5838b5f8f77361cc79fa6a962b2c387ff551297e2f47ea46f30277abe6ced2a51f99678d2f2bf5447892f333a0d9a34aad37999e9c0a7fb9ea9ac5b34e08bd78304d01e1a0d84d6db1ba7eff88a735c1849c1f147e00747a538560ecec4bf48d4555e5180c2c299d2bfd7b6c7635baf\n",
      "Bob   computes AB = A^b (mod p) = 0xaabff6fbaab060c56d3a3eff218a4dad842ae7954ad00e90bdd937fcdaa170f5d4c0a8f7670190c9b91f4a91adf3d50a1dc4350166d10acde2128f73a3a36aa6986ab7a05331f298acef9b7a6f1af4da4f070242b80a188a6f5e876b8dbec36fe4e4e8486a8cbf7ad4c407415b7ee1c3472466d67f6c0c8f997ba5724a5ca0873984c8c2a04afb8e6596a70456ab46d7a5838b5f8f77361cc79fa6a962b2c387ff551297e2f47ea46f30277abe6ced2a51f99678d2f2bf5447892f333a0d9a34aad37999e9c0a7fb9ea9ac5b34e08bd78304d01e1a0d84d6db1ba7eff88a735c1849c1f147e00747a538560ecec4bf48d4555e5180c2c299d2bfd7b6c7635baf\n"
     ]
    }
   ],
   "source": [
    "a = gen_rand_int(lower_bound=1,upper_bound=q)\n",
    "b = gen_rand_int(lower_bound=1,upper_bound=q)\n",
    "A = FFDH(p,g,x=a)\n",
    "B = FFDH(p,g,x=b)\n",
    "AB_alice = FFDH(p,B,x=a)\n",
    "AB_bob = FFDH(p,A,x=b)\n",
    "print(f\"Alice computes  A = g^a (mod p) = {hex(A)}\")\n",
    "print(f\"Bob   computes  B = g^b (mod p) = {hex(B)}\")\n",
    "print(f\"Alice computes AB = B^a (mod p) = {hex(AB_alice)}\")\n",
    "print(f\"Bob   computes AB = A^b (mod p) = {hex(AB_bob)}\")\n",
    "assert AB_alice == AB_bob"
   ]
  },
  {
   "cell_type": "markdown",
   "id": "4a0efe19-5d91-4629-afb7-4815397cede6",
   "metadata": {
    "editable": true,
    "slideshow": {
     "slide_type": ""
    },
    "tags": []
   },
   "source": [
    "### Practical considerations\n",
    "* Use a key derviation function (KDF) to get from a uniform (sub-)group element to a uniform bit string usable in other schemes\n",
    "* Use standardized group parameters to prevent small sub-group attacks\n",
    "    + Validate each others public key $ 1 < A,B < p-1 $ to prevent forcing small sub-groups\n",
    "* Use constant-time modular-exponentiation implementations to prevent timing side-channel attacks\n",
    "    + especailly in so-called \"semi-static\" configuraitons where secret keys are reused across multiple runs/machines "
   ]
  },
  {
   "cell_type": "markdown",
   "id": "7aa93331-0008-4a97-9f52-d989da5126c7",
   "metadata": {
    "editable": true,
    "slideshow": {
     "slide_type": ""
    },
    "tags": []
   },
   "source": [
    "# EOF"
   ]
  },
  {
   "cell_type": "code",
   "execution_count": null,
   "id": "f71091b2-5954-4eaf-8d8d-3728100367d7",
   "metadata": {
    "editable": true,
    "slideshow": {
     "slide_type": ""
    },
    "tags": []
   },
   "outputs": [],
   "source": []
  }
 ],
 "metadata": {
  "kernelspec": {
   "display_name": "SageMath 9.5",
   "language": "sage",
   "name": "sagemath"
  },
  "language_info": {
   "codemirror_mode": {
    "name": "ipython",
    "version": 3
   },
   "file_extension": ".py",
   "mimetype": "text/x-python",
   "name": "python",
   "nbconvert_exporter": "python",
   "pygments_lexer": "ipython3",
   "version": "3.10.12"
  }
 },
 "nbformat": 4,
 "nbformat_minor": 5
}
