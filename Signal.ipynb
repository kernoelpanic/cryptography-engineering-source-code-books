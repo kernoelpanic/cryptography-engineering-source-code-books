{
 "cells": [
  {
   "cell_type": "markdown",
   "id": "390c6317-7542-46ab-a949-2b5cb8db3c28",
   "metadata": {
    "editable": true,
    "slideshow": {
     "slide_type": ""
    },
    "tags": []
   },
   "source": [
    "# Signal\n",
    "_____\n",
    "**An informal introduction to the Signal protocol**"
   ]
  },
  {
   "cell_type": "markdown",
   "id": "b83e4611-b644-4d1d-89b9-7b781705f44b",
   "metadata": {
    "editable": true,
    "slideshow": {
     "slide_type": "subslide"
    },
    "tags": []
   },
   "source": [
    "**References:**\n",
    "* [[X3DH](https://signal.org/docs/specifications/x3dh/)] The X3DH Key Agreement Protocol, Marlinspike and Perrin, 2016.\n",
    "* [[Double Ratchet](https://signal.org/docs/specifications/doubleratchet/)] The Double Ratchet Algorithm, Perrin and Marlinspike, 2016.\n",
    "* [[Sesam](https://signal.org/docs/specifications/sesame/)] The Sesame Algorithm: Session Management for Asynchronous Message Encryption, Marlinspike and Perrin. 2017.\n",
    "* [[PQXDH](https://signal.org/docs/specifications/pqxdh/) The PQXDH Key Agreement Protocol, Kret and Schmidt, 2023\n",
    "* [[WhatsApp](https://faq.whatsapp.com/820124435853543)] WhatsApp Encryption Overview: Technical white paper, 2023.\n",
    "* [[CDGS](https://eprint.iacr.org/2016/1013)] A Formal Security Analysis of the Signal Messaging Protocol, Cohn-Gordon et al. 2020\n",
    "* [[CCG](https://eprint.iacr.org/2016/221)] On Post-compromise Security, Cohn-Gorden et al. 2016\n",
    "* [[CPZ](https://eprint.iacr.org/2019/1416.pdf)] The Signal Private Group System and Anonymous Credentials Supporting Efficient Verifiable Encryption, Chase et al. 2020\n",
    "* [[VGIK](https://eprint.iacr.org/2021/642)] On the Cryptographic Deniability of the Signal Protocol, Vantandas et al. 2021\n",
    "* [[BFGJS](https://eprint.iacr.org/2021/769)] Post-quantum Asynchronous Deniable Key Exchange and the Signal Handshake, Brendel et al. 2022\n"
   ]
  },
  {
   "cell_type": "markdown",
   "id": "8e350fbf-29bf-4459-88c5-187e9cd01b31",
   "metadata": {
    "editable": true,
    "slideshow": {
     "slide_type": "slide"
    },
    "tags": []
   },
   "source": [
    "## Signal Protocol\n",
    "* Origins date back to [TextSecure](https://en.wikipedia.org/wiki/TextSecure) App started in 2010\n",
    "    + TextSecure used a *double ratchet* construction referred to as *Axolotl Ratchet* to highlight ''self-healing properties''\n",
    "<p style=\"text-align:center;font-size:10px\">\n",
    "<video height=\"150\" autoplay muted loop src=\"./vid/axolotl.mp4\"></video>\n",
    "</p>\n",
    "* Later TextSecure was merged with RedPhone into Signal in 2015\n",
    "    + maintained by a non-profit organization called Open Whisper Systems\n",
    "* 2018 Open Whisper Systems was transformed into [Signal Foundation](https://signalfoundation.org/)\n",
    "    + recent podcast with CEO Meredith Whittaker [LNP504](https://logbuch-netzpolitik.de/lnp504-the-politics-of-intellectual-shame)"
   ]
  },
  {
   "cell_type": "markdown",
   "id": "4ac69040-31fd-4437-8a0e-f1b7fd88ed90",
   "metadata": {
    "editable": true,
    "slideshow": {
     "slide_type": "slide"
    },
    "tags": []
   },
   "source": [
    "## Signal Protocol Usage\n",
    "* [Integrated](https://signal.org/blog/whatsapp-complete/) into [WhatsApp](https://faq.whatsapp.com/820124435853543) since 2016\n",
    "* Also used by *Wire, Facebook Messenger, Silent Circle, Pond, XMPP via OMEMO, ChatSecure, ...*\n",
    "\n",
    "| Messanger           | Installations | Estimated Users |\n",
    "|---------------------|---------------|-----------------|\n",
    "|  WhatsApp           | 9.64 Billion  | 2 Billion [[ref](https://www.whatsapp.com/about/).] |\n",
    "| Facebook Messenger  | 5.89 Billion  | ? |\n",
    "| ...                 |               |   | \n",
    "| Signal              | 136  Million  | ? | \n"
   ]
  },
  {
   "cell_type": "markdown",
   "id": "f14b853d-84d3-4584-bab1-16f6486b6419",
   "metadata": {
    "editable": true,
    "slideshow": {
     "slide_type": "slide"
    },
    "tags": []
   },
   "source": [
    "## Signal Protocol Design Goals\n",
    "Aims to provide end-to-end encrypted (E2EE) conversations for asynchronous (mobile) messaging, as well as a series of other (informally stated) security properties, such as the following three:"
   ]
  },
  {
   "cell_type": "markdown",
   "id": "f1facaea-9b82-45ed-896f-768a1e0cbb5e",
   "metadata": {
    "editable": true,
    "slideshow": {
     "slide_type": "fragment"
    },
    "tags": []
   },
   "source": [
    "1. **Perfect Forward Secrecy (PFS)**: After a session has been established, this property ensures that an attacker that compromises one device (and thus has access to the *long- and medium-term* secrets) is not able to learn anything about the keys derived in previous sessions. In other words, the attacker is not able to decrypt previously sent messages he might have recorded in transit."
   ]
  },
  {
   "cell_type": "markdown",
   "id": "1140f4fb-7edf-49fb-b737-27144e23f5c3",
   "metadata": {
    "editable": true,
    "slideshow": {
     "slide_type": "skip"
    },
    "tags": []
   },
   "source": [
    "+ This property is achieved by the use of Diffi-Hellman (DH) key agreement at various places in the protocol. "
   ]
  },
  {
   "cell_type": "markdown",
   "id": "3248651c-2449-4e60-ac29-8f45add4bf11",
   "metadata": {
    "editable": true,
    "slideshow": {
     "slide_type": "fragment"
    },
    "tags": []
   },
   "source": [
    "2. **Post Compromise Security (PCS)**: This property is also referred to as *healing* or *future secrecy* and was first formally described in [[CCG](https://eprint.iacr.org/2016/221)]. It refers to the property that even if an attacker is able to compromise one device during a conversation for a limited amount of time, not content of future conversations might still regain some protection. "
   ]
  },
  {
   "cell_type": "markdown",
   "id": "9218deb2-e920-4bd1-8364-1c1792bbefa8",
   "metadata": {
    "editable": true,
    "slideshow": {
     "slide_type": "skip"
    },
    "tags": []
   },
   "source": [
    "+ Additional entropy is introduced by the ephemeral DH keys received with every message from the other peer, to provide some form of self-healing property. This requires the attacker to sustain his access to continue to be able to read messages in this session. "
   ]
  },
  {
   "cell_type": "markdown",
   "id": "9300d3c8-44b3-470b-a319-957e5ca95651",
   "metadata": {
    "editable": true,
    "slideshow": {
     "slide_type": "subslide"
    },
    "tags": []
   },
   "source": [
    "3. **(Offline) Deniability**: Refers to the ability that a party can deny having participated in a particular communication session in retrospect. Assuming a communication session between Alice and Bob. Given a transcript of the communication it should not be possible for Bob to convince a third party that Alice has participated knowingly in the session."
   ]
  },
  {
   "cell_type": "markdown",
   "id": "88a85e62-b38f-443a-9204-9b2794631fe9",
   "metadata": {
    "editable": true,
    "slideshow": {
     "slide_type": "skip"
    },
    "tags": []
   },
   "source": [
    "+ Signal achieves offline deniability due to the fact that it is implicitly authenticated and uses authenticated encryption instead of signatures [[VGIK](https://eprint.iacr.org/2021/642)]."
   ]
  },
  {
   "cell_type": "markdown",
   "id": "899d50b6-9ca9-4818-9733-83bcccf7408f",
   "metadata": {
    "editable": true,
    "slideshow": {
     "slide_type": "slide"
    },
    "tags": []
   },
   "source": [
    "## Signal Protocol Overview"
   ]
  },
  {
   "cell_type": "markdown",
   "id": "24c1a33f-ad51-42f0-9a16-b82c8d800811",
   "metadata": {
    "editable": true,
    "slideshow": {
     "slide_type": ""
    },
    "tags": []
   },
   "source": [
    "The Signal Protocol can be further devided into the following parts:\n",
    "* [X3DH](https://signal.org/docs/specifications/x3dh/) (extended triple Diffie-Hellman) key agreement\n",
    "    + since late 2023 replaced by [PQXDH](https://signal.org/docs/specifications/pqxdh/), which is coceptually close but adds an additional post-quantum secure key encapsulation mechanism (KEM) into the key derivation function (KDF) \n",
    "* [Double ratchet](https://signal.org/docs/specifications/doubleratchet/) algorithm\n",
    "* [Sesam](https://signal.org/docs/specifications/sesame/) session management for multi-device support, e.g., phone and desktop\n",
    "* Group chats and [private groups](https://signal.org/blog/signal-private-group-system/) where the server has no record of group membership\n",
    "* The underlying library [libsignal](https://github.com/signalapp/libsignal) is written in rust and can be found on github"
   ]
  },
  {
   "cell_type": "markdown",
   "id": "ca7da368-9e62-449b-ae71-4b13837e5451",
   "metadata": {
    "editable": true,
    "slideshow": {
     "slide_type": "subslide"
    },
    "tags": []
   },
   "source": [
    "### Signal Protocol Overview"
   ]
  },
  {
   "cell_type": "markdown",
   "id": "f49f9904-39eb-43cf-9ce0-f31286f038e3",
   "metadata": {
    "editable": true,
    "slideshow": {
     "slide_type": ""
    },
    "tags": []
   },
   "source": [
    "It uses the following cryptographic primitives:\n",
    "* *unkeyed primitives:*\n",
    "    + SHA256 hashfunction\n",
    "* *symmetric primitives:*\n",
    "    + HMAC-SHA256\n",
    "    + HKDF with SHA256\n",
    "    + Authenticated encryption with associated data (AEAD) using AES256 in CBC mode with PKCS#5 padding and HMAC-SHA256 as MAC\n",
    "* *asymmetric primitives:*\n",
    "    + DH over curve X25519, or curve X448\n",
    "    + Ed25519 as signature scheme\n",
    "    + ML-KEM from [FIPS-203](https://csrc.nist.gov/pubs/fips/203/final) (variant of CRYSTALS-Kyber PQ-KEM) \n",
    "    + Keyed-Verification Anonymous Credential [(KVAC)](https://eprint.iacr.org/2019/1416.pdf)"
   ]
  },
  {
   "cell_type": "markdown",
   "id": "0814325c-1d79-4f42-ac29-b1421501d8b9",
   "metadata": {
    "editable": true,
    "slideshow": {
     "slide_type": "skip"
    },
    "tags": []
   },
   "source": [
    "The Signal protocol, as also conceptually [adopted](https://signal.org/blog/whatsapp-complete/) by [WhatsApp](https://faq.whatsapp.com/820124435853543), itself is based on [X3DH](https://signal.org/docs/specifications/x3dh/) (extended triple Diffie-Hellman) key agreement and the [double ratchet](https://signal.org/docs/specifications/doubleratchet/) algorithm. For an in-depth overview of the Signal protocol and some of the desired security properties we refer to [[CCG](https://eprint.iacr.org/2016/221),[VGIK](https://eprint.iacr.org/2021/642),[BFGJS](https://eprint.iacr.org/2021/769)]"
   ]
  },
  {
   "cell_type": "markdown",
   "id": "37f9b056-1730-47ea-8804-0b29b4ab17ef",
   "metadata": {
    "editable": true,
    "slideshow": {
     "slide_type": "slide"
    },
    "tags": []
   },
   "source": [
    "## [X3DH](https://signal.org/docs/specifications/x3dh/) and the [Double ratchet](https://signal.org/docs/specifications/doubleratchet/)"
   ]
  },
  {
   "cell_type": "markdown",
   "id": "3d55689d-352e-436d-9df9-90b76b170c35",
   "metadata": {
    "editable": true,
    "slideshow": {
     "slide_type": ""
    },
    "tags": []
   },
   "source": [
    "<p style=\"text-align:center;font-size:10px\">\n",
    "<a href=\"https://math.preview.excalidraw.com/#json=g-0eNcKufOdQuu3is_ytb,NcQ1dkk8LmUp1rYeRrmkkg\">(excalidraw)</a>\n",
    "<a href=\"./figures/signal-2024-12-17-1108.svg\">(image)</a>\n",
    "</p>\n",
    "<p style=\"text-align:center\">\n",
    "<img src=\"./figures/signal-2024-12-17-1108.png\" alt=\"number systems\">\n",
    "</p>\n",
    "\n"
   ]
  },
  {
   "cell_type": "markdown",
   "id": "2697069c-dafe-4b30-ac53-b6223734dca1",
   "metadata": {
    "editable": true,
    "slideshow": {
     "slide_type": "skip"
    },
    "tags": []
   },
   "source": [
    "Since late 2023 Signal replaced X3DH by [PQXDH](https://signal.org/docs/specifications/pqxdh/) and started a process to use PQXDH for new sessions if supported by both peers. On a high level, PQ3DH is comparable to X3DH with the difference that an additional key from a [CRYSTALS-Kyber](https://pq-crystals.org/kyber/) key encapsulation mechanism (KEM) is feed into the key derivation function (KDF) creating the internally used *root*, *chain* and *message* keys. As a consequence, an attacker that recorded the initial handshake and later gets access to a cryptographically relevant quantum computer has to break not only X25519 but also CRYSTALS-Kyber, which is conjectured to be secure also against a quantum computer. This threat is sometimes also referred to as harvest now, decrypt later (HNDL).\n",
    "For more information see the NIST post-quantum cryptography project, where a variant of CRYSTALS-Kyber is one of the selected finalists and referred to as ML-KEM in [FIPS-203](https://csrc.nist.gov/pubs/fips/203/final). "
   ]
  },
  {
   "cell_type": "markdown",
   "id": "118a6f8c-f8e7-46a1-8e66-199072640391",
   "metadata": {
    "editable": true,
    "slideshow": {
     "slide_type": "slide"
    },
    "tags": []
   },
   "source": [
    "## [Sesam](https://signal.org/docs/specifications/sesame/) for Multi Device Support"
   ]
  },
  {
   "cell_type": "markdown",
   "id": "f312fa5a-da9a-42e3-94f3-45f3c42b0735",
   "metadata": {
    "editable": true,
    "slideshow": {
     "slide_type": ""
    },
    "tags": []
   },
   "source": [
    "Modern messengers thrive to support the usage of multiple devices by the same user, e.g., a mobile app and a desktop client. "
   ]
  },
  {
   "cell_type": "markdown",
   "id": "0ee44333-1000-4003-9a2a-6924a8848a92",
   "metadata": {
    "editable": true,
    "slideshow": {
     "slide_type": "skip"
    },
    "tags": []
   },
   "source": [
    "There are two basic approaches for supporting multi device E2EE, which have been termed the *leader based* approach and *client fan-out* (also sometimes referred to as *multiplication based approach*) [[GGMJHFU](https://arxiv.org/pdf/2411.11194v2)]:"
   ]
  },
  {
   "cell_type": "markdown",
   "id": "5690c590-e8ee-4fd8-bc65-212379af1a00",
   "metadata": {
    "editable": true,
    "slideshow": {
     "slide_type": "fragment"
    },
    "tags": []
   },
   "source": [
    "1. **leader based:**\n",
    "    The *primary device* -- typically a smart phone -- acts as a leader and serves as the EE2E endpoint pretending\n",
    "    that there is only a single device per user. \n",
    "    The leader device then distributes the messages, also in an encrypted way, to the other devices of the user, \n",
    "    also referred to as *companion devices* [[B](https://www.usenix.org/conference/woot24/presentation/beery)]. "
   ]
  },
  {
   "cell_type": "markdown",
   "id": "299e6265-23a8-481e-a3c6-56a1ffdb5cbc",
   "metadata": {
    "editable": true,
    "slideshow": {
     "slide_type": "skip"
    },
    "tags": []
   },
   "source": [
    "* The drawback is that the leader device represents a single point of failure. If it is offline, no communication with any of the associated devices is possible. WhatsApp followed this approach until mid 2021. "
   ]
  },
  {
   "cell_type": "markdown",
   "id": "64171279-4670-46d9-8605-e5b3c6cc32d3",
   "metadata": {
    "editable": true,
    "slideshow": {
     "slide_type": "subslide"
    },
    "tags": []
   },
   "source": [
    "2. **client fan-out:**\n",
    "    All devices of the user maintain their own key pair. \n",
    "    For messaging, the sender creates an individual E2EE channel with *each* device of the receiver as if messaging multiple recipients [[Sesam](https://signal.org/docs/specifications/sesame/)]. \n",
    "  \n",
    "<p style=\"text-align:center\">\n",
    "<img src=\"./figures/multidevice.png\" alt=\"number systems\" width=\"350\">\n",
    "</p>\n",
    "<p style=\"text-align:center;font-size:10px\">\n",
    "<a href=\"https://arxiv.org/pdf/2411.11194v2\">(image source)</a>\n",
    "</p>"
   ]
  },
  {
   "cell_type": "markdown",
   "id": "d3589779-d7c0-42b2-8cc6-2efb62ca40a1",
   "metadata": {
    "editable": true,
    "slideshow": {
     "slide_type": "skip"
    },
    "tags": []
   },
   "source": [
    "  For remaining consistency among all devices of the sender,\n",
    "    the sending device forwards the message (and other information) to the other devices via encrypted channels as described in the Sesame protocol [[Sesam](https://signal.org/docs/specifications/sesame/)].\n",
    "    This approach avoids the single point of failure inherent in leader-based method. \n",
    "    However, assigning multiple keys to an account reveals the number of devices a user has as other accounts retrieve these keys from a central inventory. \n",
    "    Since each device has its own unique key, the recipient can also infer which of the sender’s devices originated the message [[B](https://www.usenix.org/conference/woot24/presentation/beery)]."
   ]
  },
  {
   "cell_type": "markdown",
   "id": "a26c34b5-2bb1-44fa-92be-387724f4ba30",
   "metadata": {
    "editable": true,
    "slideshow": {
     "slide_type": "slide"
    },
    "tags": []
   },
   "source": [
    "## Current Preprint Paper"
   ]
  },
  {
   "cell_type": "markdown",
   "id": "c559bc2d-455a-4d0b-af75-ba29ba1eff14",
   "metadata": {
    "editable": true,
    "slideshow": {
     "slide_type": ""
    },
    "tags": []
   },
   "source": [
    "* [Careless Whisper: Exploiting Stealthy End-to-End Leakage in Mobile Instant Messengers](https://arxiv.org/abs/2411.11194)\n",
    "* Use delivery receipts to gather information about clients, or exhaust their resources"
   ]
  }
 ],
 "metadata": {
  "kernelspec": {
   "display_name": "Python 3 (ipykernel)",
   "language": "python",
   "name": "python3"
  },
  "language_info": {
   "codemirror_mode": {
    "name": "ipython",
    "version": 3
   },
   "file_extension": ".py",
   "mimetype": "text/x-python",
   "name": "python",
   "nbconvert_exporter": "python",
   "pygments_lexer": "ipython3",
   "version": "3.10.12"
  }
 },
 "nbformat": 4,
 "nbformat_minor": 5
}
