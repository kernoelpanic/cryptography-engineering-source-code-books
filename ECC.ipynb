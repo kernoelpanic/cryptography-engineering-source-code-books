{
 "cells": [
  {
   "cell_type": "markdown",
   "id": "88e85233-f554-40ce-8ab3-3173bf367ec3",
   "metadata": {
    "editable": true,
    "slideshow": {
     "slide_type": "slide"
    },
    "tags": []
   },
   "source": [
    "# ECC \n",
    "_______"
   ]
  },
  {
   "cell_type": "markdown",
   "id": "b4730be2-0a1f-405e-b506-0d83dcab96c0",
   "metadata": {
    "editable": true,
    "slideshow": {
     "slide_type": "subslide"
    },
    "tags": []
   },
   "source": [
    "**References:**\n",
    "* [[GECC](https://link.springer.com/book/10.1007/b97644)] Guide to Elliptic Curve Cryptography, Darrel Hankerson, Alfred Menezes, and Scott Vanstone. 2004.\n",
    "* [[SEC1v2](https://www.secg.org/sec1-v2.pdf)] SEC 1: Elliptic Curve Cryptography (Version 2.0), [Standards for Efficient Cryptography Group (SECG)](https://en.wikipedia.org/wiki/SECG) founded by Certicom\n",
    "* [[SEC2v2](http://www.secg.org/sec2-v2.pdf)] SEC 2: Recommended Elliptic Curve Domain Parameters (Version 2.0)\n",
    "* [https://safecurves.cr.yp.to](https://safecurves.cr.yp.to)\n",
    "* [EdDSA Ed25519](https://tools.ietf.org/html/rfc8032)\n",
    "    + https://ed25519.cr.yp.to/   \n",
    "* [DH Curve25519](https://datatracker.ietf.org/doc/rfc7748/)\n",
    "* [Brainpool curves](http://www.ecc-brainpool.org/download/Domain-parameters.pdf) (non-NIST)\n",
    "* NIST curves specified in [FIPS 186-5](https://csrc.nist.gov/pubs/fips/186-5/final) and  [SP 800-186](https://csrc.nist.gov/pubs/sp/800/186/final)\n",
    "* [Hyperelliptic](https://www.hyperelliptic.org/) calculation code snippets and implementation help\n",
    "* [Elliptic Curve Cryptography: a gentle introduction](https://andrea.corbellini.name/2015/05/17/elliptic-curve-cryptography-a-gentle-introduction/)"
   ]
  },
  {
   "cell_type": "markdown",
   "id": "958ff89d-2621-4a52-b01c-2721062c571c",
   "metadata": {
    "editable": true,
    "slideshow": {
     "slide_type": "subslide"
    },
    "tags": []
   },
   "source": [
    "**Further reading:**\n",
    "* [[GCAC](https://toc.cryptobook.us/)] A Graduate Course in Applied Cryptography, Dan Boneh and Victor Shoup\n",
    "* [[CINTA](https://shoup.net/ntb/)] A Computational Introduction to Number Theory and Algebra, Victor Shoup\n",
    "* [[HAC](https://cacr.uwaterloo.ca/hac/)] Handbook of Applied Cryptography, Alfred J. Menezes, Paul C. van Oorschot and Scott A. Vanstone\n",
    "* [[ITMC](https://www.cs.umd.edu/~jkatz/imc.html)] Introduction to Modern Cryptography, Jonathan Katz and Yehuda Lindell (3rd Edition)"
   ]
  },
  {
   "cell_type": "markdown",
   "id": "9c5db3b2-6fc5-4280-a034-882932ba0089",
   "metadata": {
    "editable": true,
    "slideshow": {
     "slide_type": "subslide"
    },
    "tags": []
   },
   "source": [
    "**Dependencies:**\n",
    "\n",
    "This notebook uses [sage math](https://www.sagemath.org/) as kernel"
   ]
  },
  {
   "cell_type": "code",
   "execution_count": 1,
   "id": "34023264-6236-4bf8-87f2-92b705393408",
   "metadata": {
    "editable": true,
    "slideshow": {
     "slide_type": ""
    },
    "tags": []
   },
   "outputs": [
    {
     "name": "stdout",
     "output_type": "stream",
     "text": [
      "\n",
      " SageMath version 9.5, Release Date: 2022-01-30                     \n",
      " Using Python 3.10.12. Type \"help()\" for help.                      \n",
      "\n"
     ]
    }
   ],
   "source": [
    "import sage.misc.banner # sage math version info \n",
    "rchars = \"┘─│┐┌└\"\n",
    "smallbanner = sage.misc.banner.banner_text(full=True)\n",
    "for c in rchars:\n",
    "    smallbanner = smallbanner.replace(c,\"\") # remove ascii art box\n",
    "print(smallbanner)\n",
    "#banner() # full banner with box"
   ]
  },
  {
   "cell_type": "code",
   "execution_count": 2,
   "id": "1ccb1218-29f8-4eb8-94c9-403f05404ca2",
   "metadata": {
    "editable": true,
    "slideshow": {
     "slide_type": "skip"
    },
    "tags": []
   },
   "outputs": [],
   "source": [
    "# Global variables\n",
    "SAVE_FIGURES=False # Do not save newly generated figures when run again"
   ]
  },
  {
   "cell_type": "markdown",
   "id": "f8bf18d5-1a18-4249-84cd-fd373f989255",
   "metadata": {
    "editable": true,
    "slideshow": {
     "slide_type": "slide"
    },
    "tags": []
   },
   "source": [
    "## ECC - Elliptic Curve Cryptography\n",
    "\n",
    "* RSA relies on the hardness of *integer factorization*\n",
    "* Security of Diffie-Hellman relies on hardness of *discrete logarithm problem*\n",
    "* ECC also relies on discrete logarithm problem, but over the algebraic structure of *elliptic curves over finite fields*. This makes the (same) problem harder\n",
    "    + **Elliptic Curve Discrete Logarithm Problem** (ECDLP)\n",
    "\n",
    "Advantage:\n",
    "* This allows for shorter key length for equivalent computational security\n",
    "    + This means faster computation while retaining hardness against attacks\n",
    " \n",
    "Some example algorithms making use of ECC: \n",
    "* Elliptic Curve Diffie-Hellman (ECDH)\n",
    "* Elliptic Curve Digital Signature Algorithm (ECDSA)\n",
    "* Edwars-curve Digital Signature Algorithm (EdDSA)"
   ]
  },
  {
   "cell_type": "markdown",
   "id": "dda0b3dd-49e4-4e16-9511-ec35472b003b",
   "metadata": {
    "editable": true,
    "slideshow": {
     "slide_type": "slide"
    },
    "tags": []
   },
   "source": [
    "## Key sizes\n",
    "\n",
    "* [Cryptographic key length recommendation](https://www.keylength.com/en/compare/)\n",
    "\n",
    "<p style=\"text-align:center\">\n",
    "<img src=\"./figures/keylength.png\" alt=\"key length\" width=\"800\">\n",
    "</p>\n",
    "<p style=\"text-align:center;font-size:10px\">\n",
    "<a href=\"https://upload.wikimedia.org/wikipedia/commons/1/17/Number-systems.svg\">(image source)</a>\n",
    "</p>"
   ]
  },
  {
   "cell_type": "markdown",
   "id": "1262c7d9-a776-4de9-a3c2-b9fb70ad185b",
   "metadata": {
    "editable": true,
    "slideshow": {
     "slide_type": "slide"
    },
    "tags": []
   },
   "source": [
    "## Elliptic curves over finite fields\n",
    "In ECC elliptic curves are defined **over some finite field**, i.e., the $x$ and $y$ coordinates of points on the elliptic curve have to be elements of the underlying finite field, i.e., $x,y \\in \\mathbb{F}$. \n",
    "\n",
    "We denote the underlying finte filed with $\\mathbb{F}$ to indicate that it is a finte field. In most cases finite field is the set of non-negative integers modulo a prime number $p$, i.e., $\\mathbb{Z}_p$ where $ p \\in \\textrm{Primes}$. We denote this finite field with $\\mathbb{F}_p$.   "
   ]
  },
  {
   "attachments": {},
   "cell_type": "markdown",
   "id": "4e9471f5-209f-466f-b51c-a9bde9fccc8e",
   "metadata": {
    "editable": true,
    "slideshow": {
     "slide_type": "slide"
    },
    "tags": []
   },
   "source": [
    "## Elliptic curves representations\n",
    "In ECC there are several different ways to express elliptic curves such as **Weierstrass**, **Montgomery**, and **(twisted) Edwards** representations. Different representations are used for reasons of *efficiency* and/or implementation-level *security*, such as, better resistence to side-channel attacks. "
   ]
  },
  {
   "cell_type": "markdown",
   "id": "b17df5bf-f14b-4e93-b18c-20b4bc7ff441",
   "metadata": {
    "editable": true,
    "slideshow": {
     "slide_type": "skip"
    },
    "tags": []
   },
   "source": [
    "The Montgomery ladder, which is only applicable to Edwards and Montgomery curves, is faster compared to standard weierstrass point multiplication methods. Moreover, the montgomery ladder is constant-time, while standard Weierstrass point multiplication methods are not. This enhances the resistance against timing side-channel attacks. \n",
    "\n",
    "Brier-Joye ladder allows for constant-time point multiplication on Weierstrass curves, but it is slower than the standard point multiplication method."
   ]
  },
  {
   "cell_type": "markdown",
   "id": "46f71c09-185a-4ca6-86af-ded14d610688",
   "metadata": {
    "editable": true,
    "slideshow": {
     "slide_type": "slide"
    },
    "tags": []
   },
   "source": [
    "## Weierstrass represetation\n",
    "An elliptic curve $E$ in (long) Weierstrass form is defined by the parameters $a_1,a_2,a_3,a_4,a_5 \\in \\mathbb{F}_p$ [[GECC](https://link.springer.com/book/10.1007/b97644)]:\n",
    "$$\n",
    "  y^2 + a_1xy + a_3y = x^3 + a_2x^2 + a_4x + a_6\n",
    "$$\n",
    "\n",
    "Together with a special *point at infinity* $\\mathcal{O}=\\infty$. The set of points on $E$ over finite field $\\mathbb{F}_p$ is thus defined as:\n",
    "$$\n",
    "  E(\\mathbb{F}_p) = \\{(x,y) \\in \\mathbb{F}_p, y^2 + a_1xy + a_3y - x^3 - a_2x^2 - a_4x - a_6=0\\} \\cup \\{ \\mathcal{O} \\}\n",
    "$$\n",
    "\n",
    "Every elliptic curve, with a characteristic ($p$) of the underlying finite field not equal to $ 2 $ or $ 3 $, can be transformed into Weierstrass form [[ITMC](https://www.cs.umd.edu/~jkatz/imc.html)]."
   ]
  },
  {
   "cell_type": "markdown",
   "id": "f29c4b76-3458-4111-b12d-a828beb478f5",
   "metadata": {
    "editable": true,
    "slideshow": {
     "slide_type": "slide"
    },
    "tags": []
   },
   "source": [
    "### Simplified (short) Weierstrass representation\n",
    "The simplified, or short, Weierstrass form is a simplified representation of the long Weierstrass form which is commonly used instead of the long version as they can be transformed into each other [[GECC](https://link.springer.com/book/10.1007/b97644)].  \n",
    "\n",
    "The simplified Weierstrass representation is defined by the parameters $a,b \\in \\mathbb{F}_p$: \n",
    "$$\n",
    "    y^2 = x^3 + ax + b \n",
    "$$\n",
    "Moreover, $a,b \\in \\mathbb{F}_p$ must satisfy $4a^3 + 27b^2 \\not \\equiv 0 \\pmod p$.\n",
    "This should ensure that the equation $ x^3 + ax + b = 0 $ has no repeated roots (\"zeros\")[[ITMC](https://www.cs.umd.edu/~jkatz/imc.html)][[SEC1v2](https://www.secg.org/sec1-v2.pdf)]."
   ]
  },
  {
   "cell_type": "markdown",
   "id": "0fc5d621-1af0-4574-ac84-70b14eef83ea",
   "metadata": {
    "editable": true,
    "slideshow": {
     "slide_type": "slide"
    },
    "tags": []
   },
   "source": [
    "## Elliptic curves over $\\mathbb{F}_p$\n",
    "\n",
    "Summing up, in ECC we define elliptic curves $E(\\mathbb{F}_p)$ over $\\mathbb{F}_p$ in simplified Weierstrass form as follows:\n",
    "\n",
    "* Let $ \\mathbb{F}_p $ be a prime finite field where $ p \\in \\textrm{Primes} $\n",
    "* The parameters $a,b \\in \\mathbb{F}_p $\n",
    "* Let $a,b \\in \\mathbb{F}_p$ satisfy $4a^3 + 27b^2 \\not \\equiv 0 \\pmod p$\n",
    "* The elliptic curve is set of solutions, i.e., points $ P=(x,y)$ on the curve, for all pairs $x,y \\in \\mathbb{F}_p$ to the defining equation:\n",
    "$$\n",
    "\\begin{align*}\n",
    "E(\\mathbb{F}_p): y^2 \\equiv x^3 + ax + b \\pmod p \\\\\n",
    "\\end{align*}\n",
    "$$\n",
    "* Plus the point at infinity $\\infty$ or $\\mathcal{O} \\in E(\\mathbb{F}_p)$, s.t., $P + \\mathcal{O} = \\mathcal{O} + P = P $\n",
    "\n"
   ]
  },
  {
   "cell_type": "code",
   "execution_count": 3,
   "id": "36892397-efe8-40fb-97b8-c2d6b36ec34f",
   "metadata": {
    "editable": true,
    "slideshow": {
     "slide_type": ""
    },
    "tags": []
   },
   "outputs": [],
   "source": [
    "p=103; assert p in Primes(); FF=FiniteField(p); # define finite field "
   ]
  },
  {
   "cell_type": "code",
   "execution_count": 4,
   "id": "8258c39c-a531-417b-8983-393f042e55b3",
   "metadata": {
    "editable": true,
    "jupyter": {
     "source_hidden": true
    },
    "scrolled": true,
    "slideshow": {
     "slide_type": "skip"
    },
    "tags": []
   },
   "outputs": [
    {
     "data": {
      "text/plain": [
       "\u001b[0;31mType:\u001b[0m           EllipticCurveFactory\n",
       "\u001b[0;31mString form:\u001b[0m    <sage.schemes.elliptic_curves.constructor.EllipticCurveFactory object at 0x7fce23908a40>\n",
       "\u001b[0;31mFile:\u001b[0m           /usr/lib/python3/dist-packages/sage/schemes/elliptic_curves/constructor.py\n",
       "\u001b[0;31mDocstring:\u001b[0m     \n",
       "   Construct an elliptic curve.\n",
       "\n",
       "   In Sage, an elliptic curve is always specified by (the coefficients\n",
       "   of) a long Weierstrass equation\n",
       "\n",
       "      y^2 + a_1 xy + a_3 y = x^3 + a_2 x^2 + a_4 x + a_6.\n",
       "\n",
       "   INPUT:\n",
       "\n",
       "   There are several ways to construct an elliptic curve:\n",
       "\n",
       "   * \"EllipticCurve([a1,a2,a3,a4,a6])\": Elliptic curve with given\n",
       "     a-invariants. The invariants are coerced into a common parent. If\n",
       "     all are integers, they are coerced into the rational numbers.\n",
       "\n",
       "   * \"EllipticCurve([a4,a6])\": Same as above, but a_1=a_2=a_3=0.\n",
       "\n",
       "   * \"EllipticCurve(label)\": Returns the elliptic curve over \\QQ from\n",
       "     the Cremona database with the given label. The label is a string,\n",
       "     such as \"\"11a\"\" or \"\"37b2\"\". The letters in the label *must* be\n",
       "     lower case (Cremona's new labeling).\n",
       "\n",
       "   * \"EllipticCurve(R, [a1,a2,a3,a4,a6])\": Create the elliptic curve\n",
       "     over R with given a-invariants. Here R can be an arbitrary\n",
       "     commutative ring, although most functionality is only implemented\n",
       "     over fields.\n",
       "\n",
       "   * \"EllipticCurve(j=j0)\" or \"EllipticCurve_from_j(j0)\": Return an\n",
       "     elliptic curve with j-invariant \"j0\".\n",
       "\n",
       "   * \"EllipticCurve(polynomial)\": Read off the a-invariants from the\n",
       "     polynomial coefficients, see\n",
       "     \"EllipticCurve_from_Weierstrass_polynomial()\".\n",
       "\n",
       "   * \"EllipticCurve(cubic, point)\": The elliptic curve defined by a\n",
       "     plane cubic (homogeneous polynomial in three variables), with a\n",
       "     rational point.\n",
       "\n",
       "   Instead of giving the coefficients as a *list* of length 2 or 5,\n",
       "   one can also give a *tuple*.\n",
       "\n",
       "   EXAMPLES:\n",
       "\n",
       "   We illustrate creating elliptic curves:\n",
       "\n",
       "      sage: EllipticCurve([0,0,1,-1,0])\n",
       "      Elliptic Curve defined by y^2 + y = x^3 - x over Rational Field\n",
       "\n",
       "   We create a curve from a Cremona label:\n",
       "\n",
       "      sage: EllipticCurve('37b2')\n",
       "      Elliptic Curve defined by y^2 + y = x^3 + x^2 - 1873*x - 31833 over Rational Field\n",
       "      sage: EllipticCurve('5077a')\n",
       "      Elliptic Curve defined by y^2 + y = x^3 - 7*x + 6 over Rational Field\n",
       "      sage: EllipticCurve('389a')\n",
       "      Elliptic Curve defined by y^2 + y = x^3 + x^2 - 2*x over Rational Field\n",
       "\n",
       "   Old Cremona labels are allowed:\n",
       "\n",
       "      sage: EllipticCurve('2400FF')\n",
       "      Elliptic Curve defined by y^2 = x^3 + x^2 + 2*x + 8 over Rational Field\n",
       "\n",
       "   Unicode labels are allowed:\n",
       "\n",
       "      sage: EllipticCurve(u'389a')\n",
       "      Elliptic Curve defined by y^2 + y = x^3 + x^2 - 2*x over Rational Field\n",
       "\n",
       "   We create curves over a finite field as follows:\n",
       "\n",
       "      sage: EllipticCurve([GF(5)(0),0,1,-1,0])\n",
       "      Elliptic Curve defined by y^2 + y = x^3 + 4*x over Finite Field of size 5\n",
       "      sage: EllipticCurve(GF(5), [0, 0,1,-1,0])\n",
       "      Elliptic Curve defined by y^2 + y = x^3 + 4*x over Finite Field of size 5\n",
       "\n",
       "   Elliptic curves over \\ZZ/N\\ZZ with N prime are of type \"elliptic\n",
       "   curve over a finite field\":\n",
       "\n",
       "      sage: F = Zmod(101)\n",
       "      sage: EllipticCurve(F, [2, 3])\n",
       "      Elliptic Curve defined by y^2 = x^3 + 2*x + 3 over Ring of integers modulo 101\n",
       "      sage: E = EllipticCurve([F(2), F(3)])\n",
       "      sage: type(E)\n",
       "      <class 'sage.schemes.elliptic_curves.ell_finite_field.EllipticCurve_finite_field_with_category'>\n",
       "      sage: E.category()\n",
       "      Category of schemes over Ring of integers modulo 101\n",
       "\n",
       "   In contrast, elliptic curves over \\ZZ/N\\ZZ with N composite are of\n",
       "   type \"generic elliptic curve\":\n",
       "\n",
       "      sage: F = Zmod(95)\n",
       "      sage: EllipticCurve(F, [2, 3])\n",
       "      Elliptic Curve defined by y^2 = x^3 + 2*x + 3 over Ring of integers modulo 95\n",
       "      sage: E = EllipticCurve([F(2), F(3)])\n",
       "      sage: type(E)\n",
       "      <class 'sage.schemes.elliptic_curves.ell_generic.EllipticCurve_generic_with_category'>\n",
       "      sage: E.category()\n",
       "      Category of schemes over Ring of integers modulo 95\n",
       "\n",
       "   The following is a curve over the complex numbers:\n",
       "\n",
       "      sage: E = EllipticCurve(CC, [0,0,1,-1,0])\n",
       "      sage: E\n",
       "      Elliptic Curve defined by y^2 + 1.00000000000000*y = x^3 + (-1.00000000000000)*x over Complex Field with 53 bits of precision\n",
       "      sage: E.j_invariant()\n",
       "      2988.97297297297\n",
       "\n",
       "   We can also create elliptic curves by giving the Weierstrass\n",
       "   equation:\n",
       "\n",
       "      sage: R2.<x,y> = PolynomialRing(QQ,2)\n",
       "      sage: EllipticCurve(y^2 + y - ( x^3 + x - 9 ))\n",
       "      Elliptic Curve defined by y^2 + y = x^3 + x - 9 over Rational Field\n",
       "\n",
       "      sage: R.<x,y> = GF(5)[]\n",
       "      sage: EllipticCurve(x^3 + x^2 + 2 - y^2 - y*x)\n",
       "      Elliptic Curve defined by y^2 + x*y  = x^3 + x^2 + 2 over Finite Field of size 5\n",
       "\n",
       "   We can also create elliptic curves by giving a smooth plane cubic\n",
       "   with a rational point:\n",
       "\n",
       "      sage: R3.<x,y,z> = PolynomialRing(QQ,3)\n",
       "      sage: F = x^3+y^3+30*z^3\n",
       "      sage: P = [1,-1,0]\n",
       "      sage: EllipticCurve(F,P)\n",
       "      Elliptic Curve defined by y^2 - 270*y = x^3 - 24300 over Rational Field\n",
       "\n",
       "   We can explicitly specify the j-invariant:\n",
       "\n",
       "      sage: E = EllipticCurve(j=1728); E; E.j_invariant(); E.label()\n",
       "      Elliptic Curve defined by y^2 = x^3 - x over Rational Field\n",
       "      1728\n",
       "      '32a2'\n",
       "\n",
       "      sage: E = EllipticCurve(j=GF(5)(2)); E; E.j_invariant()\n",
       "      Elliptic Curve defined by y^2 = x^3 + x + 1 over Finite Field of size 5\n",
       "      2\n",
       "\n",
       "   See https://trac.sagemath.org/6657\n",
       "\n",
       "      sage: EllipticCurve(GF(144169),j=1728)\n",
       "      Elliptic Curve defined by y^2 = x^3 + x over Finite Field of size 144169\n",
       "\n",
       "   Elliptic curves over the same ring with the same Weierstrass\n",
       "   coefficients are identical, even when they are constructed in\n",
       "   different ways (see https://trac.sagemath.org/11474):\n",
       "\n",
       "      sage: EllipticCurve('11a3') is EllipticCurve(QQ, [0, -1, 1, 0, 0])\n",
       "      True\n",
       "\n",
       "   By default, when a rational value of j is given, the constructed\n",
       "   curve is a minimal twist (minimal conductor for curves with that\n",
       "   j-invariant).  This can be changed by setting the optional\n",
       "   parameter \"minimal_twist\", which is True by default, to False:\n",
       "\n",
       "      sage: EllipticCurve(j=100)\n",
       "      Elliptic Curve defined by y^2 = x^3 + x^2 + 3392*x + 307888 over Rational Field\n",
       "      sage: E =EllipticCurve(j=100); E\n",
       "      Elliptic Curve defined by y^2 = x^3 + x^2 + 3392*x + 307888 over Rational Field\n",
       "      sage: E.conductor()\n",
       "      33129800\n",
       "      sage: E.j_invariant()\n",
       "      100\n",
       "      sage: E =EllipticCurve(j=100, minimal_twist=False); E\n",
       "      Elliptic Curve defined by y^2 = x^3 + 488400*x - 530076800 over Rational Field\n",
       "      sage: E.conductor()\n",
       "      298168200\n",
       "      sage: E.j_invariant()\n",
       "      100\n",
       "\n",
       "   Without this option, constructing the curve could take a long time\n",
       "   since both j and j-1728 have to be factored to compute the minimal\n",
       "   twist (see https://trac.sagemath.org/13100):\n",
       "\n",
       "      sage: E = EllipticCurve_from_j(2^256+1,minimal_twist=False)\n",
       "      sage: E.j_invariant() == 2^256+1\n",
       "      True\n",
       "\u001b[0;31mInit docstring:\u001b[0m\n",
       "   INPUT:\n",
       "\n",
       "   * \"name\" -- string. A name in the global namespace referring to\n",
       "     self or a fully qualified path name to self, which is used to\n",
       "     locate the factory on unpickling.\n",
       "\n",
       "   EXAMPLES:\n",
       "\n",
       "      sage: from sage.structure.factory import UniqueFactory\n",
       "      sage: fake_factory = UniqueFactory('ZZ')\n",
       "      sage: loads(dumps(fake_factory))\n",
       "      Integer Ring\n",
       "      sage: fake_factory = UniqueFactory('sage.rings.all.QQ')\n",
       "      sage: loads(dumps(fake_factory))\n",
       "      Rational Field\n",
       "\u001b[0;31mCall docstring:\u001b[0m\n",
       "   This is the method invoked to create objects. It first creates a\n",
       "   key from the given parameters, then if an object with that key\n",
       "   already exists returns it, and otherwise creates one and stores a\n",
       "   weak reference to it in its dictionary.\n",
       "\n",
       "   Do not override this method. Instead, override \"create_key\" and\n",
       "   \"create_object\" and put the docstring in the body of the class.\n",
       "\n",
       "   EXAMPLES:\n",
       "\n",
       "      sage: from sage.structure.test_factory import test_factory\n",
       "      sage: _ = test_factory(1,2,3); _\n",
       "      Making object (1, 2, 3)\n",
       "      <sage.structure.test_factory.A object at ...>\n",
       "\n",
       "   It already created one, so don't re-create:\n",
       "\n",
       "      sage: test_factory(1,2,3)\n",
       "      <sage.structure.test_factory.A object at ...>\n",
       "      sage: test_factory(1,2,3) is test_factory(1,2,3)\n",
       "      True\n",
       "\n",
       "   Of course, with a different key, a new object will be created:\n",
       "\n",
       "      sage: test_factory(1,2,3) is test_factory(1,2,4)\n",
       "      Making object (1, 2, 4)\n",
       "      False\n"
      ]
     },
     "metadata": {},
     "output_type": "display_data"
    }
   ],
   "source": [
    "EllipticCurve?"
   ]
  },
  {
   "cell_type": "code",
   "execution_count": 5,
   "id": "0797bf99-a18a-47da-8e5f-4f61091a7950",
   "metadata": {
    "editable": true,
    "slideshow": {
     "slide_type": "fragment"
    },
    "tags": []
   },
   "outputs": [
    {
     "data": {
      "text/plain": [
       "Elliptic Curve defined by y^2 = x^3 + 102*x + 1 over Finite Field of size 103"
      ]
     },
     "execution_count": 5,
     "metadata": {},
     "output_type": "execute_result"
    }
   ],
   "source": [
    "a=-1; b=1; a1=0;a2=0;a3=0; a4=a; a5=b; # define as long Weierstrass\n",
    "EC=EllipticCurve(FF,[a1,a2,a3,a4,a5]); EC"
   ]
  },
  {
   "cell_type": "markdown",
   "id": "5b8a0cec-f49b-4817-831c-add5d0935127",
   "metadata": {
    "editable": true,
    "slideshow": {
     "slide_type": "slide"
    },
    "tags": []
   },
   "source": [
    "## Elliptic curves over $\\mathbb{R}$\n",
    "The following illustration is often used to depict elliptic curves, but elliptic curves in cryptography are used over finite fields not the real numbers! Nevertheless, such representations are useful to explain the basic operations in ECC. \n",
    "* Simplified Weierstrass equation over the real numbers $\\mathbb{R}$ with $a = -1$ and $b = 1$:\n",
    "$$\n",
    "y^2 = x^3 + ax + b \n",
    "$$"
   ]
  },
  {
   "cell_type": "code",
   "execution_count": 6,
   "id": "e75d9166-ff40-4492-9fdb-8322cae27544",
   "metadata": {
    "editable": true,
    "jupyter": {
     "source_hidden": true
    },
    "scrolled": true,
    "slideshow": {
     "slide_type": "skip"
    },
    "tags": []
   },
   "outputs": [
    {
     "data": {
      "image/png": "[encoded data removed]",
      "text/plain": [
       "Graphics object consisting of 1 graphics primitive"
      ]
     },
     "metadata": {},
     "output_type": "display_data"
    }
   ],
   "source": [
    "EC = EllipticCurve(RR,[0, 0, 0,-1 ,1]) # Weierstrass curve\n",
    "p = plot(EC,thickness=3,xmin=-2,xmax=2,ymin=-2,ymax=2)\n",
    "if SAVE_FIGURES: p.save(\"./figures/ecc_over_R.png\")\n",
    "p.show()"
   ]
  },
  {
   "cell_type": "markdown",
   "id": "c4e8901b-522a-45cf-918e-75433e6ec1fd",
   "metadata": {
    "editable": true,
    "slideshow": {
     "slide_type": "fragment"
    },
    "tags": []
   },
   "source": [
    "<p style=\"text-align:center\">\n",
    "<img src=\"./figures/ecc_over_R.png\" alt=\"EC over R\" width=\"350\">\n",
    "</p>"
   ]
  },
  {
   "cell_type": "markdown",
   "id": "3057730a-1ac2-4e9e-b5df-4cfad05fdc07",
   "metadata": {
    "editable": true,
    "slideshow": {
     "slide_type": "slide"
    },
    "tags": []
   },
   "source": [
    "## Elliptic curves over $\\mathbb{F}_p$\n",
    "* Same equation over the finite field $\\mathbb{F}_{p}$, i.e., $x,y \\in \\mathbb{F}_p$ with $a = -1$ and $b = 1$.\n",
    "$$\n",
    "y^2 \\equiv x^3 + ax + b \\pmod p\n",
    "$$\n",
    "* Note that \"curves\" over finite fields are no smooth curves, but they are still *symmetric* along the $ x $ axis (because of $y^2$)\n",
    "    + Therefore, up to two solution for each $ x $ exist, i.e., $y$ and $-y$\n",
    "    + Therefore, for each point $P=f(x,y)$ a *symmetric inverse* $-P=f(x,-y)$ is defined"
   ]
  },
  {
   "cell_type": "code",
   "execution_count": 7,
   "id": "0ae40596-e698-4f79-970f-b5e9027a9ea3",
   "metadata": {
    "editable": true,
    "jupyter": {
     "source_hidden": true
    },
    "slideshow": {
     "slide_type": "skip"
    },
    "tags": []
   },
   "outputs": [
    {
     "data": {
      "image/png": "[encoded data removed]",
      "text/plain": [
       "Graphics object consisting of 2 graphics primitives"
      ]
     },
     "metadata": {},
     "output_type": "display_data"
    }
   ],
   "source": [
    "p=103; assert p in Primes();\n",
    "EC=EllipticCurve(FiniteField(p), [0,0,0,-1,1]); \n",
    "p=plot(EC, size=40); \n",
    "p += line ([(0 , 52) ,(105,52)] , rgbcolor =(1 ,0 ,0)) # highlight symmetrie\n",
    "if SAVE_FIGURES: p.save(\"./figures/ecc_over_F.png\")\n",
    "p.show()"
   ]
  },
  {
   "cell_type": "markdown",
   "id": "18cd3173-d0ee-4d0f-9663-160f3b5ed709",
   "metadata": {
    "editable": true,
    "slideshow": {
     "slide_type": "fragment"
    },
    "tags": []
   },
   "source": [
    "<p style=\"text-align:center\">\n",
    "<img src=\"./figures/ecc_over_F.png\" alt=\"EC over F\" width=\"350\">\n",
    "</p>"
   ]
  },
  {
   "cell_type": "markdown",
   "id": "ce7070ee-7a8f-4366-b71d-e26ce9338f9d",
   "metadata": {
    "editable": true,
    "slideshow": {
     "slide_type": "slide"
    },
    "tags": []
   },
   "source": [
    "### Compute the points on an elliptic curve \n",
    "The following is an example of how to compute all points on a small elliptic curve over $\\mathbb{F}_p$, where $p = 103$"
   ]
  },
  {
   "cell_type": "markdown",
   "id": "195b28a2-2cde-4712-aadb-fba3e3f7b32a",
   "metadata": {
    "editable": true,
    "slideshow": {
     "slide_type": "skip"
    },
    "tags": []
   },
   "source": [
    "To compute the points on the elliptic curve over some finite field $\\mathbb{F}_p$ we recall the defining equation in long Weierstrass and simplified Weierstrass form defined by the parameters:\n",
    "* $a_1,a_2,a_3,a_4,a_5 \\in \\mathbb{F}_p$ (long Weierstrass), or\n",
    "$$\n",
    "\\begin{align*}\n",
    "  y^2 + a_1xy + a_3y \\equiv x^3 + a_2x^2 + a_4x + a_6 \\pmod p \\\\\n",
    "  y^2 + a_1xy + a_3y - x^3 - a_2x^2 - a_4x - a_6 \\equiv 0 \\pmod p\n",
    "\\end{align*}\n",
    "$$\n",
    "The set of points on $E$ over $\\mathbb{F}_p$ is thus defined as:\n",
    "$$\n",
    "  E(\\mathbb{F}_p) = \\{(x,y) \\in \\mathbb{F}_p, y^2 + a_1xy + a_3y - x^3 - a_2x^2 - a_4x - a_6=0\\} \\cup \\{ \\mathcal{O} \\}\n",
    "$$\n",
    "* $a,b \\in \\mathbb{F}_p$ and $ $ (short Weierstrass)\n",
    "$$\n",
    "\\begin{align*}\n",
    "y^2 \\equiv x^3 + ax + b \\pmod p \\\\\n",
    "y^2 - (x^3 + ax + b) \\equiv 0 \\pmod p \n",
    "\\end{align*}\n",
    "$$\n",
    "\n",
    "The set of points on $E$ over $\\mathbb{F}_p$ is thus defined as:"
   ]
  },
  {
   "cell_type": "code",
   "execution_count": 8,
   "id": "055ab69e-cd44-4037-8f99-c0d613603a46",
   "metadata": {
    "collapsed": true,
    "editable": true,
    "jupyter": {
     "outputs_hidden": true,
     "source_hidden": true
    },
    "scrolled": true,
    "slideshow": {
     "slide_type": "skip"
    },
    "tags": []
   },
   "outputs": [
    {
     "data": {
      "text/plain": [
       "\u001b[0;31mType:\u001b[0m           EllipticCurveFactory\n",
       "\u001b[0;31mString form:\u001b[0m    <sage.schemes.elliptic_curves.constructor.EllipticCurveFactory object at 0x7fce23908a40>\n",
       "\u001b[0;31mFile:\u001b[0m           /usr/lib/python3/dist-packages/sage/schemes/elliptic_curves/constructor.py\n",
       "\u001b[0;31mDocstring:\u001b[0m     \n",
       "   Construct an elliptic curve.\n",
       "\n",
       "   In Sage, an elliptic curve is always specified by (the coefficients\n",
       "   of) a long Weierstrass equation\n",
       "\n",
       "      y^2 + a_1 xy + a_3 y = x^3 + a_2 x^2 + a_4 x + a_6.\n",
       "\n",
       "   INPUT:\n",
       "\n",
       "   There are several ways to construct an elliptic curve:\n",
       "\n",
       "   * \"EllipticCurve([a1,a2,a3,a4,a6])\": Elliptic curve with given\n",
       "     a-invariants. The invariants are coerced into a common parent. If\n",
       "     all are integers, they are coerced into the rational numbers.\n",
       "\n",
       "   * \"EllipticCurve([a4,a6])\": Same as above, but a_1=a_2=a_3=0.\n",
       "\n",
       "   * \"EllipticCurve(label)\": Returns the elliptic curve over \\QQ from\n",
       "     the Cremona database with the given label. The label is a string,\n",
       "     such as \"\"11a\"\" or \"\"37b2\"\". The letters in the label *must* be\n",
       "     lower case (Cremona's new labeling).\n",
       "\n",
       "   * \"EllipticCurve(R, [a1,a2,a3,a4,a6])\": Create the elliptic curve\n",
       "     over R with given a-invariants. Here R can be an arbitrary\n",
       "     commutative ring, although most functionality is only implemented\n",
       "     over fields.\n",
       "\n",
       "   * \"EllipticCurve(j=j0)\" or \"EllipticCurve_from_j(j0)\": Return an\n",
       "     elliptic curve with j-invariant \"j0\".\n",
       "\n",
       "   * \"EllipticCurve(polynomial)\": Read off the a-invariants from the\n",
       "     polynomial coefficients, see\n",
       "     \"EllipticCurve_from_Weierstrass_polynomial()\".\n",
       "\n",
       "   * \"EllipticCurve(cubic, point)\": The elliptic curve defined by a\n",
       "     plane cubic (homogeneous polynomial in three variables), with a\n",
       "     rational point.\n",
       "\n",
       "   Instead of giving the coefficients as a *list* of length 2 or 5,\n",
       "   one can also give a *tuple*.\n",
       "\n",
       "   EXAMPLES:\n",
       "\n",
       "   We illustrate creating elliptic curves:\n",
       "\n",
       "      sage: EllipticCurve([0,0,1,-1,0])\n",
       "      Elliptic Curve defined by y^2 + y = x^3 - x over Rational Field\n",
       "\n",
       "   We create a curve from a Cremona label:\n",
       "\n",
       "      sage: EllipticCurve('37b2')\n",
       "      Elliptic Curve defined by y^2 + y = x^3 + x^2 - 1873*x - 31833 over Rational Field\n",
       "      sage: EllipticCurve('5077a')\n",
       "      Elliptic Curve defined by y^2 + y = x^3 - 7*x + 6 over Rational Field\n",
       "      sage: EllipticCurve('389a')\n",
       "      Elliptic Curve defined by y^2 + y = x^3 + x^2 - 2*x over Rational Field\n",
       "\n",
       "   Old Cremona labels are allowed:\n",
       "\n",
       "      sage: EllipticCurve('2400FF')\n",
       "      Elliptic Curve defined by y^2 = x^3 + x^2 + 2*x + 8 over Rational Field\n",
       "\n",
       "   Unicode labels are allowed:\n",
       "\n",
       "      sage: EllipticCurve(u'389a')\n",
       "      Elliptic Curve defined by y^2 + y = x^3 + x^2 - 2*x over Rational Field\n",
       "\n",
       "   We create curves over a finite field as follows:\n",
       "\n",
       "      sage: EllipticCurve([GF(5)(0),0,1,-1,0])\n",
       "      Elliptic Curve defined by y^2 + y = x^3 + 4*x over Finite Field of size 5\n",
       "      sage: EllipticCurve(GF(5), [0, 0,1,-1,0])\n",
       "      Elliptic Curve defined by y^2 + y = x^3 + 4*x over Finite Field of size 5\n",
       "\n",
       "   Elliptic curves over \\ZZ/N\\ZZ with N prime are of type \"elliptic\n",
       "   curve over a finite field\":\n",
       "\n",
       "      sage: F = Zmod(101)\n",
       "      sage: EllipticCurve(F, [2, 3])\n",
       "      Elliptic Curve defined by y^2 = x^3 + 2*x + 3 over Ring of integers modulo 101\n",
       "      sage: E = EllipticCurve([F(2), F(3)])\n",
       "      sage: type(E)\n",
       "      <class 'sage.schemes.elliptic_curves.ell_finite_field.EllipticCurve_finite_field_with_category'>\n",
       "      sage: E.category()\n",
       "      Category of schemes over Ring of integers modulo 101\n",
       "\n",
       "   In contrast, elliptic curves over \\ZZ/N\\ZZ with N composite are of\n",
       "   type \"generic elliptic curve\":\n",
       "\n",
       "      sage: F = Zmod(95)\n",
       "      sage: EllipticCurve(F, [2, 3])\n",
       "      Elliptic Curve defined by y^2 = x^3 + 2*x + 3 over Ring of integers modulo 95\n",
       "      sage: E = EllipticCurve([F(2), F(3)])\n",
       "      sage: type(E)\n",
       "      <class 'sage.schemes.elliptic_curves.ell_generic.EllipticCurve_generic_with_category'>\n",
       "      sage: E.category()\n",
       "      Category of schemes over Ring of integers modulo 95\n",
       "\n",
       "   The following is a curve over the complex numbers:\n",
       "\n",
       "      sage: E = EllipticCurve(CC, [0,0,1,-1,0])\n",
       "      sage: E\n",
       "      Elliptic Curve defined by y^2 + 1.00000000000000*y = x^3 + (-1.00000000000000)*x over Complex Field with 53 bits of precision\n",
       "      sage: E.j_invariant()\n",
       "      2988.97297297297\n",
       "\n",
       "   We can also create elliptic curves by giving the Weierstrass\n",
       "   equation:\n",
       "\n",
       "      sage: R2.<x,y> = PolynomialRing(QQ,2)\n",
       "      sage: EllipticCurve(y^2 + y - ( x^3 + x - 9 ))\n",
       "      Elliptic Curve defined by y^2 + y = x^3 + x - 9 over Rational Field\n",
       "\n",
       "      sage: R.<x,y> = GF(5)[]\n",
       "      sage: EllipticCurve(x^3 + x^2 + 2 - y^2 - y*x)\n",
       "      Elliptic Curve defined by y^2 + x*y  = x^3 + x^2 + 2 over Finite Field of size 5\n",
       "\n",
       "   We can also create elliptic curves by giving a smooth plane cubic\n",
       "   with a rational point:\n",
       "\n",
       "      sage: R3.<x,y,z> = PolynomialRing(QQ,3)\n",
       "      sage: F = x^3+y^3+30*z^3\n",
       "      sage: P = [1,-1,0]\n",
       "      sage: EllipticCurve(F,P)\n",
       "      Elliptic Curve defined by y^2 - 270*y = x^3 - 24300 over Rational Field\n",
       "\n",
       "   We can explicitly specify the j-invariant:\n",
       "\n",
       "      sage: E = EllipticCurve(j=1728); E; E.j_invariant(); E.label()\n",
       "      Elliptic Curve defined by y^2 = x^3 - x over Rational Field\n",
       "      1728\n",
       "      '32a2'\n",
       "\n",
       "      sage: E = EllipticCurve(j=GF(5)(2)); E; E.j_invariant()\n",
       "      Elliptic Curve defined by y^2 = x^3 + x + 1 over Finite Field of size 5\n",
       "      2\n",
       "\n",
       "   See https://trac.sagemath.org/6657\n",
       "\n",
       "      sage: EllipticCurve(GF(144169),j=1728)\n",
       "      Elliptic Curve defined by y^2 = x^3 + x over Finite Field of size 144169\n",
       "\n",
       "   Elliptic curves over the same ring with the same Weierstrass\n",
       "   coefficients are identical, even when they are constructed in\n",
       "   different ways (see https://trac.sagemath.org/11474):\n",
       "\n",
       "      sage: EllipticCurve('11a3') is EllipticCurve(QQ, [0, -1, 1, 0, 0])\n",
       "      True\n",
       "\n",
       "   By default, when a rational value of j is given, the constructed\n",
       "   curve is a minimal twist (minimal conductor for curves with that\n",
       "   j-invariant).  This can be changed by setting the optional\n",
       "   parameter \"minimal_twist\", which is True by default, to False:\n",
       "\n",
       "      sage: EllipticCurve(j=100)\n",
       "      Elliptic Curve defined by y^2 = x^3 + x^2 + 3392*x + 307888 over Rational Field\n",
       "      sage: E =EllipticCurve(j=100); E\n",
       "      Elliptic Curve defined by y^2 = x^3 + x^2 + 3392*x + 307888 over Rational Field\n",
       "      sage: E.conductor()\n",
       "      33129800\n",
       "      sage: E.j_invariant()\n",
       "      100\n",
       "      sage: E =EllipticCurve(j=100, minimal_twist=False); E\n",
       "      Elliptic Curve defined by y^2 = x^3 + 488400*x - 530076800 over Rational Field\n",
       "      sage: E.conductor()\n",
       "      298168200\n",
       "      sage: E.j_invariant()\n",
       "      100\n",
       "\n",
       "   Without this option, constructing the curve could take a long time\n",
       "   since both j and j-1728 have to be factored to compute the minimal\n",
       "   twist (see https://trac.sagemath.org/13100):\n",
       "\n",
       "      sage: E = EllipticCurve_from_j(2^256+1,minimal_twist=False)\n",
       "      sage: E.j_invariant() == 2^256+1\n",
       "      True\n",
       "\u001b[0;31mInit docstring:\u001b[0m\n",
       "   INPUT:\n",
       "\n",
       "   * \"name\" -- string. A name in the global namespace referring to\n",
       "     self or a fully qualified path name to self, which is used to\n",
       "     locate the factory on unpickling.\n",
       "\n",
       "   EXAMPLES:\n",
       "\n",
       "      sage: from sage.structure.factory import UniqueFactory\n",
       "      sage: fake_factory = UniqueFactory('ZZ')\n",
       "      sage: loads(dumps(fake_factory))\n",
       "      Integer Ring\n",
       "      sage: fake_factory = UniqueFactory('sage.rings.all.QQ')\n",
       "      sage: loads(dumps(fake_factory))\n",
       "      Rational Field\n",
       "\u001b[0;31mCall docstring:\u001b[0m\n",
       "   This is the method invoked to create objects. It first creates a\n",
       "   key from the given parameters, then if an object with that key\n",
       "   already exists returns it, and otherwise creates one and stores a\n",
       "   weak reference to it in its dictionary.\n",
       "\n",
       "   Do not override this method. Instead, override \"create_key\" and\n",
       "   \"create_object\" and put the docstring in the body of the class.\n",
       "\n",
       "   EXAMPLES:\n",
       "\n",
       "      sage: from sage.structure.test_factory import test_factory\n",
       "      sage: _ = test_factory(1,2,3); _\n",
       "      Making object (1, 2, 3)\n",
       "      <sage.structure.test_factory.A object at ...>\n",
       "\n",
       "   It already created one, so don't re-create:\n",
       "\n",
       "      sage: test_factory(1,2,3)\n",
       "      <sage.structure.test_factory.A object at ...>\n",
       "      sage: test_factory(1,2,3) is test_factory(1,2,3)\n",
       "      True\n",
       "\n",
       "   Of course, with a different key, a new object will be created:\n",
       "\n",
       "      sage: test_factory(1,2,3) is test_factory(1,2,4)\n",
       "      Making object (1, 2, 4)\n",
       "      False\n"
      ]
     },
     "metadata": {},
     "output_type": "display_data"
    }
   ],
   "source": [
    "EllipticCurve?"
   ]
  },
  {
   "cell_type": "code",
   "execution_count": 9,
   "id": "344ddffe-de4d-4908-991f-ab28e807eb09",
   "metadata": {
    "editable": true,
    "slideshow": {
     "slide_type": "fragment"
    },
    "tags": []
   },
   "outputs": [
    {
     "data": {
      "text/plain": [
       "Elliptic Curve defined by y^2 = x^3 + 102*x + 1 over Finite Field of size 103"
      ]
     },
     "execution_count": 9,
     "metadata": {},
     "output_type": "execute_result"
    }
   ],
   "source": [
    "p=103; assert p in Primes(); FF=FiniteField(p);\n",
    "a1=0;a2=0;a3=0; a4=-1; a5=1; EC=EllipticCurve(FF,[a1,a2,a3,a4,a5]); EC"
   ]
  },
  {
   "cell_type": "code",
   "execution_count": 10,
   "id": "b675b0ea-b719-4a7f-8ef1-806412e8b744",
   "metadata": {
    "editable": true,
    "slideshow": {
     "slide_type": "fragment"
    },
    "tags": []
   },
   "outputs": [
    {
     "data": {
      "text/plain": [
       "112"
      ]
     },
     "execution_count": 10,
     "metadata": {},
     "output_type": "execute_result"
    }
   ],
   "source": [
    "len(EC.points())"
   ]
  },
  {
   "cell_type": "code",
   "execution_count": 11,
   "id": "07e667ec-2ac4-4c37-be79-59ce3446d5cc",
   "metadata": {
    "editable": true,
    "slideshow": {
     "slide_type": "skip"
    },
    "tags": []
   },
   "outputs": [
    {
     "data": {
      "text/plain": [
       "111"
      ]
     },
     "execution_count": 11,
     "metadata": {},
     "output_type": "execute_result"
    }
   ],
   "source": [
    "# naively compute all points on elliptic curve manually in sage\n",
    "ec_points = list()\n",
    "p=103; assert p in Primes();\n",
    "for x in range(0,p):\n",
    "    for y in range(0,p):\n",
    "        if mod( y^2 - (x^3 - x + 1), p) == 0: \n",
    "            ec_points.append( (x,y) )\n",
    "len(ec_points)"
   ]
  },
  {
   "cell_type": "code",
   "execution_count": 12,
   "id": "274b3fbe-d790-4671-999e-2b3a43ea8652",
   "metadata": {
    "editable": true,
    "raw_mimetype": "",
    "slideshow": {
     "slide_type": "fragment"
    },
    "tags": []
   },
   "outputs": [
    {
     "data": {
      "text/plain": [
       "111"
      ]
     },
     "execution_count": 12,
     "metadata": {},
     "output_type": "execute_result"
    }
   ],
   "source": [
    "# naively compute all points on elliptic curve manually in python (https://stackoverflow.com/questions/76143329/how-to-get-all-the-solution-points-over-a-finite-field-of-an-elliptical-curve)\n",
    "ec_points = set(); p=103; assert p in Primes();\n",
    "for x in range(0,p):\n",
    "    for y in range(0,p):\n",
    "        if (y**2 - (x**3 - x + 1)) % p == 0: \n",
    "            ec_points.add( (x,y) )\n",
    "len(ec_points)"
   ]
  },
  {
   "cell_type": "markdown",
   "id": "9632ccae-06e6-4224-985d-143d90089116",
   "metadata": {
    "editable": true,
    "slideshow": {
     "slide_type": "slide"
    },
    "tags": []
   },
   "source": [
    "**Question:** Which point is missing?"
   ]
  },
  {
   "cell_type": "code",
   "execution_count": 13,
   "id": "86d80912-fd7d-4fe8-b7a3-4cf3cda42b0f",
   "metadata": {
    "editable": true,
    "scrolled": true,
    "slideshow": {
     "slide_type": "fragment"
    },
    "tags": []
   },
   "outputs": [],
   "source": [
    "ec_diff = list(); ec_match = list() # naively match points  \n",
    "for Q in EC.points():\n",
    "    match=False\n",
    "    for P in ec_points:\n",
    "        if not Q.is_zero() and Q.xy()[0] == P[0] and Q.xy()[1] == P[1]:\n",
    "            ec_match.append({\"P\":P,\"Q\":Q})\n",
    "            match=True\n",
    "            break\n",
    "    if not match:\n",
    "        ec_diff.append(Q)"
   ]
  },
  {
   "cell_type": "code",
   "execution_count": 14,
   "id": "ba59e153-0a2d-436c-bfaa-576127b608cc",
   "metadata": {
    "editable": true,
    "slideshow": {
     "slide_type": "fragment"
    },
    "tags": []
   },
   "outputs": [
    {
     "data": {
      "text/plain": [
       "111"
      ]
     },
     "execution_count": 14,
     "metadata": {},
     "output_type": "execute_result"
    }
   ],
   "source": [
    "len(ec_match)"
   ]
  },
  {
   "cell_type": "code",
   "execution_count": 107,
   "id": "7003e7e3-0e7d-47ab-a853-7388e70a4aff",
   "metadata": {
    "editable": true,
    "slideshow": {
     "slide_type": "fragment"
    },
    "tags": []
   },
   "outputs": [
    {
     "data": {
      "text/plain": [
       "[(0 : 1 : 0)]"
      ]
     },
     "execution_count": 107,
     "metadata": {},
     "output_type": "execute_result"
    }
   ],
   "source": [
    "ec_diff # Point at infinity if ( x : y : 0 ) and 1 otherwise"
   ]
  },
  {
   "cell_type": "code",
   "execution_count": 16,
   "id": "0cea680b-08c3-4d8e-9b73-719f281f78a2",
   "metadata": {
    "editable": true,
    "slideshow": {
     "slide_type": "fragment"
    },
    "tags": []
   },
   "outputs": [
    {
     "data": {
      "text/plain": [
       "True"
      ]
     },
     "execution_count": 16,
     "metadata": {},
     "output_type": "execute_result"
    }
   ],
   "source": [
    "ec_diff[0].is_zero() "
   ]
  },
  {
   "cell_type": "markdown",
   "id": "f3091e49-6071-4a43-98ec-365803288439",
   "metadata": {
    "editable": true,
    "slideshow": {
     "slide_type": "slide"
    },
    "tags": []
   },
   "source": [
    "### Number of points on elliptic curves over $\\mathbb{F}_p$\n",
    "\n",
    "The number of points $E(\\mathbb{F}_p)$ on the elliptic curve $E$ over $\\mathbb{F}_p$ is denoted by $\\# E(\\mathbb{F}_p)$ and is called the *order* of the curve. This number is somewhat close to the prime $ p $ and can be approximated by the Hasse Theorem:\n",
    "$$\n",
    "p + 1 - 2 \\sqrt{p} \\leq \\# E(\\mathbb{F}_p) \\leq p + 1 + 2 \\sqrt{p}\n",
    "$$"
   ]
  },
  {
   "cell_type": "code",
   "execution_count": 17,
   "id": "8c0bdce2-9fa4-4cc2-a873-370f1f925779",
   "metadata": {
    "editable": true,
    "slideshow": {
     "slide_type": "fragment"
    },
    "tags": []
   },
   "outputs": [
    {
     "data": {
      "text/plain": [
       "103"
      ]
     },
     "execution_count": 17,
     "metadata": {},
     "output_type": "execute_result"
    }
   ],
   "source": [
    "p=103; assert p in Primes(); FF=FiniteField(p); FF.order()  # order of the underlying FF"
   ]
  },
  {
   "cell_type": "code",
   "execution_count": 18,
   "id": "e73111ee-ffb1-46ca-9d74-99053e973764",
   "metadata": {
    "editable": true,
    "slideshow": {
     "slide_type": "fragment"
    },
    "tags": []
   },
   "outputs": [
    {
     "data": {
      "text/plain": [
       "Elliptic Curve defined by y^2 = x^3 + 102*x + 1 over Finite Field of size 103"
      ]
     },
     "execution_count": 18,
     "metadata": {},
     "output_type": "execute_result"
    }
   ],
   "source": [
    "EC=EllipticCurve(FF,[0,0,0,-1,1]); EC"
   ]
  },
  {
   "cell_type": "code",
   "execution_count": 19,
   "id": "5f2bb707-f659-4865-90e9-0ab9630f50d2",
   "metadata": {
    "editable": true,
    "slideshow": {
     "slide_type": "fragment"
    },
    "tags": []
   },
   "outputs": [
    {
     "data": {
      "text/plain": [
       "112"
      ]
     },
     "execution_count": 19,
     "metadata": {},
     "output_type": "execute_result"
    }
   ],
   "source": [
    "assert EC.order() == len(EC.points()); EC.order()"
   ]
  },
  {
   "cell_type": "code",
   "execution_count": 20,
   "id": "5ac87bcd-9f58-41ee-9603-69e44199ebf7",
   "metadata": {
    "editable": true,
    "slideshow": {
     "slide_type": "fragment"
    },
    "tags": []
   },
   "outputs": [],
   "source": [
    "assert p+1-2*(p.sqrt()) <= EC.order() <= p+1+2*(p.sqrt()) # Hasse Theorem"
   ]
  },
  {
   "cell_type": "markdown",
   "id": "58e544a3-8920-4213-9dd3-ad5477af3065",
   "metadata": {
    "editable": true,
    "slideshow": {
     "slide_type": "slide"
    },
    "tags": []
   },
   "source": [
    "### Generators for elliptic curves \n",
    "A generator $G$ of an elliptic curve has the same order as the curve and hence can *generate* all points on the curve:\n",
    "$$\n",
    "\\{G,G\\cdot 1,G \\cdot 2,\\dots,G \\cdot \\#E(\\mathbb{F}_p)\\}\n",
    "$$"
   ]
  },
  {
   "cell_type": "code",
   "execution_count": 21,
   "id": "848458a1-ca04-4500-9e9d-7f50ec15d9ae",
   "metadata": {
    "editable": true,
    "slideshow": {
     "slide_type": "fragment"
    },
    "tags": []
   },
   "outputs": [
    {
     "data": {
      "text/plain": [
       "(2, 78)"
      ]
     },
     "execution_count": 21,
     "metadata": {},
     "output_type": "execute_result"
    }
   ],
   "source": [
    "G = EC.gen(0); G.xy() "
   ]
  },
  {
   "cell_type": "code",
   "execution_count": 22,
   "id": "daf5c4c9-8287-43a1-95ac-4e53aa8e2192",
   "metadata": {
    "editable": true,
    "slideshow": {
     "slide_type": "fragment"
    },
    "tags": []
   },
   "outputs": [
    {
     "data": {
      "text/plain": [
       "(2 : 78 : 1)"
      ]
     },
     "execution_count": 22,
     "metadata": {},
     "output_type": "execute_result"
    }
   ],
   "source": [
    "G # (x :  y : 0 iff point at infinity, 1 otherwise)"
   ]
  },
  {
   "cell_type": "code",
   "execution_count": 23,
   "id": "81e07f2a-6bb2-4572-8c58-e953b9191b45",
   "metadata": {
    "editable": true,
    "slideshow": {
     "slide_type": "skip"
    },
    "tags": []
   },
   "outputs": [
    {
     "data": {
      "text/plain": [
       "False"
      ]
     },
     "execution_count": 23,
     "metadata": {},
     "output_type": "execute_result"
    }
   ],
   "source": [
    "G.is_zero()"
   ]
  },
  {
   "cell_type": "code",
   "execution_count": 24,
   "id": "8ea164db-fd4d-491f-a9e7-d70edf9d9fb1",
   "metadata": {
    "editable": true,
    "slideshow": {
     "slide_type": "skip"
    },
    "tags": []
   },
   "outputs": [
    {
     "data": {
      "text/plain": [
       "True"
      ]
     },
     "execution_count": 24,
     "metadata": {},
     "output_type": "execute_result"
    }
   ],
   "source": [
    "G*1 == G"
   ]
  },
  {
   "cell_type": "code",
   "execution_count": 25,
   "id": "f991d718-fb75-4d93-b7ea-bc9a3b52c541",
   "metadata": {
    "editable": true,
    "slideshow": {
     "slide_type": ""
    },
    "tags": []
   },
   "outputs": [
    {
     "data": {
      "text/plain": [
       "112"
      ]
     },
     "execution_count": 25,
     "metadata": {},
     "output_type": "execute_result"
    }
   ],
   "source": [
    "G.order()"
   ]
  },
  {
   "cell_type": "code",
   "execution_count": 26,
   "id": "3b4ee6b9-bc36-4cf9-b111-53561e817a8b",
   "metadata": {
    "editable": true,
    "slideshow": {
     "slide_type": "subslide"
    },
    "tags": []
   },
   "outputs": [
    {
     "data": {
      "text/plain": [
       "112"
      ]
     },
     "execution_count": 26,
     "metadata": {},
     "output_type": "execute_result"
    }
   ],
   "source": [
    "EC.order()"
   ]
  },
  {
   "cell_type": "code",
   "execution_count": 27,
   "id": "80487b54-f95e-4665-a427-6bb866ee45a8",
   "metadata": {
    "editable": true,
    "slideshow": {
     "slide_type": "fragment"
    },
    "tags": []
   },
   "outputs": [
    {
     "name": "stdout",
     "output_type": "stream",
     "text": [
      "(4 : 79 : 1) (20 : 16 : 1) (2 : 25 : 1) (0 : 1 : 0) (2 : 78 : 1)\n"
     ]
    }
   ],
   "source": [
    "print(G*2,G*3,G*111,G*112,G*113) # last point is the starting point G again"
   ]
  },
  {
   "cell_type": "code",
   "execution_count": 28,
   "id": "54badaf7-4265-46cc-9015-56cd66b15871",
   "metadata": {
    "editable": true,
    "slideshow": {
     "slide_type": "fragment"
    },
    "tags": []
   },
   "outputs": [
    {
     "name": "stdout",
     "output_type": "stream",
     "text": [
      "point at infinity = (0 : 1 : 0)\n"
     ]
    }
   ],
   "source": [
    "print(f\"point at infinity = {G*112}\") "
   ]
  },
  {
   "cell_type": "code",
   "execution_count": 29,
   "id": "bff86df3-3e9f-40ac-a94d-0e0b6a8ae96f",
   "metadata": {
    "editable": true,
    "slideshow": {
     "slide_type": "fragment"
    },
    "tags": []
   },
   "outputs": [
    {
     "data": {
      "text/plain": [
       "True"
      ]
     },
     "execution_count": 29,
     "metadata": {},
     "output_type": "execute_result"
    }
   ],
   "source": [
    "(G*112).is_zero()"
   ]
  },
  {
   "cell_type": "markdown",
   "id": "912518de-6369-4840-a96f-b4f4c9deb20b",
   "metadata": {
    "editable": true,
    "slideshow": {
     "slide_type": "slide"
    },
    "tags": []
   },
   "source": [
    "## ECC operations \n",
    "<a id='ops'></a>\n",
    "The following are some illustrations of basic elliptic curve operations on a *Weierstrass* curve, either over the real numbers $\\mathbb{R}$, or the finite field $\\mathbb{F}_{103}$:\n",
    "$$\n",
    "\\begin{align*}\n",
    "y^2 &= x^3 + ax + b \\\\\n",
    "a &= -1 \\\\\n",
    "b &= 1 \n",
    "\\end{align*}\n",
    "$$"
   ]
  },
  {
   "cell_type": "markdown",
   "id": "a89d770b-8a15-49bf-a391-261c8d9e7cd3",
   "metadata": {
    "editable": true,
    "slideshow": {
     "slide_type": "skip"
    },
    "tags": []
   },
   "source": [
    "Due to the nature of the ECDLP, a important operation in elliptic curve cryptography is **point multiplication**, or *scalar multiplication*, which refers to the multiplication of a scalar value $k$ with a point $G$ on an elliptic curve over a finite field, to gain another point $Q$ which is also located  on the elliptic curve.\n",
    "To perform these point multiplication operations, two main calculations are needed in general: *point addition* and *point doubling*.\n"
   ]
  },
  {
   "cell_type": "markdown",
   "id": "d38c802c-0546-42d7-b923-de1b4c762dfe",
   "metadata": {
    "editable": true,
    "slideshow": {
     "slide_type": "slide"
    },
    "tags": []
   },
   "source": [
    "### Inverse of a point\n",
    "$$ \n",
    "\\begin{align*}\n",
    "P1 &= (x,y) = (1,1) \\\\\n",
    "P2 &= -P1 = (x,-y) = (1,-1) \\\\\n",
    "\\end{align*}\n",
    "$$"
   ]
  },
  {
   "cell_type": "code",
   "execution_count": 30,
   "id": "ed105ad9-adf2-458b-918c-842baba78b3d",
   "metadata": {
    "editable": true,
    "jupyter": {
     "source_hidden": true
    },
    "scrolled": true,
    "slideshow": {
     "slide_type": "skip"
    },
    "tags": []
   },
   "outputs": [
    {
     "data": {
      "image/png": "[encoded data removed]",
      "text/plain": [
       "Graphics object consisting of 6 graphics primitives"
      ]
     },
     "metadata": {},
     "output_type": "display_data"
    }
   ],
   "source": [
    "EC = EllipticCurve(RealField(53), [0 ,0 ,0 , -1 ,1]); EC\n",
    "P1 = EC(1, 1); P2 = EC(1, -1) # define two points to add on curve\n",
    "Q = P1 + P2  # calculate Q\n",
    "p = EC.plot(thickness=3, xmin = -2 , xmax =2 , ymin = -2 , ymax =2)\n",
    "p += point ([ P1 . xy () , P2 . xy ()] , size =60 , hue =0.1 , zorder =4)\n",
    "p += line ([(P1.xy()[0] , -2) ,(P2.xy()[0] ,2)] , rgbcolor =(0 ,0 ,1))\n",
    "p += text(\"P1\",(1.20,1),fontsize=16, color='black')\n",
    "p += text(\"P2\",(1.20,-1),fontsize=16, color='black')\n",
    "p += text(\"$y^2 = x^3 - x + 1$\", (-1.3,-1.8), fontsize=20, color='black')\n",
    "if SAVE_FIGURES: p.save(\"./figures/ecc_inverse_over_R.png\")\n",
    "p.show()"
   ]
  },
  {
   "cell_type": "markdown",
   "id": "9730b1fc-4646-49dc-9282-ccf2d41c7918",
   "metadata": {
    "editable": true,
    "slideshow": {
     "slide_type": ""
    },
    "tags": []
   },
   "source": [
    "<p style=\"text-align:center\">\n",
    "<img src=\"./figures/ecc_inverse_over_R.png\" alt=\"EC inverse over R\" >\n",
    "</p>"
   ]
  },
  {
   "cell_type": "markdown",
   "id": "e6a80f37-cec0-47d1-8a51-30a8995703d4",
   "metadata": {
    "editable": true,
    "slideshow": {
     "slide_type": "slide"
    },
    "tags": []
   },
   "source": [
    "### Point doubling\n",
    "This operation refers to the addition of one point to itself, hence the name point doubling. \n",
    "$$\n",
    "P+P=2P=Q\n",
    "$$"
   ]
  },
  {
   "cell_type": "code",
   "execution_count": 31,
   "id": "46d7f122-cf76-4795-9c91-7273644e7d9c",
   "metadata": {
    "editable": true,
    "jupyter": {
     "source_hidden": true
    },
    "slideshow": {
     "slide_type": "skip"
    },
    "tags": []
   },
   "outputs": [
    {
     "data": {
      "image/png": "[encoded data removed]",
      "text/plain": [
       "Graphics object consisting of 8 graphics primitives"
      ]
     },
     "metadata": {},
     "output_type": "display_data"
    }
   ],
   "source": [
    "# create elliptic curve over the Reals with 53 bit precision\n",
    "EC = EllipticCurve(RealField(53), [0,0,0,-1,1]); EC\n",
    "P = EC(1,1); Q = P*2; # define two points to add on curve\n",
    "p = EC.plot(thickness=2,xmin=-2, xmax=2, ymin=-2, ymax=2)\n",
    "p += point([P.xy(), Q.xy(), (-1.00000000000000, -1.00000000000000)],size=60, hue=0.1, zorder=4)\n",
    "p += line([P.xy(),(-1.00000000000000, -1.00000000000000)],rgbcolor=(0,0,1))\n",
    "p += line([(-1.00000000000000, -1.00000000000000),Q.xy()], linestyle=\"--\", rgbcolor=(0,0,1))\n",
    "p += text(\"P\",(1.20000000000000, 1.00000000000000),fontsize=16, color='black')\n",
    "p += text(\"Q\",(-1.20000000000000, 1.00000000000000),fontsize=16, color='black')\n",
    "p += text(\"-Q\",(-1.20000000000000, -1.00000000000000),fontsize=16,color='black')\n",
    "p += text(\"$y^2 = x^3 - x + 1$\", (-1.3,-1.8), fontsize=20, color='black')\n",
    "if SAVE_FIGURES: p.save(\"./figures/ecc_dbl_over_R.png\")\n",
    "p.show()"
   ]
  },
  {
   "cell_type": "markdown",
   "id": "a1c6ec28-a3ca-44f5-8c64-aa5b03f54f83",
   "metadata": {
    "editable": true,
    "slideshow": {
     "slide_type": ""
    },
    "tags": []
   },
   "source": [
    "<p style=\"text-align:center\">\n",
    "<img src=\"./figures/ecc_dbl_over_R.png\" alt=\"EC inverse over R\" >\n",
    "</p>"
   ]
  },
  {
   "cell_type": "markdown",
   "id": "a332387b-c388-4bd2-9251-b8310d00354a",
   "metadata": {
    "editable": true,
    "slideshow": {
     "slide_type": "skip"
    },
    "tags": []
   },
   "source": [
    "The figure shows a geometrical example of point doubling on the elliptic curve $y^2 = x^3 - x + 1$ over the real numbers $\\mathbb{R}$. \n",
    "From a geometrical perspective, point doubling on an elliptic curve works by drawing a tangent through the point to double. \n",
    "The point $-Q$ at the intersection of this tangent is the reflection of the result $Q$ over the x-axis. \n",
    "The equation for this calculation would be $2P=Q$.\n",
    "If there is no such intersection point between tangent and curve, the result is defined as the *point at infinity* $2P = O$ or $2P = \\infty$.\n"
   ]
  },
  {
   "cell_type": "markdown",
   "id": "56865c4c-7eca-45ca-8bd8-9c6fd219150d",
   "metadata": {
    "editable": true,
    "slideshow": {
     "slide_type": "subslide"
    },
    "tags": []
   },
   "source": [
    "### Point doubling formular\n",
    "$$\n",
    " Q = P+ P\n",
    "$$\n",
    "\n",
    "$$\n",
    "\\begin{align*}\n",
    "m &= \\frac{3p_x^2 + a}{2p_y} \\\\\n",
    "r_x &= m^2 - 2p_x \\\\\n",
    "r_y &= m \\cdot (p_x - r_x) - p_y \\\\\n",
    "Q &= \\langle r_x, r_y \\rangle\n",
    "\\end{align*}\n",
    "$$"
   ]
  },
  {
   "cell_type": "markdown",
   "id": "9d151978-fb1f-40ad-a5ce-f5730886f220",
   "metadata": {
    "editable": true,
    "slideshow": {
     "slide_type": "skip"
    },
    "tags": []
   },
   "source": [
    "For a good tutorial on the subject also see [ECC Introduction by Johannes Bauer](https://www.johannes-bauer.com/compsci/ecc/)"
   ]
  },
  {
   "cell_type": "code",
   "execution_count": 32,
   "id": "a34ed96f-2f49-43ca-95e5-0493df3d09a3",
   "metadata": {
    "editable": true,
    "slideshow": {
     "slide_type": "fragment"
    },
    "tags": []
   },
   "outputs": [],
   "source": [
    "def point_double_sage(P,a): \n",
    "    # EC point doubleing in sage, this function works with \n",
    "    # x,y of points over the reals as well as over FF\n",
    "    if P is None:\n",
    "        return None \n",
    "    xp, yp = P\n",
    "    m =  (3 * xp ** 2 + a) / (2 * yp) \n",
    "    xr =  m**2 - 2*xp \n",
    "    yr =  m * (xp - xr) - yp\n",
    "    return (xr, yr)"
   ]
  },
  {
   "cell_type": "code",
   "execution_count": 33,
   "id": "e88d82d8-f87c-4da4-9e5e-ec6a2311c931",
   "metadata": {
    "editable": true,
    "jupyter": {
     "source_hidden": true
    },
    "slideshow": {
     "slide_type": "skip"
    },
    "tags": []
   },
   "outputs": [],
   "source": [
    "def point_double_sage_v2(P,a):\n",
    "    # EC point doubleing with sage notation\n",
    "    if P is None:\n",
    "        return None \n",
    "    xp, yp = P \n",
    "    m =  (3 * xp^2 + a) * (2 * yp)^(-1) \n",
    "    xr =  m^2 - 2*xp \n",
    "    yr =  m * (xp - xr) - yp\n",
    "    return (xr, yr)"
   ]
  },
  {
   "cell_type": "code",
   "execution_count": 34,
   "id": "3acdc5ed-1605-4b6f-8803-70d701099a3d",
   "metadata": {
    "editable": true,
    "slideshow": {
     "slide_type": "subslide"
    },
    "tags": []
   },
   "outputs": [
    {
     "data": {
      "text/plain": [
       "(1 : 30 : 1)"
      ]
     },
     "execution_count": 34,
     "metadata": {},
     "output_type": "execute_result"
    }
   ],
   "source": [
    "p = 31\n",
    "FF = FiniteField(p)\n",
    "EC = EllipticCurve(FF, [0,0,0,-1,1]); EC # a=-1 b=1\n",
    "P = EC.random_element(); P"
   ]
  },
  {
   "cell_type": "code",
   "execution_count": 35,
   "id": "5633cefa-6753-4514-b774-3f741ab791bd",
   "metadata": {
    "editable": true,
    "slideshow": {
     "slide_type": "fragment"
    },
    "tags": []
   },
   "outputs": [
    {
     "data": {
      "text/plain": [
       "(30 : 30 : 1)"
      ]
     },
     "execution_count": 35,
     "metadata": {},
     "output_type": "execute_result"
    }
   ],
   "source": [
    "Q_point = P + P; Q_point # sage point doubling simple implicit notation "
   ]
  },
  {
   "cell_type": "code",
   "execution_count": 39,
   "id": "a0c75acb-b443-4443-9162-9411acdaf780",
   "metadata": {
    "editable": true,
    "scrolled": true,
    "slideshow": {
     "slide_type": "fragment"
    },
    "tags": []
   },
   "outputs": [
    {
     "data": {
      "text/plain": [
       "(30, 30)"
      ]
     },
     "execution_count": 39,
     "metadata": {},
     "output_type": "execute_result"
    }
   ],
   "source": [
    "Q_xy = point_double_sage( P.xy(), a=FF(-1) ); Q_xy"
   ]
  },
  {
   "cell_type": "code",
   "execution_count": 36,
   "id": "5e5a7a68-f17c-4a33-8238-83579664d650",
   "metadata": {
    "editable": true,
    "slideshow": {
     "slide_type": "skip"
    },
    "tags": []
   },
   "outputs": [
    {
     "data": {
      "text/plain": [
       "(30, 30)"
      ]
     },
     "execution_count": 36,
     "metadata": {},
     "output_type": "execute_result"
    }
   ],
   "source": [
    "Q_xy = point_double_sage_v2( P.xy(), a=FF(-1) ); Q_xy"
   ]
  },
  {
   "cell_type": "code",
   "execution_count": 37,
   "id": "2a63f204-ac99-4d9a-96fd-4df3a9db12ff",
   "metadata": {
    "editable": true,
    "slideshow": {
     "slide_type": "skip"
    },
    "tags": []
   },
   "outputs": [],
   "source": [
    "assert Q_point.xy()[0] == Q_xy[0] and Q_point.xy()[1] == Q_xy[1]"
   ]
  },
  {
   "cell_type": "code",
   "execution_count": 38,
   "id": "f06c4f23-e532-469b-82ad-7dec122f0b4a",
   "metadata": {
    "editable": true,
    "slideshow": {
     "slide_type": "skip"
    },
    "tags": []
   },
   "outputs": [],
   "source": [
    "assert point_double_sage_v2( P.xy(), a=FF(-1) ) == point_double_sage_v2(P.xy(),a=FF(-1))"
   ]
  },
  {
   "cell_type": "code",
   "execution_count": 40,
   "id": "9ecba9e8-39e7-4479-a02d-3a15ac706ab4",
   "metadata": {
    "editable": true,
    "slideshow": {
     "slide_type": "skip"
    },
    "tags": []
   },
   "outputs": [],
   "source": [
    "assert Q_point.xy()[0] == Q_xy[0] and Q_point.xy()[1] == Q_xy[1]"
   ]
  },
  {
   "cell_type": "markdown",
   "id": "f7ba4de9-ecf1-4df6-a7bc-c6b2fd7526b7",
   "metadata": {
    "editable": true,
    "slideshow": {
     "slide_type": "skip"
    },
    "tags": []
   },
   "source": [
    "#### Point doubling in pyton "
   ]
  },
  {
   "cell_type": "code",
   "execution_count": 41,
   "id": "6d95ec4d-244c-4645-8b66-322d92119b43",
   "metadata": {
    "editable": true,
    "slideshow": {
     "slide_type": "skip"
    },
    "tags": []
   },
   "outputs": [
    {
     "data": {
      "text/plain": [
       "<module 'src.ecarithmetic' from '/workdir/src/ecarithmetic.py'>"
      ]
     },
     "execution_count": 41,
     "metadata": {},
     "output_type": "execute_result"
    }
   ],
   "source": [
    "import src.ecarithmetic as eca\n",
    "import importlib \n",
    "importlib.reload(eca)"
   ]
  },
  {
   "cell_type": "code",
   "execution_count": 42,
   "id": "c0a25d34-c353-40d8-9933-7167475cd258",
   "metadata": {
    "editable": true,
    "slideshow": {
     "slide_type": "skip"
    },
    "tags": []
   },
   "outputs": [
    {
     "name": "stdout",
     "output_type": "stream",
     "text": [
      "(1, 30) all coordinate values are of type <class 'int'>\n"
     ]
    }
   ],
   "source": [
    "x1 = int(P.xy()[0])\n",
    "y1 = int(P.xy()[1])\n",
    "print((x1,y1),f\"all coordinate values are of type {type(x1)}\")"
   ]
  },
  {
   "cell_type": "code",
   "execution_count": 43,
   "id": "9fefa0be-e146-4794-8853-50f42c1f830e",
   "metadata": {
    "editable": true,
    "slideshow": {
     "slide_type": "skip"
    },
    "tags": []
   },
   "outputs": [
    {
     "data": {
      "text/plain": [
       "(30, 30)"
      ]
     },
     "execution_count": 43,
     "metadata": {},
     "output_type": "execute_result"
    }
   ],
   "source": [
    "Q_xy = eca.double_point((x1,y1),a=-1,p=p); Q_xy"
   ]
  },
  {
   "cell_type": "code",
   "execution_count": 44,
   "id": "bdb50598-912a-4b5a-b5b0-ee4df0e9f25b",
   "metadata": {
    "editable": true,
    "slideshow": {
     "slide_type": "skip"
    },
    "tags": []
   },
   "outputs": [],
   "source": [
    "assert Q_point.xy()[0] == Q_xy[0] and Q_point.xy()[1] == Q_xy[1]"
   ]
  },
  {
   "cell_type": "markdown",
   "id": "77ac5835-8d87-46ea-9b01-f27d11776a09",
   "metadata": {
    "editable": true,
    "slideshow": {
     "slide_type": "slide"
    },
    "tags": []
   },
   "source": [
    "### Point doubling - Point at infinity \n",
    "In the visual example of point doubling the solution is the point at infinity $\\mathcal{O}$. All vertical lines (e.g., additions) would also result in the point at infinity. \n",
    "$$\n",
    "P+P=2P=\\infty=\\mathcal{O}\n",
    "$$"
   ]
  },
  {
   "cell_type": "code",
   "execution_count": 45,
   "id": "61a44081-af0e-4a2d-a7ac-59a1f5c6c6fe",
   "metadata": {
    "editable": true,
    "jupyter": {
     "source_hidden": true
    },
    "scrolled": true,
    "slideshow": {
     "slide_type": "skip"
    },
    "tags": []
   },
   "outputs": [
    {
     "data": {
      "image/png": "[encoded data removed]",
      "text/plain": [
       "Graphics object consisting of 5 graphics primitives"
      ]
     },
     "metadata": {},
     "output_type": "display_data"
    }
   ],
   "source": [
    "# create elliptic curve over the Reals with 53 bit precision\n",
    "EC = EllipticCurve(RealField(53), [0,0,0,-1,1]); EC\n",
    "p = EC.plot(thickness=2,xmin=-2, xmax=2, ymin=-2, ymax=2)\n",
    "p += point([(-1.33,0)],size=60, hue=0.1, zorder=4)\n",
    "p += line( [(-1.33,0) ,(-1.33, 2),(-1.33, -2)],rgbcolor=(0,0,1))\n",
    "p += text(\"P\", (-1.45, 0.2) , fontsize=16, color='black')\n",
    "p += text(\"$y^2 = x^3 - x + 1$\", (-1.3,-1.8), fontsize=20, color='black')\n",
    "if SAVE_FIGURES: p.save(\"./figures/ecc_dbl_infty_over_R.png\")\n",
    "p.show()"
   ]
  },
  {
   "cell_type": "markdown",
   "id": "06b80a61-88c7-4c01-9bf4-c424c2857f1a",
   "metadata": {
    "editable": true,
    "slideshow": {
     "slide_type": "fragment"
    },
    "tags": []
   },
   "source": [
    "<p style=\"text-align:center\">\n",
    "<img src=\"./figures/ecc_dbl_infty_over_R.png\" alt=\"EC double to point at infinity over R\" >\n",
    "</p>"
   ]
  },
  {
   "cell_type": "markdown",
   "id": "8ed01bb7-b578-4532-9f14-b52dad77bad0",
   "metadata": {
    "editable": true,
    "slideshow": {
     "slide_type": "slide"
    },
    "tags": []
   },
   "source": [
    "### Point addition\n",
    "$$ \n",
    "\\begin{align*}\n",
    "P1 + P2 = Q\n",
    "\\end{align*}\n",
    "$$"
   ]
  },
  {
   "cell_type": "code",
   "execution_count": 46,
   "id": "d19f830f-ecf3-41d2-bbaa-7674838a0975",
   "metadata": {
    "editable": true,
    "jupyter": {
     "source_hidden": true
    },
    "scrolled": true,
    "slideshow": {
     "slide_type": "skip"
    },
    "tags": []
   },
   "outputs": [
    {
     "data": {
      "image/png": "[encoded data removed]",
      "text/plain": [
       "Graphics object consisting of 9 graphics primitives"
      ]
     },
     "metadata": {},
     "output_type": "display_data"
    }
   ],
   "source": [
    "# create elliptic curve over the Reals with 53 bit precision\n",
    "EC = EllipticCurve ( RealField (53) , [0 ,0 ,0 , -1 ,1]); EC\n",
    "# define two points to add on curve\n",
    "P1 = EC ( -1.20 , RealField (54)(1/25* sqrt (5)* sqrt (59))); P1\n",
    "P2 = EC (0.0 ,1)\n",
    "Q = P1 + P2 \n",
    "Qinv = (Q.xy()[0], Q.xy()[1]*-1)\n",
    "p = EC . plot ( thickness =2,xmin=-2 , xmax=2 , ymin=-2 , ymax=2)\n",
    "p += point ([ P1 . xy () , P2 . xy () , Q . xy (), Qinv ], size =60 , hue =0.1 , zorder =4)\n",
    "p += line([P1.xy(),Qinv])\n",
    "p += line([Q.xy(),Qinv],linestyle=\"--\") \n",
    "\n",
    "p += text(\"P1\",(-1.40000000000000, 0.687022561492707),fontsize=16, color='black')\n",
    "p += text(\"P2\",(0.000000000000000, 1.20000000000000),fontsize=16, color='black')\n",
    "p += text(\"Q\",( Q.xy()[0] + 0.2, Q.xy()[1]),fontsize=16,color='black')\n",
    "p += text(\"-Q\",( Qinv[0] + 0.2, Qinv[1]),fontsize=16,color='black')\n",
    "p += text(\"$y^2 = x^3 - x + 1$\", (-1.3,-1.8), fontsize=20, color='black')\n",
    "if SAVE_FIGURES: p.save(\"./figures/ecc_add_over_R.png\")\n",
    "p.show()"
   ]
  },
  {
   "cell_type": "markdown",
   "id": "575a5b51-8c7d-44f4-8e0c-9a8c7bdc0348",
   "metadata": {
    "editable": true,
    "slideshow": {
     "slide_type": ""
    },
    "tags": []
   },
   "source": [
    "<p style=\"text-align:center\">\n",
    "<img src=\"./figures/ecc_add_over_R.png\" alt=\"EC inverse over R\" >\n",
    "</p>"
   ]
  },
  {
   "cell_type": "markdown",
   "id": "9a33621f-7c28-43f9-95a0-61f0340fe2e6",
   "metadata": {
    "editable": true,
    "slideshow": {
     "slide_type": "skip"
    },
    "tags": []
   },
   "source": [
    "This operation refers to the addition of two points $P1$ and $P2$ on an elliptic curve $E$ over the real field $\\mathbb{R}$. \n",
    "The figure shows a geometrical example of point addition on the elliptic curve $y^2 =x^3-x+1$ over the real field $\\mathbb{R}$. \n",
    "From a geometrical perspective point addition on an elliptic curve works by drawing a line through both points so that it intersects the elliptic curve at a third point $-Q$. \n",
    "This third point $-Q$ is the reflection over the x-axis of the result $Q$ on the elliptic curve. \n",
    "The equation for this calculation is, $P1+P2=Q$. \n",
    "If there is no such intersection point in a point addition, then the two points to add are reflections of one another over the x-axis, $P2 = -P1$. \n",
    "In such a case a line through both points does not intersect the elliptic curve in a third point. \n",
    "The result of such an addition is defined as the *point at infinity*, $P1 + (-P1) = O$ or $P1 + (-P1) = \\infty$  "
   ]
  },
  {
   "cell_type": "markdown",
   "id": "c150edb9-e516-402b-9601-673ff78f85e3",
   "metadata": {
    "editable": true,
    "slideshow": {
     "slide_type": "slide"
    },
    "tags": []
   },
   "source": [
    "### Point addition over $\\mathbb{F}_p$ \n",
    "This time we use $\\mathbb{F}_{103}$ as underlying finite field:\n",
    "$$ \n",
    "\\begin{align*}\n",
    "P1 + P2 = Q\n",
    "\\end{align*}\n",
    "$$"
   ]
  },
  {
   "cell_type": "code",
   "execution_count": 51,
   "id": "16a595d8-49a6-498f-901c-93c7a4014cfd",
   "metadata": {
    "editable": true,
    "jupyter": {
     "source_hidden": true
    },
    "scrolled": true,
    "slideshow": {
     "slide_type": "skip"
    },
    "tags": []
   },
   "outputs": [
    {
     "name": "stderr",
     "output_type": "stream",
     "text": [
      "/usr/lib/python3/dist-packages/sage/plot/point.py:288: UserWarning: You passed a edgecolor/edgecolors ('none') for an unfilled marker ('_').  Matplotlib is ignoring the edgecolor in favor of the facecolor.  This behavior may change in the future.\n",
      "  subplot.scatter(self.xdata, self.ydata, s=s, c=c, alpha=a, zorder=z,\n"
     ]
    },
    {
     "data": {
      "image/png": "[encoded data removed]",
      "text/plain": [
       "Graphics object consisting of 5 graphics primitives"
      ]
     },
     "metadata": {},
     "output_type": "display_data"
    }
   ],
   "source": [
    "m = mod( (P2y - P1y) / ( P2x - P1x ), p)\n",
    "n = mod(P1y - m * P1x,p)\n",
    "\n",
    "points=list()\n",
    "for i in range(0,p):\n",
    "    points.append( (i, (m*i + n) % p ) )\n",
    "#print(points) \n",
    "\n",
    "#var('y x')\n",
    "#p += implicit_plot(y == m * x + n,(x,0,53),(y,0,53))\n",
    "\n",
    "Q = P1 + P2\n",
    "Qinv = (Q[0],Q[1]*-1)\n",
    "\n",
    "pl = plot(EC, size=60,ticks=[5,5])\n",
    "\n",
    "pl += point ([ P1 . xy () , P2 . xy () , Q . xy (), Qinv ], size =60 , hue =0.1 , zorder =4)\n",
    "pl += line([P1.xy(),P2.xy()]) # a direct line through boath input points (not always the actual line produced by the points)   \n",
    "pl += line([Q.xy(),Qinv],linestyle=\"--\") # the resulting point and its inverse\n",
    "pl += point(points,marker=\"_\") # the line(s) produces through the two points to add\n",
    "if SAVE_FIGURES: pl.save(\"./figures/ecc_add_over_F.png\")\n",
    "pl.show()"
   ]
  },
  {
   "cell_type": "markdown",
   "id": "c00b0312-f125-4f3b-a8f7-cc78bb43dd3e",
   "metadata": {
    "editable": true,
    "slideshow": {
     "slide_type": "fragment"
    },
    "tags": []
   },
   "source": [
    "<p style=\"text-align:center\">\n",
    "<img src=\"./figures/ecc_add_over_F.png\" alt=\"EC inverse over R\" >\n",
    "</p>"
   ]
  },
  {
   "cell_type": "markdown",
   "id": "cbde1097-70d7-4035-a77a-9106ce0312e7",
   "metadata": {
    "editable": true,
    "slideshow": {
     "slide_type": "subslide"
    },
    "tags": []
   },
   "source": [
    "### Point addition formular\n",
    "$$\n",
    " Q = P1 + P2\n",
    "$$\n",
    "\n",
    "$$\n",
    "\\begin{align*}\n",
    "m &= \\frac{p1_y - p2_y}{p1_x - p2_y} \\\\\n",
    "r_x &= m^2 - p1_x - p2_x \\\\\n",
    "r_y &= m \\cdot (p1_x - r_x) - p1_y \\\\\n",
    "Q &= \\langle r_x, r_y \\rangle\n",
    "\\end{align*}\n",
    "$$"
   ]
  },
  {
   "cell_type": "markdown",
   "id": "d0c67410-f568-483b-8119-b4ad52abea80",
   "metadata": {
    "editable": true,
    "slideshow": {
     "slide_type": "skip"
    },
    "tags": []
   },
   "source": [
    "For a good tutorial on the subject also see [ECC Introduction by Johannes Bauer](https://www.johannes-bauer.com/compsci/ecc/)"
   ]
  },
  {
   "cell_type": "code",
   "execution_count": 47,
   "id": "6ea16724-236e-468a-98eb-d1a424754f80",
   "metadata": {
    "editable": true,
    "slideshow": {
     "slide_type": "subslide"
    },
    "tags": []
   },
   "outputs": [],
   "source": [
    "def point_addition_sage(P1, P2, a):\n",
    "    # EC point addition, this function works with \n",
    "    # x,y of points over the reals as well as over FF\n",
    "    if P1 is None or P2 is None: # check for the zero point \n",
    "        return P1 or P2\n",
    "    x1, y1 = P1\n",
    "    x2, y2 = P2\n",
    "    if x1 == x2:\n",
    "        return point_double_sage(P1,a)\n",
    "    m = (y1 - y2) / (x1 - x2)\n",
    "    xr = m**2 - x1 - x2\n",
    "    yr = m * (x1 - xr) - y1\n",
    "    return (xr, yr)"
   ]
  },
  {
   "cell_type": "code",
   "execution_count": 48,
   "id": "69f1feb1-f958-44e0-937a-3e070b7dc8bb",
   "metadata": {
    "editable": true,
    "slideshow": {
     "slide_type": "skip"
    },
    "tags": []
   },
   "outputs": [],
   "source": [
    "def point_addition_sage_v2(P1, P2, a):\n",
    "    # EC point addition in sage over some finite field mod p\n",
    "    if P1 is None or P2 is None: # check for the zero point \n",
    "        return P1 or P2\n",
    "    x1, y1 = P1\n",
    "    x2, y2 = P2\n",
    "    if x1 == x2:\n",
    "        return point_double_sage_v2(P1,a)\n",
    "    m =  (y1 - y2) * ( (x1 - x2) )^(-1) \n",
    "    xr = m^2 - x1 - x2   \n",
    "    yr = y1 + m * (xr - x1) \n",
    "    return (xr, -yr )"
   ]
  },
  {
   "cell_type": "code",
   "execution_count": 49,
   "id": "554a4a16-d064-4e60-b0a8-88edf1d45a61",
   "metadata": {
    "editable": true,
    "slideshow": {
     "slide_type": "subslide"
    },
    "tags": []
   },
   "outputs": [
    {
     "name": "stdout",
     "output_type": "stream",
     "text": [
      "(26, 25)\n",
      "(28, 15)\n"
     ]
    }
   ],
   "source": [
    "p = 31\n",
    "a = FF(-1)\n",
    "b = FF(1)\n",
    "FF = FiniteField(p)\n",
    "EC = EllipticCurve(FF, [0,0,0,a,b]); EC\n",
    "P1 = EC.random_element()\n",
    "P2 = EC.random_element()\n",
    "print(P1.xy())\n",
    "print(P2.xy())\n",
    "P1x,P1y = P1.xy()\n",
    "P2x,P2y = P2.xy()"
   ]
  },
  {
   "cell_type": "code",
   "execution_count": 50,
   "id": "44e5d99c-80be-406f-9d62-9d64085c223b",
   "metadata": {
    "editable": true,
    "slideshow": {
     "slide_type": "skip"
    },
    "tags": []
   },
   "outputs": [],
   "source": [
    "assert point_addition_sage(P1.xy(), P2.xy(), a) == point_addition_sage_v2(P1.xy(), P2.xy(), a)\n",
    "assert point_addition_sage(P1.xy(), P2.xy(), a) == (P1 + P2).xy()"
   ]
  },
  {
   "cell_type": "code",
   "execution_count": 52,
   "id": "6d4b40c5-fa44-41a0-b2b3-19939a62d939",
   "metadata": {
    "editable": true,
    "slideshow": {
     "slide_type": "skip"
    },
    "tags": []
   },
   "outputs": [
    {
     "data": {
      "text/plain": [
       "(22 : 5 : 1)"
      ]
     },
     "execution_count": 52,
     "metadata": {},
     "output_type": "execute_result"
    }
   ],
   "source": [
    "p = 31\n",
    "FF = FiniteField(p)\n",
    "EC = EllipticCurve(FF, [0,0,0,-1,1]); EC # a=-1 b=1\n",
    "P1 = EC.random_element(); P1"
   ]
  },
  {
   "cell_type": "code",
   "execution_count": 53,
   "id": "364f3b9e-ca0f-40d0-910b-fd019eb0c1ce",
   "metadata": {
    "editable": true,
    "slideshow": {
     "slide_type": "skip"
    },
    "tags": []
   },
   "outputs": [
    {
     "data": {
      "text/plain": [
       "(9 : 16 : 1)"
      ]
     },
     "execution_count": 53,
     "metadata": {},
     "output_type": "execute_result"
    }
   ],
   "source": [
    "P2 = EC.random_element(); P2"
   ]
  },
  {
   "cell_type": "code",
   "execution_count": 54,
   "id": "5f1be492-69a3-4236-bd85-09787b9ac55b",
   "metadata": {
    "editable": true,
    "slideshow": {
     "slide_type": "fragment"
    },
    "tags": []
   },
   "outputs": [
    {
     "data": {
      "text/plain": [
       "(2 : 21 : 1)"
      ]
     },
     "execution_count": 54,
     "metadata": {},
     "output_type": "execute_result"
    }
   ],
   "source": [
    "Q_point = P1+P2; Q_point"
   ]
  },
  {
   "cell_type": "code",
   "execution_count": 55,
   "id": "adb976d4-4714-44a3-af46-8104d9bc7c66",
   "metadata": {
    "editable": true,
    "slideshow": {
     "slide_type": "fragment"
    },
    "tags": []
   },
   "outputs": [
    {
     "data": {
      "text/plain": [
       "(2, 21)"
      ]
     },
     "execution_count": 55,
     "metadata": {},
     "output_type": "execute_result"
    }
   ],
   "source": [
    "Q_xy = point_addition_sage(P1.xy(),P2.xy(),a=FF(-1)); Q_xy"
   ]
  },
  {
   "cell_type": "code",
   "execution_count": 56,
   "id": "19c361f3-f7b2-42a9-8597-ee21b6c4ee2d",
   "metadata": {
    "editable": true,
    "slideshow": {
     "slide_type": "skip"
    },
    "tags": []
   },
   "outputs": [],
   "source": [
    "assert Q_point.xy()[0] == Q_xy[0] and Q_point.xy()[1] == Q_xy[1]"
   ]
  },
  {
   "cell_type": "code",
   "execution_count": 57,
   "id": "a2ce6c2d-cfb1-4e0f-8a15-10036debf3c6",
   "metadata": {
    "editable": true,
    "slideshow": {
     "slide_type": "skip"
    },
    "tags": []
   },
   "outputs": [
    {
     "data": {
      "text/plain": [
       "(2, 21)"
      ]
     },
     "execution_count": 57,
     "metadata": {},
     "output_type": "execute_result"
    }
   ],
   "source": [
    "Q_xy = point_addition_sage_v2(P1.xy(),P2.xy(),a=FF(-1)); Q_xy"
   ]
  },
  {
   "cell_type": "code",
   "execution_count": 58,
   "id": "541884ff-15bb-49ec-a558-71642750c0f4",
   "metadata": {
    "editable": true,
    "jupyter": {
     "source_hidden": true
    },
    "slideshow": {
     "slide_type": "skip"
    },
    "tags": []
   },
   "outputs": [],
   "source": [
    "assert Q_point.xy()[0] == Q_xy[0] and Q_point.xy()[1] == Q_xy[1]"
   ]
  },
  {
   "cell_type": "markdown",
   "id": "8eecc90a-f539-4306-8f9b-f28613f10338",
   "metadata": {
    "editable": true,
    "slideshow": {
     "slide_type": "skip"
    },
    "tags": []
   },
   "source": [
    "#### Point addition in python"
   ]
  },
  {
   "cell_type": "code",
   "execution_count": 59,
   "id": "8bc853ad-1d49-4ff6-881d-90db7d0cbf31",
   "metadata": {
    "editable": true,
    "slideshow": {
     "slide_type": "skip"
    },
    "tags": []
   },
   "outputs": [
    {
     "data": {
      "text/plain": [
       "<module 'src.ecarithmetic' from '/workdir/src/ecarithmetic.py'>"
      ]
     },
     "execution_count": 59,
     "metadata": {},
     "output_type": "execute_result"
    }
   ],
   "source": [
    "import src.ecarithmetic as eca\n",
    "import importlib \n",
    "importlib.reload(eca)"
   ]
  },
  {
   "cell_type": "code",
   "execution_count": 60,
   "id": "be4f8ef7-20a7-4f90-a61b-edddba043880",
   "metadata": {
    "editable": true,
    "slideshow": {
     "slide_type": "skip"
    },
    "tags": []
   },
   "outputs": [
    {
     "name": "stdout",
     "output_type": "stream",
     "text": [
      "(22, 5) (9, 16) all coordinate values are of type <class 'int'>\n"
     ]
    }
   ],
   "source": [
    "x1 = int(P1.xy()[0])\n",
    "y1 = int(P1.xy()[1])\n",
    "x2 = int(P2.xy()[0])\n",
    "y2 = int(P2.xy()[1])\n",
    "print((x1,y1),(x2,y2),f\"all coordinate values are of type {type(x1)}\")"
   ]
  },
  {
   "cell_type": "code",
   "execution_count": 61,
   "id": "bebd0bc7-d24c-49f8-942d-8f1ac32c9be8",
   "metadata": {
    "editable": true,
    "slideshow": {
     "slide_type": "skip"
    },
    "tags": []
   },
   "outputs": [
    {
     "data": {
      "text/plain": [
       "(2, 21)"
      ]
     },
     "execution_count": 61,
     "metadata": {},
     "output_type": "execute_result"
    }
   ],
   "source": [
    "Q_xy = eca.add_points((x1,y1),(x2,y2),a=-1,p=p); Q_xy"
   ]
  },
  {
   "cell_type": "code",
   "execution_count": 62,
   "id": "fb28949a-300c-4166-b550-d0e30f3d5298",
   "metadata": {
    "editable": true,
    "slideshow": {
     "slide_type": "skip"
    },
    "tags": []
   },
   "outputs": [],
   "source": [
    "assert Q_point.xy()[0] == Q_xy[0] and Q_point.xy()[1] == Q_xy[1]"
   ]
  },
  {
   "cell_type": "markdown",
   "id": "fe5cdba9-45ea-401d-b179-86e8f4d489e0",
   "metadata": {
    "editable": true,
    "slideshow": {
     "slide_type": "slide"
    },
    "tags": []
   },
   "source": [
    "### Point multiplication\n",
    "Point multiplication, or scalar multiplication,  is an important operation in ECC. \n",
    "A simple algorithm for point multiplication is the binary method also called right-to-left binary method. \n",
    "Let $G=(x,y)$ be a point on an elliptic curve over $\\mathbb{F}$, then point multiplication can be expressed as calculation of the following form: \n",
    "\n",
    "$$\n",
    "    Q=kG=\\overbrace{G+G+G+...+G}^{\\text{k times G}}\n",
    "$$\n",
    "\n",
    "This chain of additions can be broken up into several multiplications and additions. \n",
    "For example if $k=17$ the chain of $G+G+G+...+G$ can be expressed as $(2\\cdot (2\\cdot (2\\cdot (2\\cdot G))))+G = 17\\cdot G$. \n",
    "This reduces the $17$ additions to $4$ multiplications and one addition operation. "
   ]
  },
  {
   "cell_type": "markdown",
   "id": "5e9699c3-823a-4505-8e24-910b07c60c04",
   "metadata": {
    "editable": true,
    "slideshow": {
     "slide_type": "subslide"
    },
    "tags": []
   },
   "source": [
    "#### Point multiplication formular\n",
    "Algorithm for *point multiplication* from [[GECC](https://link.springer.com/book/10.1007/b97644)]\n",
    "\n",
    "![binarymultiplication](./algorithms/binarymultiplication.png)\n",
    "\n",
    "As this algorithm demonstrates, the operations needed for point multiplication are *point addition* and *point doubling*. \n",
    "In ECC these two types of calculations have to be performed on elliptic curves that are defined over the finite field $\\mathbb{F}_p$."
   ]
  },
  {
   "cell_type": "code",
   "execution_count": 63,
   "id": "aba6e532-8a4d-4d9d-ad77-e67ae68ff6a0",
   "metadata": {
    "editable": true,
    "slideshow": {
     "slide_type": "subslide"
    },
    "tags": []
   },
   "outputs": [],
   "source": [
    "def point_multiplication_sage(k, P, a):\n",
    "    result = None # Initialize with point at infinity \n",
    "    addend = P\n",
    "    for b in [int(bit) for bit in bin(int(k))[2:][::-1]]: # from LSB to MSB\n",
    "        if b:\n",
    "            result = point_addition_sage(result, addend, a=a)\n",
    "        addend = point_double_sage(addend, a=a)\n",
    "    return result"
   ]
  },
  {
   "cell_type": "code",
   "execution_count": 64,
   "id": "0ad6ab27-6f9b-4543-ae67-19cf2b8f7619",
   "metadata": {
    "editable": true,
    "scrolled": true,
    "slideshow": {
     "slide_type": "subslide"
    },
    "tags": []
   },
   "outputs": [
    {
     "data": {
      "text/plain": [
       "(18 : 24 : 1)"
      ]
     },
     "execution_count": 64,
     "metadata": {},
     "output_type": "execute_result"
    }
   ],
   "source": [
    "p = 31\n",
    "FF = FiniteField(p)\n",
    "EC = EllipticCurve(FF, [0,0,0,-1,1]); EC # a=-1 b=1\n",
    "P = EC.random_element(); P"
   ]
  },
  {
   "cell_type": "code",
   "execution_count": 65,
   "id": "47d5e855-bd36-402b-b566-46837bf38c74",
   "metadata": {
    "editable": true,
    "slideshow": {
     "slide_type": "fragment"
    },
    "tags": []
   },
   "outputs": [
    {
     "data": {
      "text/plain": [
       "12"
      ]
     },
     "execution_count": 65,
     "metadata": {},
     "output_type": "execute_result"
    }
   ],
   "source": [
    "import random\n",
    "k = random.randint(1,p); k"
   ]
  },
  {
   "cell_type": "code",
   "execution_count": 66,
   "id": "3bd0e4e1-2658-4289-82f9-9344a89013de",
   "metadata": {
    "editable": true,
    "slideshow": {
     "slide_type": "fragment"
    },
    "tags": []
   },
   "outputs": [
    {
     "data": {
      "text/plain": [
       "(5 : 20 : 1)"
      ]
     },
     "execution_count": 66,
     "metadata": {},
     "output_type": "execute_result"
    }
   ],
   "source": [
    "Q_point = k*P; Q_point"
   ]
  },
  {
   "cell_type": "code",
   "execution_count": 67,
   "id": "c455466f-be76-4570-b53c-43c8656231bb",
   "metadata": {
    "editable": true,
    "slideshow": {
     "slide_type": "fragment"
    },
    "tags": []
   },
   "outputs": [
    {
     "data": {
      "text/plain": [
       "(5, 20)"
      ]
     },
     "execution_count": 67,
     "metadata": {},
     "output_type": "execute_result"
    }
   ],
   "source": [
    "Q_xy = point_multiplication_sage(k, P.xy(), a=FF(-1) ); Q_xy"
   ]
  },
  {
   "cell_type": "code",
   "execution_count": 68,
   "id": "43cf8fad-58c5-479f-ba04-21cc34246e19",
   "metadata": {
    "editable": true,
    "slideshow": {
     "slide_type": "fragment"
    },
    "tags": []
   },
   "outputs": [],
   "source": [
    "assert Q_point.xy()[0] == Q_xy[0] and Q_point.xy()[1] == Q_xy[1]"
   ]
  },
  {
   "cell_type": "markdown",
   "id": "ec2fb11c-49d3-422d-93a0-ec94d64e5855",
   "metadata": {
    "editable": true,
    "slideshow": {
     "slide_type": "skip"
    },
    "tags": []
   },
   "source": [
    "#### Point multiplication in python"
   ]
  },
  {
   "cell_type": "code",
   "execution_count": 69,
   "id": "cb85d923-0141-4e4c-824c-c91c2e3bbc23",
   "metadata": {
    "editable": true,
    "slideshow": {
     "slide_type": "skip"
    },
    "tags": []
   },
   "outputs": [
    {
     "data": {
      "text/plain": [
       "<module 'src.ecarithmetic' from '/workdir/src/ecarithmetic.py'>"
      ]
     },
     "execution_count": 69,
     "metadata": {},
     "output_type": "execute_result"
    }
   ],
   "source": [
    "import src.ecarithmetic as eca\n",
    "import importlib \n",
    "importlib.reload(eca)"
   ]
  },
  {
   "cell_type": "code",
   "execution_count": 70,
   "id": "22345a42-78cf-43b5-913b-965d39355d19",
   "metadata": {
    "editable": true,
    "slideshow": {
     "slide_type": "skip"
    },
    "tags": []
   },
   "outputs": [
    {
     "name": "stdout",
     "output_type": "stream",
     "text": [
      "(18, 24) all coordinate values are of type <class 'int'>\n"
     ]
    }
   ],
   "source": [
    "x = int(P.xy()[0])\n",
    "y = int(P.xy()[1])\n",
    "print((x,y),f\"all coordinate values are of type {type(x)}\")"
   ]
  },
  {
   "cell_type": "code",
   "execution_count": 71,
   "id": "82abf83f-b93b-4767-8a6f-beda082a477a",
   "metadata": {
    "editable": true,
    "slideshow": {
     "slide_type": "skip"
    },
    "tags": []
   },
   "outputs": [
    {
     "data": {
      "text/plain": [
       "(5, 20)"
      ]
     },
     "execution_count": 71,
     "metadata": {},
     "output_type": "execute_result"
    }
   ],
   "source": [
    "Q_xy = eca.double_and_add(k, (x,y), a=-1, p=p ); Q_xy"
   ]
  },
  {
   "cell_type": "code",
   "execution_count": 72,
   "id": "1d7ff4d9-3762-422e-a4c7-d01f15e103d2",
   "metadata": {
    "editable": true,
    "slideshow": {
     "slide_type": "skip"
    },
    "tags": []
   },
   "outputs": [],
   "source": [
    "assert Q_point.xy()[0] == Q_xy[0] and Q_point.xy()[1] == Q_xy[1]"
   ]
  },
  {
   "cell_type": "markdown",
   "id": "151d0e36-cdba-40aa-af50-e26930ad3a27",
   "metadata": {
    "editable": true,
    "slideshow": {
     "slide_type": "slide"
    },
    "tags": []
   },
   "source": [
    "## ECC - domain parameters\n",
    "In case of ECC over prime fields ($\\mathbb{F}_p$), where $p \\in \\textrm{Prime}$, the following *domain parameters* have to be defined:\n",
    "* $p$: The prime defining the field $\\mathbb{F}_p$, under which the curve operates. All point operations $(+,\\cdot)$ are taken modulo $p$\n",
    "* $a,b$: Two integers which are the coefficients defining the curve $E$\n",
    "* $G$: The generator- or base-point used as a starting point for multiplications\n",
    "* $n$: The order of $G$, which is the number of distinct points on the curve which can be computed by multiplying $G$ with a scalar value. Ideally this number is equal to t he number of points on the elliptic curve over $\\mathbb{F}_p$, which is denotd by $\\#E(\\mathbb{F}_p)$\n",
    "* $h$: The cofactor, i.e., number of points on the elliptic curve divided by $n$"
   ]
  },
  {
   "cell_type": "markdown",
   "id": "2594e3e0-2d42-4285-9dfd-2c875294a792",
   "metadata": {
    "editable": true,
    "slideshow": {
     "slide_type": "subslide"
    },
    "tags": []
   },
   "source": [
    "### Example: Secp256k1 \n",
    "This is an example instanciation of curve *secp256k1* specified in [[SEC2v2](http://www.secg.org/sec2-v2.pdf)] and allowed in [[SP 800-186]](https://csrc.nist.gov/pubs/sp/800/186/final) for blockchain-related applications. \n",
    "The curve has the following short Weierstrass form: \n",
    "$$\n",
    "    y^2 \\equiv x^3 + 7 \\pmod p \n",
    "$$"
   ]
  },
  {
   "cell_type": "markdown",
   "id": "5db18afb-3e75-4f71-a15b-19d6c5d379e8",
   "metadata": {
    "editable": true,
    "slideshow": {
     "slide_type": "skip"
    },
    "tags": []
   },
   "source": [
    "A popular implementation is [libsecp256k1](https://github.com/bitcoin-core/secp256k1) used in Bitcoin. \n",
    "\n",
    "Although the curve is used throughout the cryptocurrency communityl, not a lot of test vectory are available in public standards. Some test vectors can be found [here](https://crypto.stackexchange.com/questions/41316/complete-set-of-test-vectors-for-ecdsa-secp256k1) and [here](https://crypto.stackexchange.com/questions/784/are-there-any-secp256k1-ecdsa-test-examples-available), and [libsecp256k1](https://github.com/bitcoin-core/secp256k1/blob/master/src/tests.c)."
   ]
  },
  {
   "cell_type": "code",
   "execution_count": 73,
   "id": "8ec6a3bf-f712-48db-847e-d04e6df30212",
   "metadata": {
    "editable": true,
    "slideshow": {
     "slide_type": "fragment"
    },
    "tags": []
   },
   "outputs": [],
   "source": [
    "# Secp256k1 from https://www.secg.org/sec2-v2.pdf\n",
    "p=2**256 - 2**32 - 2**9 - 2**8 - 2**7 - 2**6 - 2**4 - 1\n",
    "a=0;b=7\n",
    "x_G=0x79BE667EF9DCBBAC55A06295CE870B07029BFCDB2DCE28D959F2815B16F81798\n",
    "y_G=0x483ADA7726A3C4655DA4FBFC0E1108A8FD17B448A68554199C47D08FFB10D4B8\n",
    "n=0xFFFFFFFFFFFFFFFFFFFFFFFFFFFFFFFEBAAEDCE6AF48A03BBFD25E8CD0364141\n",
    "h=1\n",
    "FF = FiniteField(p)\n",
    "EC = EllipticCurve(FF, [0,0,0,a,b]); EC\n",
    "G = EC.point((x_G,y_G))"
   ]
  },
  {
   "cell_type": "markdown",
   "id": "fbc8a546-576e-4645-a492-e339a8197d3c",
   "metadata": {
    "editable": true,
    "slideshow": {
     "slide_type": "subslide"
    },
    "tags": []
   },
   "source": [
    "#### Sanity checking of the curve\n",
    "The *trace* of an ellipcit curve over a finite field is defined as $ t = p + 1 - | E(\\mathbb{F}_o) |$ [[ITMC](https://www.cs.umd.edu/~jkatz/imc.html)]. Since the order of a curve can be computed efficiently this can be a first sanity check if everything has been defined correctly. "
   ]
  },
  {
   "cell_type": "code",
   "execution_count": 74,
   "id": "a88de031-4ec6-487b-867b-3455367cd785",
   "metadata": {
    "editable": true,
    "slideshow": {
     "slide_type": "fragment"
    },
    "tags": []
   },
   "outputs": [
    {
     "data": {
      "text/plain": [
       "432420386565659656852420866390673177327"
      ]
     },
     "execution_count": 74,
     "metadata": {},
     "output_type": "execute_result"
    }
   ],
   "source": [
    "t=p+1 - EC.order(); t "
   ]
  },
  {
   "cell_type": "code",
   "execution_count": 75,
   "id": "92bacd08-043f-4e62-b741-10352bdb9dec",
   "metadata": {
    "editable": true,
    "slideshow": {
     "slide_type": "fragment"
    },
    "tags": []
   },
   "outputs": [
    {
     "data": {
      "text/plain": [
       "432420386565659656852420866390673177327"
      ]
     },
     "execution_count": 75,
     "metadata": {},
     "output_type": "execute_result"
    }
   ],
   "source": [
    "EC.trace_of_frobenius() # also available as function in sage"
   ]
  },
  {
   "cell_type": "code",
   "execution_count": 76,
   "id": "8474c0ef-2de8-4c75-90d5-ebc306a50830",
   "metadata": {
    "editable": true,
    "slideshow": {
     "slide_type": "fragment"
    },
    "tags": []
   },
   "outputs": [
    {
     "data": {
      "text/plain": [
       "True"
      ]
     },
     "execution_count": 76,
     "metadata": {},
     "output_type": "execute_result"
    }
   ],
   "source": [
    "EC.order() == G.order() == n"
   ]
  },
  {
   "cell_type": "code",
   "execution_count": 77,
   "id": "ca58ac13-3197-43a9-8ad6-2813d76633b6",
   "metadata": {
    "editable": true,
    "slideshow": {
     "slide_type": ""
    },
    "tags": []
   },
   "outputs": [
    {
     "data": {
      "text/plain": [
       "('0x4e7927e13423b2afa70f1299ad041978e55a1d9af1860a826ddb15024ed7da2',\n",
       " '0xd369291d811f2df550b1153d12ca5d3132b7f2e658a90300c0daa39a476db17c')"
      ]
     },
     "execution_count": 77,
     "metadata": {},
     "output_type": "execute_result"
    }
   ],
   "source": [
    "PK = 104180048334815325830625441518578326979476797852517177973225433558381925820558 * G\n",
    "(hex(PK[0]),hex(PK[1]))"
   ]
  },
  {
   "cell_type": "code",
   "execution_count": 78,
   "id": "56b1ac98-3576-4a53-ab2b-33b7412c3383",
   "metadata": {
    "editable": true,
    "slideshow": {
     "slide_type": ""
    },
    "tags": []
   },
   "outputs": [
    {
     "data": {
      "text/plain": [
       "(2218404120244963262942688441315034122895494739329766368892963870531381984674 : 95623813759907722199505071633719440492035181416518679137887147878608899256700 : 1)"
      ]
     },
     "execution_count": 78,
     "metadata": {},
     "output_type": "execute_result"
    }
   ],
   "source": [
    "PK"
   ]
  },
  {
   "cell_type": "markdown",
   "id": "5d7cc4e7-a42b-42be-870c-8aaabe915da2",
   "metadata": {
    "editable": true,
    "slideshow": {
     "slide_type": ""
    },
    "tags": []
   },
   "source": [
    "#### Point multiplication"
   ]
  },
  {
   "cell_type": "code",
   "execution_count": 79,
   "id": "335d7203-27fa-43b8-8a12-b17d55a06ebb",
   "metadata": {},
   "outputs": [
    {
     "name": "stdout",
     "output_type": "stream",
     "text": [
      "43159412243421451483526775168090392406101811960614411036878899673868778350932\n"
     ]
    },
    {
     "data": {
      "text/plain": [
       "(41858324777353967549034659156569719092956488814023218795456365288203237979134 : 16555327082719145925295244286557372390265073495347636540557744407873083411827 : 1)"
      ]
     },
     "execution_count": 79,
     "metadata": {},
     "output_type": "execute_result"
    }
   ],
   "source": [
    "k = int.from_bytes(bytes.fromhex('5f6b5c9588955286ea5cac4cd8c42f3d55a0e29c8af2bfeba487cf9d44b42954'),\"big\")\n",
    "print(k)\n",
    "Q = k * G\n",
    "Q"
   ]
  },
  {
   "cell_type": "code",
   "execution_count": 80,
   "id": "3e23d174-24ac-4680-b2a3-6424d99c0f6c",
   "metadata": {},
   "outputs": [
    {
     "name": "stdout",
     "output_type": "stream",
     "text": [
      "43159412243421451483526775168090392406101811960614411036878899673868778350932\n"
     ]
    },
    {
     "data": {
      "text/plain": [
       "(41858324777353967549034659156569719092956488814023218795456365288203237979134 : 16555327082719145925295244286557372390265073495347636540557744407873083411827 : 1)"
      ]
     },
     "execution_count": 80,
     "metadata": {},
     "output_type": "execute_result"
    }
   ],
   "source": [
    "k = 0x5f6b5c9588955286ea5cac4cd8c42f3d55a0e29c8af2bfeba487cf9d44b42954\n",
    "print(k)\n",
    "Q = k * G\n",
    "Q"
   ]
  },
  {
   "cell_type": "markdown",
   "id": "555aa949-d7a3-457c-b9b2-13de0cbac2a0",
   "metadata": {
    "editable": true,
    "slideshow": {
     "slide_type": "slide"
    },
    "tags": []
   },
   "source": [
    "## ECDSA\n",
    "<a id='ecdsa'></a>"
   ]
  },
  {
   "cell_type": "markdown",
   "id": "3bc4189d-6de8-4098-9862-d2766385837e",
   "metadata": {
    "editable": true,
    "slideshow": {
     "slide_type": "slide"
    },
    "tags": []
   },
   "source": [
    "### ECDSA - Signature creation\n",
    "Given a curve $(p,a,b,G,n)$, and a secret key $d_A$ (a scalar value):\n",
    "* Compute the public key $Q_A = d_A \\cdot G$\n",
    "* Compute hash of the data/message to be signed $ e = hash(m)$\n",
    "* Compute the first part of the signature, ephemeral key pair $(k,R)$:\n",
    "  + Generate a *random nonce* k such that $0 < k < n$\n",
    "  + Calculate point\n",
    "    $$\n",
    "        R = k \\cdot G = \\binom{r_x}{r_y}\n",
    "    $$\n",
    "  + Generate $r = r_x \\pmod n$, where $ r \\not = 0 $\n",
    "* Generate the rest of the signature:\n",
    "    $$\n",
    "        s = \\frac{e+d_A \\cdot r}{k} \\pmod n = k^{-1}\\cdot(e+d_A \\cdot r) \\pmod n  \n",
    "    $$\n",
    "* Publish the signature $\\textbf{(r,s)}$ together with the public key $Q_A$"
   ]
  },
  {
   "cell_type": "markdown",
   "id": "3af8eec2-a72f-434d-81c0-a7d788755325",
   "metadata": {
    "editable": true,
    "slideshow": {
     "slide_type": "slide"
    },
    "tags": []
   },
   "source": [
    "### ECDSA - Signature verification\n",
    "Given a curve $(p,a,b,G,n)$, a public key $Q_A$ together with a signature $(r,s)$.\n",
    "The signature $(r,s)$ over $ m $ is valid iff:\n",
    "* The signature values are plausible, i.e., $0 < r < n$ and $0 < s < n$\n",
    "* (Re-)compute the hash of the data/message $e = hash(m)$\n",
    "* Invert $s$ modulo $n$, i.e., $w = s^{-1} \\pmod n$\n",
    "  + Since $n$ is known and especially since $n \\in \\textrm{Primes}$, finding the multiplicate inverse $s^{-1}$ is efficient.  \n",
    "  + Note: $s^{-1}$ can also be written as $1/s$\n",
    "* Calculate $u_1 = e\\cdot w \\pmod n$, and $u_2 = r\\cdot w \\pmod n$\n",
    "* Derive point $P$:\n",
    "  $$\n",
    "    P = \\binom{p_x}{p_y} = u_1\\cdot G + u_2 \\cdot Q_A\n",
    "  $$\n",
    "* If $p_x = r \\pmod n $, the signature is valid"
   ]
  },
  {
   "cell_type": "markdown",
   "id": "40f6f97e-7c9a-4080-9f88-d4b8915db368",
   "metadata": {
    "editable": true,
    "slideshow": {
     "slide_type": "subslide"
    },
    "tags": []
   },
   "source": [
    "### ECDSA - Signature verification\n",
    "Given a curve $(p,a,b,G,n)$, a public key $Q_A$ together with a signature $(r,s)$.\n",
    "The signature checking algorithm for $(r,s)$ over $m$ is correct because:\n",
    "$$\n",
    "\\begin{align*}\n",
    "P  &= u_1 \\cdot G + u_2 \\cdot Q_A \\\\\n",
    "u_1 &= e \\cdot w \\text{ and } \\\\\n",
    "u_2 &= r \\cdot w \\\\\n",
    "P  &= e \\cdot w \\cdot G + r \\cdot w \\cdot Q_A \\\\\n",
    "P  &= e \\cdot w \\cdot G + r \\cdot w \\cdot d_A \\cdot G \\\\\n",
    "P  &= (e \\cdot w + r \\cdot w \\cdot d_A) \\cdot G \\\\\n",
    "P  &= w \\cdot (e + r \\cdot d_A) \\cdot G \\\\\n",
    "w  &= s^{-1} = \\left(\\frac{e+d_A\\cdot r}{k}\\right)^{-1} = \\frac{k}{e + d_A \\cdot r} \\pmod n \\\\\n",
    "P  &= \\frac{k}{e + d_A \\cdot r}\\cdot (e + d_A \\cdot r) \\cdot G = k \\cdot G \n",
    "\\end{align*}\n",
    "$$"
   ]
  },
  {
   "cell_type": "markdown",
   "id": "83e45877-9db1-4742-95df-f43c56e801d2",
   "metadata": {
    "editable": true,
    "slideshow": {
     "slide_type": "slide"
    },
    "tags": []
   },
   "source": [
    "### ECDSA - Nonce reuse\n",
    "Do not reuse nonces in ECDSA!\n",
    "* **n-on-ce** = **n**umber **on**ly use on**ce**\n",
    "* Either derive from secure RNG or deterministically\n",
    "  + http://tools.ietf.org/html/rfc6979\n",
    "  + In [EdDSA](https://datatracker.ietf.org/doc/html/rfc8032#section-8.2) deterministic nonces are the default\n"
   ]
  },
  {
   "cell_type": "markdown",
   "id": "a0b6ed5b-c30f-400c-98ac-27141a4f74e4",
   "metadata": {
    "editable": true,
    "slideshow": {
     "slide_type": "slide"
    },
    "tags": []
   },
   "source": [
    "### ECDSA - Nonce reuse\n",
    "**Example:** Sony PS3 ECDSA nonce reuse vulnerability\n",
    "* PS3 used code signing to only allow code from trusted sources to be executed\n",
    "* Nonce was reused\n",
    "* Secret key was recovered\n",
    "* After fail0verflow presented the attack at [27c3](https://events.ccc.de/congress/2010/Fahrplan/events/4087.en.html) George Hotz (geohot) released the private key of the PS3 together with a \"Hello  world program\" for the PS3\n",
    "* [Lawsuits followed](https://en.wikipedia.org/wiki/PlayStation_3_homebrew)\n",
    "* [Now the case is settled](https://en.wikipedia.org/wiki/Sony_Computer_Entertainment_America,_Inc._v._Hotz)\n",
    "\n",
    "<p style=\"text-align:center\">\n",
    "<img src=\"https://upload.wikimedia.org/wikipedia/commons/7/7d/Free-speech-flag-ps3.svg\" alt=\"PS3 key\" width=\"128\">\n",
    "</p>\n",
    "<p style=\"text-align:center;font-size:10px\">\n",
    "<a href=\"https://upload.wikimedia.org/wikipedia/commons/7/7d/Free-speech-flag-ps3.svg\">PS3 code signing private key encoded as image (image source)</a>\n",
    "</p>\n"
   ]
  },
  {
   "cell_type": "markdown",
   "id": "34d5d25e-16b4-4469-a3fb-b13908be194f",
   "metadata": {
    "editable": true,
    "slideshow": {
     "slide_type": "subslide"
    },
    "tags": []
   },
   "source": [
    "<p style=\"text-align:center\">\n",
    "<img src=\"./img/nonce.png\" alt=\"PS3 meme\" width=\"600\">\n",
    "</p>"
   ]
  },
  {
   "cell_type": "markdown",
   "id": "28ad1001-09ce-49e9-81d1-ef039bf376f0",
   "metadata": {
    "editable": true,
    "slideshow": {
     "slide_type": "slide"
    },
    "tags": []
   },
   "source": [
    "### ECDSA - Nonce reuse\n",
    "<a id='nonce'></a>\n",
    "Given a curve $(p,a,b,G,n)$, a public key $Q_A$ together with:\n",
    "* a signature $(r,s_1)$ and a message $m_1$\n",
    "* a signature $(r,s_2)$ and a message $m_2$\n",
    "\n",
    "It can be observed that both signatures used the same value $r$ and hence the same random value $k$.\n",
    "This can be used to reconstruct the private key $d_A$"
   ]
  },
  {
   "cell_type": "markdown",
   "id": "1b90e6d5-439f-49ec-b00f-004a97301066",
   "metadata": {
    "editable": true,
    "slideshow": {
     "slide_type": "slide"
    },
    "tags": []
   },
   "source": [
    "### ECDSA - Nonce reuse\n",
    "The only unknown variables in the this two equations $(1)$ and $(2)$ are $k$ and $d_A$.\n",
    "To solve for $d_A$ first rearrange the equations to $(3)$ and $(4)$ and replace $k$ in $(5)$. \n",
    "\n",
    "$$\n",
    "\\begin{align}\n",
    "s_1 &= \\frac{e_1+d_A \\cdot r}{k} \\pmod n \\\\\n",
    "s_2 &= \\frac{e_2+d_A \\cdot r}{k} \\pmod n \\\\\n",
    "k &= \\frac{e_1+d_A \\cdot r}{s_1} \\pmod n \\\\\n",
    "k &= \\frac{e_2+d_A \\cdot r}{s_2} \\pmod n \\\\\n",
    "\\frac{e_1+d_A \\cdot r}{s_1} &= \\frac{e_2+d_A \\cdot r}{s_2} \\pmod n\n",
    "\\end{align}\n",
    "$$"
   ]
  },
  {
   "cell_type": "markdown",
   "id": "cef2a885-58df-4b98-9c2d-e2564d06af09",
   "metadata": {
    "editable": true,
    "slideshow": {
     "slide_type": "subslide"
    },
    "tags": []
   },
   "source": [
    "Then solve for $d_A$:\n",
    "$$\n",
    "\\begin{align*}\n",
    "\\frac{e_1+d_A \\cdot r}{s_1} &= \\frac{e_2+d_A \\cdot r}{s_2} &\\pmod n \\\\\n",
    "s_2 \\cdot (e_1+d_A \\cdot r) &= s_1 \\cdot (e_2+d_A \\cdot r) &\\pmod n \\\\\n",
    "s_2 \\cdot e_1 + s_2 \\cdot d_A \\cdot r &= s_1 \\cdot e_2 + s_1 \\cdot d_A \\cdot r &\\pmod n \\\\\n",
    "s_2 \\cdot e_1 - s_1 \\cdot e_2  &= s_1 \\cdot d_A \\cdot r - s_2 \\cdot d_A \\cdot r &\\pmod n \\\\\n",
    "s_2 \\cdot e_1 - s_1 \\cdot e_2  &= d_A \\cdot r \\cdot ( s_1 - s_2 ) &\\pmod n \\\\\n",
    "\\frac{s_2 \\cdot e_1 - s_1 \\cdot e_2}{r \\cdot ( s_1 - s_2 )} &= d_A   &\\pmod n \\\\\n",
    "\\end{align*}\n",
    "$$"
   ]
  },
  {
   "cell_type": "markdown",
   "id": "cdfe7ac3-7736-4427-9736-924bfeee6ec3",
   "metadata": {
    "editable": true,
    "slideshow": {
     "slide_type": "slide"
    },
    "tags": []
   },
   "source": [
    "### ECDSA - Nonce reuse \n",
    "**Example:** Bitcoin online web wallet *Counterwallet.io* (2014)\n",
    "* Used the same nonce for multiple signatures\n",
    "* Multiple users transferred coins with the same $ r $ value [[1](https://bitcointalk.org/index.php?topic=581411.0),[2](https://bitcointalk.org/index.php?topic=395761.msg6354587#msg6354587)]. \n",
    "\n",
    "<p style=\"text-align:center\">\n",
    "<img src=\"./img/nonce_bitcoin.png\" alt=\"PS3 key\" width=\"765\">\n",
    "</p>\n",
    "<p style=\"text-align:center;font-size:10px\">\n",
    "<a href=\"https://bitcointalk.org/index.php?topic=581411.0\">(image source)</a>\n",
    "</p>"
   ]
  },
  {
   "cell_type": "markdown",
   "id": "7cbb381c-facc-4f5b-bff3-a338bf6028c1",
   "metadata": {
    "editable": true,
    "slideshow": {
     "slide_type": "slide"
    },
    "tags": []
   },
   "source": [
    "### ECDSA - Example usage with secp256k1\n",
    "The following is an example of ECDSA using curve *secp256k1*."
   ]
  },
  {
   "cell_type": "code",
   "execution_count": 81,
   "id": "44c38c1e-b3dc-449b-924a-2414626cb35e",
   "metadata": {
    "editable": true,
    "slideshow": {
     "slide_type": "skip"
    },
    "tags": []
   },
   "outputs": [],
   "source": [
    "load(\"./src/ecdsa.sage\")"
   ]
  },
  {
   "cell_type": "markdown",
   "id": "5acd0f50-b5f8-4a2a-ba47-1e1be2abeac8",
   "metadata": {
    "editable": true,
    "slideshow": {
     "slide_type": "fragment"
    },
    "tags": []
   },
   "source": [
    "```python\n",
    "def ecdsa_hashtoint(msg):\t\n",
    "  return Integer('0x' + hashlib.sha256(msg.encode()).hexdigest())\n",
    "```"
   ]
  },
  {
   "cell_type": "code",
   "execution_count": 82,
   "id": "ad5358a2-f232-419f-a5c8-9b286d65b342",
   "metadata": {
    "editable": true,
    "slideshow": {
     "slide_type": "fragment"
    },
    "tags": []
   },
   "outputs": [
    {
     "data": {
      "text/plain": [
       "'0x61d034473102d7dac305902770471fd50f4c5b26f6831a56dd90b5184b3c30fc'"
      ]
     },
     "execution_count": 82,
     "metadata": {},
     "output_type": "execute_result"
    }
   ],
   "source": [
    "message_hash = ecdsa_hashtoint(\"some string\"); hex(message_hash)"
   ]
  },
  {
   "cell_type": "markdown",
   "id": "12fb1357-9eaa-45ca-afdc-20822a798695",
   "metadata": {
    "editable": true,
    "slideshow": {
     "slide_type": "fragment"
    },
    "tags": []
   },
   "source": [
    "```python\n",
    "def ecdsa_keygen(verbose=False):\n",
    "  d = randint(1, n - 1)\n",
    "  Q = d * G\n",
    "  return (Q, d)\n",
    "```"
   ]
  },
  {
   "cell_type": "code",
   "execution_count": 83,
   "id": "18a87959-7aa7-44f9-b413-a7354a88d557",
   "metadata": {
    "editable": true,
    "slideshow": {
     "slide_type": "fragment"
    },
    "tags": []
   },
   "outputs": [
    {
     "name": "stdout",
     "output_type": "stream",
     "text": [
      "d   = 0x5dbb6a850b9657e26e5bc84b5e07176e1788e237a0dbf092b1d2c83860d36cd1\n",
      "Q_x = 0xe4d01cac6aba81d004b8b2d84b648dbc7ff814ddafd39d9b4f673e663fa6ce2e\n",
      "Q_y = 0x619e3ccec454bb5055b51aae658080f042c49992042bbb6606171db1a3bf59e6\n"
     ]
    }
   ],
   "source": [
    "(Q_A,d_A) = ecdsa_keygen(verbose=True) # generate keypair "
   ]
  },
  {
   "cell_type": "markdown",
   "id": "dbaeea7e-b617-4e3c-b54d-62cd0b6492bf",
   "metadata": {
    "editable": true,
    "slideshow": {
     "slide_type": "slide"
    },
    "tags": []
   },
   "source": [
    "```python\n",
    "def ecdsa_sign(d, m, nonce=None):\n",
    "  r = 0; s = 0\n",
    "  while s == 0:\n",
    "    while r == 0:\n",
    "      if nonce:\n",
    "        k = nonce # for simulating nonce reuse attack!\n",
    "      else:\n",
    "        k = randint(1, n - 1)\n",
    "      R = k * G\n",
    "      (x1, y1) = R.xy()\n",
    "      r = Fn(x1)\n",
    "    e = Fn(m) # assume hashed message\n",
    "    s = Fn(k) ^ (-1) * (Fn(e) + Fn(d) * Fn(r))\n",
    "  return (r, s)\n",
    "```"
   ]
  },
  {
   "cell_type": "code",
   "execution_count": 84,
   "id": "7a5f0b5e-20af-4a1a-b2c0-0524fd08b71a",
   "metadata": {
    "editable": true,
    "slideshow": {
     "slide_type": "fragment"
    },
    "tags": []
   },
   "outputs": [
    {
     "name": "stdout",
     "output_type": "stream",
     "text": [
      "k   = 0xa99a6bda58a12da1383b1c0baff8b195e95339020ba2d436da2ac7c0986bf8aa\n",
      "G_x = 0x79be667ef9dcbbac55a06295ce870b07029bfcdb2dce28d959f2815b16f81798\n",
      "G_y = 0x483ada7726a3c4655da4fbfc0e1108a8fd17b448a68554199c47d08ffb10d4b8\n",
      "e   = 0x61d034473102d7dac305902770471fd50f4c5b26f6831a56dd90b5184b3c30fc\n",
      "r   = 0xdd8983ee0f8fd2d6f1fc13acbec1f2d0a274a6244d5f8283ad706cc86a758b78\n",
      "s   = 0x3a95efbba619ff0bdb5a31bff42339a8d39fb8af5cf7c3385de2397770829db\n"
     ]
    }
   ],
   "source": [
    "(r,s) = ecdsa_sign(d_A,message_hash,verbose=True)"
   ]
  },
  {
   "cell_type": "markdown",
   "id": "51879f44-a0fb-4ead-8397-42338b784ccf",
   "metadata": {
    "editable": true,
    "slideshow": {
     "slide_type": "slide"
    },
    "tags": []
   },
   "source": [
    "```python\n",
    "def ecdsa_verify(Q, m, r, s, verbose=False):\n",
    "  e = Fn(m) # assume hashed message\n",
    "  w = Fn(s) ^ (-1)\n",
    "  u1 = (e * w)\n",
    "  u2 = (r * w)\n",
    "  P1 = Integer(u1) * G\n",
    "  P2 = Integer(u2) * Q\n",
    "  P = P1 + P2\n",
    "  (x, y) = P.xy()\n",
    "  p_x = Fn(x)\n",
    "  return p_x == r\n",
    "```"
   ]
  },
  {
   "cell_type": "code",
   "execution_count": 85,
   "id": "577c1adf-9391-4e6b-8085-16aa32d16f15",
   "metadata": {
    "editable": true,
    "slideshow": {
     "slide_type": "fragment"
    },
    "tags": []
   },
   "outputs": [
    {
     "name": "stdout",
     "output_type": "stream",
     "text": [
      "w   = 0xc618adda248c092cbad9b1b89db550470c264f02493d52a661de3f28e1bf6ebe\n",
      "e   = 0x61d034473102d7dac305902770471fd50f4c5b26f6831a56dd90b5184b3c30fc\n",
      "u1  = 0xf14984c3d4a4b7b8cb2de665db02d6535eb951858999c742c9c1954aed71efca\n",
      "u2  = 0x6a96a6d976fb1d63fc687d7f8872bf57151417cb5a415cf486f5b8bacd0bedfe\n",
      "r   = 0xdd8983ee0f8fd2d6f1fc13acbec1f2d0a274a6244d5f8283ad706cc86a758b78\n",
      "p_x = 0xdd8983ee0f8fd2d6f1fc13acbec1f2d0a274a6244d5f8283ad706cc86a758b78\n"
     ]
    }
   ],
   "source": [
    "assert True == ecdsa_verify(Q_A, message_hash, r, s, verbose=True)"
   ]
  },
  {
   "cell_type": "code",
   "execution_count": 86,
   "id": "9db08da8-fe06-4be2-b19b-05120508d8f4",
   "metadata": {
    "editable": true,
    "scrolled": true,
    "slideshow": {
     "slide_type": "fragment"
    },
    "tags": []
   },
   "outputs": [],
   "source": [
    "message_hash = ecdsa_hashtoint(\"other message\")\n",
    "assert False == ecdsa_verify(Q_A, message_hash, r, s, verbose=False)"
   ]
  },
  {
   "cell_type": "markdown",
   "id": "7c828c9c-8ca5-4a63-8ce7-140fa5529256",
   "metadata": {
    "editable": true,
    "slideshow": {
     "slide_type": "subslide"
    },
    "tags": []
   },
   "source": [
    "#### ECDSA - Nonce reuse using secp256k1"
   ]
  },
  {
   "cell_type": "code",
   "execution_count": 87,
   "id": "cf3ad6c6-0608-4513-98ef-fd4816f44b0d",
   "metadata": {
    "editable": true,
    "slideshow": {
     "slide_type": "fragment"
    },
    "tags": []
   },
   "outputs": [
    {
     "name": "stdout",
     "output_type": "stream",
     "text": [
      "r1 = 0x8362f4339944b91019606dd91522abc23d653a28cc899437f5109a1d1ceb4641\n",
      "s1 = 0xf348c593c91efa4d0738cb5bf6cb86d8fd080e7e95e11deb2f7eaba91264f723\n"
     ]
    }
   ],
   "source": [
    "e1 = ecdsa_hashtoint(\"some string\")\n",
    "same_nonce = 18028843120798948533673493337980837983774482433016311482792706326465477485859\n",
    "(r1,s1) = ecdsa_sign(d_A, e1, nonce=same_nonce,verbose=False)\n",
    "print(f\"r1 = {hex(r1)}\\ns1 = {hex(s1)}\")"
   ]
  },
  {
   "cell_type": "code",
   "execution_count": 88,
   "id": "7f403b5f-cc87-4e51-b81b-ce189411e2b8",
   "metadata": {
    "editable": true,
    "slideshow": {
     "slide_type": "fragment"
    },
    "tags": []
   },
   "outputs": [
    {
     "name": "stdout",
     "output_type": "stream",
     "text": [
      "r2 = 0x8362f4339944b91019606dd91522abc23d653a28cc899437f5109a1d1ceb4641\n",
      "s2 = 0x5ff9808c0dd483299df510470c9895dd9f2afff44a209fa7822ac4c2fd93987b\n"
     ]
    }
   ],
   "source": [
    "e2 = ecdsa_hashtoint(\"some other string\")\n",
    "same_nonce = 18028843120798948533673493337980837983774482433016311482792706326465477485859\n",
    "(r2,s2) = ecdsa_sign(d_A, e2, nonce=same_nonce,verbose=False)\n",
    "print(f\"r2 = {hex(r2)}\\ns2 = {hex(s2)}\")"
   ]
  },
  {
   "cell_type": "code",
   "execution_count": 89,
   "id": "a2bd2d63-eb8b-485a-b8ec-ce5ab5d896fb",
   "metadata": {
    "editable": true,
    "slideshow": {
     "slide_type": "fragment"
    },
    "tags": []
   },
   "outputs": [],
   "source": [
    "assert r1 == r2"
   ]
  },
  {
   "cell_type": "markdown",
   "id": "8e6213e3-0354-4fe3-a61f-c8112a6e9946",
   "metadata": {
    "editable": true,
    "slideshow": {
     "slide_type": "subslide"
    },
    "tags": []
   },
   "source": [
    "ECDSA nonce reuse calculation: \n",
    "$$\n",
    "\\frac{s_2 \\cdot e_1 - s_1 \\cdot e_2}{r \\cdot ( s_1 - s_2 )} = d_A\n",
    "$$"
   ]
  },
  {
   "cell_type": "code",
   "execution_count": 90,
   "id": "73a042c9-3aaf-472a-b1bd-f9e148e052cc",
   "metadata": {
    "editable": true,
    "slideshow": {
     "slide_type": "fragment"
    },
    "tags": []
   },
   "outputs": [],
   "source": [
    "d_recovered = (s2 * e1 - s1 * e2)/(r1 * (s1 - s2))"
   ]
  },
  {
   "cell_type": "code",
   "execution_count": 91,
   "id": "0ad1709c-96f7-40d4-9b87-a37a82c7097b",
   "metadata": {
    "editable": true,
    "slideshow": {
     "slide_type": "fragment"
    },
    "tags": []
   },
   "outputs": [
    {
     "data": {
      "text/plain": [
       "42396230491363281373342284474308368706404519408723249133679703364090541075665"
      ]
     },
     "execution_count": 91,
     "metadata": {},
     "output_type": "execute_result"
    }
   ],
   "source": [
    "d_A"
   ]
  },
  {
   "cell_type": "code",
   "execution_count": 92,
   "id": "66d4d436-a37e-45d1-bc4b-bf89afafc3ad",
   "metadata": {
    "editable": true,
    "slideshow": {
     "slide_type": "fragment"
    },
    "tags": []
   },
   "outputs": [
    {
     "data": {
      "text/plain": [
       "42396230491363281373342284474308368706404519408723249133679703364090541075665"
      ]
     },
     "execution_count": 92,
     "metadata": {},
     "output_type": "execute_result"
    }
   ],
   "source": [
    "d_recovered"
   ]
  },
  {
   "cell_type": "code",
   "execution_count": 93,
   "id": "3c6a10c8-1efb-4ee3-ae22-180fa1c36930",
   "metadata": {
    "editable": true,
    "slideshow": {
     "slide_type": "fragment"
    },
    "tags": []
   },
   "outputs": [],
   "source": [
    "assert d_A == d_recovered"
   ]
  },
  {
   "cell_type": "markdown",
   "id": "509f5602-319c-408d-a9a7-5c2eecba7eac",
   "metadata": {
    "editable": true,
    "slideshow": {
     "slide_type": "slide"
    },
    "tags": []
   },
   "source": [
    "## Montgomery representation\n",
    "The montgomery representation involves elliptic curve equations ($E$) of the following form: \n",
    "$$\n",
    "   By^2 = x^3 + Ax^2 + x \\pmod p\n",
    "$$\n",
    "Here $B\\neq 0 \\pmod p$ and $ A \\neq \\pm 2 \\pmod p $. Given this elliptic curve equation, we again denote $E(\\mathbb{Z}_p)$ the set of points with coordinates $x,y \\in \\mathbb{Z}_p$ satisfying the equation $E$, together with a point at infinity $\\mathcal{O}$.\n",
    "\n",
    "Not every curve can be expressed in Montgomery representation (the order of any elliptic curve group written in Montgomery form is a multiple of $ 4 $ [[ITMC](https://www.cs.umd.edu/~jkatz/imc.html)]). "
   ]
  },
  {
   "cell_type": "markdown",
   "id": "3c4e487a-0cca-484f-9ae5-5840da57afb8",
   "metadata": {
    "editable": true,
    "slideshow": {
     "slide_type": "slide"
    },
    "tags": []
   },
   "source": [
    "## Montgomery curves over $\\mathbb{R}$ \n",
    "The following is the *Montgomery curve* used for Curve25519 over the real numbers $\\mathbb{R}$\n",
    "$$\n",
    "y^2 = x^3 +  486662 x^2 + x \n",
    "$$"
   ]
  },
  {
   "cell_type": "code",
   "execution_count": 94,
   "id": "48204295-f02e-494a-acf5-e9b22d47336b",
   "metadata": {
    "editable": true,
    "jupyter": {
     "source_hidden": true
    },
    "scrolled": true,
    "slideshow": {
     "slide_type": "skip"
    },
    "tags": []
   },
   "outputs": [
    {
     "data": {
      "image/png": "[encoded data removed]",
      "text/plain": [
       "Graphics object consisting of 2 graphics primitives"
      ]
     },
     "metadata": {},
     "output_type": "display_data"
    }
   ],
   "source": [
    "EC = EllipticCurve(RR,[0,486662,0,1,0]) # Montgomery curve used for Curve25519\n",
    "p = plot(EC,thickness=3)\n",
    "#p = plot(EC,thickness=3,xmin=-500000,xmax=2,ymin=-2,ymax=2)\n",
    "if SAVE_FIGURES: p.save(\"./figures/ecc_montgomery_over_R.png\")\n",
    "p.show()"
   ]
  },
  {
   "cell_type": "markdown",
   "id": "a9805461-08f4-4e97-8314-bce1a4ccb7a5",
   "metadata": {
    "editable": true,
    "slideshow": {
     "slide_type": ""
    },
    "tags": []
   },
   "source": [
    "<p style=\"text-align:center\">\n",
    "<img src=\"./figures/ecc_montgomery_over_R.png\" alt=\"EC inverse over R\" >\n",
    "</p>"
   ]
  },
  {
   "cell_type": "markdown",
   "id": "18078684-f27d-41b5-93fe-1c200c863872",
   "metadata": {
    "editable": true,
    "slideshow": {
     "slide_type": "skip"
    },
    "tags": []
   },
   "source": [
    "### Computation in Mongomory curves\n",
    "TODO"
   ]
  },
  {
   "cell_type": "markdown",
   "id": "3f808ae2-ba3e-4fcd-9b7b-7ab5915a918b",
   "metadata": {
    "editable": true,
    "slideshow": {
     "slide_type": "subslide"
    },
    "tags": []
   },
   "source": [
    "### Example: Curve25519\n",
    "Specified in [RFC 7748](https://datatracker.ietf.org/doc/rfc7748/) \n",
    "$$\n",
    "y^2 = x^3 +  486662 x^2 + x \\pmod p\n",
    "$$\n",
    "This curve is birationally equivalent to a twisted Edwards curve $ -x^2 + y^2 = 1 + dx^2y^2 $, called *edwards25519*, where $ d = 370957059348\\cdots 33085940283555 $ and $ p = 2^{255} - 19$"
   ]
  },
  {
   "cell_type": "code",
   "execution_count": 95,
   "id": "2a6615cb-b88c-4b94-bff4-42a18345bfdf",
   "metadata": {
    "editable": true,
    "slideshow": {
     "slide_type": "skip"
    },
    "tags": []
   },
   "outputs": [],
   "source": [
    "#d = 37095705934669439343138083508754565189542113879843219016388785533085940283555"
   ]
  },
  {
   "cell_type": "markdown",
   "id": "d7f33ce4-4d4e-4db4-96d3-3956a661a85e",
   "metadata": {
    "editable": true,
    "slideshow": {
     "slide_type": "skip"
    },
    "tags": []
   },
   "source": [
    "For further information see:\n",
    "* Nameing: https://mailarchive.ietf.org/arch/msg/cfrg/-9LEdnzVrE5RORux3Oo_oDDRksU/\n",
    "* Homepage https://cr.yp.to/ecdh.html\n",
    "  + The paper https://cr.yp.to/ecdh/curve25519-20060209.pdf\n",
    "  + Optimization https://cr.yp.to/ecdh/curvezero-20060726.pdf\n",
    "* Things that use Curve25519 https://ianix.com/pub/curve25519-deployment.html\n",
    "  + [age](https://github.com/FiloSottile/age)\n",
    "* Implementation description https://martin.kleppmann.com/papers/curve25519.pdf"
   ]
  },
  {
   "cell_type": "code",
   "execution_count": 96,
   "id": "ed646d9f-cb81-4ab5-8668-30e206b6a20b",
   "metadata": {
    "editable": true,
    "slideshow": {
     "slide_type": "fragment"
    },
    "tags": []
   },
   "outputs": [
    {
     "data": {
      "text/plain": [
       "Elliptic Curve defined by y^2 = x^3 + 486662*x^2 + x over Finite Field of size 57896044618658097711785492504343953926634992332820282019728792003956564819949"
      ]
     },
     "execution_count": 96,
     "metadata": {},
     "output_type": "execute_result"
    }
   ],
   "source": [
    "Curve25519 = EllipticCurve(GF(2^255-19),[0,486662,0,1,0])\n",
    "Curve25519"
   ]
  },
  {
   "cell_type": "code",
   "execution_count": 97,
   "id": "f120fa0a-ba16-4052-8b8a-dba120fd9131",
   "metadata": {
    "editable": true,
    "slideshow": {
     "slide_type": "fragment"
    },
    "tags": []
   },
   "outputs": [
    {
     "data": {
      "text/plain": [
       "-221938542218978828286815502327069187962"
      ]
     },
     "execution_count": 97,
     "metadata": {},
     "output_type": "execute_result"
    }
   ],
   "source": [
    "Curve25519.trace_of_frobenius()"
   ]
  },
  {
   "cell_type": "code",
   "execution_count": 98,
   "id": "000541b1-58aa-4899-ab1d-2d6b299b6dc9",
   "metadata": {
    "editable": true,
    "slideshow": {
     "slide_type": "skip"
    },
    "tags": []
   },
   "outputs": [],
   "source": [
    "assert Curve25519.trace_of_frobenius() == -221938542218978828286815502327069187962"
   ]
  },
  {
   "cell_type": "markdown",
   "id": "6d8f4b0c-2231-4f61-ae47-64f93efcfab8",
   "metadata": {
    "editable": true,
    "slideshow": {
     "slide_type": "slide"
    },
    "tags": []
   },
   "source": [
    "## Twisted Edwards representation\n",
    "The twisted Edwards representation involves elliptic curve equations ($E$) of the following form:\n",
    "$$\n",
    "   ax^2 + y^2 = 1 + dx^2y^2 \\pmod p \n",
    "$$\n",
    "Here $a,d \\neq 0 \\pmod p$ and $ a ¸\\neq d \\pmod p$. The special case where $ a = 1 $ is called the *Edwards representation* (without the \"*twisted*\"). Given this elliptic curve equation, we again denote $E(\\mathbb{Z}_p)$ the set of points with coordinates $x,y \\in \\mathbb{Z}_p$ satisfying the equation $E$, but this representation does not require a special point at infinity since the point $(0,1)$ on the curve is the identity element. \n",
    "\n",
    "The twisted Edwards representation can express the same set of elliptic curves as the Montgomery representation [[ITMC](https://www.cs.umd.edu/~jkatz/imc.html)]).  "
   ]
  },
  {
   "cell_type": "markdown",
   "id": "818e16cc-3e4f-46e6-b78e-75d48dfed586",
   "metadata": {
    "editable": true,
    "slideshow": {
     "slide_type": "skip"
    },
    "tags": []
   },
   "source": [
    "### Computation in twisted Edwards curves \n",
    "TODO: Addition single equation"
   ]
  },
  {
   "cell_type": "markdown",
   "id": "38462487-9966-49b0-9f4e-1e4cf30a27d2",
   "metadata": {
    "editable": true,
    "slideshow": {
     "slide_type": "subslide"
    },
    "tags": []
   },
   "source": [
    "### Example: Ed25519/Edwards25519\n",
    "Specified in EdDSA [RFC 8032](https://datatracker.ietf.org/doc/html/rfc8032#page-13) (used by age) and also allowed by NIST [FIPS 186-5](https://csrc.nist.gov/pubs/fips/186-5/final) as [Edwards25519](https://nvlpubs.nist.gov/nistpubs/SpecialPublications/NIST.SP.800-186.pdf).\n",
    "\n",
    "$$\n",
    "-x^2 + y^2 = 1 + dx^2 + y^2 \\pmod p\n",
    "$$"
   ]
  },
  {
   "cell_type": "code",
   "execution_count": 99,
   "id": "28fcb332-7afc-4242-ae34-128580f279f1",
   "metadata": {
    "editable": true,
    "slideshow": {
     "slide_type": "fragment"
    },
    "tags": []
   },
   "outputs": [],
   "source": [
    "p = 0x7fffffffffffffffffffffffffffffffffffffffffffffffffffffffffffffed\n",
    "FFp = GF(p)"
   ]
  },
  {
   "cell_type": "code",
   "execution_count": 100,
   "id": "e7510381-eedf-44d1-a09e-2088fcdc06ca",
   "metadata": {
    "editable": true,
    "slideshow": {
     "slide_type": "skip"
    },
    "tags": []
   },
   "outputs": [],
   "source": [
    "assert p == 2**255 - 19"
   ]
  },
  {
   "cell_type": "code",
   "execution_count": 101,
   "id": "4d996bbd-842d-4439-b4a7-d97a5eaae4f4",
   "metadata": {
    "editable": true,
    "slideshow": {
     "slide_type": "fragment"
    },
    "tags": []
   },
   "outputs": [],
   "source": [
    "d = FFp(0x52036cee2b6ffe738cc740797779e89800700a4d4141d8ab75eb4dca135978a3)\n",
    "a = FFp(0x7fffffffffffffffffffffffffffffffffffffffffffffffffffffffffffffec)"
   ]
  },
  {
   "cell_type": "code",
   "execution_count": 102,
   "id": "c120e522-aae0-4166-932f-336d74e699b7",
   "metadata": {
    "editable": true,
    "slideshow": {
     "slide_type": "skip"
    },
    "tags": []
   },
   "outputs": [],
   "source": [
    "#d=37095705934669439343138083508754565189542113879843219016388785533085940283555\n",
    "#a=-1"
   ]
  },
  {
   "cell_type": "code",
   "execution_count": 103,
   "id": "689213e0-474f-43c5-86ee-c78d7056cdf9",
   "metadata": {
    "editable": true,
    "slideshow": {
     "slide_type": "skip"
    },
    "tags": []
   },
   "outputs": [],
   "source": [
    "assert d == 37095705934669439343138083508754565189542113879843219016388785533085940283555"
   ]
  },
  {
   "cell_type": "code",
   "execution_count": 104,
   "id": "1e7acdaa-15d2-4aac-b81c-086eb406c43d",
   "metadata": {
    "editable": true,
    "slideshow": {
     "slide_type": "skip"
    },
    "tags": []
   },
   "outputs": [],
   "source": [
    "assert a+1 == p"
   ]
  },
  {
   "cell_type": "markdown",
   "id": "9ff3e430-3974-4c89-b453-8649fc129e6e",
   "metadata": {
    "editable": true,
    "slideshow": {
     "slide_type": "subslide"
    },
    "tags": []
   },
   "source": [
    "Since sage does not directly support TwistedEdwards curves, the curve has to be converted\n",
    "([cf.](https://neuromancer.sk/std/other/Ed25519))"
   ]
  },
  {
   "cell_type": "code",
   "execution_count": 105,
   "id": "2615a6a8-5bd5-41fb-9c7d-b82c90f9d373",
   "metadata": {
    "editable": true,
    "slideshow": {
     "slide_type": "fragment"
    },
    "tags": []
   },
   "outputs": [],
   "source": [
    "# This curve is a Weierstrass curve (SAGE does not support TwistedEdwards curves) birationally equivalent to the intended curve.\n",
    "# You can use the to_weierstrass and to_twistededwards functions to convert the points.\n",
    "EC = EllipticCurve(FFp, (FFp(-1/48) * (a^2 + 14*a*d + d^2), FFp(1/864) * (a + d) * (-a^2 + 34*a*d - d^2)))\n",
    "\n",
    "def to_weierstrass(a, d, x, y):\n",
    "\treturn ((5*a + a*y - 5*d*y - d)/(12 - 12*y), (a + a*y - d*y -d)/(4*x - 4*x*y))\n",
    "\n",
    "def to_twistededwards(a, d, u, v):\n",
    "\ty = (5*a - 12*u - d)/(-12*u - a + 5*d)\n",
    "\tx = (a + a*y - d*y -d)/(4*v - 4*v*y)\n",
    "\treturn (x, y)\n",
    "    \n",
    "G = EC(*to_weierstrass(a, d, FFp(0x216936D3CD6E53FEC0A4E231FDD6DC5C692CC7609525A7B2C9562D608F25D51A), FFp(0x6666666666666666666666666666666666666666666666666666666666666658)))\n",
    "EC.set_order(0x1000000000000000000000000000000014def9dea2f79cd65812631a5cf5d3ed * 0x08)\n"
   ]
  },
  {
   "cell_type": "code",
   "execution_count": 106,
   "id": "9f3c0ab8-aa8e-4776-87ed-27967d21fa80",
   "metadata": {
    "editable": true,
    "slideshow": {
     "slide_type": "fragment"
    },
    "tags": []
   },
   "outputs": [],
   "source": [
    "assert EC.trace_of_frobenius() == -221938542218978828286815502327069187962"
   ]
  },
  {
   "cell_type": "markdown",
   "id": "3c2e6b20-9076-42a0-ab23-3ca05cff0d34",
   "metadata": {
    "editable": true,
    "slideshow": {
     "slide_type": "skip"
    },
    "tags": []
   },
   "source": [
    "## Koblitz curves\n",
    "Are curves are usually defined over binary fields ($\\mathbb{F}_{2^m}$) and aimed to be efficiently implementable in hardware. Due to their limited adoption, elliptic curves over binary fields have been deprecated in recent standards.  "
   ]
  },
  {
   "cell_type": "markdown",
   "id": "1c1310f7-6902-4671-90d2-441d3c31638d",
   "metadata": {
    "editable": true,
    "slideshow": {
     "slide_type": "slide"
    },
    "tags": []
   },
   "source": [
    "## ECC standards \n",
    "<a id='std'></a>\n",
    "There are multiple standards which standardized elliptic curves with their paramters to be used for ECC, e.g., \n",
    "* NIST [[FIPS 186-5]](https://csrc.nist.gov/pubs/fips/186-5/final) (last update 2023)\n",
    "* SEC 2 [[SEC2v2](http://www.secg.org/sec2-v2.pdf)] (last update 2010)\n",
    "* Brainpool [[RFC 5639](https://datatracker.ietf.org/doc/rfc5639/)] (last update 2010)\n",
    "* ...\n",
    "\n",
    "A good (but old) overview of standards and for choosing the right curves for ECC can be found on [SafeCurves](https://safecurves.cr.yp.to/index.html)."
   ]
  },
  {
   "cell_type": "markdown",
   "id": "65dc3b0f-2bda-4747-a594-9895d3e4a119",
   "metadata": {
    "editable": true,
    "slideshow": {
     "slide_type": "slide"
    },
    "tags": []
   },
   "source": [
    "### NIST curves\n",
    "NIST standardized different elliptic curves (*Edwards*, *Weierstrass*, *Montgomery*, and *Koblitz* curves). \n",
    "In its current version the recommended curves are defined over *prime fields*, i.e., $\\mathbb{F}_p$ also written as $\\mathrm{GF}(p)$ [[FIPS 186-5]](https://csrc.nist.gov/pubs/fips/186-5/final), [[SP 800-186]](https://csrc.nist.gov/pubs/sp/800/186/final). \n",
    "* With Feb. 2023 curves over *binary fields* ($\\mathbb{F}_{2^m}$) have been depricated\n",
    "    > Due to their limited adoption, elliptic curves over binary fields are deprecated\n",
    "* With Feb. 2023 *Montgomery* curve Curve25519 (for ECDH) as well as *twisted Edwards* curve Edwards25519 (for EdDSA) are included in [[FIPS 186-5]](https://csrc.nist.gov/pubs/fips/186-5/final). [cf. [RFC 7748](https://www.rfc-editor.org/info/rfc7748), [RFC 8032](https://datatracker.ietf.org/doc/html/rfc8032)]\n",
    "    + The differences between NIST and IETF specifications have been analyzed here [[Taming the many EdDSAs](https://eprint.iacr.org/2020/1244.pdf),[The Provable Security of Ed25519: Theory and Practice](https://eprint.iacr.org/2020/823)] and test vectors are available [here](https://github.com/novifinancial/ed25519-speccheck)."
   ]
  }
 ],
 "metadata": {
  "kernelspec": {
   "display_name": "SageMath 9.5",
   "language": "sage",
   "name": "sagemath"
  },
  "language_info": {
   "codemirror_mode": {
    "name": "ipython",
    "version": 3
   },
   "file_extension": ".py",
   "mimetype": "text/x-python",
   "name": "python",
   "nbconvert_exporter": "python",
   "pygments_lexer": "ipython3",
   "version": "3.10.12"
  }
 },
 "nbformat": 4,
 "nbformat_minor": 5
}
