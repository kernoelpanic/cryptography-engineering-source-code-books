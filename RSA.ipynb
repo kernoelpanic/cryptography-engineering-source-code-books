{
 "cells": [
  {
   "cell_type": "markdown",
   "id": "7ec768de-87d5-4398-b6e4-063d554a3569",
   "metadata": {
    "editable": true,
    "slideshow": {
     "slide_type": ""
    },
    "tags": []
   },
   "source": [
    "# RSA\n",
    "_____"
   ]
  },
  {
   "cell_type": "markdown",
   "id": "660569b7-70e9-453c-9e37-cde25bb23490",
   "metadata": {
    "editable": true,
    "slideshow": {
     "slide_type": "subslide"
    },
    "tags": []
   },
   "source": [
    "**References:**\n",
    "* [[GCAC](https://toc.cryptobook.us/)] A Graduate Course in Applied Cryptography, Dan Boneh and Victor Shoup\n",
    "* [[CINTA](https://shoup.net/ntb/)] A Computational Introduction to Number Theory and Algebra, Victor Shoup\n",
    "* [[HAC](https://cacr.uwaterloo.ca/hac/)] Handbook of Applied Cryptography, Alfred J. Menezes, Paul C. van Oorschot and Scott A. Vanstone\n",
    "* [[ITMC](https://www.cs.umd.edu/~jkatz/imc.html)] Introduction to Modern Cryptography, Jonathan Katz and Yehuda Lindell (3rd Edition)\n",
    "* [Elementary number theory in sage](http://doc.sagemath.org/html/en/constructions/number_theory.html)"
   ]
  },
  {
   "cell_type": "markdown",
   "id": "d938c1cd-0bc8-417f-8dfb-4039e8c6a213",
   "metadata": {
    "editable": true,
    "slideshow": {
     "slide_type": "subslide"
    },
    "tags": []
   },
   "source": [
    "**Dependencies:**\n",
    "\n",
    "This notebook uses [sage math](https://www.sagemath.org/) as kernel"
   ]
  },
  {
   "cell_type": "code",
   "execution_count": 1,
   "id": "44d921c0-4395-4ec5-a985-15b7294a3719",
   "metadata": {
    "editable": true,
    "slideshow": {
     "slide_type": ""
    },
    "tags": []
   },
   "outputs": [
    {
     "name": "stdout",
     "output_type": "stream",
     "text": [
      "\n",
      " SageMath version 9.5, Release Date: 2022-01-30                     \n",
      " Using Python 3.10.6. Type \"help()\" for help.                       \n",
      "\n"
     ]
    }
   ],
   "source": [
    "import sage.misc.banner # sage math version info \n",
    "rchars = \"┘─│┐┌└\"\n",
    "smallbanner = sage.misc.banner.banner_text(full=True)\n",
    "for c in rchars:\n",
    "    smallbanner = smallbanner.replace(c,\"\") # remove ascii art box\n",
    "print(smallbanner)\n",
    "#banner() # full banner with box"
   ]
  },
  {
   "cell_type": "markdown",
   "id": "abc71a50-5c29-45ff-9dc2-cee0af163ef5",
   "metadata": {
    "editable": true,
    "slideshow": {
     "slide_type": "slide"
    },
    "tags": []
   },
   "source": [
    "## RSA - Rivest Shamir Adelman\n",
    "* **R**ivest **S**hamir **A**delman (RSA)\n",
    "    + Adi Shamir, Ron Rivest, Leonard Adelman (all MIT at that time)\n",
    "<p style=\"text-align:center\">\n",
    "<img src=\"./img/RSA.jpg\" alt=\"number systems\" width=\"600\">\n",
    "</p>\n",
    "<p style=\"text-align:center;font-size:10px\">\n",
    "<a href=\"https://en.wikipedia.org/wiki/Prime_number#/media/File:Primes-vs-composites.svg\">(image source)</a>\n",
    "</p>\n",
    "* Algorithm first published 1977\n",
    "* Key length of $> 2048$ bits still considered secure [[ref](https://www.keylength.com/)]"
   ]
  },
  {
   "cell_type": "markdown",
   "id": "7b2e2a2e-9f8b-4ab9-abae-0552a7619690",
   "metadata": {
    "editable": true,
    "slideshow": {
     "slide_type": "slide"
    },
    "tags": []
   },
   "source": [
    "## Trapdoor function\n",
    "A *trapdoor function* is a triple of efficient algorithms $(G,F,F^{-1})$ where:\n",
    "* $G()$ is a key generation algorithm that outputs $(pk,sk)$\n",
    "* $F(pk,\\cdot)$ the $pk$ defines a mapping function $X \\to Y$\n",
    "* $F^{-1}(sk,\\cdot)$ defines a function $Y \\to X$ that *inverts* $F(pk,\\cdot)$\n",
    "\n",
    "It holds that $\\forall(pk,sk)$ that are the output of $G()$:\n",
    "$$\n",
    "\\forall x \\in X: F^{-1}(sk, F(pk,x)) = x \n",
    "$$\n",
    "*Note:* If both sets are equal ($X = Y$) then then it is a *trapdoor permutation*. A secure trapdoor function/permutation is one-way without the trapdoor $sk$"
   ]
  },
  {
   "cell_type": "markdown",
   "id": "b85bda80-e1d0-4a4c-8b1b-df797df85a19",
   "metadata": {
    "editable": true,
    "slideshow": {
     "slide_type": "slide"
    },
    "tags": []
   },
   "source": [
    "## Trapdoor function\n",
    "![RSA_trapdoor](./figures/RSA_trapdoor.png)"
   ]
  },
  {
   "cell_type": "markdown",
   "id": "fa485fca-87b0-4ad9-8961-94771c6c677d",
   "metadata": {
    "editable": true,
    "slideshow": {
     "slide_type": "slide"
    },
    "tags": []
   },
   "source": [
    "## RSA - Trapdoor permutation\n",
    "\n",
    "The RSA *trapdoor permutation* is a triple of efficient algorithms $\\langle G,F,F^{-1} \\rangle$\n",
    "* $G()$ key generation function:\n",
    "  + Choose two random primes $p,q$ of at least $ 1024 $ bit each and compute the $ 2048 $ bit *modulus* $n =pq $\n",
    "  + Choose integers $e,d$ such that $e\\cdot d = 1 \\pmod{\\varphi(n)}$\n",
    "      - There are some commonly used values for $ e $ such as $ e = 3 $ or $ e = 2^{16} + 1 = 65537$\n",
    "  + Output $pk = (n,e)$ and $sk=(n,d)$\n",
    "      - The variabel $ e $ is called the *encryption exponent* and $ d $ is called the *decryption exponent*. \n",
    "* $F(pk,x) = x^e \\pmod{\\mathbb{Z}_n}$\n",
    "    + This trapdoor permutation defines a mapping between all invertable elements $\\mathbb{Z}_n^* \\to \\mathbb{Z}_n^*$\n",
    "* $F^{-1}(sk,y) = y^d \\pmod{\\mathbb{Z}_n}$\n",
    "    + This is the inverse trapdoor permutation "
   ]
  },
  {
   "cell_type": "markdown",
   "id": "b597b73b-4865-4672-8e1b-a1020935e1ef",
   "metadata": {
    "editable": true,
    "slideshow": {
     "slide_type": "subslide"
    },
    "tags": []
   },
   "source": [
    "To show that $F^{-1}(sk, F(pk,x)) = x $ we use the fact that there exists some $ k $ such that $ ed = k \\cdot \\varphi(n) + 1 $ since $ e \\cdot d = 1 \\pmod{\\varphi(n)} $. \n",
    "\n",
    "If $x$ is *relatively prime* to $n$, i.e., $\\gcd(x,n) = 1$, then $x^{\\varphi(n)} \\equiv 1 \\pmod n$ by *Euler's theorem*.\n",
    "\n",
    "$$\n",
    "y^d = (x^e)^d = x^{ed} = x^{k\\cdot \\varphi(n)+1} = \\left( x^{\\varphi(n)}\\right)^k \\cdot x = (1)^k \\cdot x = x \\pmod n\n",
    "$$"
   ]
  },
  {
   "cell_type": "markdown",
   "id": "737e05bf-03d6-4c9b-bb02-055be64ded75",
   "metadata": {
    "editable": true,
    "slideshow": {
     "slide_type": "skip"
    },
    "tags": []
   },
   "source": [
    "There is also a proof using *Fermat's little theorem* which does not require that $\\gcd(x,n)=1$, although it is hard to find an $x$ (message) for which this is not the case as there are only $1/p + 1/q - 1/(pq)$ numbers have this property.\n",
    "[(source)](https://en.wikipedia.org/wiki/RSA_(cryptosystem)#Proofs_of_correctness)"
   ]
  },
  {
   "cell_type": "markdown",
   "id": "a8ad2e3c-c699-4c86-a100-a3cdb0c4b073",
   "metadata": {
    "editable": true,
    "slideshow": {
     "slide_type": "slide"
    },
    "tags": []
   },
   "source": [
    "## RSA - Security \n",
    "* Computing $\\varphi(n)$ without knowing the factorization of $ n $ is the difficulty of computing $ d $\n",
    "* This is refered to as the *RSA problem*, which can be solved by factoring $ n $ and computing $\\varphi(n)$.\n",
    "* Knowing $\\varphi(n)$, the multiplicative inverse of $ e $ can be calculated efficiently:\n",
    "$$\n",
    "\\begin{align*}\n",
    "\\varphi(n) &= (p-1)(q-1)\\\\\n",
    "e\\cdot e^{-1} &=1 \\pmod{\\varphi(n)}\\\\\n",
    "d&:= e^{-1} \n",
    "\\end{align*}\n",
    "$$"
   ]
  },
  {
   "cell_type": "markdown",
   "id": "be50a72c-144c-4550-989c-5d6048cee3a4",
   "metadata": {
    "editable": true,
    "slideshow": {
     "slide_type": "slide"
    },
    "tags": []
   },
   "source": [
    "## Textbook/raw RSA implementation (insecure)\n",
    "<a id='raw'></a>\n",
    "This *textbook* implementation of RSA is insecure, but we will use it to demonstrate a couple of security issues \n",
    "which have to be addressed when RSA should be used in a secure way."
   ]
  },
  {
   "cell_type": "markdown",
   "id": "c0073f22-65af-4ab0-b15a-b3fb3d59bca7",
   "metadata": {
    "editable": true,
    "slideshow": {
     "slide_type": "fragment"
    },
    "tags": []
   },
   "source": [
    "```python\n",
    "def rsa_gen(bits=2^1024,_p=None,_q=None,e=None,verbose=False):\n",
    "\tproof = (bits <= 2^1024) # turn off time consuming proof for large values \n",
    "\tif _p and _q and _p in Primes() and _q in Primes():\n",
    "\t\tp = _p\n",
    "\t\tq = _q\n",
    "\telse:\n",
    "\t\tp = random_prime(bits, proof=proof)\n",
    "\t\tq = random_prime(bits, proof=proof)\n",
    "  if p==q: return None\t\n",
    "  n = p * q\n",
    "  phi_n = (p-1) * (q-1)\n",
    "  if not e:\n",
    "    while True:\n",
    "        e = ZZ.random_element(1,phi_n)\n",
    "        if gcd(e,phi_n) == 1: break\n",
    "  d = inverse_mod(e,phi_n)\n",
    "  if verbose: print(f\"n = {n}\\ne = {e}\\nd = {d}\\np = {p}\\nq = {q}\")\n",
    "  return n,e,d,p,q \n",
    "```"
   ]
  },
  {
   "cell_type": "markdown",
   "id": "07afc457-8c11-4fd7-a579-2dac88bf998c",
   "metadata": {
    "editable": true,
    "slideshow": {
     "slide_type": "subslide"
    },
    "tags": []
   },
   "source": [
    "```python\n",
    "def rsa_enc(n,e,m):\n",
    "\treturn pow(m,e,n)\n",
    "\n",
    "def rsa_dec(n,d,c):\n",
    "\treturn pow(c,d,n)\n",
    "```"
   ]
  },
  {
   "cell_type": "markdown",
   "id": "1bfe5954-0c2c-456d-8978-f4cc8f5ac593",
   "metadata": {
    "editable": true,
    "slideshow": {
     "slide_type": "subslide"
    },
    "tags": []
   },
   "source": [
    "```python\n",
    "def str_to_num(s,n):\n",
    "    \"\"\" Function to encode a string as number sequence of their 8 bit ASCII codes \"\"\"\n",
    "\ts = str(s)\n",
    "\tif len(s) > floor(log(n,256)):\n",
    "\t\t\tprint(\"String larger than what can be handled in one rsa invocation\")\n",
    "\t\t\treturn None\n",
    "\tnum = 0\n",
    "\tfor i in range(len(s)):\n",
    "\t\tnum += ord( s[i] )*256^i  # the ^i inverts \n",
    "\treturn num \t\n",
    "\n",
    "def num_to_str(num):\n",
    "    \"\"\" Function to decode a number into 8 bit sequences of ASCII characters \"\"\"\n",
    "\tnum = Integer(num) \n",
    "\tv = [] \n",
    "\twhile num != 0: \n",
    "    \tv.append(chr( num % 256 )) \n",
    "\t\tnum //= 256 # this replaces num by floor(num/256) \n",
    "\treturn ''.join(v)\n",
    "```"
   ]
  },
  {
   "cell_type": "markdown",
   "id": "ea3ee2d6-ca91-4d98-9fbb-1e1a102af257",
   "metadata": {
    "editable": true,
    "slideshow": {
     "slide_type": "slide"
    },
    "tags": []
   },
   "source": [
    "<p style=\"text-align:center\">\n",
    "<img src=\"./img/rsa-perl.jpg\" alt=\"number systems\" width=\"450\">\n",
    "</p>\n",
    "<p style=\"text-align:center;font-size:10px\">\n",
    "<a href=\"https://www.wired.com/wp-content/uploads/blogs/wiredenterprise/wp-content/uploads/2013/01/rsa-perl.jpg\">RSA printed on a T-shirt during the first \"crypto wars\" in the 90s</a>\n",
    "</p>"
   ]
  },
  {
   "cell_type": "code",
   "execution_count": 38,
   "id": "795bca20-ab2d-41f2-99ff-4bd77fda30de",
   "metadata": {
    "editable": true,
    "slideshow": {
     "slide_type": "slide"
    },
    "tags": []
   },
   "outputs": [],
   "source": [
    "load('./src/rsa.sage')"
   ]
  },
  {
   "cell_type": "code",
   "execution_count": 37,
   "id": "5e0574fa-2ef0-4e98-a2ab-e4b49c6807b6",
   "metadata": {
    "editable": true,
    "scrolled": true,
    "slideshow": {
     "slide_type": "fragment"
    },
    "tags": []
   },
   "outputs": [
    {
     "name": "stdout",
     "output_type": "stream",
     "text": [
      "#!/usr/bin/sage\n",
      "#\n",
      "# Simple sage script for RSA \n",
      "# \n",
      "# See sources:\n",
      "# * https://www.math.ucdavis.edu/~anne/FQ2010/Number_Theory_RSA.html\n",
      "# * https://www.uam.es/otros/openmat/software/files/rsa.sage\n",
      "# * https://www.hyperelliptic.org/tanja/vortraege/facthacks-29C3.pdf\n",
      "\n",
      "def rsa_gen(bits=2^1024,_p=None,_q=None,e=None,verbose=False):\n",
      "\tproof = (bits <= 2^1024) # turn off time consuming proof for large values \n",
      "\tif _p and _q and _p in Primes() and _q in Primes():\n",
      "\t\tp = _p\n",
      "\t\tq = _q\n",
      "\telse:\n",
      "\t\tp = random_prime(bits, proof=proof)\n",
      "\t\tq = random_prime(bits, proof=proof)\n",
      "\tassert p!=q,\"p and q must be distinct numbers!\"\n",
      "\tn = p * q\n",
      "\tphi_n = (p-1) * (q-1)\n",
      "\n",
      "\tif not e: \n",
      "\t\twhile True:\n",
      "\t\t\t\te = ZZ.random_element(1,phi_n)\n",
      "\t\t\t\tif gcd(e,phi_n) == 1: break\n",
      "\n",
      "\td = inverse_mod(e,phi_n)\n",
      "\t\n",
      "\tif verbose: print(f\"n = {n}\\ne = {e}\\nd = {d}\\np = {p}\\nq = {q}\")\n",
      "\treturn n,e,d,p,q \n",
      "\n",
      "def rsa_enc(n,e,m):\n",
      "\treturn pow(m,e,n)\n",
      "\n",
      "def rsa_dec(n,d,c):\n",
      "\treturn pow(c,d,n)\n",
      "\n",
      "def str_to_num(s,n):\n",
      "\ts = str(s)\n",
      "\tif len(s) > floor(log(n,256)):\n",
      "\t\t\tprint(\"String larger than what can be handled in one rsa invocation\")\n",
      "\t\t\treturn None\n",
      "\t\n",
      "\tnum = 0\n",
      "\tfor i in range(len(s)):\n",
      "\t\tnum += ord( s[i] )*256^i  # the ^i inverts \n",
      "\treturn num \n",
      "\t#return sum( ord( s[i] )*256 ^i for i in range(len(s)) )\t\n",
      "\n",
      "def num_to_str(num):\n",
      "\tnum = Integer(num) \n",
      "\tv = [] \n",
      "\twhile num != 0: \n",
      "\t\t\tv.append(chr( num % 256 )) \n",
      "\t\t\tnum //= 256 # this replaces num by floor(num/256) \n",
      "\treturn ''.join(v)\n",
      "\n",
      "\n"
     ]
    }
   ],
   "source": [
    "!cat ./src/rsa.sage"
   ]
  },
  {
   "cell_type": "markdown",
   "id": "a4492393-1f48-4921-8511-d723d5c74d28",
   "metadata": {
    "editable": true,
    "slideshow": {
     "slide_type": "skip"
    },
    "tags": []
   },
   "source": [
    "### Check properties "
   ]
  },
  {
   "cell_type": "code",
   "execution_count": 39,
   "id": "5b01cfbb-ac3f-4768-808f-91f7fe388f8c",
   "metadata": {
    "editable": true,
    "slideshow": {
     "slide_type": "skip"
    },
    "tags": []
   },
   "outputs": [
    {
     "name": "stdout",
     "output_type": "stream",
     "text": [
      "n = 355976772106829268621600816711847149676690353471135641076853\n",
      "e = 179769921186679219769808393315989015768769534121126583859697\n",
      "d = 58431222555913008042476852133249811347510347288162823550921\n",
      "p = 862498832840930945935888344079\n",
      "q = 412727250811806492026541947707\n"
     ]
    }
   ],
   "source": [
    "n,e,d,p,q = rsa_gen(bits=2^100,e=None,verbose=True)"
   ]
  },
  {
   "cell_type": "code",
   "execution_count": 23,
   "id": "15fa6aed-6831-45c1-a930-d62647c9eccd",
   "metadata": {
    "editable": true,
    "slideshow": {
     "slide_type": "skip"
    },
    "tags": []
   },
   "outputs": [
    {
     "data": {
      "text/plain": [
       "588828197890170242005998523619419274940260660598198069167549"
      ]
     },
     "execution_count": 23,
     "metadata": {},
     "output_type": "execute_result"
    }
   ],
   "source": [
    "n"
   ]
  },
  {
   "cell_type": "code",
   "execution_count": 24,
   "id": "6e9aa234-b479-4d12-abbd-2dd614320681",
   "metadata": {
    "editable": true,
    "slideshow": {
     "slide_type": "skip"
    },
    "tags": []
   },
   "outputs": [
    {
     "data": {
      "text/plain": [
       "588828197890170242005998523617689415036808015850180029804764"
      ]
     },
     "execution_count": 24,
     "metadata": {},
     "output_type": "execute_result"
    }
   ],
   "source": [
    "phi_n=(p-1)*(q-1)\n",
    "phi_n "
   ]
  },
  {
   "cell_type": "code",
   "execution_count": 25,
   "id": "169c5713-9f80-4447-82a5-ddcccdedc776",
   "metadata": {
    "editable": true,
    "slideshow": {
     "slide_type": "skip"
    },
    "tags": []
   },
   "outputs": [
    {
     "data": {
      "text/plain": [
       "True"
      ]
     },
     "execution_count": 25,
     "metadata": {},
     "output_type": "execute_result"
    }
   ],
   "source": [
    "phi_n < n"
   ]
  },
  {
   "cell_type": "code",
   "execution_count": 26,
   "id": "7bbaa625-578d-411c-8c42-217e10234a14",
   "metadata": {
    "editable": true,
    "slideshow": {
     "slide_type": "skip"
    },
    "tags": []
   },
   "outputs": [
    {
     "data": {
      "text/plain": [
       "1729859903452644748018039362785"
      ]
     },
     "execution_count": 26,
     "metadata": {},
     "output_type": "execute_result"
    }
   ],
   "source": [
    "n - phi_n"
   ]
  },
  {
   "cell_type": "code",
   "execution_count": 27,
   "id": "e48913d4-bb77-4ec1-9bb5-e761b8bbfe5d",
   "metadata": {
    "editable": true,
    "slideshow": {
     "slide_type": "skip"
    },
    "tags": []
   },
   "outputs": [
    {
     "data": {
      "text/plain": [
       "0.99999999999999999999999999999706219928"
      ]
     },
     "execution_count": 27,
     "metadata": {},
     "output_type": "execute_result"
    }
   ],
   "source": [
    "hpRR= RealField(128) # custom high precision real numbers \n",
    "hpRR(phi_n/n) "
   ]
  },
  {
   "cell_type": "code",
   "execution_count": 28,
   "id": "e6015576-d5b2-42fa-b1af-d2a247b105a5",
   "metadata": {
    "editable": true,
    "slideshow": {
     "slide_type": "skip"
    },
    "tags": []
   },
   "outputs": [
    {
     "data": {
      "text/plain": [
       "True"
      ]
     },
     "execution_count": 28,
     "metadata": {},
     "output_type": "execute_result"
    }
   ],
   "source": [
    "mod(e*d,phi_n) == 1"
   ]
  },
  {
   "cell_type": "code",
   "execution_count": 29,
   "id": "ade30137-73e3-4f50-8c5c-171345995550",
   "metadata": {
    "editable": true,
    "slideshow": {
     "slide_type": "skip"
    },
    "tags": []
   },
   "outputs": [
    {
     "data": {
      "text/plain": [
       "True"
      ]
     },
     "execution_count": 29,
     "metadata": {},
     "output_type": "execute_result"
    }
   ],
   "source": [
    "k=5\n",
    "mod(k*phi_n+1,phi_n) == 1"
   ]
  },
  {
   "cell_type": "code",
   "execution_count": 30,
   "id": "12b480d9-fd15-44f7-8603-9f2bb1467d3e",
   "metadata": {
    "editable": true,
    "slideshow": {
     "slide_type": "skip"
    },
    "tags": []
   },
   "outputs": [
    {
     "data": {
      "text/plain": [
       "True"
      ]
     },
     "execution_count": 30,
     "metadata": {},
     "output_type": "execute_result"
    }
   ],
   "source": [
    "x=10\n",
    "assert gcd(x,n) == 1,\"x and n are not relatively prime\"\n",
    "pow(x,phi_n,n) == 1 "
   ]
  },
  {
   "cell_type": "markdown",
   "id": "74a7f145-0fb3-4152-8209-567dc746c495",
   "metadata": {
    "editable": true,
    "slideshow": {
     "slide_type": "slide"
    },
    "tags": []
   },
   "source": [
    "### Raw RSA - Exampel (insecure)\n",
    "* Lets pick some primes $p=2$ and $q=11$ and compute $n = pq = 22$\n",
    "* Compute $\\varphi(n) = (p-1)(q-1) = 10$\n",
    "* Find some $e$ such that:\n",
    "  + It is *relatively prime* to $\\varphi(n)$, i.e., $\\gcd(e,\\varphi(n))=1$\n",
    "  + There is a $d$ such that $e\\cdot d = 1 \\pmod \\varphi(n)$\n",
    "* For our example set $ e = 3 $ and $ d = 7 $, i.e., $ 3 \\cdot 7 = 1 \\pmod \\varphi(n)$\n",
    "* Publish $ pk = (n,e) = (22,3) $ and store $ sk = (n,d) = (22,7) $\n",
    "* **Encryption:** of message $ m = 8 $\n",
    "  + $ c = m^e \\pmod n = 8^3 \\pmod{22} = 512 \\pmod{22} = 6 $\n",
    "* **Decryption:** of ciphertext $ c = 6 $\n",
    "  + $ m = c^d \\pmod n = 6^7 \\pmod{22} = 279936 \\pmod{22} = 8 $"
   ]
  },
  {
   "cell_type": "code",
   "execution_count": 40,
   "id": "1dd10222-4f70-4b63-aa51-379f0196660b",
   "metadata": {
    "editable": true,
    "slideshow": {
     "slide_type": "subslide"
    },
    "tags": []
   },
   "outputs": [
    {
     "name": "stdout",
     "output_type": "stream",
     "text": [
      "n = 22\n",
      "e = 3\n",
      "d = 7\n",
      "p = 2\n",
      "q = 11\n"
     ]
    }
   ],
   "source": [
    "n,e,d,_,_ = rsa_gen(bits=None,_p=2,_q=11,e=3,verbose=True)"
   ]
  },
  {
   "cell_type": "code",
   "execution_count": 41,
   "id": "8d916cd7-8c7f-4d22-9772-54147cf74af4",
   "metadata": {
    "editable": true,
    "slideshow": {
     "slide_type": "fragment"
    },
    "tags": []
   },
   "outputs": [
    {
     "data": {
      "text/plain": [
       "6"
      ]
     },
     "execution_count": 41,
     "metadata": {},
     "output_type": "execute_result"
    }
   ],
   "source": [
    "rsa_enc(22,3,8)"
   ]
  },
  {
   "cell_type": "code",
   "execution_count": 42,
   "id": "ccc37080-14c4-4af3-83fc-8119da8f56b7",
   "metadata": {
    "editable": true,
    "slideshow": {
     "slide_type": "fragment"
    },
    "tags": []
   },
   "outputs": [
    {
     "data": {
      "text/plain": [
       "8"
      ]
     },
     "execution_count": 42,
     "metadata": {},
     "output_type": "execute_result"
    }
   ],
   "source": [
    "rsa_dec(22,7,6)"
   ]
  },
  {
   "cell_type": "markdown",
   "id": "204377ab-a3eb-4dcc-a7b5-4c659b01a182",
   "metadata": {
    "editable": true,
    "slideshow": {
     "slide_type": "slide"
    },
    "tags": []
   },
   "source": [
    "### Raw RSA - Parameters (p,q) too small\n",
    "If $p$ and $q$ are to small $n$ can be factorized:"
   ]
  },
  {
   "cell_type": "code",
   "execution_count": 50,
   "id": "db0aff27-4bae-435c-b453-d20d6cad67d9",
   "metadata": {
    "editable": true,
    "slideshow": {
     "slide_type": ""
    },
    "tags": []
   },
   "outputs": [
    {
     "name": "stdout",
     "output_type": "stream",
     "text": [
      "n = 22\n",
      "e = 3\n",
      "d = 7\n",
      "p = 2\n",
      "q = 11\n"
     ]
    }
   ],
   "source": [
    "n,e,d,_,_ = rsa_gen(bits=None,_p=2,_q=11,e=3,verbose=True) # Alice "
   ]
  },
  {
   "cell_type": "code",
   "execution_count": 55,
   "id": "1404ef9f-a8a5-48a2-835b-d233c5d99267",
   "metadata": {
    "editable": true,
    "slideshow": {
     "slide_type": "fragment"
    },
    "tags": []
   },
   "outputs": [],
   "source": [
    "n=22; e=3 # Attacker uses pk of Alice"
   ]
  },
  {
   "cell_type": "code",
   "execution_count": 56,
   "id": "36e11125-bc26-4931-b719-3e121ecaa583",
   "metadata": {
    "editable": true,
    "slideshow": {
     "slide_type": "fragment"
    },
    "tags": []
   },
   "outputs": [
    {
     "data": {
      "text/plain": [
       "2 * 11"
      ]
     },
     "execution_count": 56,
     "metadata": {},
     "output_type": "execute_result"
    }
   ],
   "source": [
    "factor(n) # factors n into its prime factors"
   ]
  },
  {
   "cell_type": "code",
   "execution_count": 57,
   "id": "10a8a3ca-b44e-4409-8fd5-33ca2ed17cc6",
   "metadata": {
    "editable": true,
    "slideshow": {
     "slide_type": "fragment"
    },
    "tags": []
   },
   "outputs": [
    {
     "data": {
      "text/plain": [
       "10"
      ]
     },
     "execution_count": 57,
     "metadata": {},
     "output_type": "execute_result"
    }
   ],
   "source": [
    "phi_n=(2-1)*(11-1); phi_n # computes phi with known factors "
   ]
  },
  {
   "cell_type": "code",
   "execution_count": 58,
   "id": "ce23eb8e-3803-4529-8cc5-acc74b676ea0",
   "metadata": {
    "editable": true,
    "slideshow": {
     "slide_type": "fragment"
    },
    "tags": []
   },
   "outputs": [
    {
     "data": {
      "text/plain": [
       "7"
      ]
     },
     "execution_count": 58,
     "metadata": {},
     "output_type": "execute_result"
    }
   ],
   "source": [
    "d=inverse_mod(e,phi_n);d # compute secret key by inverting e "
   ]
  },
  {
   "cell_type": "markdown",
   "id": "f3c31d40-dded-4d82-8480-a1ee39a292fd",
   "metadata": {
    "editable": true,
    "slideshow": {
     "slide_type": "slide"
    },
    "tags": []
   },
   "source": [
    "#### Factorization examples"
   ]
  },
  {
   "cell_type": "code",
   "execution_count": 76,
   "id": "0aca0919-9fa2-47a9-bfb9-d5da4ec07b0d",
   "metadata": {
    "editable": true,
    "scrolled": true,
    "slideshow": {
     "slide_type": "fragment"
    },
    "tags": []
   },
   "outputs": [
    {
     "name": "stdout",
     "output_type": "stream",
     "text": [
      "n = 7726023075241080047\n",
      "e = 3129271511086424969\n",
      "d = 4895170541792722169\n",
      "p = 3344967287\n",
      "q = 2309745481\n"
     ]
    }
   ],
   "source": [
    "n,e,d,p,q = rsa_gen(bits=2^32,e=None,verbose=True) # 2 x 2**32 bit primes "
   ]
  },
  {
   "cell_type": "code",
   "execution_count": 71,
   "id": "fdc6caf3-07b4-4fd6-8b3f-a5de60f2eb50",
   "metadata": {
    "editable": true,
    "scrolled": true,
    "slideshow": {
     "slide_type": "fragment"
    },
    "tags": []
   },
   "outputs": [
    {
     "name": "stdout",
     "output_type": "stream",
     "text": [
      "CPU times: user 885 µs, sys: 0 ns, total: 885 µs\n",
      "Wall time: 915 µs\n"
     ]
    },
    {
     "data": {
      "text/plain": [
       "667245871 * 811987919"
      ]
     },
     "execution_count": 71,
     "metadata": {},
     "output_type": "execute_result"
    }
   ],
   "source": [
    "%time factor(n)"
   ]
  },
  {
   "cell_type": "code",
   "execution_count": 72,
   "id": "7b2bccfa-4088-4a59-a944-f1a8a26338a8",
   "metadata": {
    "editable": true,
    "scrolled": true,
    "slideshow": {
     "slide_type": "fragment"
    },
    "tags": []
   },
   "outputs": [
    {
     "name": "stdout",
     "output_type": "stream",
     "text": [
      "CPU times: user 7.41 ms, sys: 0 ns, total: 7.41 ms\n",
      "Wall time: 7.4 ms\n"
     ]
    },
    {
     "data": {
      "text/plain": [
       "541795584775398660"
      ]
     },
     "execution_count": 72,
     "metadata": {},
     "output_type": "execute_result"
    }
   ],
   "source": [
    "%time euler_phi(n)"
   ]
  },
  {
   "cell_type": "markdown",
   "id": "e7c6da3d-98a4-460d-8a29-b1237a9cbb18",
   "metadata": {
    "editable": true,
    "slideshow": {
     "slide_type": "slide"
    },
    "tags": []
   },
   "source": [
    "#### Factorization examples"
   ]
  },
  {
   "cell_type": "code",
   "execution_count": 73,
   "id": "f9928547-b43b-426e-8e8c-234186723104",
   "metadata": {
    "editable": true,
    "slideshow": {
     "slide_type": "fragment"
    },
    "tags": []
   },
   "outputs": [
    {
     "name": "stdout",
     "output_type": "stream",
     "text": [
      "CPU times: user 1.39 ms, sys: 175 µs, total: 1.57 ms\n",
      "Wall time: 1.42 ms\n"
     ]
    },
    {
     "data": {
      "text/plain": [
       "555933967 * 3233872093"
      ]
     },
     "execution_count": 73,
     "metadata": {},
     "output_type": "execute_result"
    }
   ],
   "source": [
    "%time factor(random_prime(2**32)*random_prime(2**32)) # 64 bit n"
   ]
  },
  {
   "cell_type": "code",
   "execution_count": 74,
   "id": "e8c97fe5-65c3-4325-9a03-41906cfd0487",
   "metadata": {
    "editable": true,
    "slideshow": {
     "slide_type": "fragment"
    },
    "tags": []
   },
   "outputs": [
    {
     "name": "stdout",
     "output_type": "stream",
     "text": [
      "CPU times: user 31.9 ms, sys: 0 ns, total: 31.9 ms\n",
      "Wall time: 31.5 ms\n"
     ]
    },
    {
     "data": {
      "text/plain": [
       "13391792971847536679 * 15730516463031225431"
      ]
     },
     "execution_count": 74,
     "metadata": {},
     "output_type": "execute_result"
    }
   ],
   "source": [
    "%time factor(random_prime(2**64)*random_prime(2**64)) # 128 bit n "
   ]
  },
  {
   "cell_type": "code",
   "execution_count": 75,
   "id": "bdf0eca5-9f2f-4946-86e9-01c53c283a6b",
   "metadata": {
    "editable": true,
    "slideshow": {
     "slide_type": "fragment"
    },
    "tags": []
   },
   "outputs": [
    {
     "name": "stdout",
     "output_type": "stream",
     "text": [
      "CPU times: user 2.47 s, sys: 0 ns, total: 2.47 s\n",
      "Wall time: 2.43 s\n"
     ]
    },
    {
     "data": {
      "text/plain": [
       "47419285361993254485888859339 * 55372916850435414411345734849"
      ]
     },
     "execution_count": 75,
     "metadata": {},
     "output_type": "execute_result"
    }
   ],
   "source": [
    "%time factor(random_prime(2**96)*random_prime(2**96)) # 192 bit n"
   ]
  },
  {
   "cell_type": "code",
   "execution_count": 77,
   "id": "2598f0d5-e6aa-44a1-bc41-94255a31547c",
   "metadata": {
    "editable": true,
    "slideshow": {
     "slide_type": "fragment"
    },
    "tags": []
   },
   "outputs": [
    {
     "name": "stdout",
     "output_type": "stream",
     "text": [
      "CPU times: user 2.47 s, sys: 2.2 ms, total: 2.47 s\n",
      "Wall time: 2.45 s\n"
     ]
    },
    {
     "data": {
      "text/plain": [
       "22442486277199865063599153657 * 77948547969620138234416312829"
      ]
     },
     "execution_count": 77,
     "metadata": {},
     "output_type": "execute_result"
    }
   ],
   "source": [
    "%time factor(random_prime(2**96)*random_prime(2**96)) # 256 bit n"
   ]
  },
  {
   "cell_type": "markdown",
   "id": "099c297c-1321-4a27-b4a6-8333324f9a2c",
   "metadata": {
    "editable": true,
    "slideshow": {
     "slide_type": "slide"
    },
    "tags": []
   },
   "source": [
    "#### Factorization examples\n",
    "<p style=\"text-align:center\">\n",
    "<img src=\"./figures/factoring.png\" alt=\"number systems\" width=\"600\">\n",
    "</p>\n",
    "<p style=\"text-align:center;font-size:10px\">\n",
    "<a href=\"https://i.stack.imgur.com/VSwml.png\">(image source)</a>\n",
    "</p>"
   ]
  },
  {
   "cell_type": "markdown",
   "id": "5f3466ac-c6dc-4326-89b0-e1a60da3c3c8",
   "metadata": {
    "editable": true,
    "slideshow": {
     "slide_type": "slide"
    },
    "tags": []
   },
   "source": [
    "### $p$ and $q$ must be approximately the same size\n",
    "If one prime factor is too small then factoring is easier [cf.](https://en.wikipedia.org/wiki/Lenstra_elliptic_curve_factorization)"
   ]
  },
  {
   "cell_type": "code",
   "execution_count": 78,
   "id": "e31e4b51-8da0-4f3b-a610-404a040e1ba1",
   "metadata": {
    "editable": true,
    "slideshow": {
     "slide_type": "fragment"
    },
    "tags": []
   },
   "outputs": [
    {
     "name": "stdout",
     "output_type": "stream",
     "text": [
      "CPU times: user 9.47 s, sys: 32.9 ms, total: 9.51 s\n",
      "Wall time: 9.51 s\n"
     ]
    },
    {
     "data": {
      "text/plain": [
       "698567819 * 94692169340483632461114630164328963698879505170556566972045795393051833317801747401489930226118272217098274686134608761496913501709622812987818880419682606181187147160481334590216466952325163147397121582578615062622481469881353566201891954541233814301021239975979330964635810437129266455167917642618890216211"
      ]
     },
     "execution_count": 78,
     "metadata": {},
     "output_type": "execute_result"
    }
   ],
   "source": [
    "%time factor(random_prime(2**1024)*random_prime(2**32))"
   ]
  },
  {
   "cell_type": "code",
   "execution_count": 79,
   "id": "39adce1b-cb97-4cd3-803f-6af8938f7266",
   "metadata": {
    "editable": true,
    "slideshow": {
     "slide_type": "fragment"
    },
    "tags": []
   },
   "outputs": [
    {
     "name": "stdout",
     "output_type": "stream",
     "text": [
      "CPU times: user 44.3 s, sys: 114 ms, total: 44.4 s\n",
      "Wall time: 44.3 s\n"
     ]
    },
    {
     "data": {
      "text/plain": [
       "1332360613 * 4327997323590140857125228350507204300016645189765317199650543153076737614908393372613197309658718570515179368036062403284687117286053738393636717962032986295052903594080327091986679599097411692972353834546689362563652960322673011449148921752638730702191811317064618933330504862220435379072711133459671011284417392743391218569475755646316614168584425798762801342998499152594150868004355420925694838836948714027350795197293310316013247105817242813473812325977809603048030131316237590865698050573208772907952628533625733100242575911188490427224562909402068006293688007472338307201187463769097084210135153611260657065503"
      ]
     },
     "execution_count": 79,
     "metadata": {},
     "output_type": "execute_result"
    }
   ],
   "source": [
    "%time factor(random_prime(2**2048)*random_prime(2**32))"
   ]
  },
  {
   "cell_type": "markdown",
   "id": "3cbf4f84-ed90-4216-aa40-3f505a13aa93",
   "metadata": {
    "editable": true,
    "slideshow": {
     "slide_type": "slide"
    },
    "tags": []
   },
   "source": [
    "### $p$ and $q$ must be approximately the same size\n",
    "Increasing the number of prime factors is also not a good idea:"
   ]
  },
  {
   "cell_type": "code",
   "execution_count": 84,
   "id": "e3592a6c-8e79-447e-914e-f6230f5bf15b",
   "metadata": {
    "editable": true,
    "slideshow": {
     "slide_type": "fragment"
    },
    "tags": []
   },
   "outputs": [
    {
     "data": {
      "text/plain": [
       "256"
      ]
     },
     "execution_count": 84,
     "metadata": {},
     "output_type": "execute_result"
    }
   ],
   "source": [
    "bits=32\n",
    "8*bits"
   ]
  },
  {
   "cell_type": "code",
   "execution_count": 151,
   "id": "5c9ac9fe-797d-4b23-a4f8-040b8b6f3763",
   "metadata": {
    "editable": true,
    "slideshow": {
     "slide_type": "fragment"
    },
    "tags": []
   },
   "outputs": [
    {
     "name": "stdout",
     "output_type": "stream",
     "text": [
      "CPU times: user 125 ms, sys: 0 ns, total: 125 ms\n",
      "Wall time: 125 ms\n"
     ]
    },
    {
     "data": {
      "text/plain": [
       "497551679 * 1213179103 * 1877973649 * 1910631941 * 2321971139 * 2447232373 * 2827747159 * 3397759657"
      ]
     },
     "execution_count": 151,
     "metadata": {},
     "output_type": "execute_result"
    }
   ],
   "source": [
    "%time factor(random_prime(2**bits)*random_prime(2**bits)*random_prime(2**bits)\\\n",
    "             *random_prime(2**bits)*random_prime(2**bits)*random_prime(2**bits)\\\n",
    "             *random_prime(2**bits)*random_prime(2**bits))"
   ]
  },
  {
   "cell_type": "markdown",
   "id": "4ba06499-a19a-4aa4-8e79-2ceb0a939d81",
   "metadata": {
    "editable": true,
    "slideshow": {
     "slide_type": "slide"
    },
    "tags": []
   },
   "source": [
    "**Raw RSA:** (now assume large $p$ and $q$, other problems?)\n",
    "* Lets pick some primes $p$ and $q$ and compute $n = pq $\n",
    "* Compute $\\varphi(n) = (p-1)(q-1) $\n",
    "* Find some $e$ such that:\n",
    "  + It is *relatively prime* to $\\varphi(n)$, i.e., $\\gcd(e,\\varphi(n))=1$\n",
    "  + There is a $d$ such that $e\\cdot d = 1 \\pmod \\varphi(n)$\n",
    "* Publish $ pk = (n,e) $ and store $ sk = (n,d) $\n",
    "* **Encryption:** of message $ m = 8 $\n",
    "  + $ c = m^e \\pmod n  $\n",
    "* **Decryption:** of ciphertext $ c = 6 $\n",
    "  + $ m = c^d \\pmod n  $"
   ]
  },
  {
   "cell_type": "markdown",
   "id": "f7f0626a-9eef-4212-8902-5f43fe0b311c",
   "metadata": {
    "editable": true,
    "slideshow": {
     "slide_type": "slide"
    },
    "tags": []
   },
   "source": [
    "### Raw RSA - Data patterns visible\n",
    "Raw RSA is deterministic encryption, the same plain text leads to the same ciphertext. \n",
    "Moreover, since the public key $pk$ of Alice is public, an attacker can create a dictionary of common values. \n",
    "```bash\n",
    "Alice  <----- E(n,e,\"all good\") ----- Bob\n",
    "Alice  <----- E(n,e,\"error\") -------- Bob\n",
    "```"
   ]
  },
  {
   "cell_type": "code",
   "execution_count": 153,
   "id": "ad0ad23b-0185-45b0-b1a5-be7536585e3f",
   "metadata": {
    "editable": true,
    "slideshow": {
     "slide_type": "fragment"
    },
    "tags": []
   },
   "outputs": [],
   "source": [
    "n,e,d,p,q = rsa_gen(bits=2^1024,e=65537,verbose=False)"
   ]
  },
  {
   "cell_type": "code",
   "execution_count": 154,
   "id": "7b1aa918-3ba9-4062-bf5e-a6d4797b3fe7",
   "metadata": {
    "editable": true,
    "slideshow": {
     "slide_type": "fragment"
    },
    "tags": []
   },
   "outputs": [],
   "source": [
    "num = str_to_num(\"error\",n)"
   ]
  },
  {
   "cell_type": "code",
   "execution_count": 166,
   "id": "a3a7635e-f48e-4d5e-8f44-1791df115425",
   "metadata": {
    "editable": true,
    "slideshow": {
     "slide_type": "fragment"
    },
    "tags": []
   },
   "outputs": [
    {
     "data": {
      "text/plain": [
       "'20498062452290032520263199700981021515763327797300...'"
      ]
     },
     "execution_count": 166,
     "metadata": {},
     "output_type": "execute_result"
    }
   ],
   "source": [
    "c = rsa_enc(n,e,num); str(c)[0:50] + \"...\" # always the same c under (n,e) "
   ]
  },
  {
   "cell_type": "code",
   "execution_count": 157,
   "id": "349d3d01-0fab-4122-a9fb-dda2a03ca886",
   "metadata": {
    "editable": true,
    "slideshow": {
     "slide_type": "fragment"
    },
    "tags": []
   },
   "outputs": [
    {
     "data": {
      "text/plain": [
       "'error'"
      ]
     },
     "execution_count": 157,
     "metadata": {},
     "output_type": "execute_result"
    }
   ],
   "source": [
    "m_num = rsa_dec(n,d,c); m = num_to_str(m_num); m"
   ]
  },
  {
   "cell_type": "markdown",
   "id": "6ec41d77-3ee8-4740-9505-c03dde51486e",
   "metadata": {
    "editable": true,
    "slideshow": {
     "slide_type": "slide"
    },
    "tags": []
   },
   "source": [
    "### Raw RSA - Integrity not ensured\n",
    "The integrity of the ciphertext is not ensured. Therefore, the ciphertext is malleable. "
   ]
  },
  {
   "cell_type": "code",
   "execution_count": 97,
   "id": "92b72ff1-486c-4c07-800c-6bd76430c7fb",
   "metadata": {
    "editable": true,
    "slideshow": {
     "slide_type": "fragment"
    },
    "tags": []
   },
   "outputs": [],
   "source": [
    "n,e,d,_,_ = rsa_gen(bits=2**1024,e=65537) "
   ]
  },
  {
   "cell_type": "code",
   "execution_count": 105,
   "id": "53d14dc8-6adf-4a19-934d-9445c142f16f",
   "metadata": {
    "editable": true,
    "slideshow": {
     "slide_type": "fragment"
    },
    "tags": []
   },
   "outputs": [
    {
     "data": {
      "text/plain": [
       "1056716605771145727559769161954840204128587371239515379942595789152543316784121164088665635483131910030299900595685860325614557281966260116383558106250725435028411023123877103580823382117213950343822479598350828479916249589260070857465202042192757762583437015436464055605391007835101234860329304643347260406263625493110394071177738976073779767574544425155221164924109498215613577950138038637451591657002337358499297536387999173284816654808324074343060419991573110704420008947996546490400306405245266626087160356272911298484365632701803460439732274243392099141490231384718628140937911973655622010371813614367092424130"
      ]
     },
     "execution_count": 105,
     "metadata": {},
     "output_type": "execute_result"
    }
   ],
   "source": [
    "c = rsa_enc(n,e,8); c # small message from Bob e.g., sensor value"
   ]
  },
  {
   "cell_type": "code",
   "execution_count": 112,
   "id": "df532ed9-cc6a-4aab-ae37-dda5e7d8b212",
   "metadata": {
    "editable": true,
    "slideshow": {
     "slide_type": "fragment"
    },
    "tags": []
   },
   "outputs": [
    {
     "data": {
      "text/plain": [
       "8"
      ]
     },
     "execution_count": 112,
     "metadata": {},
     "output_type": "execute_result"
    }
   ],
   "source": [
    "m = rsa_dec(n,d,c); m # Alice decrypts c"
   ]
  },
  {
   "cell_type": "code",
   "execution_count": null,
   "id": "655a01a3-9e17-4e8b-9d75-00447fde63f7",
   "metadata": {
    "editable": true,
    "slideshow": {
     "slide_type": "slide"
    },
    "tags": []
   },
   "outputs": [],
   "source": [
    "m = rsa_dec(n,d,c); m # Alice decrypts c"
   ]
  },
  {
   "cell_type": "code",
   "execution_count": 113,
   "id": "e0a40e14-ba21-4ba1-8a2a-ab616b91428a",
   "metadata": {
    "editable": true,
    "slideshow": {
     "slide_type": "fragment"
    },
    "tags": []
   },
   "outputs": [],
   "source": [
    "c1 = c*c # MitM attacker just multiplies the value with itself"
   ]
  },
  {
   "cell_type": "code",
   "execution_count": 114,
   "id": "b60627ba-e75e-4f0e-966e-e48907897036",
   "metadata": {
    "editable": true,
    "slideshow": {
     "slide_type": "fragment"
    },
    "tags": []
   },
   "outputs": [
    {
     "data": {
      "text/plain": [
       "64"
      ]
     },
     "execution_count": 114,
     "metadata": {},
     "output_type": "execute_result"
    }
   ],
   "source": [
    "m = rsa_dec(n,d,c1); m # Alice decrypts c1"
   ]
  },
  {
   "cell_type": "code",
   "execution_count": 115,
   "id": "db01360c-63b6-409e-b8f7-65852c092249",
   "metadata": {
    "editable": true,
    "slideshow": {
     "slide_type": "fragment"
    },
    "tags": []
   },
   "outputs": [
    {
     "data": {
      "text/plain": [
       "True"
      ]
     },
     "execution_count": 115,
     "metadata": {},
     "output_type": "execute_result"
    }
   ],
   "source": [
    "m==8*8"
   ]
  },
  {
   "cell_type": "code",
   "execution_count": 116,
   "id": "6258ea51-7d46-4211-a8dc-5dba8099ad38",
   "metadata": {
    "editable": true,
    "slideshow": {
     "slide_type": "fragment"
    },
    "tags": []
   },
   "outputs": [],
   "source": [
    "c2 = c*rsa_enc(n,e,2) # MitM attacker can calc. factor using pk"
   ]
  },
  {
   "cell_type": "code",
   "execution_count": 118,
   "id": "45efbada-40d2-437c-9cac-1746baf61a0e",
   "metadata": {
    "editable": true,
    "slideshow": {
     "slide_type": "fragment"
    },
    "tags": []
   },
   "outputs": [
    {
     "data": {
      "text/plain": [
       "16"
      ]
     },
     "execution_count": 118,
     "metadata": {},
     "output_type": "execute_result"
    }
   ],
   "source": [
    "m = rsa_dec(n,d,c2); m # Alice decrypts c2"
   ]
  },
  {
   "cell_type": "code",
   "execution_count": 119,
   "id": "6d883efd-3dc2-44ff-a4fe-3aabe56d57c9",
   "metadata": {
    "editable": true,
    "slideshow": {
     "slide_type": "fragment"
    },
    "tags": []
   },
   "outputs": [
    {
     "data": {
      "text/plain": [
       "True"
      ]
     },
     "execution_count": 119,
     "metadata": {},
     "output_type": "execute_result"
    }
   ],
   "source": [
    "m==8*2"
   ]
  },
  {
   "cell_type": "markdown",
   "id": "467af327-fa72-4a70-8eda-9660e3e69f19",
   "metadata": {
    "editable": true,
    "slideshow": {
     "slide_type": "slide"
    },
    "tags": []
   },
   "source": [
    "### Raw RSA - $e^{th}$ root attack on small $m$\n",
    "If $m$ is small $m < n^{1/e}$ and $ e $ is small, e.g., $e = 3$ and $ m^e < n $, then\n",
    "you can simply calculate the eth root ($\\sqrt[e] m$) within the set of integers and decrypt the ciphertext"
   ]
  },
  {
   "cell_type": "code",
   "execution_count": 142,
   "id": "d8b4b093-8d09-4557-8c86-ef47cdb82f64",
   "metadata": {
    "editable": true,
    "slideshow": {
     "slide_type": "fragment"
    },
    "tags": []
   },
   "outputs": [
    {
     "name": "stdout",
     "output_type": "stream",
     "text": [
      "n = 8500974778571891654568169108350813086773181226084685198811763567613870576796014635662611012535852060657504599807897323587526362757688091920247045770863705693122457662275701214407780998450912357565868474451845853279269438909378650105783309351640250876518813690548272618560118743331225536195928310719944983487479818344323408684621336820511934820034825318904389528150822115716750759686759702116192793255612489467652357751539435286606342331206012996779893767524126783045550461189715440337728996968380780081639350950440063184668177636408491595273784510082971752467270394198509711161576690448379388132238164874993359392431\n",
      "e = 3\n",
      "d = 5667316519047927769712112738900542057848787484056456799207842378409247051197343090441740675023901373771669733205264882391684241838458727946831363847242470462081638441517134142938520665633941571710578982967897235519512959272919100070522206234426833917679209127032181745706745828887483690797285540479963322324855914224001600983983035729397342978409553542715384346460095575925353121620422491539892803695093779439222790988847404589131879820460729836011419183222398616424662713528532052169566942562551652330657529765597374116330772918320013541029555025061591560248820055806336555224714397726454936061202325429997644567467\n",
      "p = 131107063264776199982447054661823500747449688963641182107606598997673833547081243318053344941863276011392702569207860854669228922340092243253137829141116434503944424716929145599368154386742239130064842889584309103386775934806337520981428654673432167292849760360291070291435016339529010866333754849347735833071\n",
      "q = 64839945056231008664336171754096851673045315867671826353072152831047243709044721488300242771108544297425468699060467548239293678174825999509627163549412423904611966179988216484010428737811062455588213412459692906785242324122133762748023317817152244801190550128713808033070077519167973174100921880649156708161\n"
     ]
    }
   ],
   "source": [
    "n,e,d,_,_ = rsa_gen(bits=2**1025,e=3,verbose=True)"
   ]
  },
  {
   "cell_type": "code",
   "execution_count": 143,
   "id": "77b2c58b-a758-4135-adb1-ab09b52df91b",
   "metadata": {
    "editable": true,
    "slideshow": {
     "slide_type": "slide"
    },
    "tags": []
   },
   "outputs": [
    {
     "data": {
      "text/plain": [
       "'0x41'"
      ]
     },
     "execution_count": 143,
     "metadata": {},
     "output_type": "execute_result"
    }
   ],
   "source": [
    "num = str_to_num(\"A\",n); num; hex(num)"
   ]
  },
  {
   "cell_type": "code",
   "execution_count": 148,
   "id": "fb380cfd-1eb0-4a33-a8c0-c2c25507391a",
   "metadata": {
    "editable": true,
    "slideshow": {
     "slide_type": "fragment"
    },
    "tags": []
   },
   "outputs": [
    {
     "data": {
      "text/plain": [
       "274625"
      ]
     },
     "execution_count": 148,
     "metadata": {},
     "output_type": "execute_result"
    }
   ],
   "source": [
    "c = rsa_enc(n,3,65); c # Bob encrypts message m=65 for Alice"
   ]
  },
  {
   "cell_type": "code",
   "execution_count": 149,
   "id": "d192ebd4-ffae-40d9-a2dd-d0c9e45c9542",
   "metadata": {
    "editable": true,
    "slideshow": {
     "slide_type": "fragment"
    },
    "tags": []
   },
   "outputs": [
    {
     "data": {
      "text/plain": [
       "65"
      ]
     },
     "execution_count": 149,
     "metadata": {},
     "output_type": "execute_result"
    }
   ],
   "source": [
    "274625.nth_root(3) # Attacker can compute plaintext "
   ]
  },
  {
   "cell_type": "markdown",
   "id": "7ab33e5f-dd9f-4a18-88ea-68fd4bdcec36",
   "metadata": {
    "editable": true,
    "slideshow": {
     "slide_type": "slide"
    },
    "tags": []
   },
   "source": [
    "## Other RSA gotchas \n",
    "Over the years a lot of attacks against RSA have been [studied](https://crypto.stanford.edu/~dabo/papers/RSA-survey.pdf). This shows that getting it right is indeed hard, but still it has not been compleatly broken. \n",
    "\n",
    "* *Coppersmith attack*\n",
    "    + Low encryption exponent $ e $ and small message $ m $\n",
    "    + Or partial knowledge of secret key\n",
    "* *Wiener's attack*\n",
    "    + Low decryption exponent $ d $\n",
    "* *Hastad's broadcast attack*\n",
    "    + Same message to different public key (moduli) with same (small) $ e $\n",
    "* *Meet in the middle attack*\n",
    "    + If small (e.g., 128 bi) non padded value is transferred that is the product of two (e.g., 64 bit) values\n",
    "* *Common factor attacks across multiple keys*\n",
    "    + Same prime factors in different moduli\n",
    "    + [Mining your p's and q's](https://factorable.net/weakkeys12.extended.pdf)\n",
    "* *Side channels*\n",
    "    + e.g., timing, power consumption, ...\n",
    "* ..."
   ]
  },
  {
   "cell_type": "markdown",
   "id": "7032ef32-d872-44d6-a3ff-1f318779fad1",
   "metadata": {
    "editable": true,
    "slideshow": {
     "slide_type": "slide"
    },
    "tags": []
   },
   "source": [
    "## RSA but how?\n",
    "In general: If alternative are available better use them.\n",
    "RSA is just a trapdoor permutation and should never be used directly as encryption system (textbook RSA). \n",
    "It has to be embedded/transformed before usage, e.g., OAEP, PKCS1v2.0, or ISO 18033-2.\n",
    "\n",
    "ISO 18033-2 standard roughly:\n",
    "* $(E_s,D_s)$: Symmetric encryption/ decryption system which provides authenticated encryption\n",
    "* $H(): \\mathbb{N}_n \\to K $: Secure hash function that maps elements of $\\mathbb{Z}_n $ to secret keys from a symmetric encryption/decryption system.\n",
    "* $G():$ Generate RSA parameter $pk = (n,e)$, $sk = (n,d)$\n",
    "* $E(pk,m)$: choose random $x$ in $\\mathbb{Z}_n$\n",
    "  + $y \\gets x^e \\pmod{\\mathbb{Z}_n}$, and $ k \\gets H(x)$, also *padding* is applied\n",
    "  + output and send $(y,E_s(k,m))$\n",
    "* $D(sk,(y,c))$: $m = D_s(H(y^d \\pmod{\\mathbb{Z}_n}),c)$\n"
   ]
  },
  {
   "cell_type": "markdown",
   "id": "57e45c34-d471-4415-972d-2681e8116d5d",
   "metadata": {
    "editable": true,
    "slideshow": {
     "slide_type": "slide"
    },
    "tags": []
   },
   "source": [
    "# EOF"
   ]
  },
  {
   "cell_type": "code",
   "execution_count": null,
   "id": "946e7c79-203a-4ce9-bb79-8eb4d8fa66bb",
   "metadata": {
    "editable": true,
    "slideshow": {
     "slide_type": ""
    },
    "tags": []
   },
   "outputs": [],
   "source": []
  }
 ],
 "metadata": {
  "kernelspec": {
   "display_name": "SageMath 9.5",
   "language": "sage",
   "name": "sagemath"
  },
  "language_info": {
   "codemirror_mode": {
    "name": "ipython",
    "version": 3
   },
   "file_extension": ".py",
   "mimetype": "text/x-python",
   "name": "python",
   "nbconvert_exporter": "python",
   "pygments_lexer": "ipython3",
   "version": "3.10.6"
  }
 },
 "nbformat": 4,
 "nbformat_minor": 5
}
