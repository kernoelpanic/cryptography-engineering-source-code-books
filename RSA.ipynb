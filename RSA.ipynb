{
 "cells": [
  {
   "cell_type": "markdown",
   "id": "7ec768de-87d5-4398-b6e4-063d554a3569",
   "metadata": {
    "editable": true,
    "slideshow": {
     "slide_type": ""
    },
    "tags": []
   },
   "source": [
    "# RSA\n",
    "_____"
   ]
  },
  {
   "cell_type": "markdown",
   "id": "660569b7-70e9-453c-9e37-cde25bb23490",
   "metadata": {
    "editable": true,
    "slideshow": {
     "slide_type": "subslide"
    },
    "tags": []
   },
   "source": [
    "**References:**\n",
    "* [[GCAC](https://toc.cryptobook.us/)] A Graduate Course in Applied Cryptography, Dan Boneh and Victor Shoup\n",
    "* [[CINTA](https://shoup.net/ntb/)] A Computational Introduction to Number Theory and Algebra, Victor Shoup\n",
    "* [[HAC](https://cacr.uwaterloo.ca/hac/)] Handbook of Applied Cryptography, Alfred J. Menezes, Paul C. van Oorschot and Scott A. Vanstone\n",
    "* [[ITMC](https://www.cs.umd.edu/~jkatz/imc.html)] Introduction to Modern Cryptography, Jonathan Katz and Yehuda Lindell (3rd Edition)\n",
    "* [Elementary number theory in sage](http://doc.sagemath.org/html/en/constructions/number_theory.html)"
   ]
  },
  {
   "cell_type": "markdown",
   "id": "d938c1cd-0bc8-417f-8dfb-4039e8c6a213",
   "metadata": {
    "editable": true,
    "slideshow": {
     "slide_type": "subslide"
    },
    "tags": []
   },
   "source": [
    "**Dependencies:**\n",
    "\n",
    "This notebook uses [sage math](https://www.sagemath.org/) as kernel"
   ]
  },
  {
   "cell_type": "code",
   "execution_count": 1,
   "id": "44d921c0-4395-4ec5-a985-15b7294a3719",
   "metadata": {
    "editable": true,
    "slideshow": {
     "slide_type": ""
    },
    "tags": []
   },
   "outputs": [
    {
     "name": "stdout",
     "output_type": "stream",
     "text": [
      "\n",
      " SageMath version 9.5, Release Date: 2022-01-30                     \n",
      " Using Python 3.10.12. Type \"help()\" for help.                      \n",
      "\n"
     ]
    }
   ],
   "source": [
    "import sage.misc.banner # sage math version info \n",
    "rchars = \"┘─│┐┌└\"\n",
    "smallbanner = sage.misc.banner.banner_text(full=True)\n",
    "for c in rchars:\n",
    "    smallbanner = smallbanner.replace(c,\"\") # remove ascii art box\n",
    "print(smallbanner)\n",
    "#banner() # full banner with box"
   ]
  },
  {
   "cell_type": "markdown",
   "id": "abc71a50-5c29-45ff-9dc2-cee0af163ef5",
   "metadata": {
    "editable": true,
    "slideshow": {
     "slide_type": "slide"
    },
    "tags": []
   },
   "source": [
    "## RSA - Rivest Shamir Adelman\n",
    "* **R**ivest **S**hamir **A**delman (RSA) - Adi Shamir, Ron Rivest, Leonard Adelman (all MIT at that time)\n",
    "* Algorithm first published 1977 [\"A Method for Obtaining Digital Signatures and Public-key Cryptosystems\"](https://dspace.mit.edu/bitstream/handle/1721.1/148910/MIT-LCS-TM-082.pdf?sequence=1) ($\\approx$28 K citations)\n",
    "    + since 1969 the British signals intelligence GCHQ knew about public-key cryptography (first RSA then DH like) \n",
    "* Key (modulus) length of $ 2048$ bits still considered secure [[ref](https://www.keylength.com/)]\n",
    "<p style=\"text-align:center\">\n",
    "<img src=\"./img/RSA.jpg\" alt=\"number systems\" width=\"600\">\n",
    "</p>\n",
    "<p style=\"text-align:center;font-size:10px\">\n",
    "<a href=\"https://en.wikipedia.org/wiki/Prime_number#/media/File:Primes-vs-composites.svg\">(image source)</a>\n",
    "</p>"
   ]
  },
  {
   "cell_type": "markdown",
   "id": "7b2e2a2e-9f8b-4ab9-abae-0552a7619690",
   "metadata": {
    "editable": true,
    "slideshow": {
     "slide_type": "slide"
    },
    "tags": []
   },
   "source": [
    "## Trapdoor function\n",
    "A *trapdoor function* is a triple of efficient algorithms $\\langle G,F,F^{-1} \\rangle$ where:\n",
    "* $G()$ is a key generation algorithm that outputs $(pk,sk)$\n",
    "* $F(pk,\\cdot)$ the $pk$ defines a mapping function $X \\to Y$\n",
    "* $F^{-1}(sk,\\cdot)$ defines a function $Y \\to X$ that *inverts* $F(pk,\\cdot)$\n",
    "\n",
    "It holds that $\\forall(pk,sk)$ that are the output of $G()$:\n",
    "$$\n",
    "\\forall x \\in X: F^{-1}(sk, F(pk,x)) = x \n",
    "$$\n",
    "*Note:* If both sets are equal ($X = Y$) then then it is a *trapdoor permutation*. A secure trapdoor function/permutation is one-way without the trapdoor $sk$"
   ]
  },
  {
   "cell_type": "markdown",
   "id": "b85bda80-e1d0-4a4c-8b1b-df797df85a19",
   "metadata": {
    "editable": true,
    "slideshow": {
     "slide_type": "slide"
    },
    "tags": []
   },
   "source": [
    "## Trapdoor function\n",
    "![RSA_trapdoor](./figures/RSA_trapdoor.png)"
   ]
  },
  {
   "cell_type": "markdown",
   "id": "fa485fca-87b0-4ad9-8961-94771c6c677d",
   "metadata": {
    "editable": true,
    "slideshow": {
     "slide_type": "slide"
    },
    "tags": []
   },
   "source": [
    "## RSA - Trapdoor permutation\n",
    "\n",
    "The RSA *trapdoor permutation* is a triple of efficient algorithms $\\langle G,F,F^{-1} \\rangle$\n",
    "* $G()$ key generation function:\n",
    "  + Choose two random primes $p,q$ of at least $ 1024 $ bit each and compute the $ 2048 $ bit *modulus* $n =pq $\n",
    "  + Choose integers $e,d$ such that $e\\cdot d = 1 \\pmod{\\varphi(n)}$\n",
    "      - There are some commonly used values for $ e $ such as $ e = 3 $ or $ e = 2^{16} + 1 = 65537$\n",
    "  + Output $pk = (n,e)$ and $sk=(n,d)$\n",
    "      - The variabel $ e $ is called the *encryption exponent* and $ d $ is called the *decryption exponent*. \n",
    "* $F(pk,x) = x^e \\pmod{\\mathbb{Z}_n}$\n",
    "    + This trapdoor permutation defines a mapping between all invertable elements $\\mathbb{Z}_n^* \\to \\mathbb{Z}_n^*$\n",
    "* $F^{-1}(sk,y) = y^d \\pmod{\\mathbb{Z}_n}$\n",
    "    + This is the inverse trapdoor permutation "
   ]
  },
  {
   "cell_type": "markdown",
   "id": "b597b73b-4865-4672-8e1b-a1020935e1ef",
   "metadata": {
    "editable": true,
    "slideshow": {
     "slide_type": "skip"
    },
    "tags": []
   },
   "source": [
    "To show that $F^{-1}(sk, F(pk,x)) = x $ we use the fact that there exists some $ k $ such that $ ed = k \\cdot \\varphi(n) + 1 $ since $ e \\cdot d = 1 \\pmod{\\varphi(n)} $. \n",
    "\n",
    "If $x$ is *relatively prime* to $n$, i.e., $\\gcd(x,n) = 1$, then $x^{\\varphi(n)} \\equiv 1 \\pmod n$ by *Euler's theorem*.\n",
    "\n",
    "$$\n",
    "y^d = (x^e)^d = x^{ed} = x^{k\\cdot \\varphi(n)+1} = \\left( x^{\\varphi(n)}\\right)^k \\cdot x = (1)^k \\cdot x = x \\pmod n\n",
    "$$"
   ]
  },
  {
   "cell_type": "markdown",
   "id": "737e05bf-03d6-4c9b-bb02-055be64ded75",
   "metadata": {
    "editable": true,
    "slideshow": {
     "slide_type": "skip"
    },
    "tags": []
   },
   "source": [
    "There is also a proof using *Fermat's little theorem* which does not require that $\\gcd(x,n)=1$, although it is hard to find an $x$ (message) for which this is not the case as there are only $1/p + 1/q - 1/(pq)$ numbers have this property.\n",
    "[(source)](https://en.wikipedia.org/wiki/RSA_(cryptosystem)#Proofs_of_correctness)"
   ]
  },
  {
   "cell_type": "markdown",
   "id": "a8ad2e3c-c699-4c86-a100-a3cdb0c4b073",
   "metadata": {
    "editable": true,
    "slideshow": {
     "slide_type": "slide"
    },
    "tags": []
   },
   "source": [
    "## RSA - Security \n",
    "* Computing $\\varphi(n)$ without knowing the factorization of $ n $ is the difficulty of computing $ d $\n",
    "* This is refered to as the *RSA problem*, which can be solved by factoring $ n $ and computing $\\varphi(n)$.\n",
    "* Knowing $\\varphi(n)$, the multiplicative inverse of $ e $ can be calculated efficiently e.g., with using the extended euclidean algorithm\n",
    "$$\n",
    "\\begin{align*}\n",
    "\\varphi(n) &= (p-1)(q-1)\\\\\n",
    "e\\cdot e^{-1} &=1 \\pmod{\\varphi(n)}\\\\\n",
    "d&:= e^{-1} \\pmod{\\varphi(n)} \n",
    "\\end{align*}\n",
    "$$"
   ]
  },
  {
   "cell_type": "code",
   "execution_count": 50,
   "id": "f69f771e-84d0-44de-a5ef-5692ea08535c",
   "metadata": {
    "editable": true,
    "slideshow": {
     "slide_type": "subslide"
    },
    "tags": []
   },
   "outputs": [],
   "source": [
    "# computing multiplicative inverse in python if phi(n) known\n",
    "def modular_inverse(e, phi_n): \n",
    "    return pow(e,-1,phi_n) "
   ]
  },
  {
   "cell_type": "markdown",
   "id": "be50a72c-144c-4550-989c-5d6048cee3a4",
   "metadata": {
    "editable": true,
    "slideshow": {
     "slide_type": "slide"
    },
    "tags": []
   },
   "source": [
    "## Textbook/raw RSA implementation (insecure)\n",
    "<a id='raw'></a>\n",
    "This *textbook* implementation of RSA is insecure, but we will use it to demonstrate a couple of security issues \n",
    "which have to be addressed when RSA should be used in a secure way."
   ]
  },
  {
   "cell_type": "code",
   "execution_count": 51,
   "id": "0d2f3aff-82f4-4cd8-9543-ae82a5a925e3",
   "metadata": {
    "editable": true,
    "slideshow": {
     "slide_type": "fragment"
    },
    "tags": []
   },
   "outputs": [],
   "source": [
    "def rsa_gen(bits=2^1024,_p=None,_q=None,e=None,verbose=False):\n",
    "    proof = (bits <= 2^1024) # turn off time consuming proof for large values \n",
    "    if ( _p and _q ) and _p in Primes() and _q in Primes():\n",
    "        p = _p\n",
    "        q = _q\n",
    "    else:\n",
    "        p = random_prime(bits, proof=proof)\n",
    "        q = random_prime(bits, proof=proof)\n",
    "    if p==q: return None\t\n",
    "    n = p * q\n",
    "    phi_n = (p-1) * (q-1)\n",
    "    if not e:\n",
    "        while True:\n",
    "            e = ZZ.random_element(1,phi_n)\n",
    "            if gcd(e,phi_n) == 1: break\n",
    "    d = inverse_mod(e,phi_n)\n",
    "    if verbose: print(f\"n = {n}\\ne = {e}\\nd = {d}\\np = {p}\\nq = {q}\")\n",
    "    return n,e,d,p,q "
   ]
  },
  {
   "cell_type": "code",
   "execution_count": 4,
   "id": "e3d3919a-6709-4c2e-9ab4-f778b555332d",
   "metadata": {
    "editable": true,
    "slideshow": {
     "slide_type": "subslide"
    },
    "tags": []
   },
   "outputs": [],
   "source": [
    "def rsa_enc(n,e,m):\n",
    "\treturn pow(m,e,n)\n",
    "\n",
    "def rsa_dec(n,d,c):\n",
    "\treturn pow(c,d,n)"
   ]
  },
  {
   "cell_type": "code",
   "execution_count": 5,
   "id": "b9f2179d-c822-4815-a39f-29bf4aa43052",
   "metadata": {
    "editable": true,
    "slideshow": {
     "slide_type": "subslide"
    },
    "tags": []
   },
   "outputs": [],
   "source": [
    "def str_to_num(s,n):\n",
    "    \"\"\" Function to encode a string as number sequence of their 8 bit ASCII codes \"\"\"\n",
    "    s = str(s)\n",
    "    if len(s) > floor(log(n,256)):\n",
    "        print(\"String larger than what can be handled in one rsa invocation\")\n",
    "        return None\n",
    "    num = 0\n",
    "    for i in range(len(s)):\n",
    "        num += ord( s[i] )*256^i  # the ^i inverts \n",
    "    return num \t\n",
    "\n",
    "def num_to_str(num):\n",
    "    \"\"\" Function to decode a number into 8 bit sequences of ASCII characters \"\"\"\n",
    "    num = Integer(num) \n",
    "    v = [] \n",
    "    while num != 0: \n",
    "        v.append(chr( num % 256 )) \n",
    "        num //= 256 # this replaces num by floor(num/256) \n",
    "    return ''.join(v)"
   ]
  },
  {
   "cell_type": "markdown",
   "id": "ea3ee2d6-ca91-4d98-9fbb-1e1a102af257",
   "metadata": {
    "editable": true,
    "slideshow": {
     "slide_type": "slide"
    },
    "tags": []
   },
   "source": [
    "<p style=\"text-align:center\">\n",
    "<img src=\"./img/rsa-perl.jpg\" alt=\"number systems\" width=\"450\">\n",
    "</p>\n",
    "<p style=\"text-align:center;font-size:10px\">\n",
    "<a href=\"https://www.wired.com/wp-content/uploads/blogs/wiredenterprise/wp-content/uploads/2013/01/rsa-perl.jpg\">RSA printed on a T-shirt during the first \"crypto wars\" in the 90s</a>\n",
    "</p>"
   ]
  },
  {
   "cell_type": "markdown",
   "id": "21b7f01d-2227-4391-ab4f-e43e4a03eede",
   "metadata": {
    "editable": true,
    "jp-MarkdownHeadingCollapsed": true,
    "slideshow": {
     "slide_type": "skip"
    },
    "tags": []
   },
   "source": [
    "### Alternatively load sage code from file"
   ]
  },
  {
   "cell_type": "raw",
   "id": "2e2558a6-2891-4f00-86fa-9f6d77f74746",
   "metadata": {
    "editable": true,
    "jupyter": {
     "source_hidden": true
    },
    "raw_mimetype": "",
    "slideshow": {
     "slide_type": "skip"
    },
    "tags": []
   },
   "source": [
    "load('./src/rsa.sage')"
   ]
  },
  {
   "cell_type": "raw",
   "id": "bc97d48c-7a77-4d29-81eb-f49c46c245d3",
   "metadata": {
    "collapsed": true,
    "editable": true,
    "jupyter": {
     "outputs_hidden": true,
     "source_hidden": true
    },
    "raw_mimetype": "",
    "scrolled": true,
    "slideshow": {
     "slide_type": "skip"
    },
    "tags": []
   },
   "source": [
    "!cat ./src/rsa.sage"
   ]
  },
  {
   "cell_type": "markdown",
   "id": "a4492393-1f48-4921-8511-d723d5c74d28",
   "metadata": {
    "editable": true,
    "slideshow": {
     "slide_type": "skip"
    },
    "tags": []
   },
   "source": [
    "### Check properties "
   ]
  },
  {
   "cell_type": "code",
   "execution_count": 6,
   "id": "5b01cfbb-ac3f-4768-808f-91f7fe388f8c",
   "metadata": {
    "editable": true,
    "slideshow": {
     "slide_type": "skip"
    },
    "tags": []
   },
   "outputs": [
    {
     "name": "stdout",
     "output_type": "stream",
     "text": [
      "n = 617969368774225455769892727987104839630959660697238828651467\n",
      "e = 533913351354502739259587781233007060407461486953531551337775\n",
      "d = 600807079844997952231520989491178384364126658483973712214415\n",
      "p = 1099813234443726227139832362163\n",
      "q = 561885736069349769271963984009\n"
     ]
    }
   ],
   "source": [
    "n,e,d,p,q = rsa_gen(bits=2^100,e=None,verbose=True)"
   ]
  },
  {
   "cell_type": "code",
   "execution_count": 7,
   "id": "15fa6aed-6831-45c1-a930-d62647c9eccd",
   "metadata": {
    "editable": true,
    "slideshow": {
     "slide_type": "skip"
    },
    "tags": []
   },
   "outputs": [
    {
     "data": {
      "text/plain": [
       "617969368774225455769892727987104839630959660697238828651467"
      ]
     },
     "execution_count": 7,
     "metadata": {},
     "output_type": "execute_result"
    }
   ],
   "source": [
    "n"
   ]
  },
  {
   "cell_type": "code",
   "execution_count": 8,
   "id": "6e9aa234-b479-4d12-abbd-2dd614320681",
   "metadata": {
    "editable": true,
    "slideshow": {
     "slide_type": "skip"
    },
    "tags": []
   },
   "outputs": [
    {
     "data": {
      "text/plain": [
       "617969368774225455769892727985443140660446584700827032305296"
      ]
     },
     "execution_count": 8,
     "metadata": {},
     "output_type": "execute_result"
    }
   ],
   "source": [
    "phi_n=(p-1)*(q-1)\n",
    "phi_n "
   ]
  },
  {
   "cell_type": "code",
   "execution_count": 9,
   "id": "169c5713-9f80-4447-82a5-ddcccdedc776",
   "metadata": {
    "editable": true,
    "slideshow": {
     "slide_type": "skip"
    },
    "tags": []
   },
   "outputs": [
    {
     "data": {
      "text/plain": [
       "True"
      ]
     },
     "execution_count": 9,
     "metadata": {},
     "output_type": "execute_result"
    }
   ],
   "source": [
    "phi_n < n"
   ]
  },
  {
   "cell_type": "code",
   "execution_count": 10,
   "id": "7bbaa625-578d-411c-8c42-217e10234a14",
   "metadata": {
    "editable": true,
    "slideshow": {
     "slide_type": "skip"
    },
    "tags": []
   },
   "outputs": [
    {
     "data": {
      "text/plain": [
       "1661698970513075996411796346171"
      ]
     },
     "execution_count": 10,
     "metadata": {},
     "output_type": "execute_result"
    }
   ],
   "source": [
    "n - phi_n"
   ]
  },
  {
   "cell_type": "code",
   "execution_count": 11,
   "id": "e48913d4-bb77-4ec1-9bb5-e761b8bbfe5d",
   "metadata": {
    "editable": true,
    "slideshow": {
     "slide_type": "skip"
    },
    "tags": []
   },
   "outputs": [
    {
     "data": {
      "text/plain": [
       "0.99999999999999999999999999999731103344"
      ]
     },
     "execution_count": 11,
     "metadata": {},
     "output_type": "execute_result"
    }
   ],
   "source": [
    "hpRR= RealField(128) # custom high precision real numbers \n",
    "hpRR(phi_n/n) "
   ]
  },
  {
   "cell_type": "code",
   "execution_count": 12,
   "id": "e6015576-d5b2-42fa-b1af-d2a247b105a5",
   "metadata": {
    "editable": true,
    "slideshow": {
     "slide_type": "skip"
    },
    "tags": []
   },
   "outputs": [
    {
     "data": {
      "text/plain": [
       "True"
      ]
     },
     "execution_count": 12,
     "metadata": {},
     "output_type": "execute_result"
    }
   ],
   "source": [
    "mod(e*d,phi_n) == 1"
   ]
  },
  {
   "cell_type": "code",
   "execution_count": 13,
   "id": "ade30137-73e3-4f50-8c5c-171345995550",
   "metadata": {
    "editable": true,
    "slideshow": {
     "slide_type": "skip"
    },
    "tags": []
   },
   "outputs": [
    {
     "data": {
      "text/plain": [
       "True"
      ]
     },
     "execution_count": 13,
     "metadata": {},
     "output_type": "execute_result"
    }
   ],
   "source": [
    "k=5\n",
    "mod(k*phi_n+1,phi_n) == 1"
   ]
  },
  {
   "cell_type": "code",
   "execution_count": 14,
   "id": "12b480d9-fd15-44f7-8603-9f2bb1467d3e",
   "metadata": {
    "editable": true,
    "slideshow": {
     "slide_type": "skip"
    },
    "tags": []
   },
   "outputs": [
    {
     "data": {
      "text/plain": [
       "True"
      ]
     },
     "execution_count": 14,
     "metadata": {},
     "output_type": "execute_result"
    }
   ],
   "source": [
    "x=10\n",
    "assert gcd(x,n) == 1,\"x and n are not relatively prime\"\n",
    "pow(x,phi_n,n) == 1 "
   ]
  },
  {
   "cell_type": "markdown",
   "id": "74a7f145-0fb3-4152-8209-567dc746c495",
   "metadata": {
    "editable": true,
    "slideshow": {
     "slide_type": "slide"
    },
    "tags": []
   },
   "source": [
    "### Raw RSA - Exampel (insecure)\n",
    "* Lets pick some primes $p=2$ and $q=11$ and compute $n = pq = 22$\n",
    "* Compute $\\varphi(n) = (p-1)(q-1) = 10$\n",
    "* Find some $e$ such that:\n",
    "  + It is *relatively prime* to $\\varphi(n)$, i.e., $\\gcd(e,\\varphi(n))=1$\n",
    "  + There is a $d$ such that $e\\cdot d = 1 \\pmod{\\varphi(n)}$\n",
    "* For our example set $ e = 3 $ and $ d = 7 $, i.e., $ 3 \\cdot 7 = 1 \\pmod{\\varphi(n)}$\n",
    "* Publish $ pk = (n,e) = (22,3) $ and store $ sk = (n,d) = (22,7) $\n",
    "* **Encryption:** of message $ m = 8 $\n",
    "  + $ c = m^e \\pmod n = 8^3 \\pmod{22} = 512 \\pmod{22} = 6 $\n",
    "* **Decryption:** of ciphertext $ c = 6 $\n",
    "  + $ m = c^d \\pmod n = 6^7 \\pmod{22} = 279936 \\pmod{22} = 8 $"
   ]
  },
  {
   "cell_type": "code",
   "execution_count": 15,
   "id": "1dd10222-4f70-4b63-aa51-379f0196660b",
   "metadata": {
    "editable": true,
    "slideshow": {
     "slide_type": "subslide"
    },
    "tags": []
   },
   "outputs": [
    {
     "name": "stdout",
     "output_type": "stream",
     "text": [
      "n = 22\n",
      "e = 3\n",
      "d = 7\n",
      "p = 2\n",
      "q = 11\n"
     ]
    }
   ],
   "source": [
    "n,e,d,_,_ = rsa_gen(bits=None,_p=2,_q=11,e=3,verbose=True)"
   ]
  },
  {
   "cell_type": "code",
   "execution_count": 16,
   "id": "8d916cd7-8c7f-4d22-9772-54147cf74af4",
   "metadata": {
    "editable": true,
    "slideshow": {
     "slide_type": "fragment"
    },
    "tags": []
   },
   "outputs": [
    {
     "data": {
      "text/plain": [
       "6"
      ]
     },
     "execution_count": 16,
     "metadata": {},
     "output_type": "execute_result"
    }
   ],
   "source": [
    "rsa_enc(22,3,8)"
   ]
  },
  {
   "cell_type": "code",
   "execution_count": 17,
   "id": "ccc37080-14c4-4af3-83fc-8119da8f56b7",
   "metadata": {
    "editable": true,
    "slideshow": {
     "slide_type": "fragment"
    },
    "tags": []
   },
   "outputs": [
    {
     "data": {
      "text/plain": [
       "8"
      ]
     },
     "execution_count": 17,
     "metadata": {},
     "output_type": "execute_result"
    }
   ],
   "source": [
    "rsa_dec(22,7,6)"
   ]
  },
  {
   "cell_type": "markdown",
   "id": "204377ab-a3eb-4dcc-a7b5-4c659b01a182",
   "metadata": {
    "editable": true,
    "slideshow": {
     "slide_type": "slide"
    },
    "tags": []
   },
   "source": [
    "### Raw RSA - Parameters (p,q) too small\n",
    "If $p$ and $q$ are to small $n$ can be factorized:"
   ]
  },
  {
   "cell_type": "code",
   "execution_count": 18,
   "id": "db0aff27-4bae-435c-b453-d20d6cad67d9",
   "metadata": {
    "editable": true,
    "slideshow": {
     "slide_type": ""
    },
    "tags": []
   },
   "outputs": [
    {
     "name": "stdout",
     "output_type": "stream",
     "text": [
      "n = 22\n",
      "e = 3\n",
      "d = 7\n",
      "p = 2\n",
      "q = 11\n"
     ]
    }
   ],
   "source": [
    "n,e,d,_,_ = rsa_gen(bits=None,_p=2,_q=11,e=3,verbose=True) # Alice "
   ]
  },
  {
   "cell_type": "code",
   "execution_count": 19,
   "id": "1404ef9f-a8a5-48a2-835b-d233c5d99267",
   "metadata": {
    "editable": true,
    "slideshow": {
     "slide_type": "fragment"
    },
    "tags": []
   },
   "outputs": [],
   "source": [
    "n=22; e=3 # Attacker uses pk of Alice"
   ]
  },
  {
   "cell_type": "code",
   "execution_count": 20,
   "id": "36e11125-bc26-4931-b719-3e121ecaa583",
   "metadata": {
    "editable": true,
    "slideshow": {
     "slide_type": "fragment"
    },
    "tags": []
   },
   "outputs": [
    {
     "data": {
      "text/plain": [
       "2 * 11"
      ]
     },
     "execution_count": 20,
     "metadata": {},
     "output_type": "execute_result"
    }
   ],
   "source": [
    "factor(n) # factors n into its prime factors"
   ]
  },
  {
   "cell_type": "code",
   "execution_count": 21,
   "id": "10a8a3ca-b44e-4409-8fd5-33ca2ed17cc6",
   "metadata": {
    "editable": true,
    "slideshow": {
     "slide_type": "fragment"
    },
    "tags": []
   },
   "outputs": [
    {
     "data": {
      "text/plain": [
       "10"
      ]
     },
     "execution_count": 21,
     "metadata": {},
     "output_type": "execute_result"
    }
   ],
   "source": [
    "phi_n=(2-1)*(11-1); phi_n # computes phi with known factors "
   ]
  },
  {
   "cell_type": "code",
   "execution_count": 22,
   "id": "ce23eb8e-3803-4529-8cc5-acc74b676ea0",
   "metadata": {
    "editable": true,
    "slideshow": {
     "slide_type": "fragment"
    },
    "tags": []
   },
   "outputs": [
    {
     "data": {
      "text/plain": [
       "7"
      ]
     },
     "execution_count": 22,
     "metadata": {},
     "output_type": "execute_result"
    }
   ],
   "source": [
    "d=inverse_mod(e,phi_n);d # compute secret key by inverting e "
   ]
  },
  {
   "cell_type": "markdown",
   "id": "f3c31d40-dded-4d82-8480-a1ee39a292fd",
   "metadata": {
    "editable": true,
    "slideshow": {
     "slide_type": "slide"
    },
    "tags": []
   },
   "source": [
    "#### Factorization examples"
   ]
  },
  {
   "cell_type": "code",
   "execution_count": 23,
   "id": "0aca0919-9fa2-47a9-bfb9-d5da4ec07b0d",
   "metadata": {
    "editable": true,
    "scrolled": true,
    "slideshow": {
     "slide_type": "fragment"
    },
    "tags": []
   },
   "outputs": [
    {
     "name": "stdout",
     "output_type": "stream",
     "text": [
      "n = 7402481760414978871\n",
      "e = 6135284656743248681\n",
      "d = 5889344396117775513\n",
      "p = 2765346593\n",
      "q = 2676873047\n"
     ]
    }
   ],
   "source": [
    "n,e,d,p,q = rsa_gen(bits=2^32,e=None,verbose=True) # 2 x 2**32 bit primes "
   ]
  },
  {
   "cell_type": "code",
   "execution_count": 24,
   "id": "fdc6caf3-07b4-4fd6-8b3f-a5de60f2eb50",
   "metadata": {
    "editable": true,
    "scrolled": true,
    "slideshow": {
     "slide_type": "fragment"
    },
    "tags": []
   },
   "outputs": [
    {
     "name": "stdout",
     "output_type": "stream",
     "text": [
      "CPU times: user 1.35 ms, sys: 266 µs, total: 1.62 ms\n",
      "Wall time: 1.62 ms\n"
     ]
    },
    {
     "data": {
      "text/plain": [
       "2676873047 * 2765346593"
      ]
     },
     "execution_count": 24,
     "metadata": {},
     "output_type": "execute_result"
    }
   ],
   "source": [
    "%time factor(n)"
   ]
  },
  {
   "cell_type": "code",
   "execution_count": 25,
   "id": "7b2bccfa-4088-4a59-a944-f1a8a26338a8",
   "metadata": {
    "editable": true,
    "scrolled": true,
    "slideshow": {
     "slide_type": "fragment"
    },
    "tags": []
   },
   "outputs": [
    {
     "name": "stdout",
     "output_type": "stream",
     "text": [
      "CPU times: user 2.24 ms, sys: 442 µs, total: 2.68 ms\n",
      "Wall time: 3.67 ms\n"
     ]
    },
    {
     "data": {
      "text/plain": [
       "7402481754972759232"
      ]
     },
     "execution_count": 25,
     "metadata": {},
     "output_type": "execute_result"
    }
   ],
   "source": [
    "%time euler_phi(n)"
   ]
  },
  {
   "cell_type": "markdown",
   "id": "e7c6da3d-98a4-460d-8a29-b1237a9cbb18",
   "metadata": {
    "editable": true,
    "slideshow": {
     "slide_type": "slide"
    },
    "tags": []
   },
   "source": [
    "#### Factorization examples"
   ]
  },
  {
   "cell_type": "code",
   "execution_count": 26,
   "id": "f9928547-b43b-426e-8e8c-234186723104",
   "metadata": {
    "editable": true,
    "slideshow": {
     "slide_type": "fragment"
    },
    "tags": []
   },
   "outputs": [
    {
     "name": "stdout",
     "output_type": "stream",
     "text": [
      "CPU times: user 1.05 ms, sys: 207 µs, total: 1.26 ms\n",
      "Wall time: 1.3 ms\n"
     ]
    },
    {
     "data": {
      "text/plain": [
       "1096185667 * 3408928543"
      ]
     },
     "execution_count": 26,
     "metadata": {},
     "output_type": "execute_result"
    }
   ],
   "source": [
    "%time factor(random_prime(2**32)*random_prime(2**32)) # 64 bit n"
   ]
  },
  {
   "cell_type": "code",
   "execution_count": 27,
   "id": "e8c97fe5-65c3-4325-9a03-41906cfd0487",
   "metadata": {
    "editable": true,
    "slideshow": {
     "slide_type": "fragment"
    },
    "tags": []
   },
   "outputs": [
    {
     "name": "stdout",
     "output_type": "stream",
     "text": [
      "CPU times: user 30 ms, sys: 285 µs, total: 30.2 ms\n",
      "Wall time: 30.1 ms\n"
     ]
    },
    {
     "data": {
      "text/plain": [
       "2603931075277770449 * 6761297229444507661"
      ]
     },
     "execution_count": 27,
     "metadata": {},
     "output_type": "execute_result"
    }
   ],
   "source": [
    "%time factor(random_prime(2**64)*random_prime(2**64)) # 128 bit n "
   ]
  },
  {
   "cell_type": "code",
   "execution_count": 28,
   "id": "bdf0eca5-9f2f-4946-86e9-01c53c283a6b",
   "metadata": {
    "editable": true,
    "slideshow": {
     "slide_type": "fragment"
    },
    "tags": []
   },
   "outputs": [
    {
     "name": "stdout",
     "output_type": "stream",
     "text": [
      "CPU times: user 2.34 s, sys: 4.44 ms, total: 2.35 s\n",
      "Wall time: 2.32 s\n"
     ]
    },
    {
     "data": {
      "text/plain": [
       "24008636431434710713745214899 * 54432099488743045962899587171"
      ]
     },
     "execution_count": 28,
     "metadata": {},
     "output_type": "execute_result"
    }
   ],
   "source": [
    "%time factor(random_prime(2**96)*random_prime(2**96)) # 192 bit n"
   ]
  },
  {
   "cell_type": "code",
   "execution_count": 52,
   "id": "2598f0d5-e6aa-44a1-bc41-94255a31547c",
   "metadata": {
    "editable": true,
    "slideshow": {
     "slide_type": "fragment"
    },
    "tags": []
   },
   "outputs": [
    {
     "name": "stdout",
     "output_type": "stream",
     "text": [
      "CPU times: user 3min 6s, sys: 1.05 s, total: 3min 7s\n",
      "Wall time: 3min 4s\n"
     ]
    },
    {
     "data": {
      "text/plain": [
       "236593518623236086418014039105039289109 * 254117808712772563877085158843332102459"
      ]
     },
     "execution_count": 52,
     "metadata": {},
     "output_type": "execute_result"
    }
   ],
   "source": [
    "%time factor(random_prime(2**128)*random_prime(2**128)) # 256 bit n"
   ]
  },
  {
   "cell_type": "markdown",
   "id": "099c297c-1321-4a27-b4a6-8333324f9a2c",
   "metadata": {
    "editable": true,
    "slideshow": {
     "slide_type": "slide"
    },
    "tags": []
   },
   "source": [
    "#### Factorization examples\n",
    "<p style=\"text-align:center\">\n",
    "<img src=\"./figures/factoring.png\" alt=\"number systems\" width=\"600\">\n",
    "</p>\n",
    "<p style=\"text-align:center;font-size:10px\">\n",
    "<a href=\"https://i.stack.imgur.com/VSwml.png\">(image source)</a>\n",
    "</p>"
   ]
  },
  {
   "cell_type": "markdown",
   "id": "5f3466ac-c6dc-4326-89b0-e1a60da3c3c8",
   "metadata": {
    "editable": true,
    "slideshow": {
     "slide_type": "slide"
    },
    "tags": []
   },
   "source": [
    "### $p$ and $q$ must be approximately the same size\n",
    "If one prime factor is small then factoring is easier [cf.](https://en.wikipedia.org/wiki/Lenstra_elliptic_curve_factorization)"
   ]
  },
  {
   "cell_type": "code",
   "execution_count": 30,
   "id": "e31e4b51-8da0-4f3b-a610-404a040e1ba1",
   "metadata": {
    "editable": true,
    "slideshow": {
     "slide_type": "fragment"
    },
    "tags": []
   },
   "outputs": [
    {
     "name": "stdout",
     "output_type": "stream",
     "text": [
      "CPU times: user 6.76 s, sys: 17.4 ms, total: 6.77 s\n",
      "Wall time: 6.72 s\n"
     ]
    },
    {
     "data": {
      "text/plain": [
       "2723519431 * 21983046417287773796180412283719780675776530754227844586343094301416162892780538224972896073733307100145410220940906045810591756277080278211068802051726468985140864567899163158808874645764241248922371346185009253002699413538268424645945248436461000566974448734725030893740097344829386540813975326641428678919"
      ]
     },
     "execution_count": 30,
     "metadata": {},
     "output_type": "execute_result"
    }
   ],
   "source": [
    "%time factor(random_prime(2**1024)*random_prime(2**32))"
   ]
  },
  {
   "cell_type": "code",
   "execution_count": 31,
   "id": "39adce1b-cb97-4cd3-803f-6af8938f7266",
   "metadata": {
    "editable": true,
    "slideshow": {
     "slide_type": "fragment"
    },
    "tags": []
   },
   "outputs": [
    {
     "name": "stdout",
     "output_type": "stream",
     "text": [
      "CPU times: user 51 s, sys: 63.3 ms, total: 51.1 s\n",
      "Wall time: 50.9 s\n"
     ]
    },
    {
     "data": {
      "text/plain": [
       "191055671 * 26104404363605316156687119569868704325729224130602090096059956367020884471442829282631643167244418941044826586676196616763190239932885047564911363831168647439130471107137598125726290464894939054198128947707799135510187559190745168921941096609602843822662534721675483587158404863483846156219346020889559501244976654854463698352831992607139320311264902996593192507315361718701940739609067921951414727881587151800506882077341029531308190944764002232994913856875122606443703942157368357500339742013383626180316817399664817553981658937551290105788412029775012250186539241128350989521849110986247342157214904620430205501523"
      ]
     },
     "execution_count": 31,
     "metadata": {},
     "output_type": "execute_result"
    }
   ],
   "source": [
    "%time factor(random_prime(2**2048)*random_prime(2**32))"
   ]
  },
  {
   "cell_type": "markdown",
   "id": "3cbf4f84-ed90-4216-aa40-3f505a13aa93",
   "metadata": {
    "editable": true,
    "slideshow": {
     "slide_type": "slide"
    },
    "tags": []
   },
   "source": [
    "### $p$ and $q$ must be approximately the same size\n",
    "Increasing the number of prime factors is also not a good idea:"
   ]
  },
  {
   "cell_type": "code",
   "execution_count": 32,
   "id": "e3592a6c-8e79-447e-914e-f6230f5bf15b",
   "metadata": {
    "editable": true,
    "slideshow": {
     "slide_type": "fragment"
    },
    "tags": []
   },
   "outputs": [
    {
     "data": {
      "text/plain": [
       "256"
      ]
     },
     "execution_count": 32,
     "metadata": {},
     "output_type": "execute_result"
    }
   ],
   "source": [
    "bits=32\n",
    "8*bits"
   ]
  },
  {
   "cell_type": "code",
   "execution_count": 33,
   "id": "5c9ac9fe-797d-4b23-a4f8-040b8b6f3763",
   "metadata": {
    "editable": true,
    "slideshow": {
     "slide_type": "fragment"
    },
    "tags": []
   },
   "outputs": [
    {
     "name": "stdout",
     "output_type": "stream",
     "text": [
      "CPU times: user 101 ms, sys: 6 µs, total: 101 ms\n",
      "Wall time: 100 ms\n"
     ]
    },
    {
     "data": {
      "text/plain": [
       "695964457 * 1268842459 * 1299995251 * 1769042687 * 2198083049 * 3011816009 * 3659848187 * 3854359099"
      ]
     },
     "execution_count": 33,
     "metadata": {},
     "output_type": "execute_result"
    }
   ],
   "source": [
    "%time factor(random_prime(2**bits)*random_prime(2**bits)*random_prime(2**bits)\\\n",
    "             *random_prime(2**bits)*random_prime(2**bits)*random_prime(2**bits)\\\n",
    "             *random_prime(2**bits)*random_prime(2**bits))"
   ]
  },
  {
   "cell_type": "markdown",
   "id": "4ba06499-a19a-4aa4-8e79-2ceb0a939d81",
   "metadata": {
    "editable": true,
    "slideshow": {
     "slide_type": "slide"
    },
    "tags": []
   },
   "source": [
    "**Raw RSA:** (now assume large $p$ and $q$, other problems?)\n",
    "* Lets pick some primes $p$ and $q$ and compute $n = pq $\n",
    "* Compute $\\varphi(n) = (p-1)(q-1) $\n",
    "* Find some $e$ such that:\n",
    "  + It is *relatively prime* to $\\varphi(n)$, i.e., $\\gcd(e,\\varphi(n))=1$\n",
    "  + There is a $d$ such that $e\\cdot d = 1 \\pmod \\varphi(n)$\n",
    "* Publish $ pk = (n,e) $ and store $ sk = (n,d) $\n",
    "* **Encryption:** of message $ m = 8 $\n",
    "  + $ c = m^e \\pmod n  $\n",
    "* **Decryption:** of ciphertext $ c = 6 $\n",
    "  + $ m = c^d \\pmod n  $"
   ]
  },
  {
   "cell_type": "markdown",
   "id": "f7f0626a-9eef-4212-8902-5f43fe0b311c",
   "metadata": {
    "editable": true,
    "slideshow": {
     "slide_type": "slide"
    },
    "tags": []
   },
   "source": [
    "### Raw RSA - Data patterns visible\n",
    "Raw RSA is deterministic encryption, the same plain text leads to the same ciphertext. \n",
    "Moreover, since the public key $pk$ of Alice is public, an attacker can create a dictionary of common values. \n",
    "```bash\n",
    "Alice  <----- E(n,e,\"all good\") ----- Bob\n",
    "Alice  <----- E(n,e,\"error\") -------- Bob\n",
    "```"
   ]
  },
  {
   "cell_type": "code",
   "execution_count": 34,
   "id": "ad0ad23b-0185-45b0-b1a5-be7536585e3f",
   "metadata": {
    "editable": true,
    "slideshow": {
     "slide_type": "fragment"
    },
    "tags": []
   },
   "outputs": [],
   "source": [
    "n,e,d,p,q = rsa_gen(bits=2^1024,e=65537,verbose=False)"
   ]
  },
  {
   "cell_type": "code",
   "execution_count": 35,
   "id": "7b1aa918-3ba9-4062-bf5e-a6d4797b3fe7",
   "metadata": {
    "editable": true,
    "slideshow": {
     "slide_type": "fragment"
    },
    "tags": []
   },
   "outputs": [],
   "source": [
    "num = str_to_num(\"error\",n)"
   ]
  },
  {
   "cell_type": "code",
   "execution_count": 36,
   "id": "a3a7635e-f48e-4d5e-8f44-1791df115425",
   "metadata": {
    "editable": true,
    "slideshow": {
     "slide_type": "fragment"
    },
    "tags": []
   },
   "outputs": [
    {
     "data": {
      "text/plain": [
       "'16437021152372803354106913952524123751969881361156...'"
      ]
     },
     "execution_count": 36,
     "metadata": {},
     "output_type": "execute_result"
    }
   ],
   "source": [
    "c = rsa_enc(n,e,num); str(c)[0:50] + \"...\" # always the same c under (n,e) "
   ]
  },
  {
   "cell_type": "code",
   "execution_count": 37,
   "id": "349d3d01-0fab-4122-a9fb-dda2a03ca886",
   "metadata": {
    "editable": true,
    "slideshow": {
     "slide_type": "fragment"
    },
    "tags": []
   },
   "outputs": [
    {
     "data": {
      "text/plain": [
       "'error'"
      ]
     },
     "execution_count": 37,
     "metadata": {},
     "output_type": "execute_result"
    }
   ],
   "source": [
    "m_num = rsa_dec(n,d,c); m = num_to_str(m_num); m"
   ]
  },
  {
   "cell_type": "markdown",
   "id": "6ec41d77-3ee8-4740-9505-c03dde51486e",
   "metadata": {
    "editable": true,
    "slideshow": {
     "slide_type": "slide"
    },
    "tags": []
   },
   "source": [
    "### Raw RSA - Integrity not ensured\n",
    "The integrity of the ciphertext is not ensured. Therefore, the ciphertext is malleable. "
   ]
  },
  {
   "cell_type": "code",
   "execution_count": 38,
   "id": "92b72ff1-486c-4c07-800c-6bd76430c7fb",
   "metadata": {
    "editable": true,
    "slideshow": {
     "slide_type": "fragment"
    },
    "tags": []
   },
   "outputs": [],
   "source": [
    "n,e,d,_,_ = rsa_gen(bits=2**1024,e=65537) "
   ]
  },
  {
   "cell_type": "code",
   "execution_count": 39,
   "id": "53d14dc8-6adf-4a19-934d-9445c142f16f",
   "metadata": {
    "editable": true,
    "slideshow": {
     "slide_type": "fragment"
    },
    "tags": []
   },
   "outputs": [
    {
     "data": {
      "text/plain": [
       "1025290013408837755255130605514510502048030802465163007701667270269652988206056848657038874610326405953470420614549112977624743020313347774663431186056792126711498148234994231057065448464738538484214653069946270845506281357195852516516817514139334810075748696492283823327600836582500958993787424215290226150922733755150933308828996466001555105470849925437344171815734899004752704884149679140256463488614061937960723678479271321352195080830923272282976011253718224980647274960757877077307401385299954404536746008547132054475330629642394983970078161865753146530091888012710099002347620625010676097479229110075352737521"
      ]
     },
     "execution_count": 39,
     "metadata": {},
     "output_type": "execute_result"
    }
   ],
   "source": [
    "c = rsa_enc(n,e,8); c # small message from Bob e.g., sensor value"
   ]
  },
  {
   "cell_type": "code",
   "execution_count": 40,
   "id": "df532ed9-cc6a-4aab-ae37-dda5e7d8b212",
   "metadata": {
    "editable": true,
    "slideshow": {
     "slide_type": "fragment"
    },
    "tags": []
   },
   "outputs": [
    {
     "data": {
      "text/plain": [
       "8"
      ]
     },
     "execution_count": 40,
     "metadata": {},
     "output_type": "execute_result"
    }
   ],
   "source": [
    "m = rsa_dec(n,d,c); m # Alice decrypts c"
   ]
  },
  {
   "cell_type": "code",
   "execution_count": 41,
   "id": "655a01a3-9e17-4e8b-9d75-00447fde63f7",
   "metadata": {
    "editable": true,
    "slideshow": {
     "slide_type": "slide"
    },
    "tags": []
   },
   "outputs": [
    {
     "data": {
      "text/plain": [
       "8"
      ]
     },
     "execution_count": 41,
     "metadata": {},
     "output_type": "execute_result"
    }
   ],
   "source": [
    "m = rsa_dec(n,d,c); m # Alice decrypts c"
   ]
  },
  {
   "cell_type": "code",
   "execution_count": 42,
   "id": "e0a40e14-ba21-4ba1-8a2a-ab616b91428a",
   "metadata": {
    "editable": true,
    "slideshow": {
     "slide_type": "fragment"
    },
    "tags": []
   },
   "outputs": [],
   "source": [
    "c1 = c*c # MitM attacker just multiplies the value with itself"
   ]
  },
  {
   "cell_type": "code",
   "execution_count": 43,
   "id": "b60627ba-e75e-4f0e-966e-e48907897036",
   "metadata": {
    "editable": true,
    "slideshow": {
     "slide_type": "fragment"
    },
    "tags": []
   },
   "outputs": [
    {
     "data": {
      "text/plain": [
       "64"
      ]
     },
     "execution_count": 43,
     "metadata": {},
     "output_type": "execute_result"
    }
   ],
   "source": [
    "m = rsa_dec(n,d,c1); m # Alice decrypts c1"
   ]
  },
  {
   "cell_type": "code",
   "execution_count": 44,
   "id": "db01360c-63b6-409e-b8f7-65852c092249",
   "metadata": {
    "editable": true,
    "slideshow": {
     "slide_type": "fragment"
    },
    "tags": []
   },
   "outputs": [
    {
     "data": {
      "text/plain": [
       "True"
      ]
     },
     "execution_count": 44,
     "metadata": {},
     "output_type": "execute_result"
    }
   ],
   "source": [
    "m==8*8"
   ]
  },
  {
   "cell_type": "code",
   "execution_count": 45,
   "id": "6258ea51-7d46-4211-a8dc-5dba8099ad38",
   "metadata": {
    "editable": true,
    "slideshow": {
     "slide_type": "fragment"
    },
    "tags": []
   },
   "outputs": [],
   "source": [
    "c2 = c*rsa_enc(n,e,2) # MitM attacker can calc. factor using pk"
   ]
  },
  {
   "cell_type": "code",
   "execution_count": 46,
   "id": "45efbada-40d2-437c-9cac-1746baf61a0e",
   "metadata": {
    "editable": true,
    "slideshow": {
     "slide_type": "fragment"
    },
    "tags": []
   },
   "outputs": [
    {
     "data": {
      "text/plain": [
       "16"
      ]
     },
     "execution_count": 46,
     "metadata": {},
     "output_type": "execute_result"
    }
   ],
   "source": [
    "m = rsa_dec(n,d,c2); m # Alice decrypts c2"
   ]
  },
  {
   "cell_type": "code",
   "execution_count": 47,
   "id": "6d883efd-3dc2-44ff-a4fe-3aabe56d57c9",
   "metadata": {
    "editable": true,
    "slideshow": {
     "slide_type": "fragment"
    },
    "tags": []
   },
   "outputs": [
    {
     "data": {
      "text/plain": [
       "True"
      ]
     },
     "execution_count": 47,
     "metadata": {},
     "output_type": "execute_result"
    }
   ],
   "source": [
    "m==8*2"
   ]
  },
  {
   "cell_type": "markdown",
   "id": "467af327-fa72-4a70-8eda-9660e3e69f19",
   "metadata": {
    "editable": true,
    "slideshow": {
     "slide_type": "slide"
    },
    "tags": []
   },
   "source": [
    "### Raw RSA - $e^{th}$ root attack on small $m$\n",
    "If $m$ is small $m < n^{1/e}$ and $ e $ is small, e.g., $e = 3$ and $ m^e < n $, then\n",
    "you can simply calculate the eth root ($\\sqrt[e] m$) within the set of integers and decrypt the ciphertext"
   ]
  },
  {
   "cell_type": "code",
   "execution_count": 54,
   "id": "d8b4b093-8d09-4557-8c86-ef47cdb82f64",
   "metadata": {
    "editable": true,
    "slideshow": {
     "slide_type": "fragment"
    },
    "tags": []
   },
   "outputs": [
    {
     "name": "stdout",
     "output_type": "stream",
     "text": [
      "n = 497971730645974838681029006423427090725241300976658155717199718178997529991216805349539209461719568284588626766068379735834784827635924398109119587602876134492806897458361917412365944288300721253065686740528877797207779333908248623416276518504678896281961268128247605399915028863192996181436725188084333013641175400011748085980356433723082998139135562738231881003774047339646397760097841585513005347271551447265927375487034217393976507465265775488315294590679783444073694637649897817795174779369990906390998526996772469253560755409656011473269414894989151853463968061623370966765198060616659094665859813934027360719\n",
      "e = 3\n",
      "d = 331981153763983225787352670948951393816827533984438770478133145452665019994144536899692806307813045523059084510712253157223189885090616265406079725068584089661871264972241278274910629525533814168710457827019251864805186222605499082277517679003119264187974178752165070266610019242128664120957816792056222008903547224051466072365480391263099312925416950614740981087743491077965146743303531794955288325229901526576621085936577803351294223597358060055173624369876967183389795242532721516555301383740774871460940017259076910495893985775534832034787013332047086253037279063754321954802283656627092893641677976869636275931\n",
      "p = 284101770455481211181031431071301028608802116790453441192660568887666495681659797442765853033748044227523488309644820921864674349274246239890017212272286933868702331900503952528358909853657310280654041241250692639228662869337695574719140103529724584067161353249344119737076843506778958171560258768363892518307\n",
      "q = 1752793479067766251104415757133000142208020025666968179498241835032181963482746450314219825678654929877507436937346590502360822794982445515537645763577398800286669873346863014603312850101518318545547259857464464281056907408658188701948791367193938406746696216647768297484929068897061582643084080265680428517\n"
     ]
    }
   ],
   "source": [
    "n,e,d,_,_ = rsa_gen(bits=2**1025,e=3,verbose=True)"
   ]
  },
  {
   "cell_type": "code",
   "execution_count": 58,
   "id": "77b2c58b-a758-4135-adb1-ab09b52df91b",
   "metadata": {
    "editable": true,
    "slideshow": {
     "slide_type": "slide"
    },
    "tags": []
   },
   "outputs": [
    {
     "data": {
      "text/plain": [
       "'0x41'"
      ]
     },
     "execution_count": 58,
     "metadata": {},
     "output_type": "execute_result"
    }
   ],
   "source": [
    "num = str_to_num(\"A\",n); num; hex(num)"
   ]
  },
  {
   "cell_type": "code",
   "execution_count": 59,
   "id": "fb380cfd-1eb0-4a33-a8c0-c2c25507391a",
   "metadata": {
    "editable": true,
    "slideshow": {
     "slide_type": "fragment"
    },
    "tags": []
   },
   "outputs": [
    {
     "data": {
      "text/plain": [
       "274625"
      ]
     },
     "execution_count": 59,
     "metadata": {},
     "output_type": "execute_result"
    }
   ],
   "source": [
    "c = rsa_enc(n,3,0x41); c # Bob encrypts message m=65 for Alice"
   ]
  },
  {
   "cell_type": "code",
   "execution_count": 60,
   "id": "d192ebd4-ffae-40d9-a2dd-d0c9e45c9542",
   "metadata": {
    "editable": true,
    "slideshow": {
     "slide_type": "fragment"
    },
    "tags": []
   },
   "outputs": [
    {
     "data": {
      "text/plain": [
       "'0x41'"
      ]
     },
     "execution_count": 60,
     "metadata": {},
     "output_type": "execute_result"
    }
   ],
   "source": [
    "hex(274625.nth_root(3)) # Attacker can compute plaintext "
   ]
  },
  {
   "cell_type": "markdown",
   "id": "7ab33e5f-dd9f-4a18-88ea-68fd4bdcec36",
   "metadata": {
    "editable": true,
    "slideshow": {
     "slide_type": "slide"
    },
    "tags": []
   },
   "source": [
    "## Other RSA gotchas \n",
    "Over the years a lot of attacks against RSA have been [studied](https://crypto.stanford.edu/~dabo/papers/RSA-survey.pdf). This shows that getting it right in practise is non-trivial\n",
    "\n",
    "* *Coppersmith attack*\n",
    "    + Low encryption exponent $ e $ and small message $ m $\n",
    "    + Or partial knowledge of secret key\n",
    "* *Wiener's attack*\n",
    "    + Low decryption exponent $ d $\n",
    "* *Hastad's broadcast attack*\n",
    "    + Same message to different public key (moduli) with same (small) $ e $\n",
    "* *Meet in the middle attack*\n",
    "    + If small (e.g., 128 bit) non padded value is transferred that is the product of two (e.g., 64 bit) values\n",
    "* *Common factor attacks across multiple keys*\n",
    "    + Same prime factors in different moduli\n",
    "    + [Mining your p's and q's](https://factorable.net/weakkeys12.extended.pdf)\n",
    "* *Side channels*\n",
    "    + e.g., timing, power consumption, ...\n",
    "* ..."
   ]
  },
  {
   "cell_type": "markdown",
   "id": "7032ef32-d872-44d6-a3ff-1f318779fad1",
   "metadata": {
    "editable": true,
    "slideshow": {
     "slide_type": "slide"
    },
    "tags": []
   },
   "source": [
    "## RSA but how?\n",
    "In general: If alternatives are available better use them.\n",
    "RSA is just a trapdoor permutation and should never be used directly as encryption system (textbook RSA). \n",
    "It has to be embedded/transformed before usage, e.g., OAEP, PKCS1v2.0, or ISO 18033-2\n",
    "\n",
    "ISO 18033-2 standard roughly:\n",
    "* $(E_s,D_s)$: Symmetric encryption/ decryption system which provides authenticated encryption\n",
    "* $H(): \\mathbb{N}_n \\to K $: Secure hash function that maps elements of $\\mathbb{Z}_n $ to secret keys from a symmetric encryption/decryption system\n",
    "* $G():$ Generate RSA parameter $pk = (n,e)$, $sk = (n,d)$\n",
    "* $E(pk,m)$: choose random $x$ in $\\mathbb{Z}_n$\n",
    "  + $y \\gets x^e \\pmod{\\mathbb{Z}_n}$, and $ k \\gets H(x)$, also *padding* is applied\n",
    "  + output and send $(y,E_s(k,m))$\n",
    "* $D(sk,(y,c))$: $m = D_s(H(y^d \\pmod{\\mathbb{Z}_n}),c)$\n"
   ]
  },
  {
   "cell_type": "markdown",
   "id": "57e45c34-d471-4415-972d-2681e8116d5d",
   "metadata": {
    "editable": true,
    "slideshow": {
     "slide_type": "slide"
    },
    "tags": []
   },
   "source": [
    "# EOF"
   ]
  },
  {
   "cell_type": "code",
   "execution_count": null,
   "id": "946e7c79-203a-4ce9-bb79-8eb4d8fa66bb",
   "metadata": {
    "editable": true,
    "slideshow": {
     "slide_type": ""
    },
    "tags": []
   },
   "outputs": [],
   "source": []
  }
 ],
 "metadata": {
  "kernelspec": {
   "display_name": "SageMath 9.5",
   "language": "sage",
   "name": "sagemath"
  },
  "language_info": {
   "codemirror_mode": {
    "name": "ipython",
    "version": 3
   },
   "file_extension": ".py",
   "mimetype": "text/x-python",
   "name": "python",
   "nbconvert_exporter": "python",
   "pygments_lexer": "ipython3",
   "version": "3.10.12"
  }
 },
 "nbformat": 4,
 "nbformat_minor": 5
}
