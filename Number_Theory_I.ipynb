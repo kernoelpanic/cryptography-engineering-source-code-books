{
 "cells": [
  {
   "cell_type": "markdown",
   "id": "5a3a80fc-e6bb-4b22-b10a-10e341c95afd",
   "metadata": {
    "editable": true,
    "slideshow": {
     "slide_type": "slide"
    },
    "tags": []
   },
   "source": [
    "# Number Theory I\n",
    "______"
   ]
  },
  {
   "cell_type": "markdown",
   "id": "404f1be4-0d51-4a7a-86cc-b77f169cb5e1",
   "metadata": {
    "editable": true,
    "slideshow": {
     "slide_type": "subslide"
    },
    "tags": []
   },
   "source": [
    "**References:**\n",
    "* [[GCAC](https://toc.cryptobook.us/)] A Graduate Course in Applied Cryptography, Dan Boneh and Victor Shoup\n",
    "* [[CINTA](https://shoup.net/ntb/)] A Computational Introduction to Number Theory and Algebra, Victor Shoup\n",
    "* [[HAC](https://cacr.uwaterloo.ca/hac/)] Handbook of Applied Cryptography, Alfred J. Menezes, Paul C. van Oorschot and Scott A. Vanstone\n",
    "* [[ITMC](https://www.cs.umd.edu/~jkatz/imc.html)] Introduction to Modern Cryptography, Jonathan Katz and Yehuda Lindell (3rd Edition)\n",
    "* [Elementary number theory in sage](http://doc.sagemath.org/html/en/constructions/number_theory.html)"
   ]
  },
  {
   "cell_type": "markdown",
   "id": "39fefbe2-3e36-4a94-81c8-0afe6e2a484b",
   "metadata": {
    "editable": true,
    "slideshow": {
     "slide_type": "subslide"
    },
    "tags": []
   },
   "source": [
    "**Dependencies:**\n",
    "\n",
    "This notebook uses [sage math](https://www.sagemath.org/) as kernel"
   ]
  },
  {
   "cell_type": "code",
   "execution_count": 1,
   "id": "4d52af39-b9a9-4b58-a5cf-47673419a3d9",
   "metadata": {
    "editable": true,
    "slideshow": {
     "slide_type": ""
    },
    "tags": []
   },
   "outputs": [
    {
     "name": "stdout",
     "output_type": "stream",
     "text": [
      "\n",
      " SageMath version 9.5, Release Date: 2022-01-30                     \n",
      " Using Python 3.10.12. Type \"help()\" for help.                      \n",
      "\n"
     ]
    }
   ],
   "source": [
    "import sage.misc.banner # sage math version info \n",
    "rchars = \"┘─│┐┌└\"\n",
    "smallbanner = sage.misc.banner.banner_text(full=True)\n",
    "for c in rchars:\n",
    "    smallbanner = smallbanner.replace(c,\"\") # remove ascii art box\n",
    "print(smallbanner)\n",
    "#banner() # full banner with box"
   ]
  },
  {
   "cell_type": "markdown",
   "id": "966804b4-9d00-4586-b30d-6abeb318d060",
   "metadata": {
    "editable": true,
    "slideshow": {
     "slide_type": "slide"
    },
    "tags": []
   },
   "source": [
    "## Number systems\n",
    "Natural Numbers < Integers < Rational numbers < Real nunmbers \n",
    "<p style=\"text-align:center\">\n",
    "<img src=\"./figures/Number-systems.svg\" alt=\"number systems\" width=\"256\">\n",
    "</p>\n",
    "<p style=\"text-align:center;font-size:10px\">\n",
    "<a href=\"https://upload.wikimedia.org/wikipedia/commons/1/17/Number-systems.svg\">(image source)</a>\n",
    "</p>\n",
    "\n",
    "For cryptographic applications only (subsets of) the integers are important"
   ]
  },
  {
   "cell_type": "markdown",
   "id": "cefe7fb4-5bf2-4df3-b386-b32c281a36bf",
   "metadata": {
    "editable": true,
    "slideshow": {
     "slide_type": "slide"
    },
    "tags": []
   },
   "source": [
    "## Integers\n",
    "Possible notations:\n",
    "* integers: $$\n",
    "\\mathbb{Z} = \\{ \\dots, -2, -1, 0, 1, 2, \\dots \\}\n",
    "$$ \n",
    "* non-zero integers: $$ \\mathbb{Z}^{\\neq} = \\mathbb{Z}^{*} = \\{ \\dots, -2, -1, 1, 2, \\dots \\} $$\n",
    "* positive integers: $$ \\mathbb{Z}^+ = \\mathbb{Z}_+ = \\mathbb{Z}^> = \\{ 1, 2, \\dots \\} $$\n",
    "* non-negative integers: $$ \\mathbb{Z}^{0+} = \\mathbb{Z}^\\geq = \\{ 0,1, 2, \\dots \\} $$"
   ]
  },
  {
   "cell_type": "markdown",
   "id": "09183da2-ef83-41b9-8508-edf71a92e7ff",
   "metadata": {
    "editable": true,
    "slideshow": {
     "slide_type": "skip"
    },
    "tags": []
   },
   "source": [
    "> The set of integers consists of zero (0), the positive natural numbers (1, 2, 3, ...), also called whole numbers or counting numbers, and their additive inverses (the negative integers, i.e., −1, −2, −3, ...).\n",
    "\n",
    "<p style=\"text-align:right;font-size:10px\">\n",
    "<a href=\"https://en.wikipedia.org/wiki/Integer\">(source)</a>\n",
    "</p>\n"
   ]
  },
  {
   "cell_type": "markdown",
   "id": "17af0fd2-56e2-47ac-b624-cfd5e7b2f0fb",
   "metadata": {
    "editable": true,
    "slideshow": {
     "slide_type": "skip"
    },
    "tags": []
   },
   "source": [
    "### Integers in sage"
   ]
  },
  {
   "cell_type": "code",
   "execution_count": 2,
   "id": "9c805c86-795f-4c48-ae32-0b4e9e325163",
   "metadata": {
    "editable": true,
    "slideshow": {
     "slide_type": "skip"
    },
    "tags": []
   },
   "outputs": [
    {
     "data": {
      "text/plain": [
       "Integer Ring"
      ]
     },
     "execution_count": 2,
     "metadata": {},
     "output_type": "execute_result"
    }
   ],
   "source": [
    "Z = Integers(); Z # explicitly defined integers in sage"
   ]
  },
  {
   "cell_type": "code",
   "execution_count": 3,
   "id": "779789c5-61c5-4499-9eb2-b7fc630ad365",
   "metadata": {
    "editable": true,
    "slideshow": {
     "slide_type": "skip"
    },
    "tags": []
   },
   "outputs": [
    {
     "data": {
      "text/plain": [
       "True"
      ]
     },
     "execution_count": 3,
     "metadata": {},
     "output_type": "execute_result"
    }
   ],
   "source": [
    "-1 in Z and 0 in Z"
   ]
  },
  {
   "cell_type": "code",
   "execution_count": 4,
   "id": "0ba94a21-dad5-4619-87aa-8bd9a3b1fd5f",
   "metadata": {
    "editable": true,
    "slideshow": {
     "slide_type": "skip"
    },
    "tags": []
   },
   "outputs": [
    {
     "data": {
      "text/plain": [
       "Integer Ring"
      ]
     },
     "execution_count": 4,
     "metadata": {},
     "output_type": "execute_result"
    }
   ],
   "source": [
    "ZZ # predefined set of integers in sage"
   ]
  },
  {
   "cell_type": "code",
   "execution_count": 5,
   "id": "5f3cf970-95f3-403e-af45-575eb813d30a",
   "metadata": {
    "editable": true,
    "jupyter": {
     "source_hidden": true
    },
    "slideshow": {
     "slide_type": "skip"
    },
    "tags": []
   },
   "outputs": [
    {
     "data": {
      "text/plain": [
       "<class 'sage.rings.integer.Integer'>"
      ]
     },
     "execution_count": 5,
     "metadata": {},
     "output_type": "execute_result"
    }
   ],
   "source": [
    "type(Z(2))"
   ]
  },
  {
   "cell_type": "code",
   "execution_count": 6,
   "id": "6696488e-d311-4f54-bcb5-dcef5e926811",
   "metadata": {
    "editable": true,
    "jupyter": {
     "source_hidden": true
    },
    "scrolled": true,
    "slideshow": {
     "slide_type": "skip"
    },
    "tags": []
   },
   "outputs": [
    {
     "data": {
      "text/plain": [
       "<class 'sage.rings.integer.Integer'>"
      ]
     },
     "execution_count": 6,
     "metadata": {},
     "output_type": "execute_result"
    }
   ],
   "source": [
    "type(2) # default data type in sage for whole numbers numbers "
   ]
  },
  {
   "cell_type": "markdown",
   "id": "db4b079c-103e-4e3d-b2e3-9bb8f87b8243",
   "metadata": {
    "editable": true,
    "slideshow": {
     "slide_type": "slide"
    },
    "tags": []
   },
   "source": [
    "## Natural Numbers \n",
    "\n",
    "Also referred to as *non-negative integers* or *positive integers* if without $ 0 $. Possible notations:\n",
    "\n",
    "* non-negative integers including zero: $$ \\mathbb{N} = \\mathbb{N}_0 = \\{0,1,2,3,\\dots\\} $$\n",
    "* **positive integers**: $$ \\mathbb{N} = \\mathbb{N}_1 = \\mathbb{N}^* = \\{1,2,3,\\dots\\} $$\n",
    "\n",
    "Every *positive integer* is either **composite**, **prime**, or the **unit** $ 1 $"
   ]
  },
  {
   "cell_type": "markdown",
   "id": "b91c25f7-2949-4059-8c22-805307f64daf",
   "metadata": {
    "editable": true,
    "slideshow": {
     "slide_type": "slide"
    },
    "tags": []
   },
   "source": [
    "### Natural Numbers in sage"
   ]
  },
  {
   "cell_type": "code",
   "execution_count": 7,
   "id": "bc1a2484-cee6-4a9f-8c3a-ba1ccf9b3582",
   "metadata": {
    "editable": true,
    "slideshow": {
     "slide_type": ""
    },
    "tags": []
   },
   "outputs": [
    {
     "data": {
      "text/plain": [
       "Non negative integers"
      ]
     },
     "execution_count": 7,
     "metadata": {},
     "output_type": "execute_result"
    }
   ],
   "source": [
    "N = NonNegativeIntegers(); N  # Includes 0"
   ]
  },
  {
   "cell_type": "code",
   "execution_count": 8,
   "id": "7fbb203a-322b-43f0-b234-a585c356c1da",
   "metadata": {
    "editable": true,
    "slideshow": {
     "slide_type": "fragment"
    },
    "tags": []
   },
   "outputs": [
    {
     "data": {
      "text/plain": [
       "True"
      ]
     },
     "execution_count": 8,
     "metadata": {},
     "output_type": "execute_result"
    }
   ],
   "source": [
    "-1 not in N and 0 in N"
   ]
  },
  {
   "cell_type": "code",
   "execution_count": 9,
   "id": "18c0f0e1-6934-4bde-b30e-7c886df7c9c8",
   "metadata": {
    "editable": true,
    "slideshow": {
     "slide_type": "fragment"
    },
    "tags": []
   },
   "outputs": [
    {
     "data": {
      "text/plain": [
       "Positive integers"
      ]
     },
     "execution_count": 9,
     "metadata": {},
     "output_type": "execute_result"
    }
   ],
   "source": [
    "N_1 = PositiveIntegers(); N_1  # Excludes 0"
   ]
  },
  {
   "cell_type": "code",
   "execution_count": 10,
   "id": "6ab189c6-c549-4e86-8d36-abe341792960",
   "metadata": {
    "editable": true,
    "slideshow": {
     "slide_type": "fragment"
    },
    "tags": []
   },
   "outputs": [
    {
     "data": {
      "text/plain": [
       "True"
      ]
     },
     "execution_count": 10,
     "metadata": {},
     "output_type": "execute_result"
    }
   ],
   "source": [
    "-1 not in N_1 and 0 not in N_1"
   ]
  },
  {
   "cell_type": "markdown",
   "id": "9274d4c7-84cb-4e87-a622-79bbba6dadde",
   "metadata": {
    "editable": true,
    "slideshow": {
     "slide_type": "slide"
    },
    "tags": []
   },
   "source": [
    "### Divisability\n",
    "* If $ a, b \\in \\mathbb{Z}$ and $ a \\; divides \\; b $, written as $ a | b $, then there exists a $ c \\in \\mathbb{Z} $ such that $ ac = b $.\n",
    "  + If $ a $ does not divide $ b $, we write $ a  \\nmid b $\n",
    "* If $ a | b $ and $ a | c $, then $ a | (Xb + Xc)$ for any $ X,Y \\in \\mathbb{Z}$\n",
    "* If $ a | b $ and $ a $ is positive, $ a $ is called a $ divisor $ of $ b $\n",
    "  + If $ a \\notin \\{ 1, b \\} $ then it is a *nontrivial divisor* or *factor* of $ b $\n",
    "  + A positive integer $ p > 1 $ is **prime** if it has no factors, so that his only divisors are $ 1 $ and itself.\n",
    "  + A positive integer that is not prime is called **composite**\n",
    "  + Per convention $ 1 $ is neither prime nor composite but called **unit**"
   ]
  },
  {
   "cell_type": "markdown",
   "id": "cfef7365-c699-4d15-a960-f783be4072d2",
   "metadata": {
    "editable": true,
    "slideshow": {
     "slide_type": "subslide"
    },
    "tags": []
   },
   "source": [
    "### Divisability in sage"
   ]
  },
  {
   "cell_type": "code",
   "execution_count": 1,
   "id": "0c0cbc0a-26b2-4067-ae8b-28fa8c489905",
   "metadata": {
    "editable": true,
    "slideshow": {
     "slide_type": ""
    },
    "tags": []
   },
   "outputs": [
    {
     "data": {
      "text/plain": [
       "True"
      ]
     },
     "execution_count": 1,
     "metadata": {},
     "output_type": "execute_result"
    }
   ],
   "source": [
    "a = 3; b = 12\n",
    "a.divides(b)"
   ]
  },
  {
   "cell_type": "code",
   "execution_count": 2,
   "id": "015740a8-35cf-4f0f-ab69-173718659d13",
   "metadata": {
    "editable": true,
    "slideshow": {
     "slide_type": "fragment"
    },
    "tags": []
   },
   "outputs": [
    {
     "data": {
      "text/plain": [
       "True"
      ]
     },
     "execution_count": 2,
     "metadata": {},
     "output_type": "execute_result"
    }
   ],
   "source": [
    "b % a == 0 "
   ]
  },
  {
   "cell_type": "code",
   "execution_count": 3,
   "id": "0fd3bb31-fd2f-45e4-a2b6-46c877acd48b",
   "metadata": {
    "editable": true,
    "slideshow": {
     "slide_type": "fragment"
    },
    "tags": []
   },
   "outputs": [
    {
     "data": {
      "text/plain": [
       "False"
      ]
     },
     "execution_count": 3,
     "metadata": {},
     "output_type": "execute_result"
    }
   ],
   "source": [
    "a = 5; b = 12\n",
    "a.divides(b)"
   ]
  },
  {
   "cell_type": "code",
   "execution_count": 4,
   "id": "afa85656-4649-4bc8-9aad-ab9b54af9905",
   "metadata": {
    "editable": true,
    "slideshow": {
     "slide_type": "fragment"
    },
    "tags": []
   },
   "outputs": [
    {
     "data": {
      "text/plain": [
       "False"
      ]
     },
     "execution_count": 4,
     "metadata": {},
     "output_type": "execute_result"
    }
   ],
   "source": [
    "b % a == 0"
   ]
  },
  {
   "cell_type": "markdown",
   "id": "bbe723f9-751e-4318-af18-7d745eb1a88a",
   "metadata": {
    "editable": true,
    "slideshow": {
     "slide_type": "slide"
    },
    "tags": []
   },
   "source": [
    "## Prime numbers\n",
    "\n",
    "A **prime** is a natural number greater than $ 1 $ that is only divisible by $ 1 $ and itself. \n",
    "A natural number greater than $ 1 $ that is not prime is called **composite number**.\n",
    "<center>\n",
    "<img src=\"https://upload.wikimedia.org/wikipedia/commons/f/f0/Primes-vs-composites.svg\" alt=\"primes and composites\" width=\"256\">\n",
    "</center>\n",
    "<p style=\"text-align:center;font-size:10px\">\n",
    "<a href=\"https://en.wikipedia.org/wiki/Prime_number#/media/File:Primes-vs-composites.svg\">(image source)</a>\n",
    "</p>\n",
    "\n",
    "$ \\mathbb{P} =\\{2,3,5,7, 11, 13, 17, 19, 23, 29, 31, 37, 41, 43,... \\}$\n"
   ]
  },
  {
   "cell_type": "markdown",
   "id": "d15c068b-172e-477a-a96a-9998b109c66c",
   "metadata": {
    "editable": true,
    "slideshow": {
     "slide_type": "subslide"
    },
    "tags": []
   },
   "source": [
    "### Open questions\n",
    "\n",
    "Several historical questions regarding prime numbers are still unsolved. \n",
    "\n",
    "These include <a href=\"https://en.wikipedia.org/wiki/Goldbach%27s_conjecture\">Goldbach's conjecture</a>, that every even integer greater than 2 can be expressed as the sum of two primes, and the <a href=\"https://en.wikipedia.org/wiki/Twin_prime\">twin prime conjecture</a>, that there are infinitely many pairs of primes having just one even number between them.\n",
    "<p style=\"text-align:right;font-size:10px\">\n",
    "<a href=\"https://en.wikipedia.org/wiki/Prime_number\">(source)</a>\n",
    "</p>\n"
   ]
  },
  {
   "cell_type": "markdown",
   "id": "eebfcb5a-6e8f-4b60-b6b7-216f2c846247",
   "metadata": {
    "editable": true,
    "slideshow": {
     "slide_type": "slide"
    },
    "tags": []
   },
   "source": [
    "### Primes in sage\n",
    "See also [sage documentation on primes](http://doc.sagemath.org/html/en/reference/sets/sage/sets/primes.html)"
   ]
  },
  {
   "cell_type": "code",
   "execution_count": 15,
   "id": "25c697fa-04c0-412f-abf5-c1d9939c364c",
   "metadata": {
    "editable": true,
    "slideshow": {
     "slide_type": "fragment"
    },
    "tags": []
   },
   "outputs": [
    {
     "data": {
      "text/plain": [
       "Set of all prime numbers: 2, 3, 5, 7, ..."
      ]
     },
     "execution_count": 15,
     "metadata": {},
     "output_type": "execute_result"
    }
   ],
   "source": [
    "P = Primes(); P # define set of all primes in sage"
   ]
  },
  {
   "cell_type": "code",
   "execution_count": 16,
   "id": "f9fcfdc4-33cc-4071-b12c-305fcff2f6ea",
   "metadata": {
    "editable": true,
    "slideshow": {
     "slide_type": "fragment"
    },
    "tags": []
   },
   "outputs": [
    {
     "data": {
      "text/plain": [
       "+Infinity"
      ]
     },
     "execution_count": 16,
     "metadata": {},
     "output_type": "execute_result"
    }
   ],
   "source": [
    "P.cardinality()"
   ]
  },
  {
   "cell_type": "code",
   "execution_count": 17,
   "id": "c86c28dd-000d-4015-8c12-82361ed59b61",
   "metadata": {
    "editable": true,
    "slideshow": {
     "slide_type": "fragment"
    },
    "tags": []
   },
   "outputs": [
    {
     "data": {
      "text/plain": [
       "[2, 3, 5, 7, 11, 13, 17, 19, 23, 29, 31, 37, 41, 43]"
      ]
     },
     "execution_count": 17,
     "metadata": {},
     "output_type": "execute_result"
    }
   ],
   "source": [
    "primes_first_n(14)"
   ]
  },
  {
   "cell_type": "code",
   "execution_count": 18,
   "id": "aa92d4aa-b5d5-4f39-8c79-b17275ec2962",
   "metadata": {
    "editable": true,
    "slideshow": {
     "slide_type": "skip"
    },
    "tags": []
   },
   "outputs": [
    {
     "data": {
      "text/plain": [
       "2"
      ]
     },
     "execution_count": 18,
     "metadata": {},
     "output_type": "execute_result"
    }
   ],
   "source": [
    "P.first()"
   ]
  },
  {
   "cell_type": "code",
   "execution_count": 19,
   "id": "cfee32a7-773b-4e28-8df1-f3322d9f8ef3",
   "metadata": {
    "editable": true,
    "slideshow": {
     "slide_type": "fragment"
    },
    "tags": []
   },
   "outputs": [
    {
     "data": {
      "text/plain": [
       "11"
      ]
     },
     "execution_count": 19,
     "metadata": {},
     "output_type": "execute_result"
    }
   ],
   "source": [
    "P.next(10) # get the next prime after the given number"
   ]
  },
  {
   "cell_type": "code",
   "execution_count": 20,
   "id": "ac1057ab-e93f-40ce-807c-99d6845208fa",
   "metadata": {
    "editable": true,
    "slideshow": {
     "slide_type": "fragment"
    },
    "tags": []
   },
   "outputs": [
    {
     "data": {
      "text/plain": [
       "3031999013"
      ]
     },
     "execution_count": 20,
     "metadata": {},
     "output_type": "execute_result"
    }
   ],
   "source": [
    "# get a random 32 bit prime specified as beeing between lbound and n\n",
    "random_prime(n=2**32-1,proof=True,lbound=2**31)  "
   ]
  },
  {
   "cell_type": "code",
   "execution_count": 21,
   "id": "917fbf17-d6ba-488d-9316-d7e8e2279932",
   "metadata": {
    "editable": true,
    "scrolled": true,
    "slideshow": {
     "slide_type": "skip"
    },
    "tags": []
   },
   "outputs": [
    {
     "name": "stdout",
     "output_type": "stream",
     "text": [
      "0b11111111111111111111111111111111\n",
      "0b10000000000000000000000000000000\n",
      "32 bits each\n"
     ]
    }
   ],
   "source": [
    "print(f\"{bin(2**32-1)}\\n{bin(2**31)}\\n{len(bin(2**31)[2:])} bits each\")"
   ]
  },
  {
   "cell_type": "markdown",
   "id": "d11ee9cc-4502-45b3-ab0d-06245e78b0f4",
   "metadata": {
    "editable": true,
    "slideshow": {
     "slide_type": "skip"
    },
    "tags": []
   },
   "source": [
    "_____"
   ]
  },
  {
   "cell_type": "code",
   "execution_count": 22,
   "id": "bd5c28ac-9365-4813-8030-7538f1c59416",
   "metadata": {
    "editable": true,
    "scrolled": true,
    "slideshow": {
     "slide_type": "skip"
    },
    "tags": []
   },
   "outputs": [
    {
     "data": {
      "text/plain": [
       "\u001b[0;31mSignature:\u001b[0m      \u001b[0mrandom_prime\u001b[0m\u001b[0;34m(\u001b[0m\u001b[0mn\u001b[0m\u001b[0;34m,\u001b[0m \u001b[0mproof\u001b[0m\u001b[0;34m=\u001b[0m\u001b[0;32mNone\u001b[0m\u001b[0;34m,\u001b[0m \u001b[0mlbound\u001b[0m\u001b[0;34m=\u001b[0m\u001b[0;36m2\u001b[0m\u001b[0;34m)\u001b[0m\u001b[0;34m\u001b[0m\u001b[0;34m\u001b[0m\u001b[0m\n",
       "\u001b[0;31mDocstring:\u001b[0m     \n",
       "   Return a random prime p between \"lbound\" and n.\n",
       "\n",
       "   The returned prime p satisfies \"lbound\" <= p <= n.\n",
       "\n",
       "   The returned prime p is chosen uniformly at random from the set of\n",
       "   prime numbers less than or equal to n.\n",
       "\n",
       "   INPUT:\n",
       "\n",
       "   * \"n\" - an integer >= 2.\n",
       "\n",
       "   * \"proof\" - bool or None (default: None) If False, the function\n",
       "     uses a pseudo-primality test, which is much faster for really big\n",
       "     numbers but does not provide a proof of primality. If None, uses\n",
       "     the global default (see \"sage.structure.proof.proof\")\n",
       "\n",
       "   * \"lbound\" - an integer >= 2, lower bound for the chosen primes\n",
       "\n",
       "   EXAMPLES:\n",
       "\n",
       "      sage: p = random_prime(100000)\n",
       "      sage: p.is_prime()\n",
       "      True\n",
       "      sage: p <= 100000\n",
       "      True\n",
       "      sage: random_prime(2)\n",
       "      2\n",
       "\n",
       "   Here we generate a random prime between 100 and 200:\n",
       "\n",
       "      sage: p = random_prime(200, lbound=100)\n",
       "      sage: p.is_prime()\n",
       "      True\n",
       "      sage: 100 <= p <= 200\n",
       "      True\n",
       "\n",
       "   If all we care about is finding a pseudo prime, then we can pass in\n",
       "   \"proof=False\"\n",
       "\n",
       "      sage: p = random_prime(200, proof=False, lbound=100)\n",
       "      sage: p.is_pseudoprime()\n",
       "      True\n",
       "      sage: 100 <= p <= 200\n",
       "      True\n",
       "\n",
       "   AUTHORS:\n",
       "\n",
       "   * Jon Hanke (2006-08-08): with standard Stein cleanup\n",
       "\n",
       "   * Jonathan Bober (2007-03-17)\n",
       "\u001b[0;31mInit docstring:\u001b[0m Initialize self.  See help(type(self)) for accurate signature.\n",
       "\u001b[0;31mFile:\u001b[0m           /usr/lib/python3/dist-packages/sage/arith/misc.py\n",
       "\u001b[0;31mType:\u001b[0m           function\n"
      ]
     },
     "metadata": {},
     "output_type": "display_data"
    }
   ],
   "source": [
    "random_prime?"
   ]
  },
  {
   "cell_type": "markdown",
   "id": "92504dcb-b5aa-4d21-b9f1-1ee9e173d5f7",
   "metadata": {
    "editable": true,
    "slideshow": {
     "slide_type": "slide"
    },
    "tags": []
   },
   "source": [
    "### Primality test\n",
    "The test if a given number is prime is called *primality test*.\n",
    "\n",
    "A simple inefficient primality test (and factorization algorithm) is *trial division*: Given an input number $ a $, check whether it is divisible by $ 2 $ or any odd number between $ 2 $ and $\\sqrt {a}$. If so, it is not prime and this number is one of its factors. \n",
    "\n",
    "If we are only interested in the question if the number is prime or not, there are **deterministic tests** which run in polynomial time (e.g., [AKS primality test](https://en.wikipedia.org/wiki/AKS_primality_test)).\n",
    "\n",
    "There are also **probabilistic tests** which are even faster but have small (configurable) error probability. \n",
    "Usually they never report a prime as a composite number, but it is possible that certain composite numbers are reported as prime. "
   ]
  },
  {
   "cell_type": "code",
   "execution_count": 23,
   "id": "c4aeff58-d273-4936-8783-9a134197708c",
   "metadata": {
    "editable": true,
    "slideshow": {
     "slide_type": "fragment"
    },
    "tags": []
   },
   "outputs": [
    {
     "data": {
      "text/plain": [
       "True"
      ]
     },
     "execution_count": 23,
     "metadata": {},
     "output_type": "execute_result"
    }
   ],
   "source": [
    "11 in P # check if number is prime in sage"
   ]
  },
  {
   "cell_type": "markdown",
   "id": "fdd8e347-fede-40db-9c5b-100ccd8bde77",
   "metadata": {
    "editable": true,
    "slideshow": {
     "slide_type": "fragment"
    },
    "tags": []
   },
   "source": [
    "10 in P "
   ]
  },
  {
   "cell_type": "markdown",
   "id": "fe76aac8-e0a2-47c2-b843-d0554e44dfed",
   "metadata": {
    "editable": true,
    "slideshow": {
     "slide_type": "skip"
    },
    "tags": []
   },
   "source": [
    "____"
   ]
  },
  {
   "cell_type": "markdown",
   "id": "32befa35-5af2-4bf7-aeb1-0667845ec53c",
   "metadata": {
    "editable": true,
    "slideshow": {
     "slide_type": "skip"
    },
    "tags": []
   },
   "source": [
    "#### Time complexity \n",
    "The running time of an algorithm taking as input an integer $ a $ is measured in terms of length of the binary representation of $ a $ denoted by $ \\|a\\| = n = \\lfloor \\log_2 a \\rfloor + 1 $, where the leading (most significant) bit is $ 1 $. "
   ]
  },
  {
   "cell_type": "code",
   "execution_count": 24,
   "id": "4b5ac601-3519-477c-8c88-35e71f9f1b1f",
   "metadata": {
    "editable": true,
    "slideshow": {
     "slide_type": "skip"
    },
    "tags": []
   },
   "outputs": [
    {
     "data": {
      "text/plain": [
       "7"
      ]
     },
     "execution_count": 24,
     "metadata": {},
     "output_type": "execute_result"
    }
   ],
   "source": [
    "a = 100\n",
    "n = math.floor(math.log2(a))+1; n"
   ]
  },
  {
   "cell_type": "code",
   "execution_count": 25,
   "id": "82798322-8747-4048-b2da-3ff611e05c88",
   "metadata": {
    "editable": true,
    "slideshow": {
     "slide_type": "skip"
    },
    "tags": []
   },
   "outputs": [
    {
     "name": "stdout",
     "output_type": "stream",
     "text": [
      "1100100\n"
     ]
    },
    {
     "data": {
      "text/plain": [
       "True"
      ]
     },
     "execution_count": 25,
     "metadata": {},
     "output_type": "execute_result"
    }
   ],
   "source": [
    "print(bin(a)[2:])\n",
    "len(bin(a)[2:]) == n"
   ]
  },
  {
   "cell_type": "markdown",
   "id": "1c5eea49-890b-4abf-91d1-c82275cbc016",
   "metadata": {
    "editable": true,
    "slideshow": {
     "slide_type": "skip"
    },
    "tags": []
   },
   "source": [
    "#### Time complexity of Trial Division\n",
    "Trial division has *exponential* runtime $ \\approx \\mathcal{O}(2^{n/2}) $ if every integer up to $\\sqrt{a}$ is tested, as $\\frac{\\lfloor \\log_2 a \\rfloor}{2} \\approx \\sqrt{a}$. (As another optimization, only *prime numbers* between $ 2 $ and $\\sqrt{a}$ can be checked if available.) \n",
    "\n",
    "In general, we only have to check the numbers up to $\\sqrt{a}$ because for any prime factor $p > \\sqrt{a}$ there must be another divisor $a/p \\leq \\sqrt{a}$ as well as a prime divisior $ q $ of $ a/p$. \n",
    "\n",
    "For example, consider the number 100:"
   ]
  },
  {
   "cell_type": "code",
   "execution_count": 26,
   "id": "40e50fd0-c286-4c37-bbcc-fc5288c56db9",
   "metadata": {
    "editable": true,
    "slideshow": {
     "slide_type": "skip"
    },
    "tags": []
   },
   "outputs": [
    {
     "data": {
      "text/plain": [
       "11"
      ]
     },
     "execution_count": 26,
     "metadata": {},
     "output_type": "execute_result"
    }
   ],
   "source": [
    "big_O = math.floor(2**(n/2)); big_O"
   ]
  },
  {
   "cell_type": "code",
   "execution_count": 27,
   "id": "e195390b-b6ce-465a-8f36-0de4201d61f8",
   "metadata": {
    "editable": true,
    "slideshow": {
     "slide_type": "skip"
    },
    "tags": []
   },
   "outputs": [
    {
     "data": {
      "text/plain": [
       "10.0"
      ]
     },
     "execution_count": 27,
     "metadata": {},
     "output_type": "execute_result"
    }
   ],
   "source": [
    "math.sqrt(a)"
   ]
  },
  {
   "cell_type": "code",
   "execution_count": 28,
   "id": "e49a0ef0-5cdf-4c8c-a254-e55067b1640a",
   "metadata": {
    "editable": true,
    "slideshow": {
     "slide_type": "skip"
    },
    "tags": []
   },
   "outputs": [
    {
     "data": {
      "text/plain": [
       "[1, 2, 4, 5, 10, 20, 25, 50, 100]"
      ]
     },
     "execution_count": 28,
     "metadata": {},
     "output_type": "execute_result"
    }
   ],
   "source": [
    "divisors(100)"
   ]
  },
  {
   "cell_type": "markdown",
   "id": "4f392ebf-bcfc-4925-abf6-9c930865e73f",
   "metadata": {
    "editable": true,
    "slideshow": {
     "slide_type": "skip"
    },
    "tags": []
   },
   "source": [
    "If all numbers up to $ 100 $ are tested some divisors are discovered twice:"
   ]
  },
  {
   "cell_type": "code",
   "execution_count": 29,
   "id": "2409d6e2-9bb5-48c8-a469-fb52ae531677",
   "metadata": {
    "editable": true,
    "slideshow": {
     "slide_type": "skip"
    },
    "tags": []
   },
   "outputs": [
    {
     "name": "stdout",
     "output_type": "stream",
     "text": [
      "1*100,2*50,4*25,5*20,10*10,20*5,25*4,50*2,100*1,"
     ]
    }
   ],
   "source": [
    "for i in range(1,a+1):\n",
    "    if a % i == 0:\n",
    "        print(f\"{i}*{a // i}\",end=\",\")"
   ]
  },
  {
   "cell_type": "code",
   "execution_count": 30,
   "id": "3e397c44-2ce9-4bc3-85d3-cb7c1a09cbea",
   "metadata": {
    "editable": true,
    "slideshow": {
     "slide_type": "skip"
    },
    "tags": []
   },
   "outputs": [
    {
     "name": "stdout",
     "output_type": "stream",
     "text": [
      "1*100,2*50,4*25,5*20,"
     ]
    }
   ],
   "source": [
    "for i in range(1,math.ceil(math.sqrt(a))):\n",
    "    if a % i == 0:\n",
    "        print(f\"{i}*{a // i}\",end=\",\")"
   ]
  },
  {
   "cell_type": "markdown",
   "id": "ceda43ee-8c00-41a0-9960-fab2f434d3b2",
   "metadata": {
    "editable": true,
    "slideshow": {
     "slide_type": "skip"
    },
    "tags": []
   },
   "source": [
    "____"
   ]
  },
  {
   "cell_type": "markdown",
   "id": "0b90b4f4-d720-41ba-adef-87f3543f7660",
   "metadata": {
    "editable": true,
    "slideshow": {
     "slide_type": "subslide"
    },
    "tags": []
   },
   "source": [
    "### Primality testing"
   ]
  },
  {
   "cell_type": "code",
   "execution_count": 6,
   "id": "024d21b1-be19-4f74-a238-f7886b2ad75a",
   "metadata": {
    "editable": true,
    "slideshow": {
     "slide_type": "skip"
    },
    "tags": []
   },
   "outputs": [],
   "source": [
    "def isPrime_trial_division(n: int) -> tuple[bool,list[int]]:\n",
    "    \"\"\"Return a list of the prime factors for a natural number.\"\"\"\n",
    "    a = []               # Prepare an empty list.\n",
    "    f = 2                # The first possible factor.    \n",
    "    while n > 1:         # While n still has remaining factors...\n",
    "        if n % f == 0:   # The remainder of n divided by f might be zero.        \n",
    "            a.append(f)  # If so, it divides n. Add f to the list.\n",
    "            n //= f      # Divide that factor out of n.\n",
    "        else:            # But if f is not a factor of n,\n",
    "            f += 1       # Add one to f and try again.\n",
    "    if len(a) > 0: \n",
    "        return (False, a)  # Prime factors may be repeated: 12 factors to 2,2,3.\n",
    "    else:\n",
    "        return (True, a)"
   ]
  },
  {
   "cell_type": "code",
   "execution_count": 22,
   "id": "c35e72e9-c2d8-481b-8eea-a7e34ac2f98b",
   "metadata": {
    "editable": true,
    "slideshow": {
     "slide_type": "skip"
    },
    "tags": []
   },
   "outputs": [],
   "source": [
    "def isPrime_trial_division_with_list_of_primes(n: int) -> bool:\n",
    "    \"\"\" inefficient primality test using trial division with a list of primes \"\"\"\n",
    "    sqr_n = math.ceil(math.sqrt(n))\n",
    "    primes_to_check = primes_first_n(sqr_n)\n",
    "    for p in primes_to_check:\n",
    "        if n % p == 0 and n != p:\n",
    "            return False\n",
    "    return True"
   ]
  },
  {
   "cell_type": "code",
   "execution_count": 15,
   "id": "bd353fdd-554f-40ca-93b3-f9f135d4aad0",
   "metadata": {
    "editable": true,
    "slideshow": {
     "slide_type": "fragment"
    },
    "tags": []
   },
   "outputs": [],
   "source": [
    "def isPrime_sage(n) -> bool:\n",
    "    \"\"\" wrapper function for primality tests in sage \"\"\"\n",
    "    return n in Primes(True)"
   ]
  },
  {
   "cell_type": "code",
   "execution_count": 16,
   "id": "8811908f-c7b8-4986-b9ca-4efeb40f2cf2",
   "metadata": {
    "editable": true,
    "slideshow": {
     "slide_type": "skip"
    },
    "tags": []
   },
   "outputs": [],
   "source": [
    "def isPrime_sage_probabilistic(n) -> bool:\n",
    "    \"\"\" wrapper function for probabilistic primality tests in sage \"\"\"\n",
    "    return n in Primes(False)"
   ]
  },
  {
   "cell_type": "code",
   "execution_count": 17,
   "id": "652e7a70-5a38-41be-90b1-f19fe204d436",
   "metadata": {
    "editable": true,
    "slideshow": {
     "slide_type": "fragment"
    },
    "tags": []
   },
   "outputs": [],
   "source": [
    "def isPrime_sage_BailiePSW(n) -> bool:\n",
    "    \"\"\" wrapper function for that uses PARI's Baillie-PSW probabilistic primality test \"\"\"\n",
    "    return Integer(n).is_pseudoprime()"
   ]
  },
  {
   "cell_type": "code",
   "execution_count": 18,
   "id": "4ecb9488-9c38-4070-81c1-8451402fdfb4",
   "metadata": {
    "editable": true,
    "slideshow": {
     "slide_type": "fragment"
    },
    "tags": []
   },
   "outputs": [],
   "source": [
    "import gmpy2\n",
    "def isPrime_python_gmpy2(n) -> bool:\n",
    "    \"\"\" primality test in python using gmpy2 uses Miller-Rabin test\n",
    "    https://gmpy2.readthedocs.io/en/latest/mpz.html#gmpy2.is_prime\n",
    "    \"\"\"\n",
    "    return gmpy2.is_prime(int(n)) # has to be python int()"
   ]
  },
  {
   "cell_type": "markdown",
   "id": "6524a16e-3bee-4fc1-a9d7-bb3f43d83a31",
   "metadata": {
    "editable": true,
    "slideshow": {
     "slide_type": "skip"
    },
    "tags": []
   },
   "source": [
    "____"
   ]
  },
  {
   "cell_type": "markdown",
   "id": "5af1b81c-5b4a-4527-8aa2-5f7594e24422",
   "metadata": {
    "editable": true,
    "raw_mimetype": "",
    "slideshow": {
     "slide_type": "subslide"
    },
    "tags": []
   },
   "source": [
    "### Primality testing"
   ]
  },
  {
   "cell_type": "code",
   "execution_count": 12,
   "id": "5faedae0-f862-4358-830b-c761608e7092",
   "metadata": {
    "editable": true,
    "slideshow": {
     "slide_type": "skip"
    },
    "tags": []
   },
   "outputs": [
    {
     "data": {
      "text/plain": [
       "2147517165"
      ]
     },
     "execution_count": 12,
     "metadata": {},
     "output_type": "execute_result"
    }
   ],
   "source": [
    "import random\n",
    "random_number = random.getrandbits(32) # get n bits random number\n",
    "random_number"
   ]
  },
  {
   "cell_type": "code",
   "execution_count": 13,
   "id": "2b12db08-5e98-42a4-b1e1-320f758cb5c0",
   "metadata": {
    "editable": true,
    "slideshow": {
     "slide_type": "fragment"
    },
    "tags": []
   },
   "outputs": [
    {
     "name": "stdout",
     "output_type": "stream",
     "text": [
      "CPU times: user 846 ms, sys: 0 ns, total: 846 ms\n",
      "Wall time: 844 ms\n"
     ]
    },
    {
     "data": {
      "text/plain": [
       "(False, [3, 5, 67, 2136833])"
      ]
     },
     "execution_count": 13,
     "metadata": {},
     "output_type": "execute_result"
    }
   ],
   "source": [
    "%time isPrime_trial_division(random_number) # 32 bit random_number  "
   ]
  },
  {
   "cell_type": "code",
   "execution_count": 23,
   "id": "1898d048-61bb-42dc-bfa5-bd38913527f2",
   "metadata": {
    "editable": true,
    "slideshow": {
     "slide_type": "skip"
    },
    "tags": []
   },
   "outputs": [
    {
     "name": "stdout",
     "output_type": "stream",
     "text": [
      "CPU times: user 15.5 ms, sys: 6.99 ms, total: 22.5 ms\n",
      "Wall time: 31 ms\n"
     ]
    },
    {
     "data": {
      "text/plain": [
       "False"
      ]
     },
     "execution_count": 23,
     "metadata": {},
     "output_type": "execute_result"
    }
   ],
   "source": [
    "%time isPrime_trial_division_with_list_of_primes(random_number)"
   ]
  },
  {
   "cell_type": "code",
   "execution_count": 24,
   "id": "d7d97378-cb79-4bbd-9c41-260432729783",
   "metadata": {
    "editable": true,
    "slideshow": {
     "slide_type": "fragment"
    },
    "tags": []
   },
   "outputs": [
    {
     "name": "stdout",
     "output_type": "stream",
     "text": [
      "CPU times: user 53 µs, sys: 12 µs, total: 65 µs\n",
      "Wall time: 74.9 µs\n"
     ]
    },
    {
     "data": {
      "text/plain": [
       "False"
      ]
     },
     "execution_count": 24,
     "metadata": {},
     "output_type": "execute_result"
    }
   ],
   "source": [
    "%time isPrime_sage(random_number)"
   ]
  },
  {
   "cell_type": "code",
   "execution_count": 25,
   "id": "57aac848-59c8-4bf3-91b8-b1866248cb6f",
   "metadata": {
    "editable": true,
    "slideshow": {
     "slide_type": "skip"
    },
    "tags": []
   },
   "outputs": [
    {
     "name": "stdout",
     "output_type": "stream",
     "text": [
      "CPU times: user 43 µs, sys: 10 µs, total: 53 µs\n",
      "Wall time: 58.9 µs\n"
     ]
    },
    {
     "data": {
      "text/plain": [
       "False"
      ]
     },
     "execution_count": 25,
     "metadata": {},
     "output_type": "execute_result"
    }
   ],
   "source": [
    "%time isPrime_sage_probabilistic(random_number)"
   ]
  },
  {
   "cell_type": "code",
   "execution_count": 26,
   "id": "8550654a-da7d-46d4-b60b-ac163438db0d",
   "metadata": {
    "editable": true,
    "scrolled": true,
    "slideshow": {
     "slide_type": "skip"
    },
    "tags": []
   },
   "outputs": [
    {
     "name": "stdout",
     "output_type": "stream",
     "text": [
      "CPU times: user 366 µs, sys: 84 µs, total: 450 µs\n",
      "Wall time: 7.52 ms\n"
     ]
    },
    {
     "data": {
      "text/plain": [
       "False"
      ]
     },
     "execution_count": 26,
     "metadata": {},
     "output_type": "execute_result"
    }
   ],
   "source": [
    "%time isPrime_sage_BailiePSW(random_number)"
   ]
  },
  {
   "cell_type": "code",
   "execution_count": 27,
   "id": "4a28bdb7-d686-4961-82fa-c36f84eeeb43",
   "metadata": {
    "editable": true,
    "slideshow": {
     "slide_type": "fragment"
    },
    "tags": []
   },
   "outputs": [
    {
     "name": "stdout",
     "output_type": "stream",
     "text": [
      "CPU times: user 0 ns, sys: 461 µs, total: 461 µs\n",
      "Wall time: 7.18 ms\n"
     ]
    },
    {
     "data": {
      "text/plain": [
       "False"
      ]
     },
     "execution_count": 27,
     "metadata": {},
     "output_type": "execute_result"
    }
   ],
   "source": [
    "%time isPrime_python_gmpy2(random_number)"
   ]
  },
  {
   "cell_type": "markdown",
   "id": "ce3c8546-f171-440c-b580-58db96028259",
   "metadata": {
    "editable": true,
    "raw_mimetype": "",
    "slideshow": {
     "slide_type": ""
    },
    "tags": []
   },
   "source": [
    "Note that, testing if a given positive integer is prime is resonably fast"
   ]
  },
  {
   "cell_type": "markdown",
   "id": "c4644b2f-7ade-4e3f-9235-66f6ed7ccd49",
   "metadata": {
    "editable": true,
    "slideshow": {
     "slide_type": "slide"
    },
    "tags": []
   },
   "source": [
    "### Factorization \n",
    "\n",
    "Factorization is thought to be a *computationally difficult* problem (i.e., **no** *polynomial-time* algorithm for factoring has been demonstrated).\n",
    "Primality testing is comparatively easy.\n",
    "\n",
    "* **Fundamental theorem of arithmetic:** every natural number greater than $ 1 $ is either a *prime* itself or can be *factorized* as a product of primes that is unique up to their order (ie., the order is not relevant)"
   ]
  },
  {
   "cell_type": "code",
   "execution_count": 44,
   "id": "4a59e3f6-88d3-4dbd-b539-b43c437e9f5a",
   "metadata": {
    "editable": true,
    "slideshow": {
     "slide_type": "fragment"
    },
    "tags": []
   },
   "outputs": [
    {
     "data": {
      "text/plain": [
       "2^2 * 3"
      ]
     },
     "execution_count": 44,
     "metadata": {},
     "output_type": "execute_result"
    }
   ],
   "source": [
    "factor(12) # prime factors of a composite number"
   ]
  },
  {
   "cell_type": "code",
   "execution_count": 45,
   "id": "96da5b7d-37ab-48c5-946f-41077d70823f",
   "metadata": {
    "editable": true,
    "slideshow": {
     "slide_type": "fragment"
    },
    "tags": []
   },
   "outputs": [
    {
     "data": {
      "text/plain": [
       "5"
      ]
     },
     "execution_count": 45,
     "metadata": {},
     "output_type": "execute_result"
    }
   ],
   "source": [
    "factor(5) # prime factor of a prime"
   ]
  },
  {
   "cell_type": "markdown",
   "id": "5f827101-a810-4ad6-b4e5-05608d5bcb69",
   "metadata": {
    "editable": true,
    "slideshow": {
     "slide_type": "subslide"
    },
    "tags": []
   },
   "source": [
    "In sage [quadratic sieve](https://en.wikipedia.org/wiki/Quadratic_sieve) (`qsieve`) is a more [efficient factorization algorithm](https://doc.sagemath.org/html/en/thematic_tutorials/explicit_methods_in_number_theory/integer_factorization.html). It is the second-fastest known method after the [general number field sieve](https://en.wikipedia.org/wiki/General_number_field_sieve) (i.e., the time complexity is sub-exponential but still not polynomial). "
   ]
  },
  {
   "cell_type": "code",
   "execution_count": 46,
   "id": "d5c8c4c0-a53b-400d-ab3e-cf533c2b8a39",
   "metadata": {
    "editable": true,
    "slideshow": {
     "slide_type": "fragment"
    },
    "tags": []
   },
   "outputs": [
    {
     "name": "stdout",
     "output_type": "stream",
     "text": [
      "1208925819614629174706189 2417851639229258349412369\n"
     ]
    }
   ],
   "source": [
    "print(next_prime(2^80),next_prime(2^81)) # sample two 2^80 bit primes"
   ]
  },
  {
   "cell_type": "code",
   "execution_count": 47,
   "id": "d81736f2-f994-43b8-abea-791d0d000c24",
   "metadata": {
    "editable": true,
    "slideshow": {
     "slide_type": "fragment"
    },
    "tags": []
   },
   "outputs": [
    {
     "name": "stdout",
     "output_type": "stream",
     "text": [
      "CPU times: user 6.59 ms, sys: 237 µs, total: 6.83 ms\n",
      "Wall time: 703 ms\n"
     ]
    },
    {
     "data": {
      "text/plain": [
       "([1208925819614629174706189, 2417851639229258349412369], '')"
      ]
     },
     "execution_count": 47,
     "metadata": {},
     "output_type": "execute_result"
    }
   ],
   "source": [
    "%time qsieve(next_prime(2^80) * next_prime(2^81)) # factor the product"
   ]
  },
  {
   "cell_type": "markdown",
   "id": "9e6efd8d-9fad-484c-b1d5-6b4866902f62",
   "metadata": {
    "editable": true,
    "slideshow": {
     "slide_type": "skip"
    },
    "tags": []
   },
   "source": [
    "______"
   ]
  },
  {
   "cell_type": "markdown",
   "id": "32034feb-646b-4908-ac9b-81712cf21771",
   "metadata": {
    "editable": true,
    "slideshow": {
     "slide_type": "slide"
    },
    "tags": []
   },
   "source": [
    "## Modulo arithmetic\n",
    "The notation $ a \\mod N $ denotes the remainder of $ a $ upon division by $ N $. "
   ]
  },
  {
   "cell_type": "code",
   "execution_count": 48,
   "id": "2ab72774-1c5d-459e-be11-fcc7564d4504",
   "metadata": {
    "editable": true,
    "slideshow": {
     "slide_type": ""
    },
    "tags": []
   },
   "outputs": [
    {
     "data": {
      "text/plain": [
       "3"
      ]
     },
     "execution_count": 48,
     "metadata": {},
     "output_type": "execute_result"
    }
   ],
   "source": [
    "6*3 % 15 # modulo operation in python"
   ]
  },
  {
   "cell_type": "code",
   "execution_count": 49,
   "id": "6d972633-6afc-42eb-8768-757636258e25",
   "metadata": {
    "editable": true,
    "slideshow": {
     "slide_type": "fragment"
    },
    "tags": []
   },
   "outputs": [
    {
     "data": {
      "text/plain": [
       "3"
      ]
     },
     "execution_count": 49,
     "metadata": {},
     "output_type": "execute_result"
    }
   ],
   "source": [
    "mod(6*3,15) # modulo function in sage"
   ]
  },
  {
   "cell_type": "markdown",
   "id": "bf0f5abb-c71a-45e1-a7e3-c62dd399a0fd",
   "metadata": {
    "editable": true,
    "slideshow": {
     "slide_type": "fragment"
    },
    "tags": []
   },
   "source": [
    "Exponentiation (power of) some value modulo $ n $ e.g., $ 2^4 \\mod 15 $"
   ]
  },
  {
   "cell_type": "code",
   "execution_count": 50,
   "id": "99d35204-9986-4004-bc2f-ec5d59607f9e",
   "metadata": {
    "editable": true,
    "slideshow": {
     "slide_type": "fragment"
    },
    "tags": []
   },
   "outputs": [
    {
     "data": {
      "text/plain": [
       "16"
      ]
     },
     "execution_count": 50,
     "metadata": {},
     "output_type": "execute_result"
    }
   ],
   "source": [
    "2**4"
   ]
  },
  {
   "cell_type": "code",
   "execution_count": 51,
   "id": "87e0eedb-60b1-4d14-987d-3d4686e239ab",
   "metadata": {
    "editable": true,
    "slideshow": {
     "slide_type": "fragment"
    },
    "tags": []
   },
   "outputs": [
    {
     "data": {
      "text/plain": [
       "1"
      ]
     },
     "execution_count": 51,
     "metadata": {},
     "output_type": "execute_result"
    }
   ],
   "source": [
    "# python build in\n",
    "pow(2,4,15)"
   ]
  },
  {
   "cell_type": "code",
   "execution_count": 52,
   "id": "52ca4164-5342-4ec7-87eb-f913b47ac0bf",
   "metadata": {
    "editable": true,
    "slideshow": {
     "slide_type": "skip"
    },
    "tags": []
   },
   "outputs": [
    {
     "data": {
      "text/plain": [
       "1"
      ]
     },
     "execution_count": 52,
     "metadata": {},
     "output_type": "execute_result"
    }
   ],
   "source": [
    "# sage \n",
    "power_mod(2,4,15) # 2.powermod(4,15) # alternative notation"
   ]
  },
  {
   "cell_type": "markdown",
   "id": "f059bf7e-dd04-4174-8644-a39ee7ca3bbf",
   "metadata": {
    "editable": true,
    "slideshow": {
     "slide_type": "skip"
    },
    "tags": []
   },
   "source": [
    "Exponentiation of some positive integer value $ x $ by $ p \\in Primes $ minus 1, modulo this prime $ p $ equals 1 \n",
    "$$\n",
    "x^{(p - 1)} \\mod p = 1\n",
    "$$ "
   ]
  },
  {
   "cell_type": "code",
   "execution_count": 53,
   "id": "800da413-8b58-485c-8193-a8039fe47543",
   "metadata": {
    "editable": true,
    "slideshow": {
     "slide_type": "skip"
    },
    "tags": []
   },
   "outputs": [
    {
     "data": {
      "text/plain": [
       "1"
      ]
     },
     "execution_count": 53,
     "metadata": {},
     "output_type": "execute_result"
    }
   ],
   "source": [
    "somevalue = 5\n",
    "modn = 23\n",
    "somevalue**(modn-1) % modn"
   ]
  },
  {
   "cell_type": "markdown",
   "id": "e512d760-8a1f-4d1c-b6c0-270b64aa334f",
   "metadata": {
    "editable": true,
    "slideshow": {
     "slide_type": "skip"
    },
    "tags": []
   },
   "source": [
    "_____"
   ]
  },
  {
   "cell_type": "markdown",
   "id": "6935010f-039c-4d81-aeab-a10510962483",
   "metadata": {
    "editable": true,
    "slideshow": {
     "slide_type": "slide"
    },
    "tags": []
   },
   "source": [
    "### Integers modulo $n$\n",
    "<a id='mod'></a>"
   ]
  },
  {
   "cell_type": "markdown",
   "id": "cd6e0a08-f5a6-4c4a-aa79-68b851b62941",
   "metadata": {
    "editable": true,
    "slideshow": {
     "slide_type": ""
    },
    "tags": []
   },
   "source": [
    "* set of integers modulo $n$: $$ \\mathbb{Z}_n=\\{0,1,2,...,n-1\\} $$\n",
    "* sometimes also denoted as $ \\mathbb{Z}/n\\mathbb{Z} $, which stands for $ \\mathbb{Z} $ without all multiples of $ n $\n",
    "\n",
    "**Example:**\n",
    "If $n=15$ then\n",
    "$ \\mathbb{Z}_n=\\{0,1,2,4,5,6,7,8,9,10,11,12,13,14\\} $"
   ]
  },
  {
   "cell_type": "code",
   "execution_count": 54,
   "id": "faa32fef-6ae1-4566-8fc7-31f2b22b787b",
   "metadata": {
    "editable": true,
    "slideshow": {
     "slide_type": "fragment"
    },
    "tags": []
   },
   "outputs": [
    {
     "data": {
      "text/plain": [
       "Ring of integers modulo 15"
      ]
     },
     "execution_count": 54,
     "metadata": {},
     "output_type": "execute_result"
    }
   ],
   "source": [
    "Zn = IntegerModRing(15); Zn"
   ]
  },
  {
   "cell_type": "code",
   "execution_count": 55,
   "id": "126ace41-1d7b-4abb-bc86-cc93cc925d17",
   "metadata": {
    "editable": true,
    "slideshow": {
     "slide_type": "fragment"
    },
    "tags": []
   },
   "outputs": [
    {
     "data": {
      "text/plain": [
       "[0, 1, 2, 3, 4, 5, 6, 7, 8, 9, 10, 11, 12, 13, 14]"
      ]
     },
     "execution_count": 55,
     "metadata": {},
     "output_type": "execute_result"
    }
   ],
   "source": [
    "Zn.list() # list all elements"
   ]
  },
  {
   "cell_type": "code",
   "execution_count": 56,
   "id": "625e63db-5fe9-446c-b422-ec9bc2f5d9e3",
   "metadata": {
    "editable": true,
    "slideshow": {
     "slide_type": "fragment"
    },
    "tags": []
   },
   "outputs": [
    {
     "data": {
      "text/plain": [
       "15"
      ]
     },
     "execution_count": 56,
     "metadata": {},
     "output_type": "execute_result"
    }
   ],
   "source": [
    "Zn.order() # number of elements "
   ]
  },
  {
   "cell_type": "markdown",
   "id": "d2a80491-2473-487d-93cb-17f24c5e00cf",
   "metadata": {
    "editable": true,
    "slideshow": {
     "slide_type": "subslide"
    },
    "tags": []
   },
   "source": [
    "### Integers modulo $n$"
   ]
  },
  {
   "cell_type": "code",
   "execution_count": 57,
   "id": "1014a071-3eb4-4484-83f5-0b0347adfc78",
   "metadata": {
    "editable": true,
    "slideshow": {
     "slide_type": ""
    },
    "tags": []
   },
   "outputs": [
    {
     "data": {
      "text/plain": [
       "[0, 1, 2, 3, 4, 5, 6, 7, 8, 9, 10, 11, 12, 13, 14]"
      ]
     },
     "execution_count": 57,
     "metadata": {},
     "output_type": "execute_result"
    }
   ],
   "source": [
    "Zn.list() # list all elements where n=15"
   ]
  },
  {
   "cell_type": "code",
   "execution_count": 58,
   "id": "9cdaa5b7-46d7-4d7f-ae7d-5bdab398bb63",
   "metadata": {
    "editable": true,
    "slideshow": {
     "slide_type": "fragment"
    },
    "tags": []
   },
   "outputs": [
    {
     "data": {
      "text/plain": [
       "18"
      ]
     },
     "execution_count": 58,
     "metadata": {},
     "output_type": "execute_result"
    }
   ],
   "source": [
    "6*3 # result in the set of integers"
   ]
  },
  {
   "cell_type": "code",
   "execution_count": 59,
   "id": "0d13a778-cb40-4244-a198-caed03a0a750",
   "metadata": {
    "editable": true,
    "slideshow": {
     "slide_type": "fragment"
    },
    "tags": []
   },
   "outputs": [
    {
     "data": {
      "text/plain": [
       "3"
      ]
     },
     "execution_count": 59,
     "metadata": {},
     "output_type": "execute_result"
    }
   ],
   "source": [
    "Zn(6*3) # result in the set of integers mod n"
   ]
  },
  {
   "cell_type": "code",
   "execution_count": 60,
   "id": "61df2916-1bae-4674-a50d-20c1aa1aabbe",
   "metadata": {
    "editable": true,
    "slideshow": {
     "slide_type": "fragment"
    },
    "tags": []
   },
   "outputs": [
    {
     "data": {
      "text/plain": [
       "9"
      ]
     },
     "execution_count": 60,
     "metadata": {},
     "output_type": "execute_result"
    }
   ],
   "source": [
    "Zn.random_element()"
   ]
  },
  {
   "cell_type": "markdown",
   "id": "8d710224-a720-458b-bd02-60e4b11476c4",
   "metadata": {
    "editable": true,
    "slideshow": {
     "slide_type": "skip"
    },
    "tags": []
   },
   "source": [
    "___"
   ]
  },
  {
   "cell_type": "markdown",
   "id": "28f0ec62-ac04-4d49-816b-e95d9b40a0b4",
   "metadata": {
    "editable": true,
    "jp-MarkdownHeadingCollapsed": true,
    "slideshow": {
     "slide_type": "skip"
    },
    "tags": []
   },
   "source": [
    "### Integers modulo $ n $ examples in sage"
   ]
  },
  {
   "cell_type": "code",
   "execution_count": 61,
   "id": "a6163878-5d39-44c0-a6b8-1af1c49b4836",
   "metadata": {
    "editable": true,
    "scrolled": true,
    "slideshow": {
     "slide_type": "skip"
    },
    "tags": []
   },
   "outputs": [
    {
     "data": {
      "text/plain": [
       "Integer Ring"
      ]
     },
     "execution_count": 61,
     "metadata": {},
     "output_type": "execute_result"
    }
   ],
   "source": [
    "Z = Integers(); Z "
   ]
  },
  {
   "cell_type": "code",
   "execution_count": 62,
   "id": "e0756088-3632-433a-8e1a-86631a0c8b39",
   "metadata": {
    "editable": true,
    "jupyter": {
     "source_hidden": true
    },
    "slideshow": {
     "slide_type": "skip"
    },
    "tags": []
   },
   "outputs": [
    {
     "data": {
      "text/plain": [
       "Ring of integers modulo 15"
      ]
     },
     "execution_count": 62,
     "metadata": {},
     "output_type": "execute_result"
    }
   ],
   "source": [
    "Zn = Integers(15); Zn "
   ]
  },
  {
   "cell_type": "code",
   "execution_count": 63,
   "id": "57e0e17b-6a5a-4e4e-99a9-c340eee9d0d0",
   "metadata": {
    "editable": true,
    "slideshow": {
     "slide_type": "skip"
    },
    "tags": []
   },
   "outputs": [
    {
     "data": {
      "text/plain": [
       "Ring of integers modulo 15"
      ]
     },
     "execution_count": 63,
     "metadata": {},
     "output_type": "execute_result"
    }
   ],
   "source": [
    "Zn = Zmod(15); Zn"
   ]
  },
  {
   "cell_type": "code",
   "execution_count": 64,
   "id": "a096584f-3942-4be6-84f8-f82a070b4752",
   "metadata": {
    "editable": true,
    "jupyter": {
     "source_hidden": true
    },
    "slideshow": {
     "slide_type": "skip"
    },
    "tags": []
   },
   "outputs": [
    {
     "data": {
      "text/plain": [
       "Ring of integers modulo 15"
      ]
     },
     "execution_count": 64,
     "metadata": {},
     "output_type": "execute_result"
    }
   ],
   "source": [
    "Zn = IntegerModRing(15); Zn "
   ]
  },
  {
   "cell_type": "code",
   "execution_count": 65,
   "id": "266c1cec-7414-44c9-b427-bb2af6f1f68a",
   "metadata": {
    "editable": true,
    "slideshow": {
     "slide_type": "skip"
    },
    "tags": []
   },
   "outputs": [
    {
     "data": {
      "text/plain": [
       "True"
      ]
     },
     "execution_count": 65,
     "metadata": {},
     "output_type": "execute_result"
    }
   ],
   "source": [
    "6*3 == Z(6*3) == ZZ(6*3) # same result in the set of integers"
   ]
  },
  {
   "cell_type": "code",
   "execution_count": 66,
   "id": "186ae329-a8ff-4b6f-ad27-aa0734b23d35",
   "metadata": {
    "editable": true,
    "slideshow": {
     "slide_type": "skip"
    },
    "tags": []
   },
   "outputs": [
    {
     "data": {
      "text/plain": [
       "True"
      ]
     },
     "execution_count": 66,
     "metadata": {},
     "output_type": "execute_result"
    }
   ],
   "source": [
    "# Note that sage comparison recognizes this as equal,\n",
    "# which is somehow counter intuitive! \n",
    "Z(6*3) == Zn(6*3)"
   ]
  },
  {
   "cell_type": "markdown",
   "id": "d409e981-e485-4d8e-a4c4-5d5aad275010",
   "metadata": {
    "editable": true,
    "slideshow": {
     "slide_type": "slide"
    },
    "tags": []
   },
   "source": [
    "## Greatest common divisor (GCD)\n",
    "$$\n",
    "\\begin{align*}\n",
    "\\frac{divident}{divisor} &= quotient \\\\\n",
    "\\; \\\\\n",
    "divident &= quotient \\cdot divisor + remainder\n",
    "\\end{align*}\n",
    "$$\n",
    "\n",
    "The **greatest common divisor** (gcd) of two or more integers, which are not all zero, is the largest positive integer that divides each of the integers. "
   ]
  },
  {
   "cell_type": "code",
   "execution_count": 67,
   "id": "7423a490-ff43-418e-a8ae-3ff121ce16a4",
   "metadata": {
    "editable": true,
    "jupyter": {
     "source_hidden": true
    },
    "slideshow": {
     "slide_type": "skip"
    },
    "tags": []
   },
   "outputs": [],
   "source": [
    "def div(dividend,divisor):\n",
    "    \"\"\" simple division function that returns quotient and remainder \"\"\"\n",
    "    quotient = dividend // divisor\n",
    "    if quotient == 0:\n",
    "        remainder = divisor\n",
    "    else:\n",
    "        remainder = dividend % divisor\n",
    "    return (quotient,remainder)"
   ]
  },
  {
   "cell_type": "code",
   "execution_count": 68,
   "id": "b93589f2-19e0-4d7c-ac71-a4654f6359cc",
   "metadata": {
    "editable": true,
    "jupyter": {
     "source_hidden": true
    },
    "slideshow": {
     "slide_type": "skip"
    },
    "tags": []
   },
   "outputs": [
    {
     "data": {
      "text/plain": [
       "(1, 3)"
      ]
     },
     "execution_count": 68,
     "metadata": {},
     "output_type": "execute_result"
    }
   ],
   "source": [
    "div(12,9)"
   ]
  },
  {
   "cell_type": "code",
   "execution_count": 69,
   "id": "87d4c48c-9248-494c-a661-c0899019919f",
   "metadata": {
    "editable": true,
    "slideshow": {
     "slide_type": "fragment"
    },
    "tags": []
   },
   "outputs": [
    {
     "data": {
      "text/plain": [
       "6"
      ]
     },
     "execution_count": 69,
     "metadata": {},
     "output_type": "execute_result"
    }
   ],
   "source": [
    "number_of_divisors(12) # the number of divisors of a number"
   ]
  },
  {
   "cell_type": "code",
   "execution_count": 70,
   "id": "a2bde307-8dc1-4c3f-aa4d-a835bc559d53",
   "metadata": {
    "editable": true,
    "slideshow": {
     "slide_type": "fragment"
    },
    "tags": []
   },
   "outputs": [
    {
     "data": {
      "text/plain": [
       "[1, 2, 3, 4, 6, 12]"
      ]
     },
     "execution_count": 70,
     "metadata": {},
     "output_type": "execute_result"
    }
   ],
   "source": [
    "divisors(12) # list of divisors of a number"
   ]
  },
  {
   "cell_type": "code",
   "execution_count": 71,
   "id": "f4fc4a39-5eb7-494b-9630-94bed33adcba",
   "metadata": {
    "editable": true,
    "slideshow": {
     "slide_type": "fragment"
    },
    "tags": []
   },
   "outputs": [
    {
     "data": {
      "text/plain": [
       "[1, 3, 9]"
      ]
     },
     "execution_count": 71,
     "metadata": {},
     "output_type": "execute_result"
    }
   ],
   "source": [
    "divisors(9) "
   ]
  },
  {
   "cell_type": "code",
   "execution_count": 72,
   "id": "8e1473dc-2b55-47c8-9039-02db28f81dae",
   "metadata": {
    "editable": true,
    "slideshow": {
     "slide_type": "fragment"
    },
    "tags": []
   },
   "outputs": [
    {
     "data": {
      "text/plain": [
       "3"
      ]
     },
     "execution_count": 72,
     "metadata": {},
     "output_type": "execute_result"
    }
   ],
   "source": [
    "gcd(12,9) # sage gcd"
   ]
  },
  {
   "cell_type": "code",
   "execution_count": 73,
   "id": "d281a017-955f-42bc-b28a-29f0643702fd",
   "metadata": {
    "editable": true,
    "slideshow": {
     "slide_type": "skip"
    },
    "tags": []
   },
   "outputs": [
    {
     "data": {
      "text/plain": [
       "1"
      ]
     },
     "execution_count": 73,
     "metadata": {},
     "output_type": "execute_result"
    }
   ],
   "source": [
    "# python3 gcd\n",
    "import math \n",
    "math.gcd(2,15)"
   ]
  },
  {
   "cell_type": "code",
   "execution_count": 74,
   "id": "89112cce-6a8f-48be-8656-578d36af9120",
   "metadata": {
    "editable": true,
    "slideshow": {
     "slide_type": "skip"
    },
    "tags": []
   },
   "outputs": [],
   "source": [
    "# python2 gcd\n",
    "#from fractions import gcd as pygcd\n",
    "#pygcd(12,9)"
   ]
  },
  {
   "cell_type": "markdown",
   "id": "278f274b-bea3-49d5-a8ae-ae128b34cd3d",
   "metadata": {
    "editable": true,
    "slideshow": {
     "slide_type": "slide"
    },
    "tags": []
   },
   "source": [
    "### Euclidean algorithm \n",
    "\n",
    "The Euclidean algorithm is an efficient method for computing the *greatest common divisor* (GCD) of two numbers.\n",
    "\n",
    "The basic principle is that replacing the larger of the two numbers by its difference with the smaller number does not change the greatest common divisor. This process is reapeated until the remainder is $ 0 $. The last non-zero difference is the gcd. \n",
    "\n",
    "The following is a visual example of computing the gcd of $ 49 $ (black) and $ 21 $ (red), which is $ 7 $. \n",
    "<p style=\"text-align:center\">\n",
    "<img src=\"./figures/euclid.png\" alt=\"Euclidean algorithm\" width=\"150\">\n",
    "</p>\n",
    "<p style=\"text-align:center;font-size:10px\">\n",
    "<a href=\"https://upload.wikimedia.org/wikipedia/commons/3/37/Euclid%27s_algorithm_Book_VII_Proposition_2_3.png\">(image source)</a>\n",
    "</p>\n"
   ]
  },
  {
   "cell_type": "markdown",
   "id": "061024cb-3862-49b2-892a-2f9478d96ace",
   "metadata": {
    "editable": true,
    "slideshow": {
     "slide_type": "subslide"
    },
    "tags": []
   },
   "source": [
    "### Euclidean algorithm animation\n",
    "Animation of computing the Euclidean algorihm for $gcd(62,36) = 2$:\n",
    "<p style=\"text-align:center;font-size:10px\">\n",
    "<video width=\"480\" controls src=\"https://upload.wikimedia.org/wikipedia/commons/transcoded/5/5f/The_Great_Common_Divisor_of_62_and_36_is_2.ogv/The_Great_Common_Divisor_of_62_and_36_is_2.ogv.720p.vp9.webm\"></video>\n",
    "</p>\n",
    "<p style=\"text-align:center;font-size:10px\">\n",
    "<a href=\"https://en.wikipedia.org/wiki/File:The_Great_Common_Divisor_of_62_and_36_is_2.ogv\">(video source)</a>\n",
    "</p>"
   ]
  },
  {
   "cell_type": "markdown",
   "id": "a88cfbf9-f658-4d6d-bea8-0bda1ad5c62f",
   "metadata": {
    "editable": true,
    "slideshow": {
     "slide_type": "skip"
    },
    "tags": []
   },
   "source": [
    "____"
   ]
  },
  {
   "cell_type": "markdown",
   "id": "0af6c252-6561-495f-9dc0-bfb901336af3",
   "metadata": {
    "editable": true,
    "slideshow": {
     "slide_type": "subslide"
    },
    "tags": []
   },
   "source": [
    "### Euclidean algorithm example"
   ]
  },
  {
   "cell_type": "code",
   "execution_count": 75,
   "id": "c3e7e86b-c2fb-4d6c-ae04-5fb771b26f17",
   "metadata": {
    "editable": true,
    "slideshow": {
     "slide_type": ""
    },
    "tags": []
   },
   "outputs": [],
   "source": [
    "def euclide(a, b,verbose=False):\n",
    "    \"\"\" euclidean algorithm as a recursive function \"\"\"\n",
    "    assert a >= b,\"a must be larger than b\"\n",
    "    if verbose: print(f\"a = {a:3}  b = {b:3}\")\n",
    "    if b == 0:\n",
    "        return a\n",
    "    else:\n",
    "        return euclide(b, a % b,verbose)"
   ]
  },
  {
   "cell_type": "code",
   "execution_count": 76,
   "id": "c516e816-e143-4b02-85b1-ae5c60a22544",
   "metadata": {
    "editable": true,
    "slideshow": {
     "slide_type": "fragment"
    },
    "tags": []
   },
   "outputs": [
    {
     "name": "stdout",
     "output_type": "stream",
     "text": [
      "a =  12  b =   9\n",
      "a =   9  b =   3\n",
      "a =   3  b =   0\n"
     ]
    },
    {
     "data": {
      "text/plain": [
       "3"
      ]
     },
     "execution_count": 76,
     "metadata": {},
     "output_type": "execute_result"
    }
   ],
   "source": [
    "euclide(12,9,True)"
   ]
  },
  {
   "cell_type": "code",
   "execution_count": 77,
   "id": "51a5a8ae-c561-4308-81e8-993dd92baa51",
   "metadata": {
    "editable": true,
    "slideshow": {
     "slide_type": "skip"
    },
    "tags": []
   },
   "outputs": [
    {
     "name": "stdout",
     "output_type": "stream",
     "text": [
      "a =  62  b =  36\n",
      "a =  36  b =  26\n",
      "a =  26  b =  10\n",
      "a =  10  b =   6\n",
      "a =   6  b =   4\n",
      "a =   4  b =   2\n",
      "a =   2  b =   0\n"
     ]
    },
    {
     "data": {
      "text/plain": [
       "2"
      ]
     },
     "execution_count": 77,
     "metadata": {},
     "output_type": "execute_result"
    }
   ],
   "source": [
    "euclide(62,36,True)"
   ]
  },
  {
   "cell_type": "code",
   "execution_count": 78,
   "id": "4f4abcbd-3fd6-4a69-b1a8-f23ee633f4c8",
   "metadata": {
    "editable": true,
    "jupyter": {
     "source_hidden": true
    },
    "slideshow": {
     "slide_type": "skip"
    },
    "tags": []
   },
   "outputs": [],
   "source": [
    "def euclide_while(a,b,verbose=False):\n",
    "    \"\"\" euclidean algorithm with while loop \"\"\"\n",
    "    assert a >= b,\"a must be larger than b\"\n",
    "    b_new = None\n",
    "    while b != 0:\n",
    "        b_new = a - a // b * b # equivalent to a mod b \n",
    "        a = b\n",
    "        b = b_new\n",
    "        if verbose: print(f\"a = {a} b = {b}\")\n",
    "    return a"
   ]
  },
  {
   "cell_type": "code",
   "execution_count": 79,
   "id": "bf4069c0-e770-41dc-bcc8-572216e0dd10",
   "metadata": {
    "editable": true,
    "jupyter": {
     "source_hidden": true
    },
    "scrolled": true,
    "slideshow": {
     "slide_type": "skip"
    },
    "tags": []
   },
   "outputs": [
    {
     "name": "stdout",
     "output_type": "stream",
     "text": [
      "a = 36 b = 26\n",
      "a = 26 b = 10\n",
      "a = 10 b = 6\n",
      "a = 6 b = 4\n",
      "a = 4 b = 2\n",
      "a = 2 b = 0\n"
     ]
    },
    {
     "data": {
      "text/plain": [
       "2"
      ]
     },
     "execution_count": 79,
     "metadata": {},
     "output_type": "execute_result"
    }
   ],
   "source": [
    "euclide_while(62,36,True)"
   ]
  },
  {
   "cell_type": "code",
   "execution_count": 80,
   "id": "45592b0e-e440-4b9c-b3ed-f691e1fc8d6a",
   "metadata": {
    "editable": true,
    "jupyter": {
     "source_hidden": true
    },
    "slideshow": {
     "slide_type": "skip"
    },
    "tags": []
   },
   "outputs": [
    {
     "name": "stdout",
     "output_type": "stream",
     "text": [
      "a = 9 b = 3\n",
      "a = 3 b = 0\n"
     ]
    },
    {
     "data": {
      "text/plain": [
       "3"
      ]
     },
     "execution_count": 80,
     "metadata": {},
     "output_type": "execute_result"
    }
   ],
   "source": [
    "euclide_while(12,9,True)"
   ]
  },
  {
   "cell_type": "markdown",
   "id": "72a88d59-8937-493b-bd17-b38f27c3144d",
   "metadata": {
    "editable": true,
    "slideshow": {
     "slide_type": "slide"
    },
    "tags": []
   },
   "source": [
    "## Relatively prime (coprime)\n",
    "\n",
    "If $gcd(a,b)=1$ then $a$ and $b$ are called **relatively prime** or **coprime**.\n",
    "\n",
    "Neither $ a $ or $ b $ has to be prime in order for them to be *relatively prime* to each other. \n",
    "One example would be $ 8 $ and $ 9 $. "
   ]
  },
  {
   "cell_type": "code",
   "execution_count": 81,
   "id": "098e85bf-c464-4a51-83d8-2db1a1e6212a",
   "metadata": {
    "editable": true,
    "slideshow": {
     "slide_type": "fragment"
    },
    "tags": []
   },
   "outputs": [
    {
     "data": {
      "text/plain": [
       "1"
      ]
     },
     "execution_count": 81,
     "metadata": {},
     "output_type": "execute_result"
    }
   ],
   "source": [
    "gcd(8,9) "
   ]
  },
  {
   "cell_type": "code",
   "execution_count": 82,
   "id": "d4f0aaf2-117f-40ac-820d-aab8b2f07243",
   "metadata": {
    "editable": true,
    "slideshow": {
     "slide_type": "fragment"
    },
    "tags": []
   },
   "outputs": [
    {
     "data": {
      "text/plain": [
       "True"
      ]
     },
     "execution_count": 82,
     "metadata": {},
     "output_type": "execute_result"
    }
   ],
   "source": [
    "8 not in P and 9 not in P"
   ]
  },
  {
   "cell_type": "markdown",
   "id": "a9783025-fe2f-4abd-8f69-f70ed58a0966",
   "metadata": {
    "editable": true,
    "slideshow": {
     "slide_type": "slide"
    },
    "tags": []
   },
   "source": [
    "### Relatively prime (coprime)"
   ]
  },
  {
   "cell_type": "markdown",
   "id": "727b7307-4f71-4b0c-89af-4fdf835f2031",
   "metadata": {
    "editable": true,
    "slideshow": {
     "slide_type": ""
    },
    "tags": []
   },
   "source": [
    "If either $ a $ or $ b $ is prime, then they might, or might not be *relatively prime* to each other:\n",
    "* All integers from $ 1 $ to $ p \\in \\textrm{Primes}$ have to be relatively prime to $ p $\n",
    "* There might be an integer $ z > p $ of which $ p $ is a prime factor. In this case $ z $ and $ p $ are not *relatively prime*\n",
    "  \n",
    "For example, $ 4 $ and $ 5 $ are coprime, whereas $ 10 $ and $ 5 $ are not coprime. "
   ]
  },
  {
   "cell_type": "code",
   "execution_count": 83,
   "id": "d701d9c6-5a58-4070-8b42-4b4fa7fae45a",
   "metadata": {
    "editable": true,
    "slideshow": {
     "slide_type": "fragment"
    },
    "tags": []
   },
   "outputs": [
    {
     "data": {
      "text/plain": [
       "1"
      ]
     },
     "execution_count": 83,
     "metadata": {},
     "output_type": "execute_result"
    }
   ],
   "source": [
    "gcd(4,5)"
   ]
  },
  {
   "cell_type": "code",
   "execution_count": 84,
   "id": "12b47a4b-197a-47ce-b099-014b6b66fe75",
   "metadata": {
    "editable": true,
    "slideshow": {
     "slide_type": "fragment"
    },
    "tags": []
   },
   "outputs": [
    {
     "data": {
      "text/plain": [
       "5"
      ]
     },
     "execution_count": 84,
     "metadata": {},
     "output_type": "execute_result"
    }
   ],
   "source": [
    "gcd(10,5)"
   ]
  },
  {
   "cell_type": "code",
   "execution_count": 85,
   "id": "61ec302a-6200-4186-a2da-c358050b8e5c",
   "metadata": {
    "editable": true,
    "slideshow": {
     "slide_type": "fragment"
    },
    "tags": []
   },
   "outputs": [
    {
     "data": {
      "text/plain": [
       "True"
      ]
     },
     "execution_count": 85,
     "metadata": {},
     "output_type": "execute_result"
    }
   ],
   "source": [
    "5 in P and 10 not in P"
   ]
  },
  {
   "cell_type": "markdown",
   "id": "e7a0e28f-415c-4156-a2d0-df7753b1d2c3",
   "metadata": {
    "editable": true,
    "slideshow": {
     "slide_type": "slide"
    },
    "tags": []
   },
   "source": [
    "**Question:** If both numbers $a$,$b$ are prime, are they relatively prime to each other?"
   ]
  },
  {
   "cell_type": "markdown",
   "id": "ef24468a-e462-4de9-b680-900b9eda86b8",
   "metadata": {
    "editable": true,
    "slideshow": {
     "slide_type": "fragment"
    },
    "tags": []
   },
   "source": [
    "The answers is of course yes, since per definition of a prime they cannot have a common divisor, i.e., $\\gcd(a,b) = 1 $ "
   ]
  },
  {
   "cell_type": "code",
   "execution_count": 86,
   "id": "20517cc9-469a-43ee-878f-a4c083adfea4",
   "metadata": {
    "editable": true,
    "slideshow": {
     "slide_type": ""
    },
    "tags": []
   },
   "outputs": [
    {
     "data": {
      "text/plain": [
       "1"
      ]
     },
     "execution_count": 86,
     "metadata": {},
     "output_type": "execute_result"
    }
   ],
   "source": [
    "# example 5 and 3 \n",
    "assert 5 in P and 3 in P\n",
    "gcd(5,3)"
   ]
  },
  {
   "cell_type": "markdown",
   "id": "a3b1d22f-b281-4059-bd33-bb406d3472b8",
   "metadata": {
    "editable": true,
    "slideshow": {
     "slide_type": "skip"
    },
    "tags": []
   },
   "source": [
    "____"
   ]
  },
  {
   "cell_type": "markdown",
   "id": "76e917f7-3452-4cbf-b0f1-def6f3385eb1",
   "metadata": {
    "editable": true,
    "slideshow": {
     "slide_type": "subslide"
    },
    "tags": []
   },
   "source": [
    "### Some important properties of coprime numbers \n",
    "If $\\gcd(a,b) = 1 $ then:\n",
    "* No prime number divides both $ a $ and $ b $\n",
    "* There exist integers $ x,y $ such that $ ax + by = \\gcd(a,b) = 1 $ (*Bézout's identity* representing the gcd is one in this case)\n",
    "    + The integer $ a $ has a *multiplicative inverse* ($x$) modulo $ b $\n",
    "    + The integer $ b $ has a *multiplicative inverse* ($y$) modulo $ a $"
   ]
  },
  {
   "cell_type": "markdown",
   "id": "2ec4bf91-5f57-413f-ade3-b8332880744d",
   "metadata": {
    "editable": true,
    "slideshow": {
     "slide_type": "skip"
    },
    "tags": []
   },
   "source": [
    "____"
   ]
  },
  {
   "cell_type": "markdown",
   "id": "e20b420d-46d0-420f-8248-f9b18c9eac06",
   "metadata": {
    "editable": true,
    "jp-MarkdownHeadingCollapsed": true,
    "slideshow": {
     "slide_type": "skip"
    },
    "tags": []
   },
   "source": [
    "#### Fermat primality test "
   ]
  },
  {
   "cell_type": "markdown",
   "id": "c046665b-e520-417d-9f1f-1256958d9ded",
   "metadata": {
    "editable": true,
    "slideshow": {
     "slide_type": "skip"
    },
    "tags": []
   },
   "source": [
    "The Fermat primality test is the simplest probabilistic primality test, which actually tests if the given number $ n $ is composite or *may be* prime. \n",
    "\n",
    "> Given an integer $ n $, choose some integer $ a $ coprime to $ n $ and calculate $ a^{n − 1} \\pmod n$. If the result is different from $ 1 $, then $ n $ is composite. If it is $ 1 $, then $ n $ may be prime.\n",
    "<p style=\"text-align:right;font-size:10px\">\n",
    "<a href=\"https://en.wikipedia.org/wiki/Primality_test\">(source)</a>\n",
    "<a href=\"https://en.wikipedia.org/wiki/Fermat_primality_test\">(more info)</a>\n",
    "<a href=\"https://en.wikipedia.org/wiki/Pseudoprime\">(more info)</a>\n",
    "</p>\n",
    "\n",
    "If $ a^{n − 1} \\pmod n = 1$ but $ n $ is *not* prime, then $ n $ is called a **pseudoprime to base $ a $**. \n",
    "An example would be $ n = 341 $ and $ a=2 $. There are only $ 21853 $ pseudoprimes to base $ 2 $ which are smaller than $ 2.5 \\cdot 10^{10} $. \n"
   ]
  },
  {
   "cell_type": "code",
   "execution_count": 87,
   "id": "c531ddf7-fca8-45ad-9772-8e131253f6c7",
   "metadata": {
    "editable": true,
    "slideshow": {
     "slide_type": "skip"
    },
    "tags": []
   },
   "outputs": [
    {
     "data": {
      "text/plain": [
       "1"
      ]
     },
     "execution_count": 87,
     "metadata": {},
     "output_type": "execute_result"
    }
   ],
   "source": [
    "gcd(341,2)"
   ]
  },
  {
   "cell_type": "code",
   "execution_count": 88,
   "id": "e5ec9a9e-9205-421d-82c4-bf64ae8e863a",
   "metadata": {
    "editable": true,
    "slideshow": {
     "slide_type": "skip"
    },
    "tags": []
   },
   "outputs": [
    {
     "data": {
      "text/plain": [
       "1"
      ]
     },
     "execution_count": 88,
     "metadata": {},
     "output_type": "execute_result"
    }
   ],
   "source": [
    "2^(341-1) % 341"
   ]
  },
  {
   "cell_type": "code",
   "execution_count": 89,
   "id": "89da109f-e5d9-453a-951d-37845678b1ed",
   "metadata": {
    "editable": true,
    "slideshow": {
     "slide_type": "skip"
    },
    "tags": []
   },
   "outputs": [
    {
     "data": {
      "text/plain": [
       "False"
      ]
     },
     "execution_count": 89,
     "metadata": {},
     "output_type": "execute_result"
    }
   ],
   "source": [
    "341 in P "
   ]
  },
  {
   "cell_type": "markdown",
   "id": "74666b82-cfa3-43c0-8a5d-4708b7718a92",
   "metadata": {
    "editable": true,
    "jp-MarkdownHeadingCollapsed": true,
    "slideshow": {
     "slide_type": "skip"
    },
    "tags": []
   },
   "source": [
    "#### Fermat's little theorem"
   ]
  },
  {
   "cell_type": "markdown",
   "id": "b7dd892a-697f-40eb-9296-5ce954e0574d",
   "metadata": {
    "editable": true,
    "slideshow": {
     "slide_type": "skip"
    },
    "tags": []
   },
   "source": [
    "The *Fermat primality test* follows from *Fermt's little theorem* which states that:\n",
    "\n",
    "i) if $ n $ is a prime number, then for any integer $ a $, the number $a^{n} − a$ is an integer multiple of $ n $: \n",
    "\n",
    "$a^n \\equiv a \\pmod n $.\n",
    "\n",
    "For example, if $ a = 2 $ and $ n = 7 $, then $ 27 = 128$ , and $ 128 − 2 = 126 = 7 \\cdot 18$  is an integer multiple of $ 7 $.\n",
    "\n",
    "ii) If $ a $ is not divisible by $ n $, that is, if $ a $ is coprime to $ n $, then Fermat's little theorem is equivalent to the statement that $ a^{n − 1} − 1$ is an integer multiple of $ n $:\n",
    "\n",
    "$ a^{n − 1} \\equiv 1 \\pmod n $\n",
    "\n",
    "For example, if $ a = 2 $ and $ n = 7 $, then $ 26 = 64 $, and $ 64 − 1 = 63 = 7 \\cdot 9 $ is a multiple of $ 7 $. \n",
    "\n",
    "<p style=\"text-align:right;font-size:10px\">\n",
    "<a href=\"https://en.wikipedia.org/wiki/Fermat%27s_little_theorem\">(more info)</a>\n",
    "</p>"
   ]
  },
  {
   "cell_type": "code",
   "execution_count": 90,
   "id": "7841e2fa-cb40-4758-bb3b-6689e249e204",
   "metadata": {
    "editable": true,
    "slideshow": {
     "slide_type": "skip"
    },
    "tags": []
   },
   "outputs": [
    {
     "data": {
      "text/plain": [
       "True"
      ]
     },
     "execution_count": 90,
     "metadata": {},
     "output_type": "execute_result"
    }
   ],
   "source": [
    "2**7 % 7 == 2 % 7"
   ]
  },
  {
   "cell_type": "code",
   "execution_count": 91,
   "id": "9402d6a1-d211-46b7-95a1-29a00d76ea20",
   "metadata": {
    "editable": true,
    "slideshow": {
     "slide_type": "skip"
    },
    "tags": []
   },
   "outputs": [
    {
     "data": {
      "text/plain": [
       "True"
      ]
     },
     "execution_count": 91,
     "metadata": {},
     "output_type": "execute_result"
    }
   ],
   "source": [
    "2**(7 - 1) % 7 == 1 % 7"
   ]
  },
  {
   "cell_type": "markdown",
   "id": "dba9e330-7ade-4adc-a2d2-d5d261886d29",
   "metadata": {
    "editable": true,
    "jp-MarkdownHeadingCollapsed": true,
    "slideshow": {
     "slide_type": "skip"
    },
    "tags": []
   },
   "source": [
    "#### Carmichael numbers"
   ]
  },
  {
   "cell_type": "markdown",
   "id": "4349e7dd-a04d-42d7-a8a7-a8c64506ab3b",
   "metadata": {
    "editable": true,
    "slideshow": {
     "slide_type": "skip"
    },
    "tags": []
   },
   "source": [
    "The composite numbers which have the property that $ a^{n-1} \\pmod n $ for every $ a $ that is coprime to $ n $ are called Carmichael numbers. The smallest Carmichael number is $ n = 561 $. \n",
    "<p style=\"text-align:right;font-size:10px\">\n",
    "<a href=\"https://en.wikipedia.org/wiki/Carmichael_number\">(more info)</a>\n",
    "</p>"
   ]
  },
  {
   "cell_type": "markdown",
   "id": "8475b8f2-c069-4ad1-beab-f4ebe7aec81a",
   "metadata": {
    "editable": true,
    "slideshow": {
     "slide_type": "skip"
    },
    "tags": []
   },
   "source": [
    "______"
   ]
  },
  {
   "cell_type": "markdown",
   "id": "9e87bddc-e3b0-42a6-a1d9-57df461b0a9e",
   "metadata": {
    "editable": true,
    "slideshow": {
     "slide_type": "slide"
    },
    "tags": []
   },
   "source": [
    "## Modular multiplicative inverses\n",
    "An element $ x \\in \\mathbb{Z}_n $ is invertible iff $ \\gcd(x,n) = 1 $ i.e., there exists an element $ x^{-1} $ s.t., $ x \\cdot x^{-1} = 1 \\pmod{n} $. \n",
    "\n",
    "This value $x^{-1}$ is called the **modular multiplicative inverse** of $ x $.\n",
    "\n",
    "**Examples:**\n",
    "* In $ \\mathbb{Q} $ the inverse of $ 3 $ would be $ 1/3 $ since $ 3 \\cdot 1/3 = 1 $.\n",
    "* In $ \\mathbb{Z}_n $ the inverse of $ 2 $ would be $ \\frac{n+1}{2} $ since $ 2 \\cdot \\frac{n+1}{2} = n + 1 = 1 \\pmod{n} $"
   ]
  },
  {
   "cell_type": "markdown",
   "id": "44bd8bca-5c9b-4cf2-805e-c43cff8179c0",
   "metadata": {
    "editable": true,
    "slideshow": {
     "slide_type": "subslide"
    },
    "tags": []
   },
   "source": [
    "### A set where very element has an inverse \n",
    "A subset of the set of integers modulo $n$, in which all elements are *coprime (relatively prime)* to $n$ is defined as:\n",
    "\n",
    "$$\n",
    "\\mathbb{Z}^*_n = \\{ x \\in \\mathbb{Z}_n : \\gcd(x,n)=1 \\}\n",
    "$$\n",
    "\n",
    "The set $ \\mathbb{Z}_n^* $ forms a *group* under mutliplication, hence the $^*$ symbol (see [definition of a group](./Number_Theory_I.slides.html#group) for more details)\n",
    "\n",
    "To construct this set  all elements in $ \\mathbb{Z}_n $ that are not invertible have to be eliminated. This includes $ 0 $ as it does not have an inverse. \n",
    "\n",
    "**Example:**\n",
    "\n",
    "If $n=15$ then $ \\mathbb{Z}^*_n = \\{ 1,2,4,7,8,11,13,14 \\} $ and the order is $ | \\mathbb{Z}^*_n | = 8 $\n",
    "\n",
    "For small $n$, this set can be computed by iterating through the elements of $\\mathbb{Z}_n$ and check if $\\gcd(x,n) = 1 $. This is computationally inveasable for large $n$, but computing a multiplicative inverse of an element $ x \\in \\mathbb{Z}_n $, where $ \\gcd(x,n) = 1 $ can be done in polynomial time, for example by using the extended Euclidean algorithm.  \n"
   ]
  },
  {
   "cell_type": "code",
   "execution_count": 92,
   "id": "23080cb1-4b45-440e-a944-9d14f81b7e11",
   "metadata": {
    "editable": true,
    "slideshow": {
     "slide_type": "skip"
    },
    "tags": []
   },
   "outputs": [
    {
     "name": "stdout",
     "output_type": "stream",
     "text": [
      "[1, 2, 4, 7, 8, 11, 13, 14] len=8\n"
     ]
    }
   ],
   "source": [
    "n=15\n",
    "invertable_elememnts_Zn = list()\n",
    "for i in range(0,n):\n",
    "    if 1 == gcd(i,n):\n",
    "        invertable_elememnts_Zn.append(i)\n",
    "print(f\"{invertable_elememnts_Zn} len={len(invertable_elememnts_Zn)}\")"
   ]
  },
  {
   "cell_type": "markdown",
   "id": "4ca47db1-c749-4736-a124-b12fca82a4c5",
   "metadata": {
    "editable": true,
    "slideshow": {
     "slide_type": "skip"
    },
    "tags": []
   },
   "source": [
    "______"
   ]
  },
  {
   "cell_type": "markdown",
   "id": "25a98919-bd2e-4756-b9f8-ff5f64200e4a",
   "metadata": {
    "editable": true,
    "jp-MarkdownHeadingCollapsed": true,
    "slideshow": {
     "slide_type": "skip"
    },
    "tags": []
   },
   "source": [
    "#### The existence of multiplicate inverses"
   ]
  },
  {
   "cell_type": "markdown",
   "id": "801cc4c0-a375-45ad-a93d-5e8434587b85",
   "metadata": {
    "editable": true,
    "slideshow": {
     "slide_type": "skip"
    },
    "tags": []
   },
   "source": [
    "<div style=\"background:ghostwhite\">\n",
    "    \n",
    "**LEMMA:** \n",
    "An element in $Z_b$: $a \\in Z_b$ has an inverse iff $gcd(a,b)=1$. \n",
    "\n",
    "**PROOF:** \n",
    "\n",
    "$$\n",
    "\\begin{split}\n",
    "gcd(a,b) &=1 \\\\\n",
    "\\exists x,y: a\\cdot x + b\\cdot y &= 1 \\\\\n",
    "\\exists x,y: a\\cdot x + b\\cdot y &= 1 \\pmod b \\implies\\\\\n",
    "a\\cdot x &= 1 \\pmod b  \\implies\\\\\n",
    "x^{-1} &= a \\pmod b \n",
    "\\end{split}\n",
    "$$\n",
    "\n",
    "In other words: In $\\pmod b$ the term $b\\cdot y$ is always $0$ therefore $a=x^{-1}$ (or conversely $x=a^{-1}$)\n",
    "\n",
    "It is also possibel to prove this by contradiction and show that there is no inverse if $gcd(a,b)>1$:\n",
    "$$\n",
    "\\begin{split}\n",
    "gcd(a,b) &> 1 \\\\\n",
    "\\forall x: gcd(a\\cdot x,b) &> 1 \\pmod b \\implies \\\\\n",
    "a\\cdot x &\\neq 1 \\pmod N\n",
    "\\end{split}\n",
    "$$\n",
    "In other words: If $gcd(a,b)>1$ then since $b\\cdot y$ cancelles out in $\\pmod b$, then $a\\cdot x$ also has to be greater then one. Therefore, there is no $a$ such that $a\\cdot x \\neq 1$ \n",
    "</div>"
   ]
  },
  {
   "cell_type": "markdown",
   "id": "be319452-e65c-4187-96f0-d70cffc02dd8",
   "metadata": {
    "editable": true,
    "slideshow": {
     "slide_type": "skip"
    },
    "tags": []
   },
   "source": [
    "<div style=\"background:ghostwhite\">\n",
    "\n",
    "**LEMMA:** If $gcd(a,b)=2$, then $a$ is *not* invertable $\\pmod b$\n",
    "\n",
    "**PROOF:**\n",
    "\n",
    "The result of $gcd(a,b)=2$  is even since $2$ has to devide $a$ and $b$, therefore\n",
    "$\\forall a: a\\cdot x$ is even. This would imply that $b\\cdot y$ is also even.\n",
    "To have an inverse ($x^{-1}=a$), the following relation is required to be equal one: $a\\cdot x=1$. Therefore, also the following equallity has to hold:\n",
    "$$\n",
    "a\\cdot x = b\\cdot y+1\n",
    "$$\n",
    "But since $a\\cdot x$ has to be even as well as $b\\cdot y$, then $b\\cdot y+1$ has to be odd. Since even can not equal odd it is the case that:\n",
    "$$\n",
    "a\\cdot x \\neq b\\cdot y+1\n",
    "$$\n",
    "</div>"
   ]
  },
  {
   "cell_type": "markdown",
   "id": "ad9cbb26-efa4-4cef-8082-1ad8f05864ab",
   "metadata": {
    "editable": true,
    "slideshow": {
     "slide_type": "skip"
    },
    "tags": []
   },
   "source": [
    "For more information on multiplicative inverses see wikipedia [here](https://en.wikipedia.org/wiki/Multiplicative_inverse) and [here](https://en.wikipedia.org/wiki/Modular_multiplicative_inverse)."
   ]
  },
  {
   "cell_type": "markdown",
   "id": "f2fc5cca-2ec2-44fe-87c5-324da24eeaab",
   "metadata": {
    "editable": true,
    "slideshow": {
     "slide_type": "skip"
    },
    "tags": []
   },
   "source": [
    "______"
   ]
  },
  {
   "cell_type": "markdown",
   "id": "53d7a4c7-3801-4dcf-963f-d12f08866a5e",
   "metadata": {
    "editable": true,
    "slideshow": {
     "slide_type": "slide"
    },
    "tags": []
   },
   "source": [
    "### Extended Euclidean algorithm\n",
    "\n",
    "The extended Euclidean is an extension to the Euclidean algorithm which computes the gcd of $ a $ and $ b $, *as well as* the \n",
    "coefficients of *Bézout's identity*, which are the integers $ x $ and $ y $ such that:\n",
    "\n",
    "$$ ax + by = \\gcd(a,b) $$\n",
    "\n",
    "If $ a $ and $ b $ are *coprime*, i.e., $\\gcd(a,b)=1$, then $ x $ is the **modular multiplicative inverse** of $ a \\mod b $ and \n",
    "$ y $ is the modular multiplicative inverse of $ b \\mod a $."
   ]
  },
  {
   "cell_type": "code",
   "execution_count": 93,
   "id": "f84e369f-8d3b-4342-8bb6-e5233b1f2231",
   "metadata": {
    "editable": true,
    "slideshow": {
     "slide_type": "fragment"
    },
    "tags": []
   },
   "outputs": [
    {
     "data": {
      "text/plain": [
       "(1, -7, 1)"
      ]
     },
     "execution_count": 93,
     "metadata": {},
     "output_type": "execute_result"
    }
   ],
   "source": [
    "# exteneded euclidean algorithm in sage\n",
    "xgcd(2,15) # returns (gcd,x,y)"
   ]
  },
  {
   "cell_type": "code",
   "execution_count": 94,
   "id": "6a69fe94-89cd-41f3-b032-4871a9f344f6",
   "metadata": {
    "editable": true,
    "slideshow": {
     "slide_type": "fragment"
    },
    "tags": []
   },
   "outputs": [
    {
     "data": {
      "text/plain": [
       "8"
      ]
     },
     "execution_count": 94,
     "metadata": {},
     "output_type": "execute_result"
    }
   ],
   "source": [
    "mod(-7,15) # compute x mod b to get the inverse of a mod b "
   ]
  },
  {
   "cell_type": "code",
   "execution_count": 95,
   "id": "39e358a4-2bec-4370-82bc-1c169612e0b1",
   "metadata": {
    "editable": true,
    "slideshow": {
     "slide_type": "fragment"
    },
    "tags": []
   },
   "outputs": [
    {
     "data": {
      "text/plain": [
       "8"
      ]
     },
     "execution_count": 95,
     "metadata": {},
     "output_type": "execute_result"
    }
   ],
   "source": [
    "# compute the inverse of a mod b directly in sage\n",
    "inverse_mod(2,15)"
   ]
  },
  {
   "cell_type": "code",
   "execution_count": 96,
   "id": "dec325e7-b343-4583-9ef9-ac95802ba997",
   "metadata": {
    "editable": true,
    "slideshow": {
     "slide_type": "skip"
    },
    "tags": []
   },
   "outputs": [
    {
     "data": {
      "text/plain": [
       "8"
      ]
     },
     "execution_count": 96,
     "metadata": {},
     "output_type": "execute_result"
    }
   ],
   "source": [
    "# compute the modular multiplicative inverse in python 3.8\n",
    "pow(2,-1,15)"
   ]
  },
  {
   "cell_type": "markdown",
   "id": "25185e00-103c-42ac-936e-b1d97fb0d5b5",
   "metadata": {
    "editable": true,
    "slideshow": {
     "slide_type": "subslide"
    },
    "tags": []
   },
   "source": [
    "#### Extended Euclidean algorithm complexity\n",
    "The extended euclidean algorithm can be used to compute the modular multiplicative inverse of $ a \\mod b $ in polynomial time.\n",
    "In big $\\mathcal{O}$ notation this algorithm runs in time $\\mathcal{O}(\\log_2(b))$ (assuming $a$ < $b$)."
   ]
  },
  {
   "cell_type": "markdown",
   "id": "83363db7-0ebf-4fa4-88af-d911d55befc4",
   "metadata": {
    "editable": true,
    "jp-MarkdownHeadingCollapsed": true,
    "slideshow": {
     "slide_type": "skip"
    },
    "tags": []
   },
   "source": [
    "#### Example implementation"
   ]
  },
  {
   "cell_type": "code",
   "execution_count": 97,
   "id": "f4f9397c-b338-4b3f-9709-10a7d651388c",
   "metadata": {
    "editable": true,
    "slideshow": {
     "slide_type": "skip"
    },
    "tags": []
   },
   "outputs": [],
   "source": [
    "# compute the modular multiplicative inverse python <= 3.7\n",
    "def xgcd_python(a, b):\n",
    "    if a == 0:\n",
    "        return (b, 0, 1)\n",
    "    else:\n",
    "        g, y, x = xgcd_python(b % a, a)\n",
    "        return (g, x - (b // a) * y, y)\n",
    "\n",
    "def inverse_mod_python(a, m):\n",
    "    g, x, y = xgcd_python(a, m)\n",
    "    if g != 1:\n",
    "        raise Exception('modular inverse does not exist')\n",
    "    else:\n",
    "        return x % m"
   ]
  },
  {
   "cell_type": "code",
   "execution_count": 98,
   "id": "d45365c2-fd49-4c24-bf34-15fe75b14ca7",
   "metadata": {
    "editable": true,
    "slideshow": {
     "slide_type": "skip"
    },
    "tags": []
   },
   "outputs": [],
   "source": [
    "assert inverse_mod_python(2,15) == inverse_mod(2,15)"
   ]
  },
  {
   "cell_type": "code",
   "execution_count": 99,
   "id": "fc4f1e5e-422a-40d1-9a09-1e4cd5f14061",
   "metadata": {
    "editable": true,
    "slideshow": {
     "slide_type": "skip"
    },
    "tags": []
   },
   "outputs": [],
   "source": [
    "def ext_euclide(a,b,verbose=True): \n",
    "    \"\"\" verbose implementation of the extended Euclidean algorithm \"\"\"\n",
    "    # initialize values for computing gcd(a,b):\n",
    "    r_last, r_now = a, b\n",
    "    r_next = None\n",
    "    # initialize values for computing coefficients \n",
    "    x_last, x_now = 1,0  \n",
    "    y_last, y_now = 0,1  \n",
    "    q, idx = None, 0\n",
    "    if verbose: \n",
    "        print(f\"{idx:3}:  r = {r_last:6}  q = {q or 'None':4}  x = {x_last:6}  y = {y_last:6} \")\n",
    "    \n",
    "    while r_next != 0:\n",
    "        idx += 1     \n",
    "        if r_next is not None:\n",
    "            # omit in the first round \n",
    "            r_now, x_now, y_now = r_next, x_next, y_next\n",
    "        assert r_now == x_now * a + y_now * b \n",
    "        \n",
    "        q = r_last // r_now # quotient of this round\n",
    "        if verbose: \n",
    "            print(f\"{idx:3}:  r = {r_now:6}  q = {q or 'None':4}  x = {x_now:6}  y = {y_now:6} \")\n",
    "        \n",
    "        r_next = r_last - q * r_now   \n",
    "        r_last = r_now\n",
    "        \n",
    "        x_next = x_last - q * x_now   \n",
    "        x_last = x_now\n",
    "        \n",
    "        y_next = y_last - q * y_now   \n",
    "        y_last = y_now  \n",
    "\n",
    "    if verbose: \n",
    "        print(f\"{idx+1:3}:  r = {r_next:6}  q = {q or 'None':4}  x = {x_next:6}  y = {y_next:6} \")\n",
    "    return (r_now,x_now,y_now)"
   ]
  },
  {
   "cell_type": "code",
   "execution_count": 100,
   "id": "c0f73be1-6621-43b2-89a8-31f73a75e6eb",
   "metadata": {
    "editable": true,
    "slideshow": {
     "slide_type": "skip"
    },
    "tags": []
   },
   "outputs": [
    {
     "name": "stdout",
     "output_type": "stream",
     "text": [
      "  0:  r =    240  q = None  x =      1  y =      0 \n",
      "  1:  r =     46  q =    5  x =      0  y =      1 \n",
      "  2:  r =     10  q =    4  x =      1  y =     -5 \n",
      "  3:  r =      6  q =    1  x =     -4  y =     21 \n",
      "  4:  r =      4  q =    1  x =      5  y =    -26 \n",
      "  5:  r =      2  q =    2  x =     -9  y =     47 \n",
      "  6:  r =      0  q =    2  x =     23  y =   -120 \n"
     ]
    },
    {
     "data": {
      "text/plain": [
       "(2, -9, 47)"
      ]
     },
     "execution_count": 100,
     "metadata": {},
     "output_type": "execute_result"
    }
   ],
   "source": [
    "r = ext_euclide(240,46); assert r == xgcd(240,46); r"
   ]
  },
  {
   "cell_type": "code",
   "execution_count": 101,
   "id": "864afab2-b2be-42fc-b5e5-08f9bc8c5af0",
   "metadata": {
    "editable": true,
    "slideshow": {
     "slide_type": "skip"
    },
    "tags": []
   },
   "outputs": [],
   "source": [
    "def inverse_mod_ext_euclide(element,n):\n",
    "    \"\"\" calculate modular multiplicative inverse using verbose impl. of ext_euclide \"\"\"\n",
    "    gcd,x,y = ext_euclide(element,n,verbose=False)\n",
    "    assert gcd == 1,\"given values are not coprime\"\n",
    "    return mod(x,n)"
   ]
  },
  {
   "cell_type": "code",
   "execution_count": 102,
   "id": "990d952a-d710-4346-9959-cd907897fd3c",
   "metadata": {
    "editable": true,
    "slideshow": {
     "slide_type": "skip"
    },
    "tags": []
   },
   "outputs": [
    {
     "data": {
      "text/plain": [
       "8"
      ]
     },
     "execution_count": 102,
     "metadata": {},
     "output_type": "execute_result"
    }
   ],
   "source": [
    "inverse_mod_ext_euclide(2,15)"
   ]
  },
  {
   "cell_type": "markdown",
   "id": "f47a87cf-ad0a-44ad-b8d8-69bdb689fe5e",
   "metadata": {
    "editable": true,
    "slideshow": {
     "slide_type": "slide"
    },
    "tags": []
   },
   "source": [
    "## Euler's totient function $\\varphi(n)$\n",
    "<a id='phi_n'></a>\n",
    "Eulers totient function, written as $\\varphi(n)$ or $\\phi(n)$, gives the count of integers that are relatively prime to $n$. This resembles the number of *invertable elements* in $ \\mathbb{Z}_n $, i.e., elements that have an inverse in $\\mathbb{Z}_n$.\n",
    "\n",
    "To compute the function the *prime factors* of $n$ need to be known!\n",
    "\n",
    "If there are $ r $ different prime factors of $ n $, the function $ \\varphi(n) $ can be computed as follows:\n",
    "$$\n",
    "\\varphi(n) = n \\cdot \\prod_{i=1}^{r} \\left (1 - \\frac{1}{p_i} \\right ) \n",
    "$$\n",
    "\n",
    "**Example:**\n",
    "* $ \\varphi(20)= \\varphi(2^2 \\cdot 5) = 20 \\cdot (1-\\frac{1}{2}) \\cdot (1-\\frac{1}{5}) = 20 \\cdot \\frac{1}{2} \\cdot \\frac{4}{5} = 8 $"
   ]
  },
  {
   "cell_type": "code",
   "execution_count": 103,
   "id": "d9064f11-08bb-47bf-8b9b-a2d0469d4cdc",
   "metadata": {
    "editable": true,
    "slideshow": {
     "slide_type": ""
    },
    "tags": []
   },
   "outputs": [
    {
     "data": {
      "text/plain": [
       "8"
      ]
     },
     "execution_count": 103,
     "metadata": {},
     "output_type": "execute_result"
    }
   ],
   "source": [
    "euler_phi(20) # Eulers totient function in sage"
   ]
  },
  {
   "cell_type": "markdown",
   "id": "eef4e472-a293-4d0f-9911-e154ddcf3f1e",
   "metadata": {
    "editable": true,
    "jp-MarkdownHeadingCollapsed": true,
    "slideshow": {
     "slide_type": "skip"
    },
    "tags": []
   },
   "source": [
    "#### Example implementation"
   ]
  },
  {
   "cell_type": "code",
   "execution_count": 104,
   "id": "55a3626a-66b5-494a-b849-084cc653a1ca",
   "metadata": {
    "editable": true,
    "slideshow": {
     "slide_type": "skip"
    },
    "tags": []
   },
   "outputs": [],
   "source": [
    "def eulers_phi_function(n):\n",
    "    \"\"\" verbose impl. of Euler's phi function \"\"\"\n",
    "    prime_factors = factor(n)\n",
    "    for i in prime_factors:\n",
    "        n *= (1 - 1/int(i[0]))\n",
    "    return n"
   ]
  },
  {
   "cell_type": "code",
   "execution_count": 105,
   "id": "f6c7ae79-ca84-4954-9dec-55744db3804a",
   "metadata": {
    "editable": true,
    "slideshow": {
     "slide_type": "skip"
    },
    "tags": []
   },
   "outputs": [
    {
     "data": {
      "text/plain": [
       "8"
      ]
     },
     "execution_count": 105,
     "metadata": {},
     "output_type": "execute_result"
    }
   ],
   "source": [
    "eulers_phi_function(20)"
   ]
  },
  {
   "cell_type": "markdown",
   "id": "7647e3ac-55ee-4565-8205-8e29f37747c3",
   "metadata": {
    "editable": true,
    "slideshow": {
     "slide_type": "slide"
    },
    "tags": []
   },
   "source": [
    "### Euler's totient function when $n \\in \\textrm{Primes}$\n",
    "If $n=p \\in \\textrm{Primes}$ this implies that the group of elements in $\\mathbb{Z}_p$ which have a multiplicative inverse modulo $ p $, i.e., the group $\\mathbb{Z}^*_p$, has $p-1$ elements, i.e.,  $|\\mathbb{Z}^*_p|=p-1$ since:\n",
    " + all integers from $1$ to $p$ have to be relatively prime to $p$, the only exeception is $0$, since $gcd(0,p)=0$. Therefore this element needs to be removed. \n",
    " + for all other numbers in the set it holds that, per defintion of a prime number it is not devisable by any other number than 1. \n",
    "$$\n",
    "\\mathbb{Z}^*_p = \\mathbb{Z}_p / \\{0\\} = \\{1,2,...,p-1\\} \\qquad \\textrm{if } n \\in \\textrm{Primes}\n",
    "$$\n",
    "\n",
    "In other words: Despite $0$ every other element in $\\mathbb{Z}_p$ is invertable"
   ]
  },
  {
   "cell_type": "markdown",
   "id": "9a773af6-67d8-47c8-99f2-107bf02fc9d7",
   "metadata": {
    "editable": true,
    "slideshow": {
     "slide_type": "fragment"
    },
    "tags": []
   },
   "source": [
    "**Example:** If $N=7$ then $ \\mathbb{Z}^*_p = \\{ 1,2,3,4,5,6,7 \\} $"
   ]
  },
  {
   "cell_type": "code",
   "execution_count": 106,
   "id": "3062658c-464b-45c9-a6ac-85c465559d2a",
   "metadata": {
    "editable": true,
    "slideshow": {
     "slide_type": ""
    },
    "tags": []
   },
   "outputs": [
    {
     "data": {
      "text/plain": [
       "6"
      ]
     },
     "execution_count": 106,
     "metadata": {},
     "output_type": "execute_result"
    }
   ],
   "source": [
    "euler_phi(7)"
   ]
  },
  {
   "cell_type": "markdown",
   "id": "a39ee86a-e467-4fc7-995b-d6436f599bf7",
   "metadata": {
    "editable": true,
    "slideshow": {
     "slide_type": "slide"
    },
    "tags": []
   },
   "source": [
    "#### Visualization of Euler's totient function when $n \\in \\textrm{Primes}$"
   ]
  },
  {
   "cell_type": "code",
   "execution_count": 107,
   "id": "66689037-9e84-441c-9ac3-c8c62f896abf",
   "metadata": {
    "editable": true,
    "jupyter": {
     "source_hidden": true
    },
    "slideshow": {
     "slide_type": "skip"
    },
    "tags": []
   },
   "outputs": [
    {
     "data": {
      "image/png": "[encoded data removed]",
      "text/plain": [
       "<Figure size 960x480 with 1 Axes>"
      ]
     },
     "metadata": {
      "needs_background": "light"
     },
     "output_type": "display_data"
    }
   ],
   "source": [
    "import matplotlib.pyplot as plt\n",
    "n=1000\n",
    "primes_up_to_n = list()\n",
    "euler_phi_result_for_prime = list()\n",
    "for i in range(1,n+1):\n",
    "    if euler_phi(i) == i-1:\n",
    "        primes_up_to_n.append(i)\n",
    "        euler_phi_result_for_prime.append(euler_phi(i))\n",
    "plt.figure(figsize=(12, 6), dpi=80)\n",
    "plt.title(f\"Euler's totient function for each n up to {n}\")\n",
    "plt.xlabel('n')\n",
    "plt.ylabel('$\\\\varphi(n)$')\n",
    "plt.plot([int(euler_phi(i)) for i in range(1,n)], 'b.')\n",
    "plt.plot(primes_up_to_n,euler_phi_result_for_prime, 'r.')\n",
    "plt.savefig(\"./figures/phi_n.png\")\n",
    "#plt.show()"
   ]
  },
  {
   "cell_type": "markdown",
   "id": "175cbafa-418a-438a-ad27-c015c44358ba",
   "metadata": {
    "editable": true,
    "slideshow": {
     "slide_type": ""
    },
    "tags": []
   },
   "source": [
    "<p style=\"text-align:center\">\n",
    "<img src=\"./figures/phi_n.png\" alt=\"phi of n when n prime\" width=\"800\">\n",
    "</p>\n",
    "<p style=\"text-align:center;font-size:10px\">\n",
    "Phi of n, when n is prime the dot is colored red\n",
    "</p>"
   ]
  },
  {
   "cell_type": "markdown",
   "id": "5492328b-7fad-4a7e-b78c-b198e2a0617f",
   "metadata": {
    "editable": true,
    "slideshow": {
     "slide_type": "slide"
    },
    "tags": []
   },
   "source": [
    "### Euler's totient function when $n=pq$ and $p,q \\in \\textrm{Primes}$\n",
    "If $n$ is a product of two *distinct primes* $p$ and $q$, then the number of elements in $\\mathbb{Z}_n^*$, denoted by $|\\mathbb{Z}^*_n|$, is given by: \n",
    "$$\n",
    "\\begin{align*}\n",
    "\\varphi(n)&=(p-1)(q-1) \\\\\n",
    "\\end{align*}\n",
    "$$\n",
    "* In this case $p$ and $q$ are approx. the size of $\\sqrt{n}$, i.e., $p,q \\approx \\sqrt{n}$\n",
    "* In this case also $\\varphi(n)$ is close to the size of $n$ since \n",
    "$$\n",
    "\\begin{align*}\n",
    "\\varphi(n) &= (p-1)(q-1) \\\\\n",
    "&= n - p - q + 1 \\\\\n",
    "&\\approx n - 2 \\cdot \\sqrt{n} \\\\\n",
    "&\\approx n \n",
    "\\end{align*}\n",
    "$$\n",
    "* Therefore if you pick a random element in in $\\mathbb{Z}_n$, where $n=pq$ and $p,q \\in \\textrm{Primes}$ it is very likely to be invertable. "
   ]
  },
  {
   "cell_type": "markdown",
   "id": "02fd08ba-3672-459c-9ec1-734d924f82d4",
   "metadata": {
    "editable": true,
    "slideshow": {
     "slide_type": "subslide"
    },
    "tags": []
   },
   "source": [
    "#### Euler's totient function when $n=pq$ and $p,q \\in \\textrm{Primes}$"
   ]
  },
  {
   "cell_type": "markdown",
   "id": "98c22f4f-342f-4715-ac6f-865a06c2fc37",
   "metadata": {
    "editable": true,
    "slideshow": {
     "slide_type": ""
    },
    "tags": []
   },
   "source": [
    "**Examples:** \n",
    "\n",
    "If $p=3$ and $q=5$ then $n=15$ and $ \\mathbb{Z}^*_n = \\{ 1,2,4,7,8,11,13,14 \\} $ and $|\\mathbb{Z}^*_n| = 8 $"
   ]
  },
  {
   "cell_type": "code",
   "execution_count": 108,
   "id": "903e866e-bbc1-471d-8b69-eab2de81503f",
   "metadata": {
    "editable": true,
    "slideshow": {
     "slide_type": "fragment"
    },
    "tags": []
   },
   "outputs": [
    {
     "name": "stdout",
     "output_type": "stream",
     "text": [
      "n = 1022117\n"
     ]
    }
   ],
   "source": [
    "# other larger example:\n",
    "p=1009; assert p in Primes(); \n",
    "q=1013; assert q in Primes(); \n",
    "n=p*q; print(f\"n = {n}\")"
   ]
  },
  {
   "cell_type": "code",
   "execution_count": 109,
   "id": "189e1a08-0acf-4dac-abac-52aa81b35a67",
   "metadata": {
    "editable": true,
    "slideshow": {
     "slide_type": ""
    },
    "tags": []
   },
   "outputs": [
    {
     "data": {
      "text/plain": [
       "True"
      ]
     },
     "execution_count": 109,
     "metadata": {},
     "output_type": "execute_result"
    }
   ],
   "source": [
    "n not in Primes()"
   ]
  },
  {
   "cell_type": "code",
   "execution_count": 110,
   "id": "e6350031-4b6e-4f2c-975a-9216cfa750b9",
   "metadata": {
    "editable": true,
    "slideshow": {
     "slide_type": "fragment"
    },
    "tags": []
   },
   "outputs": [
    {
     "data": {
      "text/plain": [
       "1020096"
      ]
     },
     "execution_count": 110,
     "metadata": {},
     "output_type": "execute_result"
    }
   ],
   "source": [
    "assert euler_phi(n) == (p-1)*(q-1) # Number of invertable elements $\\varphi(n)$\n",
    "(p-1)*(q-1) # almost as large as n "
   ]
  },
  {
   "cell_type": "markdown",
   "id": "a6d82044-87ac-4979-9221-4bf7d30ccd8f",
   "metadata": {
    "editable": true,
    "slideshow": {
     "slide_type": "slide"
    },
    "tags": []
   },
   "source": [
    "#### Visualization of Euler's totient function when $n = pq$ and $p,q \\in \\textrm{Primes}$"
   ]
  },
  {
   "cell_type": "code",
   "execution_count": 111,
   "id": "9e381b05-fea9-4385-a37a-64a886b5a49d",
   "metadata": {
    "editable": true,
    "jupyter": {
     "source_hidden": true
    },
    "slideshow": {
     "slide_type": "skip"
    },
    "tags": []
   },
   "outputs": [
    {
     "data": {
      "image/png": "[encoded data removed]",
      "text/plain": [
       "<Figure size 960x480 with 1 Axes>"
      ]
     },
     "metadata": {
      "needs_background": "light"
     },
     "output_type": "display_data"
    }
   ],
   "source": [
    "import matplotlib.pyplot as plt\n",
    "n=1000\n",
    "two_prime_factors = list()\n",
    "euler_phi_result_for_two_factors = list()\n",
    "for i in range(1,n+1):\n",
    "    factors = factor(i)\n",
    "    if len(factors) == 2:\n",
    "        two_prime_factors.append(i)\n",
    "        euler_phi_result_for_two_factors.append(euler_phi(i))\n",
    "plt.figure(figsize=(12, 6), dpi=80)\n",
    "plt.title(f\"Euler's totient function for each n up to {n}\")\n",
    "plt.xlabel('n')\n",
    "plt.ylabel('$\\\\varphi(n)$')\n",
    "plt.plot([int(euler_phi(i)) for i in range(1,n)], 'b.')\n",
    "plt.plot(two_prime_factors,euler_phi_result_for_two_factors, 'r.')\n",
    "plt.savefig(\"./figures/phi_pq.png\")\n",
    "#plt.show()"
   ]
  },
  {
   "cell_type": "markdown",
   "id": "96c90da7-36de-4bf1-85bf-b1b2e8b7d53f",
   "metadata": {
    "editable": true,
    "slideshow": {
     "slide_type": ""
    },
    "tags": []
   },
   "source": [
    "<p style=\"text-align:center\">\n",
    "<img src=\"./figures/phi_pq.png\" alt=\"phi of n when n prime\" width=\"800\">\n",
    "</p>\n",
    "<p style=\"text-align:center;font-size:10px\">\n",
    "Phi of n, when n is the product of two primes the dot is colored red\n",
    "</p>"
   ]
  },
  {
   "cell_type": "markdown",
   "id": "ef68712e-6a16-44e8-b868-27f85512c658",
   "metadata": {
    "editable": true,
    "slideshow": {
     "slide_type": "skip"
    },
    "tags": []
   },
   "source": [
    "______"
   ]
  },
  {
   "cell_type": "markdown",
   "id": "ac26920b-6921-4648-b084-57ffa771e0fe",
   "metadata": {
    "editable": true,
    "jp-MarkdownHeadingCollapsed": true,
    "slideshow": {
     "slide_type": "skip"
    },
    "tags": []
   },
   "source": [
    "### Euler's theorem"
   ]
  },
  {
   "cell_type": "markdown",
   "id": "8de642b0-d9e1-4546-bd97-e4f480b8b13e",
   "metadata": {
    "editable": true,
    "slideshow": {
     "slide_type": "skip"
    },
    "tags": []
   },
   "source": [
    "As an alternative to the extended Euclidean algorithm, Euler's theorem may be used to compute modular multiplicative inverses [[cf.](https://en.wikipedia.org/wiki/Modular_multiplicative_inverse)]. \n",
    "\n",
    "Euler's theorem states that, if $x$ is *coprime* to $ n $, i.e., $\\gcd(x,n)=1$ then:\n",
    "$$\n",
    "x^{\\varphi(n)} \\equiv 1 \\pmod n \n",
    "$$\n",
    "Here $\\varphi(n)$ denotes the Euler's totient function. "
   ]
  },
  {
   "cell_type": "markdown",
   "id": "e46d4a9c-b49b-442c-9986-9f1c34e130cc",
   "metadata": {
    "editable": true,
    "slideshow": {
     "slide_type": "skip"
    },
    "tags": []
   },
   "source": [
    "Therefore a *modular multicative inverse* can be found directly \n",
    "$$\n",
    "x ^{\\varphi(n)-1} \\equiv x^{-1} \\pmod n\n",
    "$$\n",
    "In the special case where $ n \\in \\textrm{Primes}$, $\\varphi(n) = n-1 $ a modular multiplicative inverse is given by:\n",
    "$$\n",
    "x^{-1} \\equiv x^{n-2} \\pmod n\n",
    "$$\n",
    "The disadvantages of this method are:\n",
    "* That the value $\\varphi(n)$ must be known (which requires knowing the factors of $n$).\n",
    "* The computational cost of exponentiation.\n",
    "> One notable advantage of this technique is that there are no conditional branches which depend on the value of a, and thus the value of a, which may be an important secret in public-key cryptography, can be protected from side-channel attacks. For this reason, the standard implementation of Curve25519 uses this technique to compute an inverse.\n",
    "\n",
    "<p style=\"text-align:right;font-size:10px\">\n",
    "<a href=\"https://en.wikipedia.org/wiki/Modular_multiplicative_inverse\">(source)</a>\n",
    "</p>\n"
   ]
  },
  {
   "cell_type": "code",
   "execution_count": 112,
   "id": "b0bf62d6-5ab6-4ef5-aa1c-49314fcce107",
   "metadata": {
    "editable": true,
    "slideshow": {
     "slide_type": "skip"
    },
    "tags": []
   },
   "outputs": [],
   "source": [
    "bits=32\n",
    "p = random_prime(2**bits-1, proof=proof, lbound=2**(bits-1))\n",
    "q = random_prime(2**bits-1, proof=proof, lbound=2**(bits-1))\n",
    "n=p*q\n",
    "phi_n=(p-1)*(q-1)"
   ]
  },
  {
   "cell_type": "code",
   "execution_count": 113,
   "id": "bae4a421-462c-41a6-b400-52f226687710",
   "metadata": {
    "editable": true,
    "slideshow": {
     "slide_type": "skip"
    },
    "tags": []
   },
   "outputs": [],
   "source": [
    "Zn = Integers(n)"
   ]
  },
  {
   "cell_type": "code",
   "execution_count": 114,
   "id": "4ca56d51-e8b8-4025-91fd-609332e8c4a8",
   "metadata": {
    "editable": true,
    "slideshow": {
     "slide_type": "skip"
    },
    "tags": []
   },
   "outputs": [
    {
     "data": {
      "text/plain": [
       "2902340178391946541"
      ]
     },
     "execution_count": 114,
     "metadata": {},
     "output_type": "execute_result"
    }
   ],
   "source": [
    "x = Zn.random_element(); x"
   ]
  },
  {
   "cell_type": "code",
   "execution_count": 115,
   "id": "d8d20829-a04a-4605-bc23-33974651a2ee",
   "metadata": {
    "editable": true,
    "slideshow": {
     "slide_type": "skip"
    },
    "tags": []
   },
   "outputs": [
    {
     "data": {
      "text/plain": [
       "4696244591587495893"
      ]
     },
     "execution_count": 115,
     "metadata": {},
     "output_type": "execute_result"
    }
   ],
   "source": [
    "_x = Zn(x^(phi_n-1)); _x"
   ]
  },
  {
   "cell_type": "code",
   "execution_count": 116,
   "id": "9add0ee0-cfbc-4915-bf93-a42b92d5010a",
   "metadata": {
    "editable": true,
    "slideshow": {
     "slide_type": "skip"
    },
    "tags": []
   },
   "outputs": [
    {
     "data": {
      "text/plain": [
       "4696244591587495893"
      ]
     },
     "execution_count": 116,
     "metadata": {},
     "output_type": "execute_result"
    }
   ],
   "source": [
    "_x = x**(phi_n-1) % n; _x # plain python"
   ]
  },
  {
   "cell_type": "code",
   "execution_count": 117,
   "id": "97b088e9-a898-4521-8cf7-fa4984e53f59",
   "metadata": {
    "editable": true,
    "slideshow": {
     "slide_type": "skip"
    },
    "tags": []
   },
   "outputs": [],
   "source": [
    "assert Zn(x * _x)  == 1"
   ]
  },
  {
   "cell_type": "markdown",
   "id": "a0f1dd04-28d7-4eb0-a206-9cb9916c43d9",
   "metadata": {
    "editable": true,
    "slideshow": {
     "slide_type": "skip"
    },
    "tags": []
   },
   "source": [
    "From Euler's theorem it also follows that, for all elements in a multiplicative group $\\mathbb{Z}^*_n$, where all elements are coprime to $ n $ (and thus invertable), any elmented raised to $\\varphi(n)$ will yield the multiplicative identity element, i.e., $1$\n",
    "$$\n",
    "\\forall x \\in \\mathbb{Z}^*_n: x^{\\varphi(n)} \\equiv 1 \\pmod{\\mathbb{Z}_n}\n",
    "$$\n",
    "\n",
    "**Example:**\n",
    "$$\n",
    "4^{\\varphi(15)} = 4^8 = 32 = 1 \\pmod{ \\mathbb{Z}_{15} }\n",
    "$$"
   ]
  },
  {
   "cell_type": "markdown",
   "id": "1aaf4b30-b97e-4da9-8880-2ad1a5aabf77",
   "metadata": {
    "editable": true,
    "raw_mimetype": "",
    "slideshow": {
     "slide_type": "skip"
    },
    "tags": []
   },
   "source": [
    "_____"
   ]
  },
  {
   "cell_type": "markdown",
   "id": "d047b955-ef43-4264-9b3d-0d5da72b4e30",
   "metadata": {
    "editable": true,
    "slideshow": {
     "slide_type": "slide"
    },
    "tags": []
   },
   "source": [
    "## Group \n",
    "<a id='group'></a>\n",
    "<div style=\"background:azure\">\n",
    "    \n",
    "**DEFINITION: Group** (according to [[ITMC](https://www.cs.umd.edu/~jkatz/imc.html)]):\n",
    "\n",
    "A group is a set $ \\mathbb{G} $ along with a binary operation $ \\circ $ for the the following conditions hold:   \n",
    "* **Closure:** For all $g,h \\in \\mathbb{G}, g \\circ h \\in \\mathbb{G} $\n",
    "* **Existence of an idenity**: There exists and identity $ e \\in \\mathbb{G} $ such that for all $ g \\in \\mathbb{G}, e \\circ g = g = g \\circ e $\n",
    "* **Existence of inverse:** For all $ g \\in \\mathbb{G} $ there exists an element $ h \\in \\mathbb{G} $ such that $ g \\circ h = e = h \\circ g $. Such an $ h $ is called and inverse of $ g $. \n",
    "* **Associativity:** For all $ g_1,g_2,g_3 \\in \\mathbb{G}, (g_1 \\circ g_2) \\circ g_3 = g_1 \\circ (g_2 \\circ g_3)$\n",
    "\n",
    "A group $ \\mathbb{G} $ with operation $\\circ$ is *abelian* if the follwing holds:\n",
    "* **Commutativity:** For all $ g,h \\in \\mathbb{G}$, $g \\circ h = h \\circ g $\n",
    "\n",
    "When $ \\mathbb{G} $ has a finite number of elements, we say $ \\mathbb{G} $ is *finite* and let $ | \\mathbb{G} | $ denote the *order* of the group i.e., the number of elements in $ \\mathbb{G} $. \n",
    "\n",
    "If $ \\mathbb{G} $ is a group, a set $ \\mathbb{H} \\subseteq \\mathbb{G}$ is a *subgroup* of $ \\mathbb{G} $ if $ \\mathbb{ H } $ iteself forms a group under the same operation associated with $ \\mathbb{G} $. Every group $ \\mathbb{G} $ has the trivial subgroups $ \\mathbb{G} $ and $ \\{e\\} $. \n",
    "\n",
    "</div>    "
   ]
  },
  {
   "cell_type": "markdown",
   "id": "a20da84e-4903-4737-93f9-a41353a2e3a7",
   "metadata": {
    "editable": true,
    "slideshow": {
     "slide_type": "subslide"
    },
    "tags": []
   },
   "source": [
    "### Additive and multiplicative notation for the group operation $\\circ$\n",
    "\n",
    "**Additive notation**:    \n",
    "* group operation with two elements $ g + h $\n",
    "* identity: $ 0 $ \n",
    "* inverse of element $g$ is given by $ -g $\n",
    "\n",
    "**Multiplicative notation**:\n",
    "* group operation with two elements $ g \\cdot h $ or $ gh $\n",
    "* identity: $ 1 $\n",
    "* inverse of element $g$ is given by $ g^{-1} $ or $ 1/g $ or $ h/g $ instead of $ hg^{-1} $"
   ]
  },
  {
   "cell_type": "markdown",
   "id": "8ac4f4a5-1a05-4e60-b2ec-4614038977fc",
   "metadata": {
    "editable": true,
    "slideshow": {
     "slide_type": "slide"
    },
    "tags": []
   },
   "source": [
    "### Properties of groups\n",
    "* A group is called *cyclic*, if there is a generator $g \\in G$, such that for each $x \\in G$, there is an integer $i$ where $x=g^i$.\n",
    "* The *order* of a finite group is the number of its elements i.e., $|G|$.\n",
    "    + A group is called *finite*, if $|G|$ (its order) is finite.\n",
    "* The *order* of a element $a$ of the group is the smallest integer $r$ such that, $a^r=e$ where $e$ is defined as identity element of the group. If no such $r$ exists the element $a$ has an infinite order."
   ]
  },
  {
   "cell_type": "markdown",
   "id": "dca031d1-10eb-4232-9f66-9e2b8cb84970",
   "metadata": {
    "editable": true,
    "slideshow": {
     "slide_type": "slide"
    },
    "tags": []
   },
   "source": [
    "### Examples for groups"
   ]
  },
  {
   "cell_type": "markdown",
   "id": "d8ec4a56-7010-43c6-a516-7fb6a3056b41",
   "metadata": {
    "editable": true,
    "slideshow": {
     "slide_type": ""
    },
    "tags": []
   },
   "source": [
    "* The set of integers $\\mathbb{Z}$ with the operation of addition ($+$), where the identity element would be $e=0$ and the inverse of an element would be the negative integer."
   ]
  },
  {
   "cell_type": "markdown",
   "id": "0aa94193-2b0c-4fbb-9bd7-2d661df9611e",
   "metadata": {
    "editable": true,
    "slideshow": {
     "slide_type": "fragment"
    },
    "tags": []
   },
   "source": [
    "* This set is a *abelian group* with infinite order."
   ]
  },
  {
   "cell_type": "code",
   "execution_count": 118,
   "id": "b0df8d9f-5758-4392-a580-e44f212d3ed0",
   "metadata": {
    "editable": true,
    "slideshow": {
     "slide_type": "fragment"
    },
    "tags": []
   },
   "outputs": [
    {
     "data": {
      "text/plain": [
       "True"
      ]
     },
     "execution_count": 118,
     "metadata": {},
     "output_type": "execute_result"
    }
   ],
   "source": [
    "# Closure example:\n",
    "g=3; h=7 # some elements in Z \n",
    "g in Z and h in Z and g+h in Z"
   ]
  },
  {
   "cell_type": "code",
   "execution_count": 119,
   "id": "74f6df32-4f97-4636-a68b-2158df5a28d2",
   "metadata": {
    "editable": true,
    "slideshow": {
     "slide_type": "fragment"
    },
    "tags": []
   },
   "outputs": [
    {
     "data": {
      "text/plain": [
       "True"
      ]
     },
     "execution_count": 119,
     "metadata": {},
     "output_type": "execute_result"
    }
   ],
   "source": [
    "# Idenity example:\n",
    "g=3; e=0 # identity element \n",
    "e + g == g == g + e "
   ]
  },
  {
   "cell_type": "code",
   "execution_count": 120,
   "id": "11b27046-3f86-4467-9218-8f18c7cfa0b0",
   "metadata": {
    "editable": true,
    "slideshow": {
     "slide_type": "slide"
    },
    "tags": []
   },
   "outputs": [
    {
     "data": {
      "text/plain": [
       "True"
      ]
     },
     "execution_count": 120,
     "metadata": {},
     "output_type": "execute_result"
    }
   ],
   "source": [
    "# Inverse example: \n",
    "g=3; _g=-3 # inverse of g\n",
    "g + _g == e == _g + g"
   ]
  },
  {
   "cell_type": "code",
   "execution_count": 121,
   "id": "d2870788-ce6b-4447-a880-d2f1ec6ac7b7",
   "metadata": {
    "editable": true,
    "slideshow": {
     "slide_type": "fragment"
    },
    "tags": []
   },
   "outputs": [
    {
     "data": {
      "text/plain": [
       "True"
      ]
     },
     "execution_count": 121,
     "metadata": {},
     "output_type": "execute_result"
    }
   ],
   "source": [
    "# Associativity example:\n",
    "g1=3; g2=7; g3=23\n",
    "(g1 + g2) + g3 == g1 + (g2 + g3)"
   ]
  },
  {
   "cell_type": "code",
   "execution_count": 122,
   "id": "54f6ed3d-b903-48eb-8462-befde61acec4",
   "metadata": {
    "editable": true,
    "slideshow": {
     "slide_type": "fragment"
    },
    "tags": []
   },
   "outputs": [
    {
     "data": {
      "text/plain": [
       "True"
      ]
     },
     "execution_count": 122,
     "metadata": {},
     "output_type": "execute_result"
    }
   ],
   "source": [
    "# Commutativity example:\n",
    "g=3; h=7\n",
    "g + h == h + g"
   ]
  },
  {
   "cell_type": "markdown",
   "id": "eb8360d1-57df-4f5b-92e0-7fcccfaa9fde",
   "metadata": {
    "editable": true,
    "slideshow": {
     "slide_type": "skip"
    },
    "tags": []
   },
   "source": [
    "### Examples for groups"
   ]
  },
  {
   "cell_type": "markdown",
   "id": "539433a7-a45d-4864-9cad-820ceece4046",
   "metadata": {
    "editable": true,
    "slideshow": {
     "slide_type": "skip"
    },
    "tags": []
   },
   "source": [
    "* The set of integers $\\mathbb{Z}$ with the operation of multiplication ($*$) is *not* a *group* since not every element has an inverse in the integers. The identity element would be $e=1$, but $ 2 $ for example has no inverse in the integers, as $ 2 \\cdot \\frac{1}{2} = 1 $, but $\\frac{1}{2} \\notin \\mathbb{Z}$. "
   ]
  },
  {
   "cell_type": "markdown",
   "id": "ddcd0cfe-e0d1-4d54-bf3b-b60f38ed9025",
   "metadata": {
    "editable": true,
    "slideshow": {
     "slide_type": "skip"
    },
    "tags": []
   },
   "source": [
    "* The set of real numbers $\\mathbb{R}$ under the operation of multiplication ($*$) is *not* a *group* since $0$ does not have an inverse. \n",
    "\n",
    "* The set of real numbers $\\mathbb{R}$ without $zero$ under the operation of multiplication ($*$) is a *group* with the idenity $1$. "
   ]
  },
  {
   "cell_type": "markdown",
   "id": "dc0c6b4e-f5f6-431f-9a87-1eb1f9f3a964",
   "metadata": {
    "editable": true,
    "slideshow": {
     "slide_type": "slide"
    },
    "tags": []
   },
   "source": [
    "### Examples for groups"
   ]
  },
  {
   "cell_type": "markdown",
   "id": "bffef093-b7a6-4eea-9cdc-4854a1e94554",
   "metadata": {
    "editable": true,
    "slideshow": {
     "slide_type": ""
    },
    "tags": []
   },
   "source": [
    "* The set set of integers modulo $ n $, i.e., $ \\mathbb{Z}_n $, where $ n > 1 $,  is a *abelian group* under the operation of addition ($+$) modulo $ n $, i.e., $ a + b := [ a + b \\mod n ] $. This group can also be denoted as $\\mathbb{Z}^+_n $. The order of this group is $ n $, with the elements $ \\{ 0, ..., n - 1 \\} $. The inverse of any element $ a $ is $ [(n-a) \\mod n] $"
   ]
  },
  {
   "cell_type": "code",
   "execution_count": 123,
   "id": "49c5cfd2-4eda-449c-aea5-8ae32a81919b",
   "metadata": {
    "editable": true,
    "slideshow": {
     "slide_type": "fragment"
    },
    "tags": []
   },
   "outputs": [
    {
     "data": {
      "text/plain": [
       "Ring of integers modulo 15"
      ]
     },
     "execution_count": 123,
     "metadata": {},
     "output_type": "execute_result"
    }
   ],
   "source": [
    "n=15; Zn = Integers(n); Zn"
   ]
  },
  {
   "cell_type": "code",
   "execution_count": 124,
   "id": "a0b2f2b0-a351-4229-a285-0b15e14c7999",
   "metadata": {
    "editable": true,
    "slideshow": {
     "slide_type": "skip"
    },
    "tags": []
   },
   "outputs": [
    {
     "data": {
      "text/plain": [
       "Additive abelian group isomorphic to Z/15"
      ]
     },
     "execution_count": 124,
     "metadata": {},
     "output_type": "execute_result"
    }
   ],
   "source": [
    "# alternative way to define an additive group Z_n \n",
    "Zn_add = AdditiveAbelianGroup([n]); Zn_add"
   ]
  },
  {
   "cell_type": "code",
   "execution_count": 125,
   "id": "23744d27-00fc-49b7-9dae-2b5a3ae74de7",
   "metadata": {
    "editable": true,
    "slideshow": {
     "slide_type": "fragment"
    },
    "tags": []
   },
   "outputs": [
    {
     "name": "stdout",
     "output_type": "stream",
     "text": [
      "Z_n order = 15\n",
      "Z_n list  = [0, 1, 2, 3, 4, 5, 6, 7, 8, 9, 10, 11, 12, 13, 14]\n"
     ]
    }
   ],
   "source": [
    "print(f\"Z_n order = {Zn.order()}\\nZ_n list  = {Zn.list()}\")"
   ]
  },
  {
   "cell_type": "code",
   "execution_count": 126,
   "id": "ffea98be-d9da-423b-a95a-e360cc92e6f2",
   "metadata": {
    "editable": true,
    "slideshow": {
     "slide_type": "skip"
    },
    "tags": []
   },
   "outputs": [
    {
     "name": "stdout",
     "output_type": "stream",
     "text": [
      "Zn_add order = 15\n",
      "Zn_add list  = [(0), (1), (2), (3), (4), (5), (6), (7), (8), (9), (10), (11), (12), (13), (14)]\n"
     ]
    }
   ],
   "source": [
    "print(f\"Zn_add order = {Zn_add.order()}\\nZn_add list  = {Zn_add.list()}\")"
   ]
  },
  {
   "cell_type": "code",
   "execution_count": 127,
   "id": "4f6fa6df-80ef-424b-ac77-1bcfc0a695f2",
   "metadata": {
    "editable": true,
    "slideshow": {
     "slide_type": "slide"
    },
    "tags": []
   },
   "outputs": [
    {
     "name": "stdout",
     "output_type": "stream",
     "text": [
      "g = 0; h = 6\n"
     ]
    }
   ],
   "source": [
    "g = Zn.random_element(); h = Zn.random_element()\n",
    "print(f\"g = {g}; h = {h}\")"
   ]
  },
  {
   "cell_type": "code",
   "execution_count": 128,
   "id": "b8e9737f-1041-4435-9af9-6849b60c17de",
   "metadata": {
    "editable": true,
    "slideshow": {
     "slide_type": "fragment"
    },
    "tags": []
   },
   "outputs": [
    {
     "data": {
      "text/plain": [
       "True"
      ]
     },
     "execution_count": 128,
     "metadata": {},
     "output_type": "execute_result"
    }
   ],
   "source": [
    "# Closure example:\n",
    "g = Zn.random_element(); h = Zn.random_element()\n",
    "g in Zn and h in Zn and g+h in Zn"
   ]
  },
  {
   "cell_type": "code",
   "execution_count": 129,
   "id": "3d414917-31fa-47df-921a-9f395dccc698",
   "metadata": {
    "editable": true,
    "slideshow": {
     "slide_type": "fragment"
    },
    "tags": []
   },
   "outputs": [
    {
     "data": {
      "text/plain": [
       "True"
      ]
     },
     "execution_count": 129,
     "metadata": {},
     "output_type": "execute_result"
    }
   ],
   "source": [
    "# Idenity element 0 in Zn under addition:\n",
    "g = Zn.random_element(); e=Zn(0) \n",
    "e + g == g == g + e "
   ]
  },
  {
   "cell_type": "code",
   "execution_count": 130,
   "id": "fc42e875-5bf0-4337-8483-37273f1ac54e",
   "metadata": {
    "editable": true,
    "slideshow": {
     "slide_type": "fragment"
    },
    "tags": []
   },
   "outputs": [
    {
     "data": {
      "text/plain": [
       "True"
      ]
     },
     "execution_count": 130,
     "metadata": {},
     "output_type": "execute_result"
    }
   ],
   "source": [
    "# Inverse of g mod n under addition is always n-g = g^-1 \n",
    "# as g + (n-g) mod n = 0 \n",
    "g = Zn.random_element(); _g=Zn(n-g) # inverse of g mod n \n",
    "g + _g == e == _g + g"
   ]
  },
  {
   "cell_type": "code",
   "execution_count": 131,
   "id": "066b3be6-7c60-4dda-8701-dcd97aaea8ca",
   "metadata": {
    "editable": true,
    "slideshow": {
     "slide_type": "slide"
    },
    "tags": []
   },
   "outputs": [
    {
     "data": {
      "text/plain": [
       "True"
      ]
     },
     "execution_count": 131,
     "metadata": {},
     "output_type": "execute_result"
    }
   ],
   "source": [
    "# Associativity example:\n",
    "g1=Zn.random_element(); g2=Zn.random_element(); g3=Zn.random_element()\n",
    "(g1 + g2) + g3 == g1 + (g2 + g3)"
   ]
  },
  {
   "cell_type": "code",
   "execution_count": 132,
   "id": "2b0b41dd-8d8e-499d-ae6c-907983d52ff1",
   "metadata": {
    "editable": true,
    "slideshow": {
     "slide_type": "fragment"
    },
    "tags": []
   },
   "outputs": [
    {
     "data": {
      "text/plain": [
       "True"
      ]
     },
     "execution_count": 132,
     "metadata": {},
     "output_type": "execute_result"
    }
   ],
   "source": [
    "# Commutativity example:\n",
    "g = Zn.random_element(); h = Zn.random_element()\n",
    "g + h == h + g"
   ]
  },
  {
   "cell_type": "code",
   "execution_count": 133,
   "id": "f4b8203b-2a99-4ec2-8509-b30a20c6d04b",
   "metadata": {
    "editable": true,
    "slideshow": {
     "slide_type": "skip"
    },
    "tags": []
   },
   "outputs": [
    {
     "data": {
      "text/plain": [
       "{'(1)': (1)}"
      ]
     },
     "execution_count": 133,
     "metadata": {},
     "output_type": "execute_result"
    }
   ],
   "source": [
    "# Generator of Zn under addition, therefore the group is also cyclic \n",
    "Zn_add.gens_dict()"
   ]
  },
  {
   "cell_type": "code",
   "execution_count": 134,
   "id": "050a2bd0-dd6b-4fe8-b33f-5d68a183a285",
   "metadata": {
    "editable": true,
    "slideshow": {
     "slide_type": "skip"
    },
    "tags": []
   },
   "outputs": [
    {
     "data": {
      "text/plain": [
       "[1, 2, 3, 4, 5, 6, 7, 8, 9, 10, 11, 12, 13, 14, 0, 1]"
      ]
     },
     "execution_count": 134,
     "metadata": {},
     "output_type": "execute_result"
    }
   ],
   "source": [
    "g=Zn(1) # generator \n",
    "group=list()\n",
    "for i in range(0,n+1):\n",
    "    group.append(Zn(g+i))\n",
    "group"
   ]
  },
  {
   "cell_type": "markdown",
   "id": "237313a2-fb34-4cb3-836b-54c1f8cce035",
   "metadata": {
    "editable": true,
    "slideshow": {
     "slide_type": "slide"
    },
    "tags": []
   },
   "source": [
    "### Examples for groups"
   ]
  },
  {
   "cell_type": "markdown",
   "id": "cb7aec48-fef9-4ae6-a484-5a0645745ff1",
   "metadata": {
    "editable": true,
    "slideshow": {
     "slide_type": ""
    },
    "tags": []
   },
   "source": [
    "* $ \\mathbb{Z}_n^* $ is *not* a *group* with operation $ a \\cdot b \\mod n $ being multiplication modulo $ n $, where $ n \\notin \\textrm{Primes}$.\n",
    "* The identity element would be $e=1$, but not every element has an modular multiplicative inverse, e.g., $ 2 $  has no inverse in the integers, as $ 2 \\cdot \\frac{1}{2} = 1 $, but $\\frac{1}{2} \\notin \\mathbb{Z}$ and hence not in $ \\mathbb{Z}_n^* $."
   ]
  },
  {
   "cell_type": "code",
   "execution_count": 135,
   "id": "ca78504c-9bfb-44ec-b964-18b3f7e5f808",
   "metadata": {
    "editable": true,
    "slideshow": {
     "slide_type": "fragment"
    },
    "tags": []
   },
   "outputs": [
    {
     "name": "stdout",
     "output_type": "stream",
     "text": [
      "[0, 1, 2, 3, 4, 5, 6, 7, 8, 9, 10, 11, 12, 13, 14] len = 15\n"
     ]
    }
   ],
   "source": [
    "# Z_n has n elements\n",
    "n=15; Zn = Zmod(n)\n",
    "print(f\"{Zn.list()} len = {Zn.order()}\")"
   ]
  },
  {
   "cell_type": "code",
   "execution_count": 136,
   "id": "3973dab4-0d5b-4d73-97ef-d440a12b21c0",
   "metadata": {
    "editable": true,
    "slideshow": {
     "slide_type": "fragment"
    },
    "tags": []
   },
   "outputs": [
    {
     "name": "stdout",
     "output_type": "stream",
     "text": [
      "(1, f1, f1^2, f1^3, f0, f0*f1, f0*f1^2, f0*f1^3) len = 8\n",
      "(f0,f1) = (11, 7)\n"
     ]
    }
   ],
   "source": [
    "# but not every element has a modulo multiplicative inverse mod n\n",
    "Zn_unit = Zn.unit_group() # Zn_unit only has invertable elements (aka. units)\n",
    "#print(type(Zn_unit))\n",
    "print(f\"{Zn_unit.list()} len = {Zn_unit.order()}\") # show list of elements as represented by generators\n",
    "print(f\"(f0,f1) = {Zn_unit.gens_values()}\") # show values of generators"
   ]
  },
  {
   "cell_type": "code",
   "execution_count": 137,
   "id": "74562dc6-46d3-4faf-9e9f-84c1a262b72e",
   "metadata": {
    "editable": true,
    "slideshow": {
     "slide_type": "skip"
    },
    "tags": []
   },
   "outputs": [],
   "source": [
    "assert Zn_unit.order() < Zn.order() # there not all elements in Zn can be invertable"
   ]
  },
  {
   "cell_type": "code",
   "execution_count": 138,
   "id": "79a6f34a-5fe0-4943-910b-9c523454f352",
   "metadata": {
    "editable": true,
    "slideshow": {
     "slide_type": "skip"
    },
    "tags": []
   },
   "outputs": [
    {
     "name": "stdout",
     "output_type": "stream",
     "text": [
      "8\n"
     ]
    },
    {
     "data": {
      "text/plain": [
       "[1, 2, 4, 7, 8, 11, 13, 14]"
      ]
     },
     "execution_count": 138,
     "metadata": {},
     "output_type": "execute_result"
    }
   ],
   "source": [
    "# compute the set of all invertable elments in Zn \n",
    "Zn_inv = [ x for x in Zn if Zn(x**euler_phi(n)) == Zn(1) ] \n",
    "print(len(Zn_inv)) # number of invertable elements Zn\n",
    "Zn_inv "
   ]
  },
  {
   "cell_type": "markdown",
   "id": "f59863a2-53bb-4708-a3ea-358c4363f26b",
   "metadata": {
    "editable": true,
    "jp-MarkdownHeadingCollapsed": true,
    "slideshow": {
     "slide_type": "skip"
    },
    "tags": []
   },
   "source": [
    "### Examples for groups"
   ]
  },
  {
   "cell_type": "markdown",
   "id": "af46a325-5791-430a-a692-bc6cdf3a7c5c",
   "metadata": {
    "editable": true,
    "slideshow": {
     "slide_type": "skip"
    },
    "tags": []
   },
   "source": [
    "* The set $ \\mathbb{Z}^*_p $ (without the element $0$) is a *group* under operation $ a \\cdot b \\mod p $ being multiplication modulo $ p $, where $ p \\in \\textrm{Primes}$. Because of the removal of zero, the order of the group is $p-1$. "
   ]
  },
  {
   "cell_type": "code",
   "execution_count": 139,
   "id": "dbf1020c-f408-427e-b0c9-49a7d6ce330f",
   "metadata": {
    "editable": true,
    "slideshow": {
     "slide_type": "skip"
    },
    "tags": []
   },
   "outputs": [
    {
     "data": {
      "text/plain": [
       "True"
      ]
     },
     "execution_count": 139,
     "metadata": {},
     "output_type": "execute_result"
    }
   ],
   "source": [
    "p=7; p in P"
   ]
  },
  {
   "cell_type": "code",
   "execution_count": 140,
   "id": "0c128140-1af6-4319-9419-ae6fcdf8d20f",
   "metadata": {
    "editable": true,
    "slideshow": {
     "slide_type": "skip"
    },
    "tags": []
   },
   "outputs": [
    {
     "name": "stdout",
     "output_type": "stream",
     "text": [
      "Zp: \n",
      "order = 7 \tlist = [0, 1, 2, 3, 4, 5, 6] \n",
      "type = <class 'sage.rings.finite_rings.integer_mod_ring.IntegerModRing_generic_with_category'>\n",
      "Zp_unit: \n",
      "order = 6 \tlist = (1, f, f^2, f^3, f^4, f^5) \n",
      "type = <class 'sage.groups.abelian_gps.values.AbelianGroupWithValues_class_with_category'>\n"
     ]
    }
   ],
   "source": [
    "Zp=Integers(p) # generate the group of invertable elements of Zp.\n",
    "# Since p is prime every element except 0 has an multiplicative inverse modulo p \n",
    "Zp_unit=Zp.unit_group() \n",
    "print(f\"Zp: \\norder = {Zp.order()} \\tlist = {Zp.list()} \\ntype = {type(Zp)}\")\n",
    "print(f\"Zp_unit: \\norder = {Zp_unit.order()} \\tlist = {Zp_unit.list()} \\ntype = {type(Zp_unit)}\")"
   ]
  },
  {
   "cell_type": "code",
   "execution_count": 141,
   "id": "888c66c4-f2a1-467e-b897-f0acd6d93b81",
   "metadata": {
    "editable": true,
    "slideshow": {
     "slide_type": "skip"
    },
    "tags": []
   },
   "outputs": [
    {
     "name": "stdout",
     "output_type": "stream",
     "text": [
      "1,3,2,6,4,5,"
     ]
    }
   ],
   "source": [
    "# print actual values not variable names \n",
    "for element in Zp_unit.list():\n",
    "    print(f\"{element.value()}\",end=\",\")"
   ]
  },
  {
   "cell_type": "code",
   "execution_count": 142,
   "id": "ffe11e1b-d8c7-4945-b27c-d5ed5e491384",
   "metadata": {
    "editable": true,
    "slideshow": {
     "slide_type": "skip"
    },
    "tags": []
   },
   "outputs": [
    {
     "data": {
      "text/plain": [
       "('f',)"
      ]
     },
     "execution_count": 142,
     "metadata": {},
     "output_type": "execute_result"
    }
   ],
   "source": [
    "Zp_unit.variable_names() # output the generators of the group as variables"
   ]
  },
  {
   "cell_type": "code",
   "execution_count": 143,
   "id": "5fdc5355-d7d1-43ea-88ae-4817de01f507",
   "metadata": {
    "editable": true,
    "slideshow": {
     "slide_type": "skip"
    },
    "tags": []
   },
   "outputs": [
    {
     "data": {
      "text/plain": [
       "(3,)"
      ]
     },
     "execution_count": 143,
     "metadata": {},
     "output_type": "execute_result"
    }
   ],
   "source": [
    "Zp_unit.gens_values() # output the generators as values "
   ]
  },
  {
   "cell_type": "code",
   "execution_count": 144,
   "id": "58e052db-c547-4e58-b556-faf641323cde",
   "metadata": {
    "editable": true,
    "slideshow": {
     "slide_type": "skip"
    },
    "tags": []
   },
   "outputs": [
    {
     "name": "stdout",
     "output_type": "stream",
     "text": [
      "Defining f\n"
     ]
    }
   ],
   "source": [
    "Zp_unit.inject_variables() # get variables from this group in this notebook "
   ]
  },
  {
   "cell_type": "code",
   "execution_count": 145,
   "id": "e3323050-3922-42bd-ae6f-36f7400c676a",
   "metadata": {
    "editable": true,
    "slideshow": {
     "slide_type": "skip"
    },
    "tags": []
   },
   "outputs": [
    {
     "data": {
      "text/plain": [
       "3"
      ]
     },
     "execution_count": 145,
     "metadata": {},
     "output_type": "execute_result"
    }
   ],
   "source": [
    "f.value() # output the value of this variabel"
   ]
  },
  {
   "cell_type": "code",
   "execution_count": 146,
   "id": "2ef6a260-87dd-45b3-bed4-bf075d29e6b7",
   "metadata": {
    "editable": true,
    "slideshow": {
     "slide_type": "skip"
    },
    "tags": []
   },
   "outputs": [
    {
     "data": {
      "text/plain": [
       "6"
      ]
     },
     "execution_count": 146,
     "metadata": {},
     "output_type": "execute_result"
    }
   ],
   "source": [
    "Zp_unit.exponent() # the smallest positive number z such that g^z=1 for all g ∈ G"
   ]
  },
  {
   "cell_type": "markdown",
   "id": "76cf3070-0422-4083-bb01-bda6dc07d1e3",
   "metadata": {
    "editable": true,
    "slideshow": {
     "slide_type": "slide"
    },
    "tags": []
   },
   "source": [
    "## Finite Field\n",
    "<a id='gf'></a>\n",
    "<div style=\"background:azure\">\n",
    "    \n",
    "**DEFINITION: Finite Field** (according to [[ITMC](https://www.cs.umd.edu/~jkatz/imc.html)]):\n",
    "\n",
    "A **finite field** (or **Galois field**), is a finite set $\\mathbb{F}$ along with two binary operations $\\{+,\\cdot\\} $ for which the following hold:\n",
    "\n",
    "* $\\mathbb{F}$ is a *abelian group* with respect to the operation $+$ and the idenity element, denoted as $ 0 $, for this group.\n",
    "    + The *additive inverse* of $ a \\in \\mathbb{F}$, denoted by $ -a $, is the unique element statisfying $ a + (-a) = 0 $.\n",
    "    + We can also write $b-a$ in place of $b+(-a)$.\n",
    "* $\\mathbb{F} \\setminus \\{0\\}$ is an *abelian group* with respect to the operation $\\cdot$ and the identity element, denoted as $ 1 $, for this group.\n",
    "    + The *multiplicative inverse* of $ a \\in \\mathbb{F}$, denoted by $a^{-1}$, is the unique element statisfying $a\\cdot a^{-1} = 1 $. \n",
    "    + We can also write $b/a$ in place of $b\\cdot a^{-1}=1$.\n",
    "    + We can also write $ab$ in place of $a \\cdot b$.\n",
    "* **Distributivity:** For all $a,b,c \\in \\mathbb{F}$ we have $ a \\cdot (b+c) = a\\cdot b + a\\cdot c$\n",
    "\n",
    "\n",
    "</div> "
   ]
  },
  {
   "cell_type": "markdown",
   "id": "988b1448-158e-45c6-b74e-9649b4e0aef9",
   "metadata": {
    "editable": true,
    "slideshow": {
     "slide_type": "skip"
    },
    "tags": []
   },
   "source": [
    "See also:\n",
    "* https://en.wikipedia.org/wiki/Field_(mathematics) \n",
    "* https://en.wikipedia.org/wiki/Finite_field\n",
    "* https://mathworld.wolfram.com/FiniteField.html"
   ]
  },
  {
   "cell_type": "markdown",
   "id": "b02a04ff-bcbb-4d71-8050-9063ef48bf6d",
   "metadata": {
    "editable": true,
    "slideshow": {
     "slide_type": "slide"
    },
    "tags": []
   },
   "source": [
    "### Properties of finite fields \n",
    "* The number of elements of a finite field is called its *order*. \n",
    "* If $\\mathbb{F}$ is a finite field, then the *order* of $\\mathbb{F}$ is a prime power, i.e., $p^n$ where $p \\in \\textrm{Primes}$ and $ n \\geq 1 $.\n",
    "    + Therefore, the order of a finite field is either prime ($p^1$), or the power of a prime ($p^n$ for all $n > 1$). \n",
    "    + Converseley, for every prime power $ q=p^n $ there is a finite field of order $ q $, which is unique (up to relabeling of the elements).\n",
    "    + For $ q = p^n $ with $p \\in \\textrm{Primes}$, we let $\\mathbb{F}_q$ denote the (unique) field of order $ q $. We call $ p $ the *characteristic* of $\\mathbb{F}_q$.  "
   ]
  },
  {
   "cell_type": "markdown",
   "id": "1e5b2e7e-cb7e-429f-af0d-c40a1e407647",
   "metadata": {
    "editable": true,
    "slideshow": {
     "slide_type": "slide"
    },
    "tags": []
   },
   "source": [
    "### Examples of finite fields\n",
    "\n",
    "**Prime field**: \n",
    "* The set $\\{0,\\dots,p-1\\}$, where $p \\in \\textrm{Primes}$, under addition and multiplication modulo $ p$ is called a *prime field* $\\mathbb{F}_p$. It is the field of residue classes modulo $ p $ written as $ a \\equiv b \\pmod{p} $. A prime field is of order $ p $. Adding $ p $ copies of any element always results in $ 0 $. The *characterisitc* of this field is $ p $.\n",
    "    + The elements of $\\mathbb{F}_p$ are integers\n",
    "    + $\\mathbb{F}_p$ can also be called the *ring of integers modulo $ p $*\n",
    "    + $\\mathbb{F}_p^*$ means all elements of the field without the $0$.\n",
    "    + When $ p = 2 $ in $\\mathbb{F}_p $, also noted as $ \\texttt{GF}(2)$, addition and substraction is XOR and multiplication is AND. Since the only invertible element is $ 1 $, division is the identity funcction."
   ]
  },
  {
   "cell_type": "markdown",
   "id": "b3edeaa0-2637-4922-bd7e-e27b1a2215bf",
   "metadata": {
    "editable": true,
    "slideshow": {
     "slide_type": "slide"
    },
    "tags": []
   },
   "source": [
    "### Examples of finite fields\n",
    "* For $q=p^n$ where $n > 1$ the set $\\{0, . . . , q − 1\\}$ is not a field under addition and multiplication modulo $q$. For example, if we take $ q = 3^2 = 9$ then the element $3$ does not have a multiplicative inverse modulo $9$ in this set."
   ]
  },
  {
   "cell_type": "code",
   "execution_count": 147,
   "id": "a8004d0f-2839-4378-94c5-01c08f1cefd8",
   "metadata": {
    "editable": true,
    "slideshow": {
     "slide_type": "fragment"
    },
    "tags": []
   },
   "outputs": [
    {
     "name": "stdout",
     "output_type": "stream",
     "text": [
      "Fp_order = 11 Fp_characteristic = 11 Fp_modulus = x + 10 \n",
      "Fp = [0, 1, 2, 3, 4, 5, 6, 7, 8, 9, 10]\n"
     ]
    },
    {
     "data": {
      "text/plain": [
       "Ring of integers modulo 11"
      ]
     },
     "execution_count": 147,
     "metadata": {},
     "output_type": "execute_result"
    }
   ],
   "source": [
    "p=11; assert p in P,\"p not prime\"\n",
    "Fp = Integers(p) # define field as integers mod p in sage\n",
    "print(f\"Fp_order = {Fp.order()} Fp_characteristic = {Fp.characteristic()} Fp_modulus = {Fp.modulus()} \\nFp = {Fp.list()}\")\n",
    "Fp"
   ]
  },
  {
   "cell_type": "code",
   "execution_count": 148,
   "id": "39e4fed0-1801-4d41-b016-f9cdd29164be",
   "metadata": {
    "editable": true,
    "slideshow": {
     "slide_type": "skip"
    },
    "tags": []
   },
   "outputs": [
    {
     "data": {
      "text/plain": [
       "<class 'sage.rings.finite_rings.integer_mod_ring.IntegerModRing_generic_with_category'>"
      ]
     },
     "execution_count": 148,
     "metadata": {},
     "output_type": "execute_result"
    }
   ],
   "source": [
    "type(Fp)"
   ]
  },
  {
   "cell_type": "code",
   "execution_count": 149,
   "id": "ccc8e992-6c5e-4d5d-9c59-883efe1ab555",
   "metadata": {
    "editable": true,
    "slideshow": {
     "slide_type": "skip"
    },
    "tags": []
   },
   "outputs": [
    {
     "name": "stdout",
     "output_type": "stream",
     "text": [
      " element = 4  type_of_element = <class 'sage.rings.finite_rings.integer_mod.IntegerMod_int'>\n"
     ]
    }
   ],
   "source": [
    "e_in_Fp = Fp.random_element()\n",
    "print(f\" element = {e_in_Fp}  type_of_element = {type(e_in_Fp)}\")"
   ]
  },
  {
   "cell_type": "code",
   "execution_count": 150,
   "id": "902266c6-dd80-4a9c-a96b-8438adaab1ba",
   "metadata": {
    "editable": true,
    "slideshow": {
     "slide_type": "skip"
    },
    "tags": []
   },
   "outputs": [],
   "source": [
    "assert e_in_Fp*p == Fp(0) # test if a*p == 0 as it should be for this field"
   ]
  },
  {
   "cell_type": "code",
   "execution_count": 151,
   "id": "9698b7f6-b2a2-4d1c-8e8a-48c993f64e48",
   "metadata": {
    "editable": true,
    "slideshow": {
     "slide_type": "fragment"
    },
    "tags": []
   },
   "outputs": [
    {
     "name": "stdout",
     "output_type": "stream",
     "text": [
      "Fp_order = 11 Fp_characteristic = 11 Fp_modulus = x + 10 \n",
      "Fp = [0, 1, 2, 3, 4, 5, 6, 7, 8, 9, 10]\n"
     ]
    },
    {
     "data": {
      "text/plain": [
       "Finite Field of size 11"
      ]
     },
     "execution_count": 151,
     "metadata": {},
     "output_type": "execute_result"
    }
   ],
   "source": [
    "Fp = GF(p) # define field as finite field in sage\n",
    "# Fp = FiniteField(p) # alias of GF() \n",
    "print(f\"Fp_order = {Fp.order()} Fp_characteristic = {Fp.characteristic()} Fp_modulus = {Fp.modulus()} \\nFp = {Fp.list()}\")\n",
    "Fp"
   ]
  },
  {
   "cell_type": "code",
   "execution_count": 152,
   "id": "fc03148c-1c97-43a9-baee-fe9852b622b6",
   "metadata": {
    "editable": true,
    "slideshow": {
     "slide_type": "skip"
    },
    "tags": []
   },
   "outputs": [
    {
     "data": {
      "text/plain": [
       "<class 'sage.rings.finite_rings.finite_field_prime_modn.FiniteField_prime_modn_with_category'>"
      ]
     },
     "execution_count": 152,
     "metadata": {},
     "output_type": "execute_result"
    }
   ],
   "source": [
    "type(Fp)"
   ]
  },
  {
   "cell_type": "code",
   "execution_count": 153,
   "id": "7a7665ec-923c-46b3-9a44-b5c942ad6427",
   "metadata": {
    "editable": true,
    "slideshow": {
     "slide_type": "skip"
    },
    "tags": []
   },
   "outputs": [
    {
     "name": "stdout",
     "output_type": "stream",
     "text": [
      " element = 5  type_of_element = <class 'sage.rings.finite_rings.integer_mod.IntegerMod_int'>\n"
     ]
    }
   ],
   "source": [
    "e_in_Fp = Fp.random_element()\n",
    "print(f\" element = {e_in_Fp}  type_of_element = {type(e_in_Fp)}\")"
   ]
  },
  {
   "cell_type": "code",
   "execution_count": 154,
   "id": "226b4659-a855-4235-96cc-e4fc16108d42",
   "metadata": {
    "editable": true,
    "slideshow": {
     "slide_type": "skip"
    },
    "tags": []
   },
   "outputs": [],
   "source": [
    "assert e_in_Fp*p == Fp(0) # test if a*p == 0 as it should be for this field"
   ]
  },
  {
   "cell_type": "code",
   "execution_count": 155,
   "id": "ce3996fa-c561-454d-bee0-4dada589b968",
   "metadata": {
    "editable": true,
    "jupyter": {
     "source_hidden": true
    },
    "scrolled": true,
    "slideshow": {
     "slide_type": "skip"
    },
    "tags": []
   },
   "outputs": [
    {
     "name": "stdout",
     "output_type": "stream",
     "text": [
      " 0: 0 \t<class 'sage.rings.finite_rings.integer_mod.IntegerMod_int'>\n",
      " 1: 1 \t<class 'sage.rings.finite_rings.integer_mod.IntegerMod_int'>\n",
      " 2: 2 \t<class 'sage.rings.finite_rings.integer_mod.IntegerMod_int'>\n",
      " 3: 3 \t<class 'sage.rings.finite_rings.integer_mod.IntegerMod_int'>\n",
      " 4: 4 \t<class 'sage.rings.finite_rings.integer_mod.IntegerMod_int'>\n",
      " 5: 5 \t<class 'sage.rings.finite_rings.integer_mod.IntegerMod_int'>\n",
      " 6: 6 \t<class 'sage.rings.finite_rings.integer_mod.IntegerMod_int'>\n",
      " 7: 7 \t<class 'sage.rings.finite_rings.integer_mod.IntegerMod_int'>\n",
      " 8: 8 \t<class 'sage.rings.finite_rings.integer_mod.IntegerMod_int'>\n",
      " 9: 9 \t<class 'sage.rings.finite_rings.integer_mod.IntegerMod_int'>\n",
      "10: 10 \t<class 'sage.rings.finite_rings.integer_mod.IntegerMod_int'>\n"
     ]
    }
   ],
   "source": [
    "for i,x in enumerate(Fp): \n",
    "    # print elements of Fp with their type\n",
    "    print(f\"{i:>2d}: {x} \\t{type(x)}\")"
   ]
  },
  {
   "cell_type": "markdown",
   "id": "e39ebad1-5e5e-4b7f-b6fb-bce5672ccfae",
   "metadata": {
    "editable": true,
    "slideshow": {
     "slide_type": "skip"
    },
    "tags": []
   },
   "source": [
    "**Extension field:**\n",
    "\n",
    "* $\\texttt{GF}(p^n)$, where $ n \\in \\mathbb{N} $ and $ n > 1 $, is called an **extension field**, and is the field of equivalence classes of polynomials whose coefficients belong to $\\texttt{GF}(p)$. The prime $ p $ is called the *characteristic* of the field, and the positive integer $ n $ is called the *dimension* of the field over its prime field.\n",
    "\n",
    "* Elemets of $\\texttt{GF}(p^n) $ may be represented as polynomials of degree less than $ n $ over $ \\texttt{GF}(p) $.\n",
    "$$\n",
    "    a_{n-1}x^{n-1}+ \\dots + a_1x^1 + a_0\n",
    "$$\n",
    "e.g., for $\\texttt{GF}(2^3)$ \n",
    "$$\n",
    "    a_2x^2 + a_1x^1 + a_0\n",
    "$$\n",
    "```\n",
    "(a2, a1, a0)\n",
    "(0, 0, 0) = 0\n",
    "(0, 0, 1) = 1\n",
    "(0, 1, 0) = x\n",
    "(1, 0, 0) = x²\n",
    "(0, 1, 1) = x+1\n",
    "(1, 1, 0) = x²+x\n",
    "(1, 0, 1) = x²+1\n",
    "(1, 1, 1) = x²+x+1\n",
    "```\n",
    "\n",
    "* Operations are then performed modulo $ \\texttt{R} $  where $ \\texttt{R} $ is an irreducible polynomial of degree n over $ \\texttt{GF}(p) $\n",
    "* When the prime is $ 2 $, it is conventional to express elements of $ \\texttt{GF}(p^n) $ as binary numbers, with each term in a polynomial represented by one bit in the corresponding element's binary expression. Braces ( \"{\" and \"}\" ) or similar delimiters are commonly added to binary numbers, or to their hexadecimal equivalents, to indicate that the value is an element of a field.\n"
   ]
  },
  {
   "cell_type": "code",
   "execution_count": 156,
   "id": "80793889-d52a-49da-adae-a6980dabeac4",
   "metadata": {
    "editable": true,
    "slideshow": {
     "slide_type": "skip"
    },
    "tags": []
   },
   "outputs": [
    {
     "name": "stdout",
     "output_type": "stream",
     "text": [
      "GF_q_order = 8 GF_q_characteristic = 2 GF_q_modulus = x^3 + x + 1 \n",
      "Fp = [0, x, x^2, x + 1, x^2 + x, x^2 + x + 1, x^2 + 1, 1]\n"
     ]
    },
    {
     "data": {
      "text/plain": [
       "Finite Field in x of size 2^3"
      ]
     },
     "execution_count": 156,
     "metadata": {},
     "output_type": "execute_result"
    }
   ],
   "source": [
    "p=2\n",
    "assert p in P,\"p not prime\"\n",
    "q=p**3 # p^n\n",
    "assert q not in P\n",
    "GF_q = GF(q,'x') \n",
    "GF_order = GF_q.order()\n",
    "print(f\"GF_q_order = {GF_q.order()} GF_q_characteristic = {GF_q.characteristic()} GF_q_modulus = {GF_q.modulus()} \\nFp = {GF_q.list()}\")\n",
    "GF_q"
   ]
  },
  {
   "cell_type": "code",
   "execution_count": 157,
   "id": "21633ba4-ed44-44f3-a26e-0e23864149b3",
   "metadata": {
    "editable": true,
    "jupyter": {
     "source_hidden": true
    },
    "scrolled": true,
    "slideshow": {
     "slide_type": "skip"
    },
    "tags": []
   },
   "outputs": [
    {
     "data": {
      "text/plain": [
       "\u001b[0;31mDocstring:\u001b[0m     \n",
       "   Return the minimal polynomial of the generator of \"self\" over the\n",
       "   prime finite field.\n",
       "\n",
       "   The minimal polynomial of an element a in a field is the unique\n",
       "   monic irreducible polynomial of smallest degree with coefficients\n",
       "   in the base field that has a as a root. In finite field extensions,\n",
       "   \\GF{p^n}, the base field is \\GF{p}.\n",
       "\n",
       "   OUTPUT:\n",
       "\n",
       "   * a monic polynomial over \\GF{p} in the variable x.\n",
       "\n",
       "   EXAMPLES:\n",
       "\n",
       "      sage: F.<a> = GF(7^2); F\n",
       "      Finite Field in a of size 7^2\n",
       "      sage: F.polynomial_ring()\n",
       "      Univariate Polynomial Ring in a over Finite Field of size 7\n",
       "      sage: f = F.modulus(); f\n",
       "      x^2 + 6*x + 3\n",
       "      sage: f(a)\n",
       "      0\n",
       "\n",
       "   Although f is irreducible over the base field, we can double-check\n",
       "   whether or not f factors in F as follows. The command \"F['x'](f)\"\n",
       "   coerces f as a polynomial with coefficients in F. (Instead of a\n",
       "   polynomial with coefficients over the base field.)\n",
       "\n",
       "      sage: f.factor()\n",
       "      x^2 + 6*x + 3\n",
       "      sage: F['x'](f).factor()\n",
       "      (x + a + 6) * (x + 6*a)\n",
       "\n",
       "   Here is an example with a degree 3 extension:\n",
       "\n",
       "      sage: G.<b> = GF(7^3); G\n",
       "      Finite Field in b of size 7^3\n",
       "      sage: g = G.modulus(); g\n",
       "      x^3 + 6*x^2 + 4\n",
       "      sage: g.degree(); G.degree()\n",
       "      3\n",
       "      3\n",
       "\n",
       "   For prime fields, this returns x - 1 unless a custom modulus was\n",
       "   given when constructing this field:\n",
       "\n",
       "      sage: k = GF(199)\n",
       "      sage: k.modulus()\n",
       "      x + 198\n",
       "      sage: var('x')\n",
       "      x\n",
       "      sage: k = GF(199, modulus=x+1)\n",
       "      sage: k.modulus()\n",
       "      x + 1\n",
       "\n",
       "   The given modulus is always made monic:\n",
       "\n",
       "      sage: k.<a> = GF(7^2, modulus=2*x^2-3, impl=\"pari_ffelt\")\n",
       "      sage: k.modulus()\n",
       "      x^2 + 2\n",
       "\u001b[0;31mInit docstring:\u001b[0m Initialize self.  See help(type(self)) for accurate signature.\n",
       "\u001b[0;31mFile:\u001b[0m           /usr/lib/python3/dist-packages/sage/rings/finite_rings/finite_field_base.pyx\n",
       "\u001b[0;31mType:\u001b[0m           builtin_function_or_method\n"
      ]
     },
     "metadata": {},
     "output_type": "display_data"
    }
   ],
   "source": [
    "GF_q.modulus?"
   ]
  },
  {
   "cell_type": "code",
   "execution_count": 158,
   "id": "8661adfe-51d4-40cf-8b83-e9d40324a762",
   "metadata": {
    "editable": true,
    "slideshow": {
     "slide_type": "skip"
    },
    "tags": []
   },
   "outputs": [
    {
     "name": "stdout",
     "output_type": "stream",
     "text": [
      " 0: 0\n",
      " 1: x\n",
      " 2: x^2\n",
      " 3: x + 1\n",
      " 4: x^2 + x\n",
      " 5: x^2 + x + 1\n",
      " 6: x^2 + 1\n",
      " 7: 1\n",
      "<class 'int'> <class 'sage.rings.finite_rings.element_givaro.FiniteField_givaroElement'>\n"
     ]
    }
   ],
   "source": [
    "for i,e in enumerate(GF_q):  \n",
    "    print(f\"{i:>2d}: {e}\")\n",
    "print(type(i),type(e))"
   ]
  },
  {
   "cell_type": "code",
   "execution_count": 159,
   "id": "26bc2ec4-df39-4935-9387-304f7ea90660",
   "metadata": {
    "editable": true,
    "slideshow": {
     "slide_type": "skip"
    },
    "tags": []
   },
   "outputs": [
    {
     "data": {
      "text/plain": [
       "3"
      ]
     },
     "execution_count": 159,
     "metadata": {},
     "output_type": "execute_result"
    }
   ],
   "source": [
    "GF_q.degree()"
   ]
  },
  {
   "cell_type": "markdown",
   "id": "de03c3d1-d54b-45d1-8352-e68e8effb61c",
   "metadata": {
    "editable": true,
    "slideshow": {
     "slide_type": "slide"
    },
    "tags": []
   },
   "source": [
    "# EOF"
   ]
  }
 ],
 "metadata": {
  "kernelspec": {
   "display_name": "SageMath 9.5",
   "language": "sage",
   "name": "sagemath"
  },
  "language_info": {
   "codemirror_mode": {
    "name": "ipython",
    "version": 3
   },
   "file_extension": ".py",
   "mimetype": "text/x-python",
   "name": "python",
   "nbconvert_exporter": "python",
   "pygments_lexer": "ipython3",
   "version": "3.10.12"
  }
 },
 "nbformat": 4,
 "nbformat_minor": 5
}
