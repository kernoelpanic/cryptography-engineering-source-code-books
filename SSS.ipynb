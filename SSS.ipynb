{
 "cells": [
  {
   "cell_type": "markdown",
   "id": "37141569-39e4-4e48-a9cc-b878461b5cbe",
   "metadata": {
    "editable": true,
    "slideshow": {
     "slide_type": "slide"
    },
    "tags": []
   },
   "source": [
    "# Shamir Secret Sharing"
   ]
  },
  {
   "cell_type": "markdown",
   "id": "c3100497-f70c-4e19-975d-a00814e1c9ee",
   "metadata": {
    "editable": true,
    "slideshow": {
     "slide_type": "subslide"
    },
    "tags": []
   },
   "source": [
    "**References SSS:**\n",
    "* [[Shamir](https://dl.acm.org/doi/pdf/10.1145/359168.359176)] How to share a Secret, Adi Shamir. 1979\n",
    "    - Shamir's original paper\n",
    "* [[SSS](https://en.wikipedia.org/wiki/Shamir%27s_secret_sharing)] Wikipedia page on Shamir secret sharing\n",
    "* [[FFA](https://en.wikipedia.org/wiki/Finite_field_arithmetic)] Wikipedia page on finite field arithmetic\n",
    " \n",
    "**References SSS in Cryptocurrencies:** \n",
    "* [SLIP39 specification](https://github.com/satoshilabs/slips/blob/master/slip-0039.md)\n",
    "* [BC-SSKR](https://github.com/BlockchainCommons/Research/blob/master/papers/bcr-2020-011-sskr.md)\n",
    "* [Shamir39](https://iancoleman.io/shamir39/)\n"
   ]
  },
  {
   "cell_type": "markdown",
   "id": "945f052d-7e2c-4ff6-9808-94671e09af61",
   "metadata": {
    "editable": true,
    "slideshow": {
     "slide_type": "subslide"
    },
    "tags": []
   },
   "source": [
    "**Sage Dependencies:**\n",
    "\n",
    "This notebook uses [sage math](https://www.sagemath.org/) as kernel"
   ]
  },
  {
   "cell_type": "code",
   "execution_count": 1,
   "id": "ed18475e-97f0-4769-aaba-8d670daa191c",
   "metadata": {
    "editable": true,
    "slideshow": {
     "slide_type": ""
    },
    "tags": []
   },
   "outputs": [
    {
     "name": "stdout",
     "output_type": "stream",
     "text": [
      "\n",
      " SageMath version 9.5, Release Date: 2022-01-30                     \n",
      " Using Python 3.10.12. Type \"help()\" for help.                      \n",
      "\n"
     ]
    }
   ],
   "source": [
    "import sage.misc.banner # sage math version info \n",
    "rchars = \"┘─│┐┌└\"\n",
    "smallbanner = sage.misc.banner.banner_text(full=True)\n",
    "for c in rchars:\n",
    "    smallbanner = smallbanner.replace(c,\"\") # remove ascii art box\n",
    "print(smallbanner)\n",
    "#banner() # full banner with box"
   ]
  },
  {
   "cell_type": "markdown",
   "id": "aa4bbb9f-1e93-4137-b19b-882bb72641a5",
   "metadata": {
    "editable": true,
    "slideshow": {
     "slide_type": "subslide"
    },
    "tags": []
   },
   "source": [
    "**Python Dependencies:**"
   ]
  },
  {
   "cell_type": "code",
   "execution_count": 2,
   "id": "cbc4c953-7dc6-4607-8918-a65a3358cc68",
   "metadata": {
    "editable": true,
    "slideshow": {
     "slide_type": ""
    },
    "tags": []
   },
   "outputs": [
    {
     "data": {
      "text/plain": [
       "<module 'ssswiki' from '/workdir/./src/sss/ssswiki.py'>"
      ]
     },
     "execution_count": 2,
     "metadata": {},
     "output_type": "execute_result"
    }
   ],
   "source": [
    "from typing import List, Optional, Sequence, Tuple\n",
    "import secrets\n",
    "# import from custom path:\n",
    "import sys\n",
    "IMPORT_PATH='./src/sss'\n",
    "if IMPORT_PATH not in sys.path:\n",
    "    sys.path.append(IMPORT_PATH)\n",
    "#print(sys.path)\n",
    "import sss     # Plain SSS\n",
    "import sssgf   # SSS over GF(256)\n",
    "import ssswiki # SSS as implemented on Wikipedia, with pseudo-random feature\n",
    "# reload imports on cell-rerun in case of source code modifications:\n",
    "import importlib\n",
    "importlib.reload(sss)\n",
    "importlib.reload(sssgf)\n",
    "importlib.reload(ssswiki)"
   ]
  },
  {
   "cell_type": "markdown",
   "id": "f5975bf4-c881-4b9e-80d7-739037356c5e",
   "metadata": {
    "editable": true,
    "slideshow": {
     "slide_type": "skip"
    },
    "tags": []
   },
   "source": [
    "## Notation"
   ]
  },
  {
   "cell_type": "markdown",
   "id": "a4090f06-ad7c-4e66-bcd7-d8b5a1ef3233",
   "metadata": {
    "editable": true,
    "slideshow": {
     "slide_type": "skip"
    },
    "tags": []
   },
   "source": [
    "The following table provides an overview of the used notation in the remainder of this document."
   ]
  },
  {
   "cell_type": "markdown",
   "id": "9b099957-cc9c-42e9-9f6e-3009e98807b7",
   "metadata": {
    "editable": true,
    "slideshow": {
     "slide_type": "skip"
    },
    "tags": []
   },
   "source": [
    "\n",
    "\n",
    "| Symbol                  | Description                                                                                                                                                                                                   |\n",
    "| ----------------------- | ------------------------------------------------------------------------------------------------------------------------------------------------------------------------------------------------------------- |\n",
    "| $n$                     | total number of shares to be created $\\left(1 \\leq n \\leq 255\\right)$                                                                                                                                         |\n",
    "| $t$                     | minimum number of shares required for the recovery process $\\left(1 \\leq t \\leq n\\right)$                                                                                                                     |\n",
    "| $b$                     | number of bytes of a given secret or share                                                                                                                                                                    |\n",
    "| $s$                     | the secret value to be shared, represented by a sequence of $b$ bytes                                                                                                                                         |\n",
    "| $i$                     | an index variable used for the secret shares; $1 \\leq i \\leq n$ or $1 \\leq i \\leq t$ depending on the context                                                                                                 |\n",
    "| $j$                     | an index variable used for the coefficient of the secret sharing polynomials; $0 \\leq j < t$                                                                                                                  |\n",
    "| $k$                     | an index variable used to denote the $k^\\textsf{th}$ byte in the secret, a share or the $k^\\textsf{th}$ secret sharing polynomial; $0 \\leq k < b$                                                             |\n",
    "| $s_i$                   | a share of the secret $s$; consists of a share index $x_i$ (an integer between $1$ and $255$) and share value $y_i$ (a sequence of $b$ bytes)                                                                    |\n",
    "| $c_j$                   | the $j^{\\textsf{th}}$ coefficients of the secret sharing polynomials as a sequence of $b$ bytes; the byte $c_j[k]$ represents the $j^{\\textsf{th}}$ coefficient of the secret sharing polynomial $f_k(\\cdot)$ |\n",
    "| $f_k(\\cdot)$            | the secret sharing polynomial used to share the $k^{\\textsf{th}}$ byte of the secret $s$                                                                                                                      |\n",
    "| $\\alpha \\mid\\mid \\beta$ | concatenation of two sequences of bytes $\\alpha$ and $\\beta$                                                                                                                                                  |\n",
    "| $\\alpha[k]$             | the $k^\\textsf{th}$ byte of the sequence of bytes $\\alpha$, 0-based indices used                                                                                                                              |\n",
    "| $\\alpha[:k]$            | the first $k$ bytes of the sequence of bytes $\\alpha$                                                                                                                                                         |\n"
   ]
  },
  {
   "cell_type": "markdown",
   "id": "7ed69fae-b4d7-4261-ab7d-cdf6d3024388",
   "metadata": {
    "editable": true,
    "slideshow": {
     "slide_type": "slide"
    },
    "tags": []
   },
   "source": [
    "## Methods of secret sharing the secret $ s $\n",
    "\n",
    "The basic idea of **S**hamir **s**ecret **s**haring (SSS) is it, to distribute $ n $ shares of a secret value $ s $, s.t., a threshold of any $ t $ shares can be used to reconstruct the original secret $ s $. Hereby, $ t $ can be defined to take any value between $ 1 $ and $ n $ s.t., $ 1 \\leq t \\leq n $. Any number of shares below the threshold $ t $ provides no information about the shared secret $ s $ making the scheme *infomration theoretically secure*.  "
   ]
  },
  {
   "cell_type": "markdown",
   "id": "720a3e62-0a4f-427f-ab9d-9ff0f8167b37",
   "metadata": {
    "editable": true,
    "slideshow": {
     "slide_type": "skip"
    },
    "tags": []
   },
   "source": [
    "SSS must be performed over some **finite field**. If performed over the integers, then having less shares than the threshold ($< t$) can leak information about the secret. This is because the integers cannot take arbitrary values (cf. [[SSS](https://en.wikipedia.org/wiki/Shamir%27s_secret_sharing)]). If performed over the real numbers, there are precision problems. "
   ]
  },
  {
   "cell_type": "markdown",
   "id": "d5170ffd-18df-492a-b6c6-88ca9f59287a",
   "metadata": {
    "editable": true,
    "slideshow": {
     "slide_type": "skip"
    },
    "tags": []
   },
   "source": [
    "The prime used to define the finite field must be larger than the secret to be shared, as well as larger than the expected maximum number of shares to be created (cf. [[SSS](https://en.wikipedia.org/wiki/Shamir%27s_secret_sharing)]).\n",
    "> The size $q$ of the field must satisfy $q > n$, and that $ q $ is greater than the number of possible values for the secret, though the latter condition may be circumvented by splitting the secret into smaller secret values, and applying the scheme to each of these."
   ]
  },
  {
   "cell_type": "markdown",
   "id": "c3da9207-cb75-4964-955d-8d51b43ea7fc",
   "metadata": {
    "editable": true,
    "slideshow": {
     "slide_type": "subslide"
    },
    "tags": []
   },
   "source": [
    "We will describe *two* basic methods of SSS: \n",
    "1. Sharing the secret $ s $ *at once* using some finite field, where the size of the finite field must be larger than the secret to be shared. \n",
    "2. Sharing the secret $ s $ *byte-per-byte*, which requires splitting the secret $ s $ into smaller chunks (one byte each) and sharing each of the chunks useing some small finite field."
   ]
  },
  {
   "cell_type": "code",
   "execution_count": 3,
   "id": "a914a10e-7bb8-4531-9d28-d9c7e428d64d",
   "metadata": {
    "editable": true,
    "slideshow": {
     "slide_type": "subslide"
    },
    "tags": []
   },
   "outputs": [
    {
     "name": "stdout",
     "output_type": "stream",
     "text": [
      "s in hex     = 9fd47c7bd94aeca621715e359135657c\n"
     ]
    }
   ],
   "source": [
    "b = 16 # number of bytes of the secret to be shared\n",
    "s = secrets.token_bytes(b) # randomly selecting a secret \n",
    "print(f\"s in hex     = {s.hex()}\")"
   ]
  },
  {
   "cell_type": "code",
   "execution_count": 4,
   "id": "b5ad010b-2d1b-4828-aad5-6d3ac9f69b4c",
   "metadata": {
    "editable": true,
    "slideshow": {
     "slide_type": "skip"
    },
    "tags": []
   },
   "outputs": [
    {
     "name": "stdout",
     "output_type": "stream",
     "text": [
      "s in bytes   = b'\\x9f\\xd4|{\\xd9J\\xec\\xa6!q^5\\x915e|'\n",
      "s in int     = 212450543094914674495542528075478951292\n",
      "s in bin     = 10011111110101000111110001111011110110010100101011101100101001100010000101110001010111100011010110010001001101010110010101111100\n",
      "s bit length = 128 (excluding leading zeros)\n"
     ]
    }
   ],
   "source": [
    "print(f\"s in bytes   = {s}\")\n",
    "print(f\"s in int     = {int.from_bytes(s,'big')}\")\n",
    "print(f\"s in bin     = {bin(int.from_bytes(s,'big'))[2:].zfill(b*8)}\")\n",
    "print(f\"s bit length = {int.from_bytes(s,'big').bit_length()} (excluding leading zeros)\")"
   ]
  },
  {
   "cell_type": "markdown",
   "id": "2c90fe49-110b-4826-90ce-5d6771ba37b3",
   "metadata": {
    "editable": true,
    "slideshow": {
     "slide_type": "slide"
    },
    "tags": []
   },
   "source": [
    "## <a name=\"Sharing_Fp\"></a>Sharing secret $ s $ at once over $\\mathbb{F}_p$\n",
    "\n",
    "In the following, we specify the process of creating $1 \\leq n $ shares $(s_1, s_2, ..., s_n)$ for a given secret $s$ such that any subset of at least $1 \\leq t \\leq n$ of those shares can be used to recover the shared value. In this case we chose a prime field $\\mathbb{F}_p$, s.t. the order of the field $ q=p $ and $ p \\in \\text{Primes}$.\n",
    "\n",
    "We want to share a secret $ s $, which in our example is a sequence of $b \\geq 16$ bytes.\n",
    "To to that, we require a prime $ p > s $ to define the prime field $\\mathbb{F}_p$."
   ]
  },
  {
   "cell_type": "markdown",
   "id": "4a64ee8a-a68e-4a58-a731-573693ab6911",
   "metadata": {
    "editable": true,
    "slideshow": {
     "slide_type": "slide"
    },
    "tags": []
   },
   "source": [
    "### Sharing over $\\mathbb{F}_p$ \n",
    "This describes classical SSS, where we share the secret $ s $, at once, using a finite field $\\mathbb{F}_p$, where $ p \\in \\text{Primes}$.\n"
   ]
  },
  {
   "cell_type": "markdown",
   "id": "3fc7214c-020d-47db-8e48-3bb03c569681",
   "metadata": {
    "editable": true,
    "slideshow": {
     "slide_type": "subslide"
    },
    "tags": []
   },
   "source": [
    "**Input:** \n",
    " - $\\mathbf{s}$: The secret to be shared, i.e., a sequence of $b$ bytes, where $b \\geq 16$.\n",
    "                 This is the only parameter that must be kept secret. \n",
    " - $\\mathbf{n}$: The number of shares to be generated, $1\\leq n < |\\mathbb{F}_p|$, (i.e., $ n < p $).\n",
    " - $\\mathbf{p}$: The prime $ p $ defining the prime field $\\mathbb{F}_p$.\n",
    " - $\\mathbf{t}$: The secret sharing threshold, $1 \\leq t \\leq n$. \n",
    "                 This value specifies the minimum number of shares required for the recovery process.\n",
    "\n",
    "**Output:** \n",
    " - $\\mathbf{s_1, s_2, \\dots, s_n}$: A list of $n$ shares. Each share $s_i$ is represented as a tuple \n",
    "   $(x_i, y_i)$ consisting of the share index $x_i = i$ (an integer) and the share value $y_i$ \n",
    "   (a sequence of $b$ bytes)."
   ]
  },
  {
   "cell_type": "markdown",
   "id": "cd2df48e-ef85-4483-b1c0-69fbe2d57af5",
   "metadata": {
    "editable": true,
    "slideshow": {
     "slide_type": "skip"
    },
    "tags": []
   },
   "source": [
    "Note that typical values for $n$ and $t$ are in the range of $2 \\leq t \\leq 255$ .\n",
    "If $t = 1$, the number of shares required for the recovery is one.\n",
    "In this case, each share created is just the value being shared.\n",
    "If $t = n$, all created shares are required for the recovery process.\n",
    "If, for example, $n = 5$ and $t = 3$, then $5$ shares are created in total. \n",
    "and each combination of at least $3$ shares can be used to recover the shared secret."
   ]
  },
  {
   "cell_type": "markdown",
   "id": "488fc460-7309-4b97-9124-f2e8e0b39dee",
   "metadata": {
    "editable": true,
    "slideshow": {
     "slide_type": "slide"
    },
    "tags": []
   },
   "source": [
    "**Construct the secret sharing polynomial:**\n",
    "\n",
    "The first step is it to construct the secret sharing polynomial $f(\\cdot)$ of degree $t - 1$. \n",
    "In this polynomail the coefficient $c_0$ is set to be the secret that should be shared, i.e., $c_0 = s$.\n",
    "The other $t-2$ coefficients (of the same size) have to be selected uniformly at random. \n",
    "$$\n",
    "  f(x) = c_0 + c_1 \\cdot x + c_2 \\cdot x^2 + \\dots + c_{t - 1} \\cdot x^{t - 1} \\pmod p\n",
    "$$\n",
    "Here the values of $c_0, c_1, \\dots, c_{t - 1}$ are used to represent coefficients.\n",
    "The list of coefficients $c_j \\mid 0 \\leq j < t$ is defined as follows:\n",
    "$$\n",
    "    c_j = \n",
    "    \\begin{cases} \n",
    "        s &\\text{if } j = 0 \\\\\n",
    "        \\textsf{random}(b) &\\text{if } 0 < j < t \\\\\n",
    "    \\end{cases}\n",
    "$$"
   ]
  },
  {
   "cell_type": "markdown",
   "id": "90d119cc-69de-4226-81b1-7bf7fc33c32f",
   "metadata": {
    "editable": true,
    "slideshow": {
     "slide_type": "skip"
    },
    "tags": []
   },
   "source": [
    "Hereby, the function $\\textsf{random}(b)$ creates a list of $b$ random bytes.\n",
    "The function MUST use a cryptographically secure source of randomness. \n",
    "Note: To compare different implementations against each other, we have created a pseudo random function ($\\textsf{pseudorandom}(b,seed)$) which produces the same list of coefficients given the same seed. "
   ]
  },
  {
   "cell_type": "markdown",
   "id": "db35edd0-eaab-4ba5-937e-d60040679829",
   "metadata": {
    "editable": true,
    "slideshow": {
     "slide_type": "slide"
    },
    "tags": []
   },
   "source": [
    "**Evaluate the secret sharing polynomial:**\n",
    "\n",
    "In the next step, the constructed polynomial is evaluated over $\\mathbb{F}_p$. Therefore, all computations have to be performed modulo $p$. For additional background information regarding finite field arithmetic we refer the reader to the\n",
    "[Wikipedia page on Finite Field Arithmetic](https://en.wikipedia.org/wiki/Finite_field_arithmetic).\n",
    "\n",
    "Given this definition of coefficients (and thus of the secret sharing polynomials), \n",
    "the $n$ shares $s_1, s_2, ..., s_n$ are computed as follows:\n",
    "$$\n",
    "   s_i = \\Big( i, f(i) \\Big) \\quad 1 \\leq i \\leq n\n",
    "$$\n",
    "Note that a share is a tuple of two values and MUST include the share index $i$ as well as the share value, \n",
    "obtained by evaluating the secret sharing polynomials and concatenating the results."
   ]
  },
  {
   "cell_type": "markdown",
   "id": "5f5fdced-294d-4a0e-84c1-b7f68746c56e",
   "metadata": {
    "editable": true,
    "slideshow": {
     "slide_type": "slide"
    },
    "tags": []
   },
   "source": [
    "```python\n",
    "def share(s: bytes, n: int, t: int, prime: int, pseudo_random_seed: bytes=None) -> List[Tuple[int, bytes]]:\n",
    "    \"\"\" Main function for creating `n` shares of a secret `s` such that any subset of at least `t` generated shares can be used to recovered the secret `s`.\n",
    "    \"\"\"\n",
    "    b = len(s)\n",
    "    if not (1 <= t <= n):\n",
    "        raise ValueError(\"Invalid secret sharing parameters, ensure that 1 <= t <= n holds.\")\n",
    "    if b*8 > prime.bit_length():\n",
    "        raise ValueError(\"Secret too large for chosen finite field prime.\")\n",
    "    if n > prime:\n",
    "        raise ValueError(\"Number of shares to large for chosen finite field prime.\")\n",
    "\n",
    "    # Generate t coefficients\n",
    "    c: List[bytes] = [b\"\"] * t\n",
    "    for j in range(t):\n",
    "        if j == 0:\n",
    "            c[j] = s\n",
    "        else:\n",
    "            if pseudo_random_seed:\n",
    "                c[j] = get_pseudorandom(b,pseudo_random_seed)\n",
    "            else:\n",
    "                c[j] = get_random(b)\n",
    "\n",
    "    # Evaluate polynomial and generate shares \n",
    "    shares: List[Tuple[int, bytes]] = []\n",
    "    for i in range(1, n + 1):\n",
    "        s_i = (i, eval_poly(c,i,prime))\n",
    "        shares.append(s_i)\n",
    "    return shares\n",
    "```"
   ]
  },
  {
   "cell_type": "markdown",
   "id": "0452959b-1254-49e1-8050-afd74cf6417f",
   "metadata": {
    "editable": true,
    "slideshow": {
     "slide_type": "subslide"
    },
    "tags": []
   },
   "source": [
    "```python\n",
    "def eval_poly(coefficients: List[bytes], x, prime):\n",
    "    \"\"\" Evaluate polynomial of the finite field represented by the prime given. \n",
    "    \"\"\"\n",
    "    t = len(coefficients)\n",
    "    if t == 0:\n",
    "        return 0 \n",
    "    y = int.from_bytes(coefficients[0],\"big\")\n",
    "    xk=x\n",
    "    for j in range(1,t):\n",
    "        y = (y + int.from_bytes(coefficients[j],\"big\") * xk) % prime\n",
    "        xk = (xk * x) % prime\n",
    "    return y \n",
    "```"
   ]
  },
  {
   "cell_type": "code",
   "execution_count": 5,
   "id": "3b2ba4f7-aad8-408e-858f-55b36e4670b3",
   "metadata": {
    "editable": true,
    "slideshow": {
     "slide_type": "slide"
    },
    "tags": []
   },
   "outputs": [
    {
     "name": "stdout",
     "output_type": "stream",
     "text": [
      "p as hex     = da4de73dbe0ddf9107d5f56b50292635\n",
      "p bit length = 128\n"
     ]
    }
   ],
   "source": [
    "bit_security=b*8 # bit length required for the prime number\n",
    "randprime = int(random_prime(n=(2**bit_security)-1,proof=True,lbound=2**(bit_security-1)))\n",
    "print(f\"p as hex     = {hex(randprime)[2:]}\")\n",
    "print(f\"p bit length = {randprime.bit_length()}\")\n",
    "assert randprime in Primes(),\"Not a prime number\"\n",
    "assert int.from_bytes(s,'big') < randprime,\"Prime must not be smaller than s\""
   ]
  },
  {
   "cell_type": "code",
   "execution_count": 6,
   "id": "6d9bea47-7e01-4d5e-899c-4e6bcac15d36",
   "metadata": {
    "editable": true,
    "slideshow": {
     "slide_type": "subslide"
    },
    "tags": []
   },
   "outputs": [
    {
     "name": "stdout",
     "output_type": "stream",
     "text": [
      "Secret: \n",
      "\t9fd47c7bd94aeca621715e359135657c\n",
      "n shares: \n",
      "\t1, 778c6e15c4b5ae393cb8866b6d59b5a4, 127\n",
      "\t2, a181b808f8fb2c1cc34b679a4f28ff92, 128\n",
      "\t3, 43667317b80d86bfad540c56e67a1d11, 127\n",
      "\t4, 3788867fbffa9db302a86a0c83763456, 126\n",
      "\t5, 7de7f24110c270f6c34880bb261d4561, 127\n"
     ]
    }
   ],
   "source": [
    "print(f\"Secret: \\n\\t{s.hex()}\")\n",
    "shares_sss = sss.share(s,5,3,randprime)\n",
    "print(f\"n shares: \")\n",
    "for share in shares_sss:\n",
    "    print(f\"\\t{share[0]}, {hex(share[1])[2:].zfill(b*2)}, {share[1].bit_length()}\")"
   ]
  },
  {
   "cell_type": "markdown",
   "id": "7352ce48-c2a6-458e-9707-d05c660034db",
   "metadata": {
    "editable": true,
    "slideshow": {
     "slide_type": "slide"
    },
    "tags": []
   },
   "source": [
    "### <a name=\"Recovery_Fp\"></a> Recovery over $\\mathbb{F}_p$\n"
   ]
  },
  {
   "cell_type": "markdown",
   "id": "af3fbd82-0bc0-4165-acd0-17bca6935da7",
   "metadata": {
    "editable": true,
    "slideshow": {
     "slide_type": ""
    },
    "tags": []
   },
   "source": [
    "This section describes how to reconstruct a secret from a set of (at least) $t$ given shares, \n",
    "computed with the method  in [Section \"Sharing over $\\mathbb{F}_p$\"](#Sharing_Fp).\n",
    "If all given shares are *valid* and a *sufficient number* of shares is provided, the secret can be recovered. \n",
    "* A share is considered valid, if it has its correct index ($i$) and the respective share value ($y_i$).\n",
    "    + **Note:** If the index is wrong, the recovery will result in a wrong value! If the indices of shares are not known, the recovery might be computationally infeasable due to the large number of possible combinations when $ n $ is large. \n",
    "* The number of shares provided is sufficient, if it matches or exceeds the secret sharing threshold $t$ used during the \n",
    "  sharing process.\n",
    "    + **Note:** If $t$ is unknown and less than $t$ shares are provided, the recovery will result in a wrong value!"
   ]
  },
  {
   "cell_type": "markdown",
   "id": "2eec0eeb-3ea2-40b6-aff3-df4c00ab2581",
   "metadata": {
    "editable": true,
    "slideshow": {
     "slide_type": "subslide"
    },
    "tags": []
   },
   "source": [
    "**Input:**\n",
    " - $\\mathbf{\\{s_1, s_2, \\dots, s_{t}\\}}$: \n",
    "   A set of (at least) $t$ shares which should be used to recover a previously shared secret.\n",
    "   Each share $s_i \\mid 1 \\leq i \\leq t$ is given as a tuple $(x_i, y_i)$ \n",
    "   of a share index $x_i$ (an integer from $1$ to $n$) and \n",
    "   a share value $y_i$ (a sequence of $b$ bytes). \n",
    "\n",
    "**Output:**\n",
    " - $\\mathbf{s}$: The recovered secret."
   ]
  },
  {
   "cell_type": "markdown",
   "id": "8daca4cd-cee0-4684-bbdb-2c48fff671a3",
   "metadata": {
    "editable": true,
    "slideshow": {
     "slide_type": "slide"
    },
    "tags": []
   },
   "source": [
    "**Recover the secret $s$ over $\\mathbb{F}_p$:**\n",
    "\n",
    "To recover the shared secret $s$ from the given set of shares $\\{s_1, s_2, \\dots, s_t\\}$, the underlying secret sharing polynomial $f(\\cdot)$ is evaluated using the Lagrange interpolation formula: \n",
    "$$\n",
    "  f(x) = \\sum_{i = 1}^{t} y_i \\cdot \\ell_i(x)\n",
    "$$\n",
    "Hereby, $\\ell_i(x)$ is defined as follows and can also be used to reconstruct the coefficients.\n",
    "$$\n",
    "  \\ell_i(x) = \\prod_{\\substack{j = 1 \\\\ i \\not = j}}^{t} \\frac{x - x_j}{x_i - x_j}\n",
    "$$\n",
    "Since, we are only interested in reconstructing the secret $ s $, which is coefficient $c_0$, an optimized formla can be used which just computes this coefficient. \n",
    "\n",
    "To recover the shared secret $s$ we apply this formula, which is the above formulat for the case $x = 0$:\n",
    "$$\n",
    "  s = c_0 = f(0) = \n",
    "    \\sum_{i = 1}^{t} y_i \n",
    "      \\prod_{\\substack{j = 1 \\\\ i \\not = j}}^{t} \n",
    "        \\frac{x_j}{x_j - x_i}\n",
    "$$\n",
    "Note that there are two variables $i$ and $j$ for the indicies. One variable is for the outer sum ($i$) and one is for the inner product ($j$). If the outer index $i$ equals the inner index $ j$, i.e., $i = j$, then this step of the product calculation is omitted. "
   ]
  },
  {
   "cell_type": "markdown",
   "id": "428a72bc-b33b-41ba-ac52-2cfdcb02c5c9",
   "metadata": {
    "editable": true,
    "slideshow": {
     "slide_type": "slide"
    },
    "tags": []
   },
   "source": [
    "```python\n",
    "def recover(shares: Sequence[Tuple[int, bytes]], prime: int) -> bytes:\n",
    "    \"\"\" Function for recovering a previously shared secret from a list of given shares.\n",
    "    \"\"\"\n",
    "    if not (1 <= len(shares)):\n",
    "        raise ValueError(\"Invalid number of shares provided.\")\n",
    "\n",
    "    if len({xi for xi, _ in shares}) != len(shares):\n",
    "        raise ValueError(\"Invalid shares provided, duplicate share indices detected.\")\n",
    "    if not all(1 <= xi for xi, _ in shares):\n",
    "        raise ValueError(\"Invalid shares provided, out of range share index/indices detected.\")\n",
    "\n",
    "    # Compute the secret via Lagrange interpolation\n",
    "    s = 0\n",
    "    for xi, yi in shares:\n",
    "        li = 1\n",
    "        for xj, _ in shares:\n",
    "            if xi != xj:\n",
    "                # ( x_j / (x_j - x_i) ) * ...\n",
    "                li_current = (xj * pow((xj - xi),-1,prime)) % prime\n",
    "                li = (li * li_current) % prime\n",
    "        s = (s + yi * li) % prime\n",
    "\n",
    "    # return the reconstructed secret\n",
    "    return s \n",
    "```"
   ]
  },
  {
   "cell_type": "code",
   "execution_count": 7,
   "id": "49d17bc4-de31-4870-b94e-b7635bb0b876",
   "metadata": {
    "editable": true,
    "slideshow": {
     "slide_type": "slide"
    },
    "tags": []
   },
   "outputs": [
    {
     "name": "stdout",
     "output_type": "stream",
     "text": [
      "Recovered secret: \n",
      "\t9fd47c7bd94aeca621715e359135657c\n"
     ]
    }
   ],
   "source": [
    "s_recovered = sss.recover(shares_sss[:3],randprime)\n",
    "assert s.hex() == hex(s_recovered)[2:],\"Recovery failed!\"\n",
    "print(f\"Recovered secret: \\n\\t{hex(s_recovered)[2:]}\")"
   ]
  },
  {
   "cell_type": "markdown",
   "id": "1e44c997-1f2c-4368-8d02-a60a82446490",
   "metadata": {
    "editable": true,
    "slideshow": {
     "slide_type": "skip"
    },
    "tags": []
   },
   "source": [
    "### Test against modified Wikipedia python implementation\n",
    "https://en.wikipedia.org/wiki/Shamir%27s_secret_sharing"
   ]
  },
  {
   "cell_type": "code",
   "execution_count": 8,
   "id": "ab67bdf8-3bed-45e4-b606-5ae02294c747",
   "metadata": {
    "editable": true,
    "slideshow": {
     "slide_type": "skip"
    },
    "tags": []
   },
   "outputs": [
    {
     "name": "stdout",
     "output_type": "stream",
     "text": [
      "Secret: \n",
      "\t9fd47c7bd94aeca621715e359135657c\n",
      "n shares: \n",
      "\t1,5f71e8c90fcf1f4ecdc9d4fcae40c980,127\n",
      "\t2,ab80c8360740a3e77102f7ca4a4c8ca3,128\n",
      "\t3,a9b3338501919adf0346d133152f88b0,128\n",
      "\t4,5a092ab5fec20435849561370ee9bda7,127\n",
      "\t5,96d09506bcdfbf7bfcc49d4187a451bd,128\n"
     ]
    }
   ],
   "source": [
    "# This implementation using pseudo random coefficients:\n",
    "print(f\"Secret: \\n\\t{s.hex()}\")\n",
    "shares_sss = sss.share(s,5,3,randprime,pseudo_random_seed=b\"\\xff\")\n",
    "print(f\"n shares: \")\n",
    "for share in shares_sss:\n",
    "    print(f\"\\t{share[0]},{hex(share[1])[2:]},{share[1].bit_length()}\")"
   ]
  },
  {
   "cell_type": "code",
   "execution_count": 9,
   "id": "f31dd89e-f67c-4a4f-b0dd-b3d4c139b0d5",
   "metadata": {
    "editable": true,
    "slideshow": {
     "slide_type": "skip"
    },
    "tags": []
   },
   "outputs": [
    {
     "name": "stdout",
     "output_type": "stream",
     "text": [
      "Recovered secret: \n",
      "\t9fd47c7bd94aeca621715e359135657c\n"
     ]
    }
   ],
   "source": [
    "s_recovered = sss.recover(shares_sss[:3],randprime)\n",
    "assert s.hex() == hex(s_recovered)[2:],\"Recovery failed!\"\n",
    "print(f\"Recovered secret: \\n\\t{hex(s_recovered)[2:]}\")"
   ]
  },
  {
   "cell_type": "code",
   "execution_count": 10,
   "id": "c69f0ca7-bf88-4ffc-b9d6-f3143dc1b27e",
   "metadata": {
    "editable": true,
    "scrolled": true,
    "slideshow": {
     "slide_type": "skip"
    },
    "tags": []
   },
   "outputs": [
    {
     "name": "stdout",
     "output_type": "stream",
     "text": [
      "Secret: \n",
      "\t9fd47c7bd94aeca621715e359135657c\n",
      "Pseudo Random coefficients ...\n",
      "n shares: \n",
      "\t1,5f71e8c90fcf1f4ecdc9d4fcae40c980,127\n",
      "\t2,ab80c8360740a3e77102f7ca4a4c8ca3,128\n",
      "\t3,a9b3338501919adf0346d133152f88b0,128\n",
      "\t4,5a092ab5fec20435849561370ee9bda7,127\n",
      "\t5,96d09506bcdfbf7bfcc49d4187a451bd,128\n"
     ]
    }
   ],
   "source": [
    "# Wikipedia implementation using pseudo random coefficients:\n",
    "print(f\"Secret: \\n\\t{hex(int.from_bytes(s,'big'))[2:]}\")\n",
    "shares_wiki = ssswiki.make_random_shares(int.from_bytes(s,\"big\"),5,3,randprime,pseudo_random_seed=b\"\\xff\")\n",
    "print(f\"n shares: \")\n",
    "for share in shares_wiki:\n",
    "    print(f\"\\t{share[0]},{hex(share[1])[2:]},{share[1].bit_length()}\")"
   ]
  },
  {
   "cell_type": "code",
   "execution_count": 11,
   "id": "9ed8c6cd-f519-44be-be7b-8686143d7d3d",
   "metadata": {
    "editable": true,
    "slideshow": {
     "slide_type": "skip"
    },
    "tags": []
   },
   "outputs": [],
   "source": [
    "for idx,share in enumerate(shares_wiki):\n",
    "    # comprare pseudo random shares\n",
    "    assert share[1] == shares_sss[idx][1],\"Pseudo random shares differer between implementaions\""
   ]
  },
  {
   "cell_type": "code",
   "execution_count": 12,
   "id": "597d7783-6efe-4777-b3ff-c77e26285ab6",
   "metadata": {
    "editable": true,
    "slideshow": {
     "slide_type": "skip"
    },
    "tags": []
   },
   "outputs": [
    {
     "name": "stdout",
     "output_type": "stream",
     "text": [
      "Recovered secret: \n",
      "\t9fd47c7bd94aeca621715e359135657c\n"
     ]
    }
   ],
   "source": [
    "s_recovered = ssswiki.recover_secret(shares_wiki[:3],randprime)\n",
    "assert int.from_bytes(s,\"big\") == s_recovered,\"Recovery failed!\"\n",
    "print(f\"Recovered secret: \\n\\t{hex(s_recovered)[2:]}\")"
   ]
  },
  {
   "cell_type": "markdown",
   "id": "3a8e0308-efc1-41fb-9d05-26143ee9f4ac",
   "metadata": {
    "editable": true,
    "slideshow": {
     "slide_type": "slide"
    },
    "tags": []
   },
   "source": [
    "## <a name=\"Sharing_GF\"></a>Sharing secret $ s $ byte-per-byte over $\\text{GF}(256)$\n",
    "In the following, we specify the process of creating $1 \\leq n \\leq 255$ shares $(s_1, s_2, ..., s_n)$ for a given secret $s$ (a sequence of $b \\geq 16$ bytes) such that any subset of at least $1 \\leq t \\leq n$ of those shares can be used to recover the shared value."
   ]
  },
  {
   "cell_type": "markdown",
   "id": "f95c1003-b0ab-4482-a8a1-c2ce789f59b7",
   "metadata": {
    "editable": true,
    "slideshow": {
     "slide_type": "subslide"
    },
    "tags": []
   },
   "source": [
    "**Input:** \n",
    " - $\\mathbf{s}$: The secret to be shared, i.e., a sequence of $b$ bytes, where $b \\geq 16$.\n",
    " - $\\mathbf{n}$: The number of shares to be generated, $1\\leq n \\leq 255$.\n",
    " - $\\mathbf{t}$: The secret sharing threshold, $1 \\leq t \\leq n$. \n",
    "                 This value specifies the minimum number of shares required for the recovery process.\n",
    "\n",
    "**Output:** \n",
    " - $\\mathbf{s_1, s_2, \\dots, s_n}$: A list of $n$ shares. Each share $s_i$ is represented as a tuple \n",
    "   $(x_i, y_i)$ consisting of the share index $x_i = i$ (an integer from $1$ to $255$) and the share value $y_i$ \n",
    "   (a sequence of $b$ bytes).\n",
    "\n",
    "Note that typical values for $n$ and $t$ are in the range of $2 \\leq t \\leq 255$ .\n",
    "If $t = 1$, the number of shares required for the recovery is one.\n",
    "In this case, each share created is just the value being shared.\n",
    "If $t = n$, all created shares are required for the recovery process.\n",
    "If, for example, $n = 5$ and $t = 3$, then $5$ shares are created in total. \n",
    "and each combination of at least $3$ shares can be used to recover the shared secret.\n"
   ]
  },
  {
   "cell_type": "markdown",
   "id": "946c8122-18d7-431f-af93-014b66158e52",
   "metadata": {
    "editable": true,
    "slideshow": {
     "slide_type": "slide"
    },
    "tags": []
   },
   "source": [
    "### Sharing over $\\text{GF}(256)$ \n",
    "\n",
    "The process of secret sharing is executed on a byte-per-byte basis, \n",
    "i.e., each of the $b$ bytes of the secret $s$ to be shared is processed individually. \n",
    "This allows for a simple and efficient implementation using the finite field $\\text{GF}(2^8)$ with 256 elements. \n",
    "In this field addition and subtraction of two field elements (two bytes) are defined using the bitwise xor operation.\n",
    "Multiplication of two field elements (again two bytes) is defined using the\n",
    "AES reducing polynomial $x^8 + x^4 + x^3 + x + 1$. \n",
    "For additional background information regarding finite field arithmetic we refer the reader to the\n",
    "[Wikipedia page on Finite Field Arithmetic](https://en.wikipedia.org/wiki/Finite_field_arithmetic).\n",
    "The used secret sharing polynomials $f_0(\\cdot), f_1(\\cdot), \\dots, f_{b-1}(\\cdot)$ of degree $t - 1$\n",
    "are evaluated over $\\text{GF}(2^8)$:\n",
    "$$\n",
    "  f_k(x) = c_0[k] + c_1[k] \\cdot x + c_2[k] \\cdot x^2 + \\dots + c_{t - 1}[k] \\cdot x^{t - 1}, \\quad 0 \\leq k < b.\n",
    "$$\n",
    "Note that here the values of $c_0, c_1, \\dots, c_{t - 1}$ are used to represent *lists* of coefficients, \n",
    "whereas the $k^\\textsf{th}$ element of each of the lists of coefficients is used to \n",
    "define the secret sharing polynomial for sharing the $k^\\textsf{th}$ byte of the secret $s$."
   ]
  },
  {
   "cell_type": "markdown",
   "id": "5e9d6861-5ec7-4319-abe3-58e81e8d21e5",
   "metadata": {
    "editable": true,
    "slideshow": {
     "slide_type": "subslide"
    },
    "tags": []
   },
   "source": [
    "Each list of coefficients $c_j \\mid 0 \\leq j < t$ is defined as follows:\n",
    "$$\n",
    "    c_j = \n",
    "    \\begin{cases} \n",
    "        s &\\text{if } j = 0 \\\\\n",
    "        \\textsf{random}(b) &\\text{if } 0 < j < t \\\\\n",
    "    \\end{cases}\n",
    "$$\n",
    "Hereby, the function $\\textsf{random}(b)$ creates a list of $b$ random bytes.\n",
    "The function MUST use a cryptographically secure source of randomness.\n",
    "\n",
    "Given this definition of coefficients (and thus of the secret sharing polynomials), \n",
    "the $n$ shares $s_1, s_2, ..., s_n$ are computed as follows:\n",
    "$$\n",
    "   s_i = \\left( i, f_0(i) \\mid\\mid f_1(i) \\mid\\mid \\dots \\mid\\mid f_{b-1}(i) \\right) \\quad 1 \\leq i \\leq n\n",
    "$$\n",
    "Note that a share is a tuple of two values and MUST include the share index $i$ as well as the share value, \n",
    "obtained by evaluating the secret sharing polynomials and concatenating the results."
   ]
  },
  {
   "cell_type": "markdown",
   "id": "b18b2110-4d6c-49a1-a140-1cc6c5ba04a1",
   "metadata": {
    "editable": true,
    "slideshow": {
     "slide_type": "slide"
    },
    "tags": []
   },
   "source": [
    "```python\n",
    "def share(s: bytes, n: int, t: int) -> List[Tuple[int, bytes]]:\n",
    "    \"\"\" Main function for creating `n` shares of a secret `s` such that any subset of at least `t` generated shares\n",
    "    can be used to recovered the secret `s`.\n",
    "    \"\"\"\n",
    "    b = len(s)\n",
    "    if not (1 <= t <= n <= 255):\n",
    "        raise ValueError(\"Invalid secret sharing parameters, ensure that 1 <= t <= n <= 255 holds.\")\n",
    "\n",
    "    c: List[bytes] = [b\"\"] * t\n",
    "    for j in range(t):\n",
    "        if j == 0:\n",
    "            c[j] = s\n",
    "        elif 0 < j < t:\n",
    "            c[j] = random(b)\n",
    "        else:\n",
    "            raise ValueError(\"Invalid range for t.\")\n",
    "\n",
    "    f: List[GF256.Polynomial] = []\n",
    "    for k in range(b):\n",
    "        f_k = GF256.Polynomial([c[j][k] for j in range(t)])\n",
    "        f.append(f_k)\n",
    "\n",
    "    shares: List[Tuple[int, bytes]] = []\n",
    "    for i in range(1, n + 1):\n",
    "        s_i = (i, bytes(f[k](i) for k in range(b)))\n",
    "        shares.append(s_i)\n",
    "\n",
    "    return shares\n",
    "```"
   ]
  },
  {
   "cell_type": "code",
   "execution_count": 13,
   "id": "7c44e152-a9b0-431a-b661-dcc3ba313a7d",
   "metadata": {
    "editable": true,
    "slideshow": {
     "slide_type": "slide"
    },
    "tags": []
   },
   "outputs": [
    {
     "name": "stdout",
     "output_type": "stream",
     "text": [
      "Secret: \n",
      "\t9fd47c7bd94aeca621715e359135657c\n",
      "n shares: \n",
      "\t1,4f004a9700d65ee1f526096170e191ba\n",
      "\t2,f905823317904f1b1688084a3964370a\n",
      "\t3,29d1b4dfce0cfd5cc2df5f1ed8b0c3cc\n",
      "\t4,0afee5f1d92cec0b69df3fba05327339\n",
      "\t5,da2ad31d00b05e4cbd8868eee4e687ff\n"
     ]
    }
   ],
   "source": [
    "print(f\"Secret: \\n\\t{s.hex()}\")\n",
    "shares_sssgf = sssgf.share(s,5,3)\n",
    "print(f\"n shares: \")\n",
    "for share in shares_sssgf:\n",
    "    print(f\"\\t{share[0]},{share[1].hex()}\")"
   ]
  },
  {
   "cell_type": "markdown",
   "id": "b13afa6c-1146-4dcd-a462-a7f7f828aa3f",
   "metadata": {
    "editable": true,
    "slideshow": {
     "slide_type": "slide"
    },
    "tags": []
   },
   "source": [
    "### <a name=\"Recovery_GF\"></a> Recovery over $\\text{GF}(256)$\n",
    "\n",
    "This section describes how to reconstruct a secret from a set of $t$ given shares, \n",
    "computed with the method specified in [Section Sharing over $\\text{GF}(256)$](#Sharing_GF).\n",
    "Implementations MUST be able to successfully recover the shared secret $s$, if all given shares are \n",
    "*valid* and a *sufficient number* of shares is provided. \n",
    "* A share is considered valid, if it was generated according this specification. Therefore, it has to consist of its correct index ($i$) and the respective share value ($y_i$).\n",
    "    + **Note:** If the index is wrong, the recovery will result in a wrong value! If the indices of shares are not known, the recovery might be computationally infeasable. \n",
    "* The number of shares provided is sufficient, if it matches or exceeds the secret sharing threshold $t$ used during the \n",
    "  sharing process.\n",
    "    + **Note:** If $t$ is unknown and less than $t$ shares are provided, the recovery will result in a wrong value!"
   ]
  },
  {
   "cell_type": "markdown",
   "id": "fd9c7ff7-791b-47b6-894f-52be4abc068c",
   "metadata": {
    "editable": true,
    "slideshow": {
     "slide_type": "subslide"
    },
    "tags": []
   },
   "source": [
    "**Input:**\n",
    " - $\\mathbf{\\{s_1, s_2, \\dots, s_{t}\\}}$: \n",
    "   A set of $t$ (at least) shares which should be used to recover a previously shared secret.\n",
    "   Each share $s_i \\mid 1 \\leq i \\leq t$ is given as a tuple $(x_i, y_i)$ \n",
    "   of a share index $x_i$ (an integer from $1$ to $255$) and \n",
    "   a share value $y_i$ (a sequence of $b$ bytes). \n",
    "\n",
    "**Output:**\n",
    " - $\\mathbf{s}$: The recovered secret."
   ]
  },
  {
   "cell_type": "markdown",
   "id": "8437d329-20e8-4622-8c7a-0f89d735c34a",
   "metadata": {
    "editable": true,
    "slideshow": {
     "slide_type": "slide"
    },
    "tags": []
   },
   "source": [
    "**Using $\\text{GF}(2^8)$ for byte-per-byte recovery of the secret $s$:**\n",
    "\n",
    "To recover the shared secret $s$ from the given set of shares $\\{s_1, s_2, \\dots, s_t\\}$, the underlying secret sharing polynomials $f_k(\\cdot)$ \n",
    "are evaluated using the Lagrange interpolation formula: \n",
    "$$\n",
    "  f_k(x) = \\sum_{i = 1}^{t} y_i[k] \\cdot \\ell_i(x), \n",
    "  \\quad 0 \\leq k < b\n",
    "$$\n",
    "$$\n",
    "  \\ell_i(x) = \\prod_{\\substack{j = 1 \\\\ i \\not = j}}^{t} \\frac{x - x_j}{x_i - x_j}\n",
    "$$\n",
    "\n",
    "To recover the shared secret $s$ we apply the above formula for $x = 0$:\n",
    "$$\n",
    "  s[k] = c_0[k] = f_k(0) = \n",
    "    \\sum_{i = 1}^{t} y_i[k] \n",
    "      \\prod_{\\substack{j = 1 \\\\ i \\not = j}}^{t} \n",
    "        \\frac{x_j}{x_j - x_i}, \n",
    "  \\quad 0 \\leq k < b.\n",
    "$$\n",
    "Neglecting the notational differences covering the byte-per-byte execution of the process, \n",
    "this approach is essentially equal to Shamir's original description. "
   ]
  },
  {
   "cell_type": "markdown",
   "id": "08f2fc04-6972-4568-b243-8ab3d5056936",
   "metadata": {
    "editable": true,
    "slideshow": {
     "slide_type": "slide"
    },
    "tags": []
   },
   "source": [
    "```python\n",
    "def recover(shares: Sequence[Tuple[int, bytes]]) -> bytes:\n",
    "    \"\"\" Main function for recovering a previously shared secret from a list of given shares.\n",
    "    \"\"\"\n",
    "    if not (1 <= len(shares) <= 255):\n",
    "        raise ValueError(\"Invalid number of shares provided.\")\n",
    "\n",
    "    if len({xi for xi, _ in shares}) != len(shares):\n",
    "        raise ValueError(\"Invalid shares provided, duplicate share indices detected.\")\n",
    "    if not all(1 <= xi <= 255 for xi, _ in shares):\n",
    "        raise ValueError(\"Invalid shares provided, out of range share index/indices detected.\")\n",
    "\n",
    "    b = len(shares[0][1])\n",
    "    if any(len(yi) != b for _, yi in shares):\n",
    "        raise ValueError(\"Invalid shares provided, share lengths are inconsistent.\")\n",
    "\n",
    "    # Compute the secret via Lagrange interpolation.\n",
    "    s = bytearray(b)\n",
    "    for xi, yi in shares:\n",
    "        li = 1\n",
    "        for xj, _ in shares:\n",
    "            if xi != xj:\n",
    "                li = GF256.multiply(li, GF256.multiply(xj, GF256.inverse(xj ^ xi)))\n",
    "        for k in range(b):\n",
    "            s[k] ^= GF256.multiply(yi[k], li)\n",
    "    s = bytes(s)\n",
    "\n",
    "    # return the reconstructed secret\n",
    "    return s\n",
    "```"
   ]
  },
  {
   "cell_type": "code",
   "execution_count": 14,
   "id": "ba60f250-373d-4960-8550-5e158da9711c",
   "metadata": {
    "editable": true,
    "slideshow": {
     "slide_type": "slide"
    },
    "tags": []
   },
   "outputs": [
    {
     "name": "stdout",
     "output_type": "stream",
     "text": [
      "Recovered secret: \n",
      "\t9fd47c7bd94aeca621715e359135657c\n"
     ]
    }
   ],
   "source": [
    "s_recovered = sssgf.recover(shares_sssgf)\n",
    "assert s == s_recovered\n",
    "print(f\"Recovered secret: \\n\\t{s_recovered.hex()}\")"
   ]
  },
  {
   "cell_type": "code",
   "execution_count": null,
   "id": "054018f3-69da-450c-8f14-aa45c13db1fb",
   "metadata": {},
   "outputs": [],
   "source": []
  },
  {
   "cell_type": "code",
   "execution_count": null,
   "id": "b972fc1e-ce73-48ae-929d-c47cd7c3b310",
   "metadata": {},
   "outputs": [],
   "source": []
  },
  {
   "cell_type": "code",
   "execution_count": null,
   "id": "b1d297e3-62fb-454d-ab9b-ad4925d8b044",
   "metadata": {
    "editable": true,
    "slideshow": {
     "slide_type": ""
    },
    "tags": []
   },
   "outputs": [],
   "source": []
  }
 ],
 "metadata": {
  "kernelspec": {
   "display_name": "SageMath 9.5",
   "language": "sage",
   "name": "sagemath"
  },
  "language_info": {
   "codemirror_mode": {
    "name": "ipython",
    "version": 3
   },
   "file_extension": ".py",
   "mimetype": "text/x-python",
   "name": "python",
   "nbconvert_exporter": "python",
   "pygments_lexer": "ipython3",
   "version": "3.10.12"
  }
 },
 "nbformat": 4,
 "nbformat_minor": 5
}
